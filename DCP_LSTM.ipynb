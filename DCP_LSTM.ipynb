{
  "nbformat": 4,
  "nbformat_minor": 0,
  "metadata": {
    "colab": {
      "name": "DCP-LSTM.ipynb",
      "provenance": [],
      "authorship_tag": "ABX9TyN3w6qeB1BEEL3h0EHNIYa5",
      "include_colab_link": true
    },
    "kernelspec": {
      "name": "python3",
      "display_name": "Python 3"
    }
  },
  "cells": [
    {
      "cell_type": "markdown",
      "metadata": {
        "id": "view-in-github",
        "colab_type": "text"
      },
      "source": [
        "<a href=\"https://colab.research.google.com/github/theAkhileshRai/DeepLearning/blob/master/DCP_LSTM.ipynb\" target=\"_parent\"><img src=\"https://colab.research.google.com/assets/colab-badge.svg\" alt=\"Open In Colab\"/></a>"
      ]
    },
    {
      "cell_type": "code",
      "metadata": {
        "id": "ZXGJtOxOn7CN",
        "colab_type": "code",
        "colab": {}
      },
      "source": [
        "import sklearn\n",
        "\n",
        "from numpy import loadtxt\n",
        "from sklearn.model_selection import train_test_split\n",
        "from sklearn.metrics import accuracy_score\n",
        "from sklearn.preprocessing import StandardScaler,OneHotEncoder    \n",
        "\n",
        "import numpy as np\n",
        "import matplotlib.pyplot as plt\n",
        "import pandas as pd\n",
        "pd.set_option('display.float_format', lambda x: '%.4f' % x)\n",
        "import seaborn as sns\n",
        "sns.set_context(\"paper\", font_scale=1.3)\n",
        "sns.set_style('white')\n",
        "import warnings\n",
        "warnings.filterwarnings('ignore')\n",
        "from time import time\n",
        "import matplotlib.ticker as tkr\n",
        "from scipy import stats\n",
        "from statsmodels.tsa.stattools import adfuller\n",
        "from sklearn import preprocessing\n",
        "from statsmodels.tsa.stattools import pacf\n",
        "%matplotlib inline\n",
        "from sklearn.metrics import confusion_matrix, classification_report\n",
        "\n",
        "from keras.utils import to_categorical\n",
        "import numpy as np\n",
        "import matplotlib.pyplot as plt\n",
        "import pandas as pd\n",
        "pd.set_option('display.float_format', lambda x: '%.4f' % x)\n",
        "import seaborn as sns\n",
        "sns.set_context(\"paper\", font_scale=1.3)\n",
        "sns.set_style('white')\n",
        "import warnings\n",
        "warnings.filterwarnings('ignore')\n",
        "from time import time\n",
        "import matplotlib.ticker as tkr\n",
        "from scipy import stats\n",
        "from statsmodels.tsa.stattools import adfuller\n",
        "from sklearn import preprocessing\n",
        "from statsmodels.tsa.stattools import pacf\n",
        "%matplotlib inline\n",
        "import math\n",
        "import keras\n",
        "from keras.models import Sequential\n",
        "from keras.layers import Dense\n",
        "from keras.layers import LSTM\n",
        "from keras.layers import Dropout\n",
        "from keras.layers import *\n",
        "from sklearn.preprocessing import MinMaxScaler\n",
        "from sklearn.metrics import mean_squared_error\n",
        "from sklearn.metrics import mean_absolute_error\n",
        "from keras.callbacks import EarlyStopping\n",
        "from sklearn.preprocessing import StandardScaler"
      ],
      "execution_count": null,
      "outputs": []
    },
    {
      "cell_type": "code",
      "metadata": {
        "id": "sHGwBRAzkPO6",
        "colab_type": "code",
        "colab": {}
      },
      "source": [
        "df = pd.read_csv('/content/DCP_leak_classification_train_data.csv',index_col=False)"
      ],
      "execution_count": null,
      "outputs": []
    },
    {
      "cell_type": "code",
      "metadata": {
        "id": "Y0va_VJjkaEQ",
        "colab_type": "code",
        "colab": {
          "base_uri": "https://localhost:8080/",
          "height": 411
        },
        "outputId": "a4277483-415c-4b0e-972f-ead4c9206fdf"
      },
      "source": [
        "df.head()"
      ],
      "execution_count": null,
      "outputs": [
        {
          "output_type": "execute_result",
          "data": {
            "text/html": [
              "<div>\n",
              "<style scoped>\n",
              "    .dataframe tbody tr th:only-of-type {\n",
              "        vertical-align: middle;\n",
              "    }\n",
              "\n",
              "    .dataframe tbody tr th {\n",
              "        vertical-align: top;\n",
              "    }\n",
              "\n",
              "    .dataframe thead th {\n",
              "        text-align: right;\n",
              "    }\n",
              "</style>\n",
              "<table border=\"1\" class=\"dataframe\">\n",
              "  <thead>\n",
              "    <tr style=\"text-align: right;\">\n",
              "      <th></th>\n",
              "      <th>Unnamed: 0</th>\n",
              "      <th>Unnamed: 0.1</th>\n",
              "      <th>time</th>\n",
              "      <th>cyl</th>\n",
              "      <th>s_temp_crank</th>\n",
              "      <th>d_temp_crank</th>\n",
              "      <th>s_pressure_crank</th>\n",
              "      <th>d_pressure_crank</th>\n",
              "      <th>rpm_crank</th>\n",
              "      <th>s_temp_mean</th>\n",
              "      <th>d_temp_mean</th>\n",
              "      <th>s_pressure_mean</th>\n",
              "      <th>d_pressure_mean</th>\n",
              "      <th>rpm_mean</th>\n",
              "      <th>Asset</th>\n",
              "      <th>Binary</th>\n",
              "    </tr>\n",
              "  </thead>\n",
              "  <tbody>\n",
              "    <tr>\n",
              "      <th>0</th>\n",
              "      <td>0</td>\n",
              "      <td>0</td>\n",
              "      <td>2019-12-01 00:30:00</td>\n",
              "      <td>1.0000</td>\n",
              "      <td>103.1136</td>\n",
              "      <td>216.5912</td>\n",
              "      <td>354.6428</td>\n",
              "      <td>836.7407</td>\n",
              "      <td>1357.9325</td>\n",
              "      <td>103.1136</td>\n",
              "      <td>218.0124</td>\n",
              "      <td>344.2387</td>\n",
              "      <td>820.9005</td>\n",
              "      <td>1357.9325</td>\n",
              "      <td>Ashland_Unit256</td>\n",
              "      <td>0.0000</td>\n",
              "    </tr>\n",
              "    <tr>\n",
              "      <th>1</th>\n",
              "      <td>1</td>\n",
              "      <td>1</td>\n",
              "      <td>2019-12-01 01:30:00</td>\n",
              "      <td>1.0000</td>\n",
              "      <td>99.9650</td>\n",
              "      <td>214.1369</td>\n",
              "      <td>352.4248</td>\n",
              "      <td>837.7143</td>\n",
              "      <td>1358.2400</td>\n",
              "      <td>99.9650</td>\n",
              "      <td>215.2369</td>\n",
              "      <td>342.9925</td>\n",
              "      <td>822.1540</td>\n",
              "      <td>1358.2400</td>\n",
              "      <td>Ashland_Unit256</td>\n",
              "      <td>0.0000</td>\n",
              "    </tr>\n",
              "    <tr>\n",
              "      <th>2</th>\n",
              "      <td>2</td>\n",
              "      <td>2</td>\n",
              "      <td>2019-12-01 02:30:00</td>\n",
              "      <td>1.0000</td>\n",
              "      <td>98.5032</td>\n",
              "      <td>213.4321</td>\n",
              "      <td>352.1486</td>\n",
              "      <td>842.5627</td>\n",
              "      <td>1398.2813</td>\n",
              "      <td>98.5032</td>\n",
              "      <td>214.1066</td>\n",
              "      <td>344.6910</td>\n",
              "      <td>829.0805</td>\n",
              "      <td>1398.2813</td>\n",
              "      <td>Ashland_Unit256</td>\n",
              "      <td>0.0000</td>\n",
              "    </tr>\n",
              "    <tr>\n",
              "      <th>3</th>\n",
              "      <td>3</td>\n",
              "      <td>3</td>\n",
              "      <td>2019-12-01 03:30:00</td>\n",
              "      <td>1.0000</td>\n",
              "      <td>104.6202</td>\n",
              "      <td>220.9732</td>\n",
              "      <td>352.7063</td>\n",
              "      <td>848.7154</td>\n",
              "      <td>1397.8712</td>\n",
              "      <td>104.6202</td>\n",
              "      <td>221.6973</td>\n",
              "      <td>345.2832</td>\n",
              "      <td>835.5201</td>\n",
              "      <td>1397.8712</td>\n",
              "      <td>Ashland_Unit256</td>\n",
              "      <td>0.0000</td>\n",
              "    </tr>\n",
              "    <tr>\n",
              "      <th>4</th>\n",
              "      <td>4</td>\n",
              "      <td>4</td>\n",
              "      <td>2019-12-01 04:30:00</td>\n",
              "      <td>1.0000</td>\n",
              "      <td>109.5678</td>\n",
              "      <td>227.3392</td>\n",
              "      <td>351.3930</td>\n",
              "      <td>851.2240</td>\n",
              "      <td>1397.3100</td>\n",
              "      <td>109.5678</td>\n",
              "      <td>228.1149</td>\n",
              "      <td>344.0607</td>\n",
              "      <td>838.4339</td>\n",
              "      <td>1397.3100</td>\n",
              "      <td>Ashland_Unit256</td>\n",
              "      <td>0.0000</td>\n",
              "    </tr>\n",
              "  </tbody>\n",
              "</table>\n",
              "</div>"
            ],
            "text/plain": [
              "   Unnamed: 0  Unnamed: 0.1  ...            Asset  Binary\n",
              "0           0             0  ...  Ashland_Unit256  0.0000\n",
              "1           1             1  ...  Ashland_Unit256  0.0000\n",
              "2           2             2  ...  Ashland_Unit256  0.0000\n",
              "3           3             3  ...  Ashland_Unit256  0.0000\n",
              "4           4             4  ...  Ashland_Unit256  0.0000\n",
              "\n",
              "[5 rows x 16 columns]"
            ]
          },
          "metadata": {
            "tags": []
          },
          "execution_count": 121
        }
      ]
    },
    {
      "cell_type": "code",
      "metadata": {
        "id": "_WBE82GDkja6",
        "colab_type": "code",
        "colab": {
          "base_uri": "https://localhost:8080/",
          "height": 34
        },
        "outputId": "e38c0f63-f85a-431b-abaf-0b90ccb7217b"
      },
      "source": [
        "len(df['Asset'].unique())"
      ],
      "execution_count": null,
      "outputs": [
        {
          "output_type": "execute_result",
          "data": {
            "text/plain": [
              "19"
            ]
          },
          "metadata": {
            "tags": []
          },
          "execution_count": 122
        }
      ]
    },
    {
      "cell_type": "code",
      "metadata": {
        "id": "gZ24aQgtkx4N",
        "colab_type": "code",
        "colab": {
          "base_uri": "https://localhost:8080/",
          "height": 34
        },
        "outputId": "05e04fac-a14a-40e5-e1c0-bb51e700146f"
      },
      "source": [
        "df.shape"
      ],
      "execution_count": null,
      "outputs": [
        {
          "output_type": "execute_result",
          "data": {
            "text/plain": [
              "(138498, 16)"
            ]
          },
          "metadata": {
            "tags": []
          },
          "execution_count": 123
        }
      ]
    },
    {
      "cell_type": "code",
      "metadata": {
        "id": "c98EKWwEm2JL",
        "colab_type": "code",
        "colab": {}
      },
      "source": [
        "df['time'] = pd.to_datetime(df['time'])"
      ],
      "execution_count": null,
      "outputs": []
    },
    {
      "cell_type": "code",
      "metadata": {
        "id": "-4rWYx9asf27",
        "colab_type": "code",
        "colab": {}
      },
      "source": [
        "#df['year'] = df['time'].apply(lambda x: x.year)\n",
        "df['quarter'] = df['time'].apply(lambda x: x.quarter)\n",
        "df['month'] = df['time'].apply(lambda x: x.month)\n",
        "df['day'] = df['time'].apply(lambda x: x.day)\n",
        "df['hour'] = df['time'].apply(lambda x: x.hour)"
      ],
      "execution_count": null,
      "outputs": []
    },
    {
      "cell_type": "code",
      "metadata": {
        "id": "gJoiLOf4uD-5",
        "colab_type": "code",
        "colab": {
          "base_uri": "https://localhost:8080/",
          "height": 411
        },
        "outputId": "1eafbb3d-663f-4618-ec4a-77a01900e40b"
      },
      "source": [
        "df.head()"
      ],
      "execution_count": null,
      "outputs": [
        {
          "output_type": "execute_result",
          "data": {
            "text/html": [
              "<div>\n",
              "<style scoped>\n",
              "    .dataframe tbody tr th:only-of-type {\n",
              "        vertical-align: middle;\n",
              "    }\n",
              "\n",
              "    .dataframe tbody tr th {\n",
              "        vertical-align: top;\n",
              "    }\n",
              "\n",
              "    .dataframe thead th {\n",
              "        text-align: right;\n",
              "    }\n",
              "</style>\n",
              "<table border=\"1\" class=\"dataframe\">\n",
              "  <thead>\n",
              "    <tr style=\"text-align: right;\">\n",
              "      <th></th>\n",
              "      <th>Unnamed: 0</th>\n",
              "      <th>Unnamed: 0.1</th>\n",
              "      <th>time</th>\n",
              "      <th>cyl</th>\n",
              "      <th>s_temp_crank</th>\n",
              "      <th>d_temp_crank</th>\n",
              "      <th>s_pressure_crank</th>\n",
              "      <th>d_pressure_crank</th>\n",
              "      <th>rpm_crank</th>\n",
              "      <th>s_temp_mean</th>\n",
              "      <th>d_temp_mean</th>\n",
              "      <th>s_pressure_mean</th>\n",
              "      <th>d_pressure_mean</th>\n",
              "      <th>rpm_mean</th>\n",
              "      <th>Asset</th>\n",
              "      <th>Binary</th>\n",
              "      <th>quarter</th>\n",
              "      <th>month</th>\n",
              "      <th>day</th>\n",
              "      <th>hour</th>\n",
              "    </tr>\n",
              "  </thead>\n",
              "  <tbody>\n",
              "    <tr>\n",
              "      <th>0</th>\n",
              "      <td>0</td>\n",
              "      <td>0</td>\n",
              "      <td>2019-12-01 00:30:00</td>\n",
              "      <td>1.0000</td>\n",
              "      <td>103.1136</td>\n",
              "      <td>216.5912</td>\n",
              "      <td>354.6428</td>\n",
              "      <td>836.7407</td>\n",
              "      <td>1357.9325</td>\n",
              "      <td>103.1136</td>\n",
              "      <td>218.0124</td>\n",
              "      <td>344.2387</td>\n",
              "      <td>820.9005</td>\n",
              "      <td>1357.9325</td>\n",
              "      <td>Ashland_Unit256</td>\n",
              "      <td>0.0000</td>\n",
              "      <td>4</td>\n",
              "      <td>12</td>\n",
              "      <td>1</td>\n",
              "      <td>0</td>\n",
              "    </tr>\n",
              "    <tr>\n",
              "      <th>1</th>\n",
              "      <td>1</td>\n",
              "      <td>1</td>\n",
              "      <td>2019-12-01 01:30:00</td>\n",
              "      <td>1.0000</td>\n",
              "      <td>99.9650</td>\n",
              "      <td>214.1369</td>\n",
              "      <td>352.4248</td>\n",
              "      <td>837.7143</td>\n",
              "      <td>1358.2400</td>\n",
              "      <td>99.9650</td>\n",
              "      <td>215.2369</td>\n",
              "      <td>342.9925</td>\n",
              "      <td>822.1540</td>\n",
              "      <td>1358.2400</td>\n",
              "      <td>Ashland_Unit256</td>\n",
              "      <td>0.0000</td>\n",
              "      <td>4</td>\n",
              "      <td>12</td>\n",
              "      <td>1</td>\n",
              "      <td>1</td>\n",
              "    </tr>\n",
              "    <tr>\n",
              "      <th>2</th>\n",
              "      <td>2</td>\n",
              "      <td>2</td>\n",
              "      <td>2019-12-01 02:30:00</td>\n",
              "      <td>1.0000</td>\n",
              "      <td>98.5032</td>\n",
              "      <td>213.4321</td>\n",
              "      <td>352.1486</td>\n",
              "      <td>842.5627</td>\n",
              "      <td>1398.2813</td>\n",
              "      <td>98.5032</td>\n",
              "      <td>214.1066</td>\n",
              "      <td>344.6910</td>\n",
              "      <td>829.0805</td>\n",
              "      <td>1398.2813</td>\n",
              "      <td>Ashland_Unit256</td>\n",
              "      <td>0.0000</td>\n",
              "      <td>4</td>\n",
              "      <td>12</td>\n",
              "      <td>1</td>\n",
              "      <td>2</td>\n",
              "    </tr>\n",
              "    <tr>\n",
              "      <th>3</th>\n",
              "      <td>3</td>\n",
              "      <td>3</td>\n",
              "      <td>2019-12-01 03:30:00</td>\n",
              "      <td>1.0000</td>\n",
              "      <td>104.6202</td>\n",
              "      <td>220.9732</td>\n",
              "      <td>352.7063</td>\n",
              "      <td>848.7154</td>\n",
              "      <td>1397.8712</td>\n",
              "      <td>104.6202</td>\n",
              "      <td>221.6973</td>\n",
              "      <td>345.2832</td>\n",
              "      <td>835.5201</td>\n",
              "      <td>1397.8712</td>\n",
              "      <td>Ashland_Unit256</td>\n",
              "      <td>0.0000</td>\n",
              "      <td>4</td>\n",
              "      <td>12</td>\n",
              "      <td>1</td>\n",
              "      <td>3</td>\n",
              "    </tr>\n",
              "    <tr>\n",
              "      <th>4</th>\n",
              "      <td>4</td>\n",
              "      <td>4</td>\n",
              "      <td>2019-12-01 04:30:00</td>\n",
              "      <td>1.0000</td>\n",
              "      <td>109.5678</td>\n",
              "      <td>227.3392</td>\n",
              "      <td>351.3930</td>\n",
              "      <td>851.2240</td>\n",
              "      <td>1397.3100</td>\n",
              "      <td>109.5678</td>\n",
              "      <td>228.1149</td>\n",
              "      <td>344.0607</td>\n",
              "      <td>838.4339</td>\n",
              "      <td>1397.3100</td>\n",
              "      <td>Ashland_Unit256</td>\n",
              "      <td>0.0000</td>\n",
              "      <td>4</td>\n",
              "      <td>12</td>\n",
              "      <td>1</td>\n",
              "      <td>4</td>\n",
              "    </tr>\n",
              "  </tbody>\n",
              "</table>\n",
              "</div>"
            ],
            "text/plain": [
              "   Unnamed: 0  Unnamed: 0.1                time  ...  month  day  hour\n",
              "0           0             0 2019-12-01 00:30:00  ...     12    1     0\n",
              "1           1             1 2019-12-01 01:30:00  ...     12    1     1\n",
              "2           2             2 2019-12-01 02:30:00  ...     12    1     2\n",
              "3           3             3 2019-12-01 03:30:00  ...     12    1     3\n",
              "4           4             4 2019-12-01 04:30:00  ...     12    1     4\n",
              "\n",
              "[5 rows x 20 columns]"
            ]
          },
          "metadata": {
            "tags": []
          },
          "execution_count": 126
        }
      ]
    },
    {
      "cell_type": "code",
      "metadata": {
        "id": "oH1vIFtguMM-",
        "colab_type": "code",
        "colab": {
          "base_uri": "https://localhost:8080/",
          "height": 51
        },
        "outputId": "0a8c39d9-be2b-409f-f508-5a3c03c15f68"
      },
      "source": [
        "stat, p = stats.normaltest(df.Binary)\n",
        "print('Statistics=%.3f, p=%.3f' % (stat, p))\n",
        "alpha = 0.05\n",
        "if p > alpha:\n",
        "    print('Data looks Gaussian (fail to reject H0)')\n",
        "else:\n",
        "    print('Data does not look Gaussian (reject H0)')"
      ],
      "execution_count": null,
      "outputs": [
        {
          "output_type": "stream",
          "text": [
            "Statistics=850048.453, p=0.000\n",
            "Data does not look Gaussian (reject H0)\n"
          ],
          "name": "stdout"
        }
      ]
    },
    {
      "cell_type": "code",
      "metadata": {
        "id": "56gY7PszvtiH",
        "colab_type": "code",
        "colab": {
          "base_uri": "https://localhost:8080/",
          "height": 318
        },
        "outputId": "d9617011-e5a0-417e-b9e2-dc373a7ffbd8"
      },
      "source": [
        "sns.distplot(df.Binary);\n",
        "print( 'Kurtosis of normal distribution: {}'.format(stats.kurtosis(df.Binary)))\n",
        "print( 'Skewness of normal distribution: {}'.format(stats.skew(df.Binary)))"
      ],
      "execution_count": null,
      "outputs": [
        {
          "output_type": "stream",
          "text": [
            "Kurtosis of normal distribution: -1.4962378363397157\n",
            "Skewness of normal distribution: 0.7097620472103907\n"
          ],
          "name": "stdout"
        },
        {
          "output_type": "display_data",
          "data": {
            "image/png": "[encoded data removed]",
            "text/plain": [
              "<Figure size 432x288 with 1 Axes>"
            ]
          },
          "metadata": {
            "tags": [],
            "needs_background": "light"
          }
        }
      ]
    },
    {
      "cell_type": "code",
      "metadata": {
        "id": "_TV9sdgGzIHn",
        "colab_type": "code",
        "colab": {
          "base_uri": "https://localhost:8080/",
          "height": 385
        },
        "outputId": "86fc45fc-06b7-4559-b017-a20f6de8dbcf"
      },
      "source": [
        "df1=df.loc[:,['time','Binary']]\n",
        "df1.set_index('time',inplace=True)\n",
        "df1.plot(figsize=(12,5))\n",
        "plt.ylabel('Leak Classification')\n",
        "plt.legend().set_visible(False)\n",
        "plt.tight_layout()\n",
        "plt.title('Leak Time Series')\n",
        "sns.despine(top=True)\n",
        "plt.show()"
      ],
      "execution_count": null,
      "outputs": [
        {
          "output_type": "display_data",
          "data": {
            "image/png": "[encoded data removed]",
            "text/plain": [
              "<Figure size 864x360 with 1 Axes>"
            ]
          },
          "metadata": {
            "tags": [],
            "needs_background": "light"
          }
        }
      ]
    },
    {
      "cell_type": "code",
      "metadata": {
        "id": "Gi4-8ZvV33c8",
        "colab_type": "code",
        "colab": {
          "base_uri": "https://localhost:8080/",
          "height": 34
        },
        "outputId": "3f6a6ba1-48d3-432e-ec74-d5f63f6e1a45"
      },
      "source": [
        "df['Binary'].shape"
      ],
      "execution_count": null,
      "outputs": [
        {
          "output_type": "execute_result",
          "data": {
            "text/plain": [
              "(138498,)"
            ]
          },
          "metadata": {
            "tags": []
          },
          "execution_count": 130
        }
      ]
    },
    {
      "cell_type": "code",
      "metadata": {
        "id": "XRKLfbVo0iro",
        "colab_type": "code",
        "colab": {
          "base_uri": "https://localhost:8080/",
          "height": 369
        },
        "outputId": "6a47b668-7bec-415d-eaf7-15e9212be839"
      },
      "source": [
        "plt.figure(figsize=(14,5))\n",
        "plt.subplot(1,2,1)\n",
        "plt.subplots_adjust(wspace=0.2)\n",
        "sns.boxplot(x=\"month\", y=\"Binary\", data=df)\n",
        "plt.xlabel('monthly')\n",
        "plt.title('Box plot of Monthly Leak')\n",
        "sns.despine(left=True)\n",
        "plt.tight_layout()\n",
        "plt.subplot(1,2,2)\n",
        "sns.boxplot(x=\"quarter\", y=\"Binary\", data=df)\n",
        "plt.xlabel('quarter')\n",
        "plt.title('Box plot of Quarterly Leak')\n",
        "sns.despine(left=True)\n",
        "plt.tight_layout();"
      ],
      "execution_count": null,
      "outputs": [
        {
          "output_type": "display_data",
          "data": {
            "image/png": "[encoded data removed]",
            "text/plain": [
              "<Figure size 1008x360 with 2 Axes>"
            ]
          },
          "metadata": {
            "tags": [],
            "needs_background": "light"
          }
        }
      ]
    },
    {
      "cell_type": "code",
      "metadata": {
        "id": "n8UNLEz9wsyf",
        "colab_type": "code",
        "colab": {
          "base_uri": "https://localhost:8080/",
          "height": 102
        },
        "outputId": "4e64f5c5-4d25-46b7-a1f4-17bd262b41e7"
      },
      "source": [
        "df.columns"
      ],
      "execution_count": null,
      "outputs": [
        {
          "output_type": "execute_result",
          "data": {
            "text/plain": [
              "Index(['Unnamed: 0', 'Unnamed: 0.1', 'time', 'cyl', 's_temp_crank',\n",
              "       'd_temp_crank', 's_pressure_crank', 'd_pressure_crank', 'rpm_crank',\n",
              "       's_temp_mean', 'd_temp_mean', 's_pressure_mean', 'd_pressure_mean',\n",
              "       'rpm_mean', 'Asset', 'Binary', 'quarter', 'month', 'day', 'hour'],\n",
              "      dtype='object')"
            ]
          },
          "metadata": {
            "tags": []
          },
          "execution_count": 132
        }
      ]
    },
    {
      "cell_type": "code",
      "metadata": {
        "id": "mJ5rgm3Jy3Dg",
        "colab_type": "code",
        "colab": {}
      },
      "source": [
        "X_columns = [ 'quarter','month','day','hour','cyl', 's_temp_crank', 'd_temp_crank', 's_pressure_crank',\\\n",
        "       'd_pressure_crank', 'rpm_crank', 's_temp_mean', 'd_temp_mean',\\\n",
        "       's_pressure_mean', 'd_pressure_mean', 'rpm_mean']"
      ],
      "execution_count": null,
      "outputs": []
    },
    {
      "cell_type": "code",
      "metadata": {
        "id": "Y9q5u-vdy3nr",
        "colab_type": "code",
        "colab": {}
      },
      "source": [
        "#time series lstm\n",
        "X = df[X_columns]\n",
        "y_true = df.Binary"
      ],
      "execution_count": null,
      "outputs": []
    },
    {
      "cell_type": "code",
      "metadata": {
        "id": "j-7RXYNC9iSx",
        "colab_type": "code",
        "colab": {}
      },
      "source": [
        "seed = 42\n",
        "test_size = 0.33\n",
        "X_train, X_test, y_train, y_test = train_test_split(X, y_true, test_size=test_size)"
      ],
      "execution_count": null,
      "outputs": []
    },
    {
      "cell_type": "code",
      "metadata": {
        "id": "y8Dv4RHWMFAl",
        "colab_type": "code",
        "colab": {}
      },
      "source": [
        "import numpy as np\n",
        "# X_train = X_train.values\n",
        "# X_test = X_test.values\n",
        "X_train = np.reshape(X_train.values, (X_train.shape[0], 1, X_train.shape[1]))\n",
        "X_test = np.reshape(X_test.values, (X_test.shape[0], 1, X_test.shape[1]))"
      ],
      "execution_count": null,
      "outputs": []
    },
    {
      "cell_type": "code",
      "metadata": {
        "id": "zcSzENiIJ3OW",
        "colab_type": "code",
        "colab": {
          "base_uri": "https://localhost:8080/",
          "height": 34
        },
        "outputId": "2b5f0ffa-3232-437a-80cb-f32d00afbe83"
      },
      "source": [
        "y_test.size"
      ],
      "execution_count": null,
      "outputs": [
        {
          "output_type": "execute_result",
          "data": {
            "text/plain": [
              "45705"
            ]
          },
          "metadata": {
            "tags": []
          },
          "execution_count": 137
        }
      ]
    },
    {
      "cell_type": "code",
      "metadata": {
        "id": "eXJPf_fpy3dC",
        "colab_type": "code",
        "colab": {
          "base_uri": "https://localhost:8080/",
          "height": 632
        },
        "outputId": "94aa72f1-4b9a-41e6-dc87-4b207b7b4e09"
      },
      "source": [
        "model = Sequential()\n",
        "model.add(LSTM(100, input_shape=(X_train.shape[1], X_train.shape[2])))\n",
        "#model.add(LSTM(100,input_shape=(X_train.shape[1], X_train.shape[2])))  # returns a sequence of vectors of dimension 30\n",
        "#model.add(LSTM(100,input_shape=(X_train.shape[1], X_train.shape[2])))  # return a single vector of dimension 30\n",
        "# model.add(Dense(50,activation='adam'))\n",
        "# model.add(Dense(25, activation='adam'))\n",
        "\n",
        "model.add(Dropout(0.2))\n",
        "model.add(Dense(1))\n",
        "model.compile(loss='binary_crossentropy', optimizer='adam',metrics=['accuracy'])\n",
        "\n",
        "history = model.fit(X_train, y_train, epochs=20, batch_size=70, validation_data=(X_test, y_test), \n",
        "                    callbacks=[EarlyStopping(monitor='val_loss', patience=10)], verbose=1, shuffle=False)\n",
        "\n",
        "model.summary()"
      ],
      "execution_count": null,
      "outputs": [
        {
          "output_type": "stream",
          "text": [
            "Train on 92793 samples, validate on 45705 samples\n",
            "Epoch 1/20\n",
            "92793/92793 [==============================] - 6s 65us/step - loss: nan - accuracy: 3.6641e-04 - val_loss: nan - val_accuracy: 0.0000e+00\n",
            "Epoch 2/20\n",
            "92793/92793 [==============================] - 5s 58us/step - loss: nan - accuracy: 0.0000e+00 - val_loss: nan - val_accuracy: 0.0000e+00\n",
            "Epoch 3/20\n",
            "92793/92793 [==============================] - 5s 59us/step - loss: nan - accuracy: 0.0000e+00 - val_loss: nan - val_accuracy: 0.0000e+00\n",
            "Epoch 4/20\n",
            "92793/92793 [==============================] - 5s 59us/step - loss: nan - accuracy: 0.0000e+00 - val_loss: nan - val_accuracy: 0.0000e+00\n",
            "Epoch 5/20\n",
            "92793/92793 [==============================] - 6s 61us/step - loss: nan - accuracy: 0.0000e+00 - val_loss: nan - val_accuracy: 0.0000e+00\n",
            "Epoch 6/20\n",
            "92793/92793 [==============================] - 6s 63us/step - loss: nan - accuracy: 0.0000e+00 - val_loss: nan - val_accuracy: 0.0000e+00\n",
            "Epoch 7/20\n",
            "92793/92793 [==============================] - 6s 60us/step - loss: nan - accuracy: 0.0000e+00 - val_loss: nan - val_accuracy: 0.0000e+00\n",
            "Epoch 8/20\n",
            "92793/92793 [==============================] - 5s 59us/step - loss: nan - accuracy: 0.0000e+00 - val_loss: nan - val_accuracy: 0.0000e+00\n",
            "Epoch 9/20\n",
            "92793/92793 [==============================] - 6s 59us/step - loss: nan - accuracy: 0.0000e+00 - val_loss: nan - val_accuracy: 0.0000e+00\n",
            "Epoch 10/20\n",
            "92793/92793 [==============================] - 5s 57us/step - loss: nan - accuracy: 0.0000e+00 - val_loss: nan - val_accuracy: 0.0000e+00\n",
            "Model: \"sequential_20\"\n",
            "_________________________________________________________________\n",
            "Layer (type)                 Output Shape              Param #   \n",
            "=================================================================\n",
            "lstm_23 (LSTM)               (None, 100)               46400     \n",
            "_________________________________________________________________\n",
            "dropout_10 (Dropout)         (None, 100)               0         \n",
            "_________________________________________________________________\n",
            "dense_11 (Dense)             (None, 1)                 101       \n",
            "=================================================================\n",
            "Total params: 46,501\n",
            "Trainable params: 46,501\n",
            "Non-trainable params: 0\n",
            "_________________________________________________________________\n"
          ],
          "name": "stdout"
        }
      ]
    },
    {
      "cell_type": "code",
      "metadata": {
        "id": "WHQEkz3ly22w",
        "colab_type": "code",
        "colab": {}
      },
      "source": [
        ""
      ],
      "execution_count": null,
      "outputs": []
    }
  ]
}