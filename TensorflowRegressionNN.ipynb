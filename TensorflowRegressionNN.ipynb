{
  "nbformat": 4,
  "nbformat_minor": 0,
  "metadata": {
    "colab": {
      "name": "TensorflowRegressionNN.ipynb",
      "provenance": [],
      "authorship_tag": "ABX9TyMxr6j/P+jXdr5XEef+Y5AU",
      "include_colab_link": true
    },
    "kernelspec": {
      "name": "python3",
      "display_name": "Python 3"
    }
  },
  "cells": [
    {
      "cell_type": "markdown",
      "metadata": {
        "id": "view-in-github",
        "colab_type": "text"
      },
      "source": [
        "<a href=\"https://colab.research.google.com/github/theAkhileshRai/DeepLearning/blob/master/TensorflowRegressionNN.ipynb\" target=\"_parent\"><img src=\"https://colab.research.google.com/assets/colab-badge.svg\" alt=\"Open In Colab\"/></a>"
      ]
    },
    {
      "cell_type": "markdown",
      "metadata": {
        "id": "0XvfYH730oyU",
        "colab_type": "text"
      },
      "source": [
        "# Tensorflow Regression NN"
      ]
    },
    {
      "cell_type": "code",
      "metadata": {
        "id": "cfTMePF9j_0J",
        "colab_type": "code",
        "outputId": "c7499b03-7856-47a3-9a85-5d70f959e7f2",
        "colab": {
          "base_uri": "https://localhost:8080/",
          "height": 208
        }
      },
      "source": [
        "!pip install tensorflow==1.3"
      ],
      "execution_count": 80,
      "outputs": [
        {
          "output_type": "stream",
          "text": [
            "Requirement already satisfied: tensorflow==1.3 in /usr/local/lib/python3.6/dist-packages (1.3.0)\n",
            "Requirement already satisfied: six>=1.10.0 in /usr/local/lib/python3.6/dist-packages (from tensorflow==1.3) (1.12.0)\n",
            "Requirement already satisfied: tensorflow-tensorboard<0.2.0,>=0.1.0 in /usr/local/lib/python3.6/dist-packages (from tensorflow==1.3) (0.1.8)\n",
            "Requirement already satisfied: wheel>=0.26 in /usr/local/lib/python3.6/dist-packages (from tensorflow==1.3) (0.34.2)\n",
            "Requirement already satisfied: protobuf>=3.3.0 in /usr/local/lib/python3.6/dist-packages (from tensorflow==1.3) (3.10.0)\n",
            "Requirement already satisfied: numpy>=1.11.0 in /usr/local/lib/python3.6/dist-packages (from tensorflow==1.3) (1.18.2)\n",
            "Requirement already satisfied: werkzeug>=0.11.10 in /usr/local/lib/python3.6/dist-packages (from tensorflow-tensorboard<0.2.0,>=0.1.0->tensorflow==1.3) (1.0.1)\n",
            "Requirement already satisfied: html5lib==0.9999999 in /usr/local/lib/python3.6/dist-packages (from tensorflow-tensorboard<0.2.0,>=0.1.0->tensorflow==1.3) (0.9999999)\n",
            "Requirement already satisfied: bleach==1.5.0 in /usr/local/lib/python3.6/dist-packages (from tensorflow-tensorboard<0.2.0,>=0.1.0->tensorflow==1.3) (1.5.0)\n",
            "Requirement already satisfied: markdown>=2.6.8 in /usr/local/lib/python3.6/dist-packages (from tensorflow-tensorboard<0.2.0,>=0.1.0->tensorflow==1.3) (3.2.1)\n",
            "Requirement already satisfied: setuptools in /usr/local/lib/python3.6/dist-packages (from protobuf>=3.3.0->tensorflow==1.3) (46.1.3)\n"
          ],
          "name": "stdout"
        }
      ]
    },
    {
      "cell_type": "markdown",
      "metadata": {
        "id": "-1dWhxxR0oJF",
        "colab_type": "text"
      },
      "source": [
        ""
      ]
    },
    {
      "cell_type": "code",
      "metadata": {
        "id": "luXLb6p72jWN",
        "colab_type": "code",
        "colab": {}
      },
      "source": [
        "import numpy as np\n",
        "import tensorflow as tf"
      ],
      "execution_count": 0,
      "outputs": []
    },
    {
      "cell_type": "code",
      "metadata": {
        "id": "wKyUFOUo2tko",
        "colab_type": "code",
        "colab": {}
      },
      "source": [
        "np.random.seed(42)\n",
        "tf.set_random_seed(42)"
      ],
      "execution_count": 0,
      "outputs": []
    },
    {
      "cell_type": "code",
      "metadata": {
        "id": "cPqrDaP23IGX",
        "colab_type": "code",
        "outputId": "5a41a44c-404d-4845-b201-4a8a64313311",
        "colab": {
          "base_uri": "https://localhost:8080/",
          "height": 104
        }
      },
      "source": [
        "rand_a = np.random.uniform(0,100,size=(5,5))\n",
        "rand_a"
      ],
      "execution_count": 83,
      "outputs": [
        {
          "output_type": "execute_result",
          "data": {
            "text/plain": [
              "array([[37.45401188, 95.07143064, 73.19939418, 59.86584842, 15.60186404],\n",
              "       [15.59945203,  5.80836122, 86.61761458, 60.11150117, 70.80725778],\n",
              "       [ 2.05844943, 96.99098522, 83.24426408, 21.23391107, 18.18249672],\n",
              "       [18.34045099, 30.4242243 , 52.47564316, 43.19450186, 29.12291402],\n",
              "       [61.18528947, 13.94938607, 29.21446485, 36.63618433, 45.60699842]])"
            ]
          },
          "metadata": {
            "tags": []
          },
          "execution_count": 83
        }
      ]
    },
    {
      "cell_type": "code",
      "metadata": {
        "id": "V5m3QE-b3bFq",
        "colab_type": "code",
        "outputId": "d1f0a456-0165-42a3-850d-6e8b2f6ecc69",
        "colab": {
          "base_uri": "https://localhost:8080/",
          "height": 104
        }
      },
      "source": [
        "rand_b = np.random.uniform(0,100,(5,1))\n",
        "rand_b"
      ],
      "execution_count": 84,
      "outputs": [
        {
          "output_type": "execute_result",
          "data": {
            "text/plain": [
              "array([[78.51759614],\n",
              "       [19.96737822],\n",
              "       [51.42344384],\n",
              "       [59.24145689],\n",
              "       [ 4.64504127]])"
            ]
          },
          "metadata": {
            "tags": []
          },
          "execution_count": 84
        }
      ]
    },
    {
      "cell_type": "code",
      "metadata": {
        "id": "c8rx3a8C3msi",
        "colab_type": "code",
        "colab": {}
      },
      "source": [
        "a = tf.placeholder(tf.float32)\n",
        "b= tf.placeholder(tf.float32)"
      ],
      "execution_count": 0,
      "outputs": []
    },
    {
      "cell_type": "code",
      "metadata": {
        "id": "35j8rZwH3yGJ",
        "colab_type": "code",
        "colab": {}
      },
      "source": [
        "add = a + b\n",
        "mul = a * b\n"
      ],
      "execution_count": 0,
      "outputs": []
    },
    {
      "cell_type": "code",
      "metadata": {
        "id": "QRTQhQRD9y5C",
        "colab_type": "code",
        "outputId": "1ae94587-01e0-4380-a163-90b4586ce942",
        "colab": {
          "base_uri": "https://localhost:8080/",
          "height": 69
        }
      },
      "source": [
        "with tf.Session() as sess:\n",
        "  add_result = sess.run(add,feed_dict={a:10,b:20})\n",
        "  print(add_result)\n",
        "  mul_result = sess.run(mul,feed_dict={a:10,b:20})\n",
        "  print(\"\\n\"+ str(mul_result))"
      ],
      "execution_count": 87,
      "outputs": [
        {
          "output_type": "stream",
          "text": [
            "30.0\n",
            "\n",
            "200.0\n"
          ],
          "name": "stdout"
        }
      ]
    },
    {
      "cell_type": "markdown",
      "metadata": {
        "id": "iKywPYNm_7eT",
        "colab_type": "text"
      },
      "source": [
        "# Example Neural Network"
      ]
    },
    {
      "cell_type": "code",
      "metadata": {
        "id": "8INwTB4A_-Kh",
        "colab_type": "code",
        "colab": {}
      },
      "source": [
        "n_features = 10\n",
        "n_dense_neurons = 3\n",
        "x= tf.placeholder(tf.float32,(None,n_features))"
      ],
      "execution_count": 0,
      "outputs": []
    },
    {
      "cell_type": "code",
      "metadata": {
        "id": "gwNY49rdAxKD",
        "colab_type": "code",
        "colab": {}
      },
      "source": [
        "W = tf.Variable(tf.random_normal([n_features,n_dense_neurons]))\n",
        "b= tf.Variable(tf.ones([n_dense_neurons]))"
      ],
      "execution_count": 0,
      "outputs": []
    },
    {
      "cell_type": "code",
      "metadata": {
        "id": "CnYmwBhqBQF-",
        "colab_type": "code",
        "colab": {}
      },
      "source": [
        "xW = tf.matmul(x,W)\n"
      ],
      "execution_count": 0,
      "outputs": []
    },
    {
      "cell_type": "code",
      "metadata": {
        "id": "aBdPHLYGFgfA",
        "colab_type": "code",
        "colab": {}
      },
      "source": [
        "z= tf.add(xW,b)"
      ],
      "execution_count": 0,
      "outputs": []
    },
    {
      "cell_type": "code",
      "metadata": {
        "id": "BMrgbp7dGJEE",
        "colab_type": "code",
        "colab": {}
      },
      "source": [
        "act= tf.sigmoid(z)"
      ],
      "execution_count": 0,
      "outputs": []
    },
    {
      "cell_type": "code",
      "metadata": {
        "id": "CT_FtX7iGPC9",
        "colab_type": "code",
        "colab": {}
      },
      "source": [
        "init = tf.global_variables_initializer()"
      ],
      "execution_count": 0,
      "outputs": []
    },
    {
      "cell_type": "code",
      "metadata": {
        "id": "29zIrujyGbJQ",
        "colab_type": "code",
        "colab": {}
      },
      "source": [
        "with tf.Session() as sess:\n",
        "\n",
        "  sess.run(init)\n",
        "  layer_out = sess.run(act,feed_dict={x:np.random.random([1,n_features])})"
      ],
      "execution_count": 0,
      "outputs": []
    },
    {
      "cell_type": "code",
      "metadata": {
        "id": "0qgu3IHQTnde",
        "colab_type": "code",
        "outputId": "360a3ec0-3aa9-41cc-c428-8c5b53bcbb05",
        "colab": {
          "base_uri": "https://localhost:8080/",
          "height": 34
        }
      },
      "source": [
        "layer_out"
      ],
      "execution_count": 95,
      "outputs": [
        {
          "output_type": "execute_result",
          "data": {
            "text/plain": [
              "array([[0.6518201 , 0.09820659, 0.7350982 ]], dtype=float32)"
            ]
          },
          "metadata": {
            "tags": []
          },
          "execution_count": 95
        }
      ]
    },
    {
      "cell_type": "markdown",
      "metadata": {
        "id": "yddPp_0SU92w",
        "colab_type": "text"
      },
      "source": [
        "# Simple Regression Example"
      ]
    },
    {
      "cell_type": "code",
      "metadata": {
        "id": "gbcSpudYVAUW",
        "colab_type": "code",
        "colab": {}
      },
      "source": [
        "x_data = np.linspace(0,10,10) + np.random.uniform(-1.5,1.5,10)"
      ],
      "execution_count": 0,
      "outputs": []
    },
    {
      "cell_type": "code",
      "metadata": {
        "id": "bfqrgr-HWzSj",
        "colab_type": "code",
        "outputId": "f7803daa-851d-4d4c-f142-c739e7a5a2fa",
        "colab": {
          "base_uri": "https://localhost:8080/",
          "height": 52
        }
      },
      "source": [
        "x_data"
      ],
      "execution_count": 97,
      "outputs": [
        {
          "output_type": "execute_result",
          "data": {
            "text/plain": [
              "array([-1.1338853 ,  1.09664184,  0.82538779,  4.56129454,  3.72078439,\n",
              "        6.04312241,  6.10179989,  7.83798184,  9.02901973,  9.05456337])"
            ]
          },
          "metadata": {
            "tags": []
          },
          "execution_count": 97
        }
      ]
    },
    {
      "cell_type": "code",
      "metadata": {
        "id": "dOI-aR7pTx7p",
        "colab_type": "code",
        "colab": {}
      },
      "source": [
        "y_label = np.linspace(0,10,10) + np.random.uniform(-1.5,1.5,10)"
      ],
      "execution_count": 0,
      "outputs": []
    },
    {
      "cell_type": "code",
      "metadata": {
        "id": "cV30OaMRWyPt",
        "colab_type": "code",
        "outputId": "595f0fbd-04e3-4517-ea81-c9aad3946e29",
        "colab": {
          "base_uri": "https://localhost:8080/",
          "height": 52
        }
      },
      "source": [
        "y_label"
      ],
      "execution_count": 99,
      "outputs": [
        {
          "output_type": "execute_result",
          "data": {
            "text/plain": [
              "array([1.40875388, 1.93650958, 3.54071905, 4.51781538, 4.73814438,\n",
              "       6.82117826, 5.43214417, 6.86572637, 7.52457076, 9.47599099])"
            ]
          },
          "metadata": {
            "tags": []
          },
          "execution_count": 99
        }
      ]
    },
    {
      "cell_type": "code",
      "metadata": {
        "id": "3lKyonfSW2cG",
        "colab_type": "code",
        "colab": {}
      },
      "source": [
        "import matplotlib.pyplot as plt"
      ],
      "execution_count": 0,
      "outputs": []
    },
    {
      "cell_type": "code",
      "metadata": {
        "id": "6KJdtV8DW5Xo",
        "colab_type": "code",
        "outputId": "53060685-b468-4b83-b3e4-c68b46632800",
        "colab": {
          "base_uri": "https://localhost:8080/",
          "height": 265
        }
      },
      "source": [
        "plt.plot(x_data,y_label,'*')\n",
        "plt.show()"
      ],
      "execution_count": 101,
      "outputs": [
        {
          "output_type": "display_data",
          "data": {
            "image/png": "[encoded data removed]",
            "text/plain": [
              "<Figure size 432x288 with 1 Axes>"
            ]
          },
          "metadata": {
            "tags": [],
            "needs_background": "light"
          }
        }
      ]
    },
    {
      "cell_type": "code",
      "metadata": {
        "id": "oILnf3UPupNx",
        "colab_type": "code",
        "colab": {
          "base_uri": "https://localhost:8080/",
          "height": 34
        },
        "outputId": "66f6702d-af18-4d33-e2c1-d1fcad9726ad"
      },
      "source": [
        "np.random.rand(2)"
      ],
      "execution_count": 102,
      "outputs": [
        {
          "output_type": "execute_result",
          "data": {
            "text/plain": [
              "array([0.38867729, 0.27134903])"
            ]
          },
          "metadata": {
            "tags": []
          },
          "execution_count": 102
        }
      ]
    },
    {
      "cell_type": "code",
      "metadata": {
        "id": "OUk8F1cBXIk3",
        "colab_type": "code",
        "colab": {}
      },
      "source": [
        "#y = mx+b\n",
        "m= tf.Variable(0.82873751)\n",
        "b = tf.Variable(0.35675333)"
      ],
      "execution_count": 0,
      "outputs": []
    },
    {
      "cell_type": "code",
      "metadata": {
        "id": "FaDsLPXmucE3",
        "colab_type": "code",
        "colab": {}
      },
      "source": [
        "error = 0\n",
        "\n",
        "for x,y in zip(x_data,y_data):\n",
        "  y_hat = m*x + b\n",
        "\n",
        "  error += (y-y_hat)**2"
      ],
      "execution_count": 0,
      "outputs": []
    },
    {
      "cell_type": "code",
      "metadata": {
        "id": "ETfkrQ-jwG7B",
        "colab_type": "code",
        "colab": {}
      },
      "source": [
        "optim = tf.train.AdamOptimizer(learning_rate=0.001)\n",
        "train = optim.minimize(error)"
      ],
      "execution_count": 0,
      "outputs": []
    },
    {
      "cell_type": "code",
      "metadata": {
        "id": "sdU9rElkx9f9",
        "colab_type": "code",
        "colab": {}
      },
      "source": [
        "init = tf.global_variables_initializer()"
      ],
      "execution_count": 0,
      "outputs": []
    },
    {
      "cell_type": "code",
      "metadata": {
        "id": "VfVOAqLe4Fwo",
        "colab_type": "code",
        "colab": {}
      },
      "source": [
        "import matplotlib.pyplot as plt\n",
        "%matplotlib inline"
      ],
      "execution_count": 0,
      "outputs": []
    },
    {
      "cell_type": "code",
      "metadata": {
        "id": "KslWZjqI4N_P",
        "colab_type": "code",
        "colab": {}
      },
      "source": [
        "with tf.Session() as sess:\n",
        "  sess.run(init)\n",
        "  training_steps = 10\n",
        "  \n",
        "  for i in range(training_steps):\n",
        "    sess.run(train)\n",
        "  final_slope, final_intercept = sess.run([m,b])"
      ],
      "execution_count": 0,
      "outputs": []
    },
    {
      "cell_type": "code",
      "metadata": {
        "id": "sB0Je-9g53GA",
        "colab_type": "code",
        "colab": {
          "base_uri": "https://localhost:8080/",
          "height": 266
        },
        "outputId": "b32857f2-ea22-42e5-f449-608746d7ac57"
      },
      "source": [
        "x_test = np.linspace(-1,11,10)\n",
        "y_pred_plot = final_slope*x_test + final_intercept\n",
        "plt.plot(x_data,y_label,'*')\n",
        "plt.plot(x_test,y_pred_plot)\n",
        "plt.show()"
      ],
      "execution_count": 110,
      "outputs": [
        {
          "output_type": "display_data",
          "data": {
            "image/png": "[encoded data removed]",
            "text/plain": [
              "<Figure size 432x288 with 1 Axes>"
            ]
          },
          "metadata": {
            "tags": [],
            "needs_background": "light"
          }
        }
      ]
    },
    {
      "cell_type": "code",
      "metadata": {
        "id": "9yxdC2996kTh",
        "colab_type": "code",
        "colab": {}
      },
      "source": [
        ""
      ],
      "execution_count": 0,
      "outputs": []
    },
    {
      "cell_type": "code",
      "metadata": {
        "id": "ZNsV8sZf53lM",
        "colab_type": "code",
        "colab": {}
      },
      "source": [
        ""
      ],
      "execution_count": 0,
      "outputs": []
    },
    {
      "cell_type": "code",
      "metadata": {
        "id": "Xm1qioMO53xq",
        "colab_type": "code",
        "colab": {}
      },
      "source": [
        ""
      ],
      "execution_count": 0,
      "outputs": []
    }
  ]
}