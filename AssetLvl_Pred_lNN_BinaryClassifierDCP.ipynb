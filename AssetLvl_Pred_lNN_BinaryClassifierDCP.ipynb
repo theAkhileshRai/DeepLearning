{
  "nbformat": 4,
  "nbformat_minor": 0,
  "metadata": {
    "colab": {
      "name": "AssetLvl-Pred-lNN BinaryClassifierDCP.ipynb",
      "provenance": [],
      "collapsed_sections": [],
      "toc_visible": true,
      "authorship_tag": "ABX9TyNHqnNT1qbWxHJdraKUfBkY",
      "include_colab_link": true
    },
    "kernelspec": {
      "name": "python3",
      "display_name": "Python 3"
    },
    "accelerator": "GPU"
  },
  "cells": [
    {
      "cell_type": "markdown",
      "metadata": {
        "id": "view-in-github",
        "colab_type": "text"
      },
      "source": [
        "<a href=\"https://colab.research.google.com/github/theAkhileshRai/DeepLearning/blob/master/AssetLvl_Pred_lNN_BinaryClassifierDCP.ipynb\" target=\"_parent\"><img src=\"https://colab.research.google.com/assets/colab-badge.svg\" alt=\"Open In Colab\"/></a>"
      ]
    },
    {
      "cell_type": "code",
      "metadata": {
        "id": "P10uROM_sbU3",
        "colab_type": "code",
        "colab": {}
      },
      "source": [
        "\n",
        "import numpy as np\n",
        "import pandas as pd\n",
        "import matplotlib.pyplot as plt\n",
        "import sklearn\n",
        "\n",
        "from numpy import loadtxt\n",
        "from sklearn.model_selection import train_test_split\n",
        "from sklearn.metrics import accuracy_score\n",
        "from sklearn.preprocessing import StandardScaler,OneHotEncoder    \n",
        "\n",
        "\n",
        "from sklearn.metrics import confusion_matrix, classification_report\n",
        "\n",
        "from keras.utils import to_categorical\n",
        "\n",
        "import torch\n",
        "import torch.nn as nn\n",
        "import torch.optim as optim\n",
        "from torch.utils.data import Dataset, DataLoader\n",
        "\n",
        "from sklearn.preprocessing import StandardScaler"
      ],
      "execution_count": 62,
      "outputs": []
    },
    {
      "cell_type": "code",
      "metadata": {
        "id": "Ydjz7mefTMRI",
        "colab_type": "code",
        "colab": {}
      },
      "source": [
        "df = pd.read_csv('/content/data_full_asset.csv',index_col=False)"
      ],
      "execution_count": 63,
      "outputs": []
    },
    {
      "cell_type": "code",
      "metadata": {
        "id": "KsBOls6CUOQc",
        "colab_type": "code",
        "colab": {
          "base_uri": "https://localhost:8080/",
          "height": 504
        },
        "outputId": "1b52af8c-27e8-43a4-9f96-98967e87ed34"
      },
      "source": [
        "df.head()"
      ],
      "execution_count": 64,
      "outputs": [
        {
          "output_type": "execute_result",
          "data": {
            "text/html": [
              "<div>\n",
              "<style scoped>\n",
              "    .dataframe tbody tr th:only-of-type {\n",
              "        vertical-align: middle;\n",
              "    }\n",
              "\n",
              "    .dataframe tbody tr th {\n",
              "        vertical-align: top;\n",
              "    }\n",
              "\n",
              "    .dataframe thead th {\n",
              "        text-align: right;\n",
              "    }\n",
              "</style>\n",
              "<table border=\"1\" class=\"dataframe\">\n",
              "  <thead>\n",
              "    <tr style=\"text-align: right;\">\n",
              "      <th></th>\n",
              "      <th>time</th>\n",
              "      <th>cyl</th>\n",
              "      <th>s_temp_crank</th>\n",
              "      <th>d_temp_crank</th>\n",
              "      <th>s_pressure_crank</th>\n",
              "      <th>d_pressure_crank</th>\n",
              "      <th>rpm_crank</th>\n",
              "      <th>s_temp_mean</th>\n",
              "      <th>d_temp_mean</th>\n",
              "      <th>s_pressure_mean</th>\n",
              "      <th>d_pressure_mean</th>\n",
              "      <th>rpm_mean</th>\n",
              "      <th>Asset</th>\n",
              "      <th>multi_class</th>\n",
              "      <th>Binary</th>\n",
              "      <th>stage</th>\n",
              "      <th>Unnamed: 0</th>\n",
              "    </tr>\n",
              "  </thead>\n",
              "  <tbody>\n",
              "    <tr>\n",
              "      <th>0</th>\n",
              "      <td>01-12-2019 00:30</td>\n",
              "      <td>1.0</td>\n",
              "      <td>103.113613</td>\n",
              "      <td>216.591245</td>\n",
              "      <td>354.642761</td>\n",
              "      <td>836.740658</td>\n",
              "      <td>1357.93250</td>\n",
              "      <td>103.113613</td>\n",
              "      <td>218.012416</td>\n",
              "      <td>344.238676</td>\n",
              "      <td>820.900548</td>\n",
              "      <td>1357.93250</td>\n",
              "      <td>Ashland_Unit256</td>\n",
              "      <td>Normal</td>\n",
              "      <td>0.0</td>\n",
              "      <td>3.0</td>\n",
              "      <td>NaN</td>\n",
              "    </tr>\n",
              "    <tr>\n",
              "      <th>1</th>\n",
              "      <td>01-12-2019 01:30</td>\n",
              "      <td>1.0</td>\n",
              "      <td>99.965045</td>\n",
              "      <td>214.136948</td>\n",
              "      <td>352.424753</td>\n",
              "      <td>837.714329</td>\n",
              "      <td>1358.24000</td>\n",
              "      <td>99.965045</td>\n",
              "      <td>215.236945</td>\n",
              "      <td>342.992523</td>\n",
              "      <td>822.153967</td>\n",
              "      <td>1358.24000</td>\n",
              "      <td>Ashland_Unit256</td>\n",
              "      <td>Normal</td>\n",
              "      <td>0.0</td>\n",
              "      <td>3.0</td>\n",
              "      <td>NaN</td>\n",
              "    </tr>\n",
              "    <tr>\n",
              "      <th>2</th>\n",
              "      <td>01-12-2019 02:30</td>\n",
              "      <td>1.0</td>\n",
              "      <td>98.503206</td>\n",
              "      <td>213.432090</td>\n",
              "      <td>352.148637</td>\n",
              "      <td>842.562702</td>\n",
              "      <td>1398.28125</td>\n",
              "      <td>98.503206</td>\n",
              "      <td>214.106646</td>\n",
              "      <td>344.690998</td>\n",
              "      <td>829.080473</td>\n",
              "      <td>1398.28125</td>\n",
              "      <td>Ashland_Unit256</td>\n",
              "      <td>Normal</td>\n",
              "      <td>0.0</td>\n",
              "      <td>3.0</td>\n",
              "      <td>NaN</td>\n",
              "    </tr>\n",
              "    <tr>\n",
              "      <th>3</th>\n",
              "      <td>01-12-2019 03:30</td>\n",
              "      <td>1.0</td>\n",
              "      <td>104.620153</td>\n",
              "      <td>220.973225</td>\n",
              "      <td>352.706318</td>\n",
              "      <td>848.715357</td>\n",
              "      <td>1397.87125</td>\n",
              "      <td>104.620153</td>\n",
              "      <td>221.697270</td>\n",
              "      <td>345.283193</td>\n",
              "      <td>835.520144</td>\n",
              "      <td>1397.87125</td>\n",
              "      <td>Ashland_Unit256</td>\n",
              "      <td>Normal</td>\n",
              "      <td>0.0</td>\n",
              "      <td>3.0</td>\n",
              "      <td>NaN</td>\n",
              "    </tr>\n",
              "    <tr>\n",
              "      <th>4</th>\n",
              "      <td>01-12-2019 04:30</td>\n",
              "      <td>1.0</td>\n",
              "      <td>109.567843</td>\n",
              "      <td>227.339240</td>\n",
              "      <td>351.392952</td>\n",
              "      <td>851.224013</td>\n",
              "      <td>1397.31000</td>\n",
              "      <td>109.567843</td>\n",
              "      <td>228.114859</td>\n",
              "      <td>344.060655</td>\n",
              "      <td>838.433890</td>\n",
              "      <td>1397.31000</td>\n",
              "      <td>Ashland_Unit256</td>\n",
              "      <td>Normal</td>\n",
              "      <td>0.0</td>\n",
              "      <td>3.0</td>\n",
              "      <td>NaN</td>\n",
              "    </tr>\n",
              "  </tbody>\n",
              "</table>\n",
              "</div>"
            ],
            "text/plain": [
              "               time  cyl  s_temp_crank  ...  Binary  stage  Unnamed: 0\n",
              "0  01-12-2019 00:30  1.0    103.113613  ...     0.0    3.0         NaN\n",
              "1  01-12-2019 01:30  1.0     99.965045  ...     0.0    3.0         NaN\n",
              "2  01-12-2019 02:30  1.0     98.503206  ...     0.0    3.0         NaN\n",
              "3  01-12-2019 03:30  1.0    104.620153  ...     0.0    3.0         NaN\n",
              "4  01-12-2019 04:30  1.0    109.567843  ...     0.0    3.0         NaN\n",
              "\n",
              "[5 rows x 17 columns]"
            ]
          },
          "metadata": {
            "tags": []
          },
          "execution_count": 64
        }
      ]
    },
    {
      "cell_type": "code",
      "metadata": {
        "id": "A8f00GmlHbTl",
        "colab_type": "code",
        "colab": {}
      },
      "source": [
        "df['s_temp_mean*s_pressure_mean'] = df['s_pressure_mean']*df['s_temp_mean']\n",
        "df['d_temp_mean*d_pressure_mean'] = df['d_pressure_mean']*df['d_temp_mean']"
      ],
      "execution_count": 65,
      "outputs": []
    },
    {
      "cell_type": "code",
      "metadata": {
        "id": "L1A3Lls5m1J_",
        "colab_type": "code",
        "colab": {}
      },
      "source": [
        "df['s_temp_crank*s_pressure_crank'] = df['s_temp_crank']*df['s_pressure_crank']\n",
        "df['d_temp_crank*d_pressure_crank'] = df['d_pressure_crank']*df['d_temp_crank']"
      ],
      "execution_count": 66,
      "outputs": []
    },
    {
      "cell_type": "code",
      "metadata": {
        "id": "_zpttuH-LUhO",
        "colab_type": "code",
        "colab": {
          "base_uri": "https://localhost:8080/",
          "height": 504
        },
        "outputId": "c67cbb25-a22b-47be-b6d4-0fcdb7ce569c"
      },
      "source": [
        "df.head()"
      ],
      "execution_count": 67,
      "outputs": [
        {
          "output_type": "execute_result",
          "data": {
            "text/html": [
              "<div>\n",
              "<style scoped>\n",
              "    .dataframe tbody tr th:only-of-type {\n",
              "        vertical-align: middle;\n",
              "    }\n",
              "\n",
              "    .dataframe tbody tr th {\n",
              "        vertical-align: top;\n",
              "    }\n",
              "\n",
              "    .dataframe thead th {\n",
              "        text-align: right;\n",
              "    }\n",
              "</style>\n",
              "<table border=\"1\" class=\"dataframe\">\n",
              "  <thead>\n",
              "    <tr style=\"text-align: right;\">\n",
              "      <th></th>\n",
              "      <th>time</th>\n",
              "      <th>cyl</th>\n",
              "      <th>s_temp_crank</th>\n",
              "      <th>d_temp_crank</th>\n",
              "      <th>s_pressure_crank</th>\n",
              "      <th>d_pressure_crank</th>\n",
              "      <th>rpm_crank</th>\n",
              "      <th>s_temp_mean</th>\n",
              "      <th>d_temp_mean</th>\n",
              "      <th>s_pressure_mean</th>\n",
              "      <th>d_pressure_mean</th>\n",
              "      <th>rpm_mean</th>\n",
              "      <th>Asset</th>\n",
              "      <th>multi_class</th>\n",
              "      <th>Binary</th>\n",
              "      <th>stage</th>\n",
              "      <th>Unnamed: 0</th>\n",
              "      <th>s_temp_mean*s_pressure_mean</th>\n",
              "      <th>d_temp_mean*d_pressure_mean</th>\n",
              "      <th>s_temp_crank*s_pressure_crank</th>\n",
              "      <th>d_temp_crank*d_pressure_crank</th>\n",
              "    </tr>\n",
              "  </thead>\n",
              "  <tbody>\n",
              "    <tr>\n",
              "      <th>0</th>\n",
              "      <td>01-12-2019 00:30</td>\n",
              "      <td>1.0</td>\n",
              "      <td>103.113613</td>\n",
              "      <td>216.591245</td>\n",
              "      <td>354.642761</td>\n",
              "      <td>836.740658</td>\n",
              "      <td>1357.93250</td>\n",
              "      <td>103.113613</td>\n",
              "      <td>218.012416</td>\n",
              "      <td>344.238676</td>\n",
              "      <td>820.900548</td>\n",
              "      <td>1357.93250</td>\n",
              "      <td>Ashland_Unit256</td>\n",
              "      <td>Normal</td>\n",
              "      <td>0.0</td>\n",
              "      <td>3.0</td>\n",
              "      <td>NaN</td>\n",
              "      <td>35495.693668</td>\n",
              "      <td>178966.511738</td>\n",
              "      <td>36568.496401</td>\n",
              "      <td>181230.701112</td>\n",
              "    </tr>\n",
              "    <tr>\n",
              "      <th>1</th>\n",
              "      <td>01-12-2019 01:30</td>\n",
              "      <td>1.0</td>\n",
              "      <td>99.965045</td>\n",
              "      <td>214.136948</td>\n",
              "      <td>352.424753</td>\n",
              "      <td>837.714329</td>\n",
              "      <td>1358.24000</td>\n",
              "      <td>99.965045</td>\n",
              "      <td>215.236945</td>\n",
              "      <td>342.992523</td>\n",
              "      <td>822.153967</td>\n",
              "      <td>1358.24000</td>\n",
              "      <td>Ashland_Unit256</td>\n",
              "      <td>Normal</td>\n",
              "      <td>0.0</td>\n",
              "      <td>3.0</td>\n",
              "      <td>NaN</td>\n",
              "      <td>34287.262879</td>\n",
              "      <td>176957.908138</td>\n",
              "      <td>35230.156162</td>\n",
              "      <td>179385.590107</td>\n",
              "    </tr>\n",
              "    <tr>\n",
              "      <th>2</th>\n",
              "      <td>01-12-2019 02:30</td>\n",
              "      <td>1.0</td>\n",
              "      <td>98.503206</td>\n",
              "      <td>213.432090</td>\n",
              "      <td>352.148637</td>\n",
              "      <td>842.562702</td>\n",
              "      <td>1398.28125</td>\n",
              "      <td>98.503206</td>\n",
              "      <td>214.106646</td>\n",
              "      <td>344.690998</td>\n",
              "      <td>829.080473</td>\n",
              "      <td>1398.28125</td>\n",
              "      <td>Ashland_Unit256</td>\n",
              "      <td>Normal</td>\n",
              "      <td>0.0</td>\n",
              "      <td>3.0</td>\n",
              "      <td>NaN</td>\n",
              "      <td>33953.168175</td>\n",
              "      <td>177511.639298</td>\n",
              "      <td>34687.769610</td>\n",
              "      <td>179829.918423</td>\n",
              "    </tr>\n",
              "    <tr>\n",
              "      <th>3</th>\n",
              "      <td>01-12-2019 03:30</td>\n",
              "      <td>1.0</td>\n",
              "      <td>104.620153</td>\n",
              "      <td>220.973225</td>\n",
              "      <td>352.706318</td>\n",
              "      <td>848.715357</td>\n",
              "      <td>1397.87125</td>\n",
              "      <td>104.620153</td>\n",
              "      <td>221.697270</td>\n",
              "      <td>345.283193</td>\n",
              "      <td>835.520144</td>\n",
              "      <td>1397.87125</td>\n",
              "      <td>Ashland_Unit256</td>\n",
              "      <td>Normal</td>\n",
              "      <td>0.0</td>\n",
              "      <td>3.0</td>\n",
              "      <td>NaN</td>\n",
              "      <td>36123.580608</td>\n",
              "      <td>185232.534888</td>\n",
              "      <td>36900.189126</td>\n",
              "      <td>187543.369569</td>\n",
              "    </tr>\n",
              "    <tr>\n",
              "      <th>4</th>\n",
              "      <td>01-12-2019 04:30</td>\n",
              "      <td>1.0</td>\n",
              "      <td>109.567843</td>\n",
              "      <td>227.339240</td>\n",
              "      <td>351.392952</td>\n",
              "      <td>851.224013</td>\n",
              "      <td>1397.31000</td>\n",
              "      <td>109.567843</td>\n",
              "      <td>228.114859</td>\n",
              "      <td>344.060655</td>\n",
              "      <td>838.433890</td>\n",
              "      <td>1397.31000</td>\n",
              "      <td>Ashland_Unit256</td>\n",
              "      <td>Normal</td>\n",
              "      <td>0.0</td>\n",
              "      <td>3.0</td>\n",
              "      <td>NaN</td>\n",
              "      <td>37697.983717</td>\n",
              "      <td>191259.228667</td>\n",
              "      <td>38501.367781</td>\n",
              "      <td>193516.619913</td>\n",
              "    </tr>\n",
              "  </tbody>\n",
              "</table>\n",
              "</div>"
            ],
            "text/plain": [
              "               time  ...  d_temp_crank*d_pressure_crank\n",
              "0  01-12-2019 00:30  ...                  181230.701112\n",
              "1  01-12-2019 01:30  ...                  179385.590107\n",
              "2  01-12-2019 02:30  ...                  179829.918423\n",
              "3  01-12-2019 03:30  ...                  187543.369569\n",
              "4  01-12-2019 04:30  ...                  193516.619913\n",
              "\n",
              "[5 rows x 21 columns]"
            ]
          },
          "metadata": {
            "tags": []
          },
          "execution_count": 67
        }
      ]
    },
    {
      "cell_type": "code",
      "metadata": {
        "id": "7BW6XEV1sh09",
        "colab_type": "code",
        "colab": {}
      },
      "source": [
        "# df1 = pd.read_csv('/content/old_normalised_assets-2.csv',index_col=False)\n",
        "# df2 = pd.read_csv('/content/new_normalised_assets-2.csv',index_col=False)"
      ],
      "execution_count": 68,
      "outputs": []
    },
    {
      "cell_type": "code",
      "metadata": {
        "id": "CrIA-UGbTVKa",
        "colab_type": "code",
        "colab": {
          "base_uri": "https://localhost:8080/",
          "height": 121
        },
        "outputId": "d8c2e4bd-31d6-4a63-8400-50a0c9d62235"
      },
      "source": [
        "df['Asset'].unique()"
      ],
      "execution_count": 69,
      "outputs": [
        {
          "output_type": "execute_result",
          "data": {
            "text/plain": [
              "array(['Ashland_Unit256', 'Center station_C2', 'El Dorado_Unit J2502',\n",
              "       'Saltlake_K71010B', 'West_Turkey_Unit2', 'Cross bar_Unit1',\n",
              "       'Reagan_1_Unit6', 'Reagan_1_Unit3', 'Lightning_Unit2',\n",
              "       'Hobit_Unit2', 'Katy_Unit1116', 'Katy_Unit1117', 'HobitLP_Unit102',\n",
              "       'Goliad_Unit1100', 'Lightning_Unit4', 'Ashland_256',\n",
              "       'Clark county_6', 'RJ booster_1', 'Strawberry_3.csv'], dtype=object)"
            ]
          },
          "metadata": {
            "tags": []
          },
          "execution_count": 69
        }
      ]
    },
    {
      "cell_type": "code",
      "metadata": {
        "id": "5MV3Kc15Tw9n",
        "colab_type": "code",
        "colab": {}
      },
      "source": [
        "# 'Clark county_6', 'RJ booster_1', 'Strawberry_3.csv'"
      ],
      "execution_count": 70,
      "outputs": []
    },
    {
      "cell_type": "code",
      "metadata": {
        "id": "V46jsA_6Tsq7",
        "colab_type": "code",
        "colab": {}
      },
      "source": [
        "df2 = df.loc[(df.Asset == 'Clark county_6') | (df.Asset == 'RJ booster_1') | (df.Asset == 'Strawberry_3')|(df.Asset == 'Lightning_Unit2')]"
      ],
      "execution_count": 71,
      "outputs": []
    },
    {
      "cell_type": "code",
      "metadata": {
        "id": "gliOBdPxahcv",
        "colab_type": "code",
        "colab": {
          "base_uri": "https://localhost:8080/",
          "height": 34
        },
        "outputId": "d73b14b7-716c-453c-90da-157e65d00e23"
      },
      "source": [
        "df2.shape"
      ],
      "execution_count": 72,
      "outputs": [
        {
          "output_type": "execute_result",
          "data": {
            "text/plain": [
              "(5223, 21)"
            ]
          },
          "metadata": {
            "tags": []
          },
          "execution_count": 72
        }
      ]
    },
    {
      "cell_type": "code",
      "metadata": {
        "id": "rH9gxKfBa0p_",
        "colab_type": "code",
        "colab": {
          "base_uri": "https://localhost:8080/",
          "height": 34
        },
        "outputId": "ebf3fc09-61de-45ad-a9c7-886ad8641829"
      },
      "source": [
        "df2[\"Binary\"].unique()"
      ],
      "execution_count": 73,
      "outputs": [
        {
          "output_type": "execute_result",
          "data": {
            "text/plain": [
              "array([0., 1.])"
            ]
          },
          "metadata": {
            "tags": []
          },
          "execution_count": 73
        }
      ]
    },
    {
      "cell_type": "code",
      "metadata": {
        "id": "tCoxexG3USm4",
        "colab_type": "code",
        "colab": {}
      },
      "source": [
        "#  \n",
        "#        \n",
        "#        "
      ],
      "execution_count": 74,
      "outputs": []
    },
    {
      "cell_type": "code",
      "metadata": {
        "id": "Sd6OT6pOTskR",
        "colab_type": "code",
        "colab": {}
      },
      "source": [
        "df1 = df.loc[(df.Asset == 'West_Turkey_Unit2') | (df.Asset == 'Cross bar_Unit1') | (df.Asset == 'Reagan_1_Unit6') | (df.Asset == 'Reagan_1_Unit3')|\n",
        "        (df.Asset == 'Hobit_Unit2')|(df.Asset == 'Katy_Unit1116')|(df.Asset == 'Katy_Unit1117')|\n",
        "       (df.Asset == 'HobitLP_Unit102')|(df.Asset == 'Goliad_Unit1100')|(df.Asset == 'Lightning_Unit4')|(df.Asset == 'Ashland_Unit256') | \n",
        "       (df.Asset == 'Center station_C2') | (df.Asset == 'El Dorado_Unit J2502') | (df.Asset == 'Saltlake_K71010B')]"
      ],
      "execution_count": 75,
      "outputs": []
    },
    {
      "cell_type": "code",
      "metadata": {
        "id": "ySz7tAnswqa8",
        "colab_type": "code",
        "colab": {
          "base_uri": "https://localhost:8080/",
          "height": 504
        },
        "outputId": "a04ad429-c6df-4e16-a93b-9243b570f985"
      },
      "source": [
        "df1.head()"
      ],
      "execution_count": 76,
      "outputs": [
        {
          "output_type": "execute_result",
          "data": {
            "text/html": [
              "<div>\n",
              "<style scoped>\n",
              "    .dataframe tbody tr th:only-of-type {\n",
              "        vertical-align: middle;\n",
              "    }\n",
              "\n",
              "    .dataframe tbody tr th {\n",
              "        vertical-align: top;\n",
              "    }\n",
              "\n",
              "    .dataframe thead th {\n",
              "        text-align: right;\n",
              "    }\n",
              "</style>\n",
              "<table border=\"1\" class=\"dataframe\">\n",
              "  <thead>\n",
              "    <tr style=\"text-align: right;\">\n",
              "      <th></th>\n",
              "      <th>time</th>\n",
              "      <th>cyl</th>\n",
              "      <th>s_temp_crank</th>\n",
              "      <th>d_temp_crank</th>\n",
              "      <th>s_pressure_crank</th>\n",
              "      <th>d_pressure_crank</th>\n",
              "      <th>rpm_crank</th>\n",
              "      <th>s_temp_mean</th>\n",
              "      <th>d_temp_mean</th>\n",
              "      <th>s_pressure_mean</th>\n",
              "      <th>d_pressure_mean</th>\n",
              "      <th>rpm_mean</th>\n",
              "      <th>Asset</th>\n",
              "      <th>multi_class</th>\n",
              "      <th>Binary</th>\n",
              "      <th>stage</th>\n",
              "      <th>Unnamed: 0</th>\n",
              "      <th>s_temp_mean*s_pressure_mean</th>\n",
              "      <th>d_temp_mean*d_pressure_mean</th>\n",
              "      <th>s_temp_crank*s_pressure_crank</th>\n",
              "      <th>d_temp_crank*d_pressure_crank</th>\n",
              "    </tr>\n",
              "  </thead>\n",
              "  <tbody>\n",
              "    <tr>\n",
              "      <th>0</th>\n",
              "      <td>01-12-2019 00:30</td>\n",
              "      <td>1.0</td>\n",
              "      <td>103.113613</td>\n",
              "      <td>216.591245</td>\n",
              "      <td>354.642761</td>\n",
              "      <td>836.740658</td>\n",
              "      <td>1357.93250</td>\n",
              "      <td>103.113613</td>\n",
              "      <td>218.012416</td>\n",
              "      <td>344.238676</td>\n",
              "      <td>820.900548</td>\n",
              "      <td>1357.93250</td>\n",
              "      <td>Ashland_Unit256</td>\n",
              "      <td>Normal</td>\n",
              "      <td>0.0</td>\n",
              "      <td>3.0</td>\n",
              "      <td>NaN</td>\n",
              "      <td>35495.693668</td>\n",
              "      <td>178966.511738</td>\n",
              "      <td>36568.496401</td>\n",
              "      <td>181230.701112</td>\n",
              "    </tr>\n",
              "    <tr>\n",
              "      <th>1</th>\n",
              "      <td>01-12-2019 01:30</td>\n",
              "      <td>1.0</td>\n",
              "      <td>99.965045</td>\n",
              "      <td>214.136948</td>\n",
              "      <td>352.424753</td>\n",
              "      <td>837.714329</td>\n",
              "      <td>1358.24000</td>\n",
              "      <td>99.965045</td>\n",
              "      <td>215.236945</td>\n",
              "      <td>342.992523</td>\n",
              "      <td>822.153967</td>\n",
              "      <td>1358.24000</td>\n",
              "      <td>Ashland_Unit256</td>\n",
              "      <td>Normal</td>\n",
              "      <td>0.0</td>\n",
              "      <td>3.0</td>\n",
              "      <td>NaN</td>\n",
              "      <td>34287.262879</td>\n",
              "      <td>176957.908138</td>\n",
              "      <td>35230.156162</td>\n",
              "      <td>179385.590107</td>\n",
              "    </tr>\n",
              "    <tr>\n",
              "      <th>2</th>\n",
              "      <td>01-12-2019 02:30</td>\n",
              "      <td>1.0</td>\n",
              "      <td>98.503206</td>\n",
              "      <td>213.432090</td>\n",
              "      <td>352.148637</td>\n",
              "      <td>842.562702</td>\n",
              "      <td>1398.28125</td>\n",
              "      <td>98.503206</td>\n",
              "      <td>214.106646</td>\n",
              "      <td>344.690998</td>\n",
              "      <td>829.080473</td>\n",
              "      <td>1398.28125</td>\n",
              "      <td>Ashland_Unit256</td>\n",
              "      <td>Normal</td>\n",
              "      <td>0.0</td>\n",
              "      <td>3.0</td>\n",
              "      <td>NaN</td>\n",
              "      <td>33953.168175</td>\n",
              "      <td>177511.639298</td>\n",
              "      <td>34687.769610</td>\n",
              "      <td>179829.918423</td>\n",
              "    </tr>\n",
              "    <tr>\n",
              "      <th>3</th>\n",
              "      <td>01-12-2019 03:30</td>\n",
              "      <td>1.0</td>\n",
              "      <td>104.620153</td>\n",
              "      <td>220.973225</td>\n",
              "      <td>352.706318</td>\n",
              "      <td>848.715357</td>\n",
              "      <td>1397.87125</td>\n",
              "      <td>104.620153</td>\n",
              "      <td>221.697270</td>\n",
              "      <td>345.283193</td>\n",
              "      <td>835.520144</td>\n",
              "      <td>1397.87125</td>\n",
              "      <td>Ashland_Unit256</td>\n",
              "      <td>Normal</td>\n",
              "      <td>0.0</td>\n",
              "      <td>3.0</td>\n",
              "      <td>NaN</td>\n",
              "      <td>36123.580608</td>\n",
              "      <td>185232.534888</td>\n",
              "      <td>36900.189126</td>\n",
              "      <td>187543.369569</td>\n",
              "    </tr>\n",
              "    <tr>\n",
              "      <th>4</th>\n",
              "      <td>01-12-2019 04:30</td>\n",
              "      <td>1.0</td>\n",
              "      <td>109.567843</td>\n",
              "      <td>227.339240</td>\n",
              "      <td>351.392952</td>\n",
              "      <td>851.224013</td>\n",
              "      <td>1397.31000</td>\n",
              "      <td>109.567843</td>\n",
              "      <td>228.114859</td>\n",
              "      <td>344.060655</td>\n",
              "      <td>838.433890</td>\n",
              "      <td>1397.31000</td>\n",
              "      <td>Ashland_Unit256</td>\n",
              "      <td>Normal</td>\n",
              "      <td>0.0</td>\n",
              "      <td>3.0</td>\n",
              "      <td>NaN</td>\n",
              "      <td>37697.983717</td>\n",
              "      <td>191259.228667</td>\n",
              "      <td>38501.367781</td>\n",
              "      <td>193516.619913</td>\n",
              "    </tr>\n",
              "  </tbody>\n",
              "</table>\n",
              "</div>"
            ],
            "text/plain": [
              "               time  ...  d_temp_crank*d_pressure_crank\n",
              "0  01-12-2019 00:30  ...                  181230.701112\n",
              "1  01-12-2019 01:30  ...                  179385.590107\n",
              "2  01-12-2019 02:30  ...                  179829.918423\n",
              "3  01-12-2019 03:30  ...                  187543.369569\n",
              "4  01-12-2019 04:30  ...                  193516.619913\n",
              "\n",
              "[5 rows x 21 columns]"
            ]
          },
          "metadata": {
            "tags": []
          },
          "execution_count": 76
        }
      ]
    },
    {
      "cell_type": "code",
      "metadata": {
        "id": "TdsRIaE8w7kC",
        "colab_type": "code",
        "colab": {
          "base_uri": "https://localhost:8080/",
          "height": 138
        },
        "outputId": "7f51946a-4110-4d1d-d894-5c50948afb6e"
      },
      "source": [
        "df1.columns"
      ],
      "execution_count": 77,
      "outputs": [
        {
          "output_type": "execute_result",
          "data": {
            "text/plain": [
              "Index(['time', 'cyl', 's_temp_crank', 'd_temp_crank', 's_pressure_crank',\n",
              "       'd_pressure_crank', 'rpm_crank', 's_temp_mean', 'd_temp_mean',\n",
              "       's_pressure_mean', 'd_pressure_mean', 'rpm_mean', 'Asset',\n",
              "       'multi_class', 'Binary', 'stage', 'Unnamed: 0',\n",
              "       's_temp_mean*s_pressure_mean', 'd_temp_mean*d_pressure_mean',\n",
              "       's_temp_crank*s_pressure_crank', 'd_temp_crank*d_pressure_crank'],\n",
              "      dtype='object')"
            ]
          },
          "metadata": {
            "tags": []
          },
          "execution_count": 77
        }
      ]
    },
    {
      "cell_type": "code",
      "metadata": {
        "id": "nBrWvkAjwx6S",
        "colab_type": "code",
        "colab": {
          "base_uri": "https://localhost:8080/",
          "height": 225
        },
        "outputId": "478103d9-7afd-4f53-b052-33bf37afd269"
      },
      "source": [
        "df1['Binary'] = df1['Binary'].fillna(0)\n",
        "df1['multi_class'] = df1['multi_class'].fillna(0)"
      ],
      "execution_count": 78,
      "outputs": [
        {
          "output_type": "stream",
          "text": [
            "/usr/local/lib/python3.6/dist-packages/ipykernel_launcher.py:1: SettingWithCopyWarning: \n",
            "A value is trying to be set on a copy of a slice from a DataFrame.\n",
            "Try using .loc[row_indexer,col_indexer] = value instead\n",
            "\n",
            "See the caveats in the documentation: https://pandas.pydata.org/pandas-docs/stable/user_guide/indexing.html#returning-a-view-versus-a-copy\n",
            "  \"\"\"Entry point for launching an IPython kernel.\n",
            "/usr/local/lib/python3.6/dist-packages/ipykernel_launcher.py:2: SettingWithCopyWarning: \n",
            "A value is trying to be set on a copy of a slice from a DataFrame.\n",
            "Try using .loc[row_indexer,col_indexer] = value instead\n",
            "\n",
            "See the caveats in the documentation: https://pandas.pydata.org/pandas-docs/stable/user_guide/indexing.html#returning-a-view-versus-a-copy\n",
            "  \n"
          ],
          "name": "stderr"
        }
      ]
    },
    {
      "cell_type": "code",
      "metadata": {
        "id": "G3TrxRtjxE3f",
        "colab_type": "code",
        "colab": {
          "base_uri": "https://localhost:8080/",
          "height": 504
        },
        "outputId": "012eed2c-db23-469b-908c-fcbaeff31888"
      },
      "source": [
        "df1.head()"
      ],
      "execution_count": 79,
      "outputs": [
        {
          "output_type": "execute_result",
          "data": {
            "text/html": [
              "<div>\n",
              "<style scoped>\n",
              "    .dataframe tbody tr th:only-of-type {\n",
              "        vertical-align: middle;\n",
              "    }\n",
              "\n",
              "    .dataframe tbody tr th {\n",
              "        vertical-align: top;\n",
              "    }\n",
              "\n",
              "    .dataframe thead th {\n",
              "        text-align: right;\n",
              "    }\n",
              "</style>\n",
              "<table border=\"1\" class=\"dataframe\">\n",
              "  <thead>\n",
              "    <tr style=\"text-align: right;\">\n",
              "      <th></th>\n",
              "      <th>time</th>\n",
              "      <th>cyl</th>\n",
              "      <th>s_temp_crank</th>\n",
              "      <th>d_temp_crank</th>\n",
              "      <th>s_pressure_crank</th>\n",
              "      <th>d_pressure_crank</th>\n",
              "      <th>rpm_crank</th>\n",
              "      <th>s_temp_mean</th>\n",
              "      <th>d_temp_mean</th>\n",
              "      <th>s_pressure_mean</th>\n",
              "      <th>d_pressure_mean</th>\n",
              "      <th>rpm_mean</th>\n",
              "      <th>Asset</th>\n",
              "      <th>multi_class</th>\n",
              "      <th>Binary</th>\n",
              "      <th>stage</th>\n",
              "      <th>Unnamed: 0</th>\n",
              "      <th>s_temp_mean*s_pressure_mean</th>\n",
              "      <th>d_temp_mean*d_pressure_mean</th>\n",
              "      <th>s_temp_crank*s_pressure_crank</th>\n",
              "      <th>d_temp_crank*d_pressure_crank</th>\n",
              "    </tr>\n",
              "  </thead>\n",
              "  <tbody>\n",
              "    <tr>\n",
              "      <th>0</th>\n",
              "      <td>01-12-2019 00:30</td>\n",
              "      <td>1.0</td>\n",
              "      <td>103.113613</td>\n",
              "      <td>216.591245</td>\n",
              "      <td>354.642761</td>\n",
              "      <td>836.740658</td>\n",
              "      <td>1357.93250</td>\n",
              "      <td>103.113613</td>\n",
              "      <td>218.012416</td>\n",
              "      <td>344.238676</td>\n",
              "      <td>820.900548</td>\n",
              "      <td>1357.93250</td>\n",
              "      <td>Ashland_Unit256</td>\n",
              "      <td>Normal</td>\n",
              "      <td>0.0</td>\n",
              "      <td>3.0</td>\n",
              "      <td>NaN</td>\n",
              "      <td>35495.693668</td>\n",
              "      <td>178966.511738</td>\n",
              "      <td>36568.496401</td>\n",
              "      <td>181230.701112</td>\n",
              "    </tr>\n",
              "    <tr>\n",
              "      <th>1</th>\n",
              "      <td>01-12-2019 01:30</td>\n",
              "      <td>1.0</td>\n",
              "      <td>99.965045</td>\n",
              "      <td>214.136948</td>\n",
              "      <td>352.424753</td>\n",
              "      <td>837.714329</td>\n",
              "      <td>1358.24000</td>\n",
              "      <td>99.965045</td>\n",
              "      <td>215.236945</td>\n",
              "      <td>342.992523</td>\n",
              "      <td>822.153967</td>\n",
              "      <td>1358.24000</td>\n",
              "      <td>Ashland_Unit256</td>\n",
              "      <td>Normal</td>\n",
              "      <td>0.0</td>\n",
              "      <td>3.0</td>\n",
              "      <td>NaN</td>\n",
              "      <td>34287.262879</td>\n",
              "      <td>176957.908138</td>\n",
              "      <td>35230.156162</td>\n",
              "      <td>179385.590107</td>\n",
              "    </tr>\n",
              "    <tr>\n",
              "      <th>2</th>\n",
              "      <td>01-12-2019 02:30</td>\n",
              "      <td>1.0</td>\n",
              "      <td>98.503206</td>\n",
              "      <td>213.432090</td>\n",
              "      <td>352.148637</td>\n",
              "      <td>842.562702</td>\n",
              "      <td>1398.28125</td>\n",
              "      <td>98.503206</td>\n",
              "      <td>214.106646</td>\n",
              "      <td>344.690998</td>\n",
              "      <td>829.080473</td>\n",
              "      <td>1398.28125</td>\n",
              "      <td>Ashland_Unit256</td>\n",
              "      <td>Normal</td>\n",
              "      <td>0.0</td>\n",
              "      <td>3.0</td>\n",
              "      <td>NaN</td>\n",
              "      <td>33953.168175</td>\n",
              "      <td>177511.639298</td>\n",
              "      <td>34687.769610</td>\n",
              "      <td>179829.918423</td>\n",
              "    </tr>\n",
              "    <tr>\n",
              "      <th>3</th>\n",
              "      <td>01-12-2019 03:30</td>\n",
              "      <td>1.0</td>\n",
              "      <td>104.620153</td>\n",
              "      <td>220.973225</td>\n",
              "      <td>352.706318</td>\n",
              "      <td>848.715357</td>\n",
              "      <td>1397.87125</td>\n",
              "      <td>104.620153</td>\n",
              "      <td>221.697270</td>\n",
              "      <td>345.283193</td>\n",
              "      <td>835.520144</td>\n",
              "      <td>1397.87125</td>\n",
              "      <td>Ashland_Unit256</td>\n",
              "      <td>Normal</td>\n",
              "      <td>0.0</td>\n",
              "      <td>3.0</td>\n",
              "      <td>NaN</td>\n",
              "      <td>36123.580608</td>\n",
              "      <td>185232.534888</td>\n",
              "      <td>36900.189126</td>\n",
              "      <td>187543.369569</td>\n",
              "    </tr>\n",
              "    <tr>\n",
              "      <th>4</th>\n",
              "      <td>01-12-2019 04:30</td>\n",
              "      <td>1.0</td>\n",
              "      <td>109.567843</td>\n",
              "      <td>227.339240</td>\n",
              "      <td>351.392952</td>\n",
              "      <td>851.224013</td>\n",
              "      <td>1397.31000</td>\n",
              "      <td>109.567843</td>\n",
              "      <td>228.114859</td>\n",
              "      <td>344.060655</td>\n",
              "      <td>838.433890</td>\n",
              "      <td>1397.31000</td>\n",
              "      <td>Ashland_Unit256</td>\n",
              "      <td>Normal</td>\n",
              "      <td>0.0</td>\n",
              "      <td>3.0</td>\n",
              "      <td>NaN</td>\n",
              "      <td>37697.983717</td>\n",
              "      <td>191259.228667</td>\n",
              "      <td>38501.367781</td>\n",
              "      <td>193516.619913</td>\n",
              "    </tr>\n",
              "  </tbody>\n",
              "</table>\n",
              "</div>"
            ],
            "text/plain": [
              "               time  ...  d_temp_crank*d_pressure_crank\n",
              "0  01-12-2019 00:30  ...                  181230.701112\n",
              "1  01-12-2019 01:30  ...                  179385.590107\n",
              "2  01-12-2019 02:30  ...                  179829.918423\n",
              "3  01-12-2019 03:30  ...                  187543.369569\n",
              "4  01-12-2019 04:30  ...                  193516.619913\n",
              "\n",
              "[5 rows x 21 columns]"
            ]
          },
          "metadata": {
            "tags": []
          },
          "execution_count": 79
        }
      ]
    },
    {
      "cell_type": "code",
      "metadata": {
        "id": "rJlXj7AOtvSl",
        "colab_type": "code",
        "colab": {
          "base_uri": "https://localhost:8080/",
          "height": 34
        },
        "outputId": "f8c68eb6-27ee-4953-cc51-cce158d6c7d3"
      },
      "source": [
        "df1.shape"
      ],
      "execution_count": 80,
      "outputs": [
        {
          "output_type": "execute_result",
          "data": {
            "text/plain": [
              "(102522, 21)"
            ]
          },
          "metadata": {
            "tags": []
          },
          "execution_count": 80
        }
      ]
    },
    {
      "cell_type": "code",
      "metadata": {
        "id": "zuozQPwtzzkn",
        "colab_type": "code",
        "colab": {
          "base_uri": "https://localhost:8080/",
          "height": 138
        },
        "outputId": "ba7c263b-3c8e-4966-efe8-474af85137ca"
      },
      "source": [
        "df1.columns"
      ],
      "execution_count": 81,
      "outputs": [
        {
          "output_type": "execute_result",
          "data": {
            "text/plain": [
              "Index(['time', 'cyl', 's_temp_crank', 'd_temp_crank', 's_pressure_crank',\n",
              "       'd_pressure_crank', 'rpm_crank', 's_temp_mean', 'd_temp_mean',\n",
              "       's_pressure_mean', 'd_pressure_mean', 'rpm_mean', 'Asset',\n",
              "       'multi_class', 'Binary', 'stage', 'Unnamed: 0',\n",
              "       's_temp_mean*s_pressure_mean', 'd_temp_mean*d_pressure_mean',\n",
              "       's_temp_crank*s_pressure_crank', 'd_temp_crank*d_pressure_crank'],\n",
              "      dtype='object')"
            ]
          },
          "metadata": {
            "tags": []
          },
          "execution_count": 81
        }
      ]
    },
    {
      "cell_type": "code",
      "metadata": {
        "id": "C_FhJ9ekCX79",
        "colab_type": "code",
        "colab": {}
      },
      "source": [
        "X_columns = [ 'cyl', 's_temp_crank', 'd_temp_crank', 's_pressure_crank',\\\n",
        "       'd_pressure_crank', 'rpm_crank', 's_temp_mean', 'd_temp_mean',\\\n",
        "       's_pressure_mean', 'd_pressure_mean','s_temp_mean*s_pressure_mean','d_temp_mean*d_pressure_mean', 'rpm_mean']"
      ],
      "execution_count": 82,
      "outputs": []
    },
    {
      "cell_type": "code",
      "metadata": {
        "id": "noBsBx2QzZf0",
        "colab_type": "code",
        "colab": {
          "base_uri": "https://localhost:8080/",
          "height": 34
        },
        "outputId": "7cd1d684-064d-4697-e1e7-f6c295754bed"
      },
      "source": [
        "len(X_columns)"
      ],
      "execution_count": 83,
      "outputs": [
        {
          "output_type": "execute_result",
          "data": {
            "text/plain": [
              "13"
            ]
          },
          "metadata": {
            "tags": []
          },
          "execution_count": 83
        }
      ]
    },
    {
      "cell_type": "code",
      "metadata": {
        "id": "vzRQrtp3xKTL",
        "colab_type": "code",
        "colab": {}
      },
      "source": [
        "X = df1[X_columns]"
      ],
      "execution_count": 84,
      "outputs": []
    },
    {
      "cell_type": "code",
      "metadata": {
        "id": "1a92LSVIsCgl",
        "colab_type": "code",
        "colab": {
          "base_uri": "https://localhost:8080/",
          "height": 34
        },
        "outputId": "5dea2979-d94a-4596-c8e8-5bc9f05ffc1e"
      },
      "source": [
        "X.shape"
      ],
      "execution_count": 85,
      "outputs": [
        {
          "output_type": "execute_result",
          "data": {
            "text/plain": [
              "(102522, 13)"
            ]
          },
          "metadata": {
            "tags": []
          },
          "execution_count": 85
        }
      ]
    },
    {
      "cell_type": "markdown",
      "metadata": {
        "id": "X76N5os4_x5r",
        "colab_type": "text"
      },
      "source": [
        "# build  with mean"
      ]
    },
    {
      "cell_type": "code",
      "metadata": {
        "id": "41ZpjzWqDeIW",
        "colab_type": "code",
        "colab": {
          "base_uri": "https://localhost:8080/",
          "height": 444
        },
        "outputId": "31b6d8bd-dd23-4315-8e82-c7cc318d7263"
      },
      "source": [
        "X"
      ],
      "execution_count": 86,
      "outputs": [
        {
          "output_type": "execute_result",
          "data": {
            "text/html": [
              "<div>\n",
              "<style scoped>\n",
              "    .dataframe tbody tr th:only-of-type {\n",
              "        vertical-align: middle;\n",
              "    }\n",
              "\n",
              "    .dataframe tbody tr th {\n",
              "        vertical-align: top;\n",
              "    }\n",
              "\n",
              "    .dataframe thead th {\n",
              "        text-align: right;\n",
              "    }\n",
              "</style>\n",
              "<table border=\"1\" class=\"dataframe\">\n",
              "  <thead>\n",
              "    <tr style=\"text-align: right;\">\n",
              "      <th></th>\n",
              "      <th>cyl</th>\n",
              "      <th>s_temp_crank</th>\n",
              "      <th>d_temp_crank</th>\n",
              "      <th>s_pressure_crank</th>\n",
              "      <th>d_pressure_crank</th>\n",
              "      <th>rpm_crank</th>\n",
              "      <th>s_temp_mean</th>\n",
              "      <th>d_temp_mean</th>\n",
              "      <th>s_pressure_mean</th>\n",
              "      <th>d_pressure_mean</th>\n",
              "      <th>s_temp_mean*s_pressure_mean</th>\n",
              "      <th>d_temp_mean*d_pressure_mean</th>\n",
              "      <th>rpm_mean</th>\n",
              "    </tr>\n",
              "  </thead>\n",
              "  <tbody>\n",
              "    <tr>\n",
              "      <th>0</th>\n",
              "      <td>1.0</td>\n",
              "      <td>103.113613</td>\n",
              "      <td>216.591245</td>\n",
              "      <td>354.642761</td>\n",
              "      <td>836.740658</td>\n",
              "      <td>1357.93250</td>\n",
              "      <td>103.113613</td>\n",
              "      <td>218.012416</td>\n",
              "      <td>344.238676</td>\n",
              "      <td>820.900548</td>\n",
              "      <td>35495.693668</td>\n",
              "      <td>178966.511738</td>\n",
              "      <td>1357.932500</td>\n",
              "    </tr>\n",
              "    <tr>\n",
              "      <th>1</th>\n",
              "      <td>1.0</td>\n",
              "      <td>99.965045</td>\n",
              "      <td>214.136948</td>\n",
              "      <td>352.424753</td>\n",
              "      <td>837.714329</td>\n",
              "      <td>1358.24000</td>\n",
              "      <td>99.965045</td>\n",
              "      <td>215.236945</td>\n",
              "      <td>342.992523</td>\n",
              "      <td>822.153967</td>\n",
              "      <td>34287.262879</td>\n",
              "      <td>176957.908138</td>\n",
              "      <td>1358.240000</td>\n",
              "    </tr>\n",
              "    <tr>\n",
              "      <th>2</th>\n",
              "      <td>1.0</td>\n",
              "      <td>98.503206</td>\n",
              "      <td>213.432090</td>\n",
              "      <td>352.148637</td>\n",
              "      <td>842.562702</td>\n",
              "      <td>1398.28125</td>\n",
              "      <td>98.503206</td>\n",
              "      <td>214.106646</td>\n",
              "      <td>344.690998</td>\n",
              "      <td>829.080473</td>\n",
              "      <td>33953.168175</td>\n",
              "      <td>177511.639298</td>\n",
              "      <td>1398.281250</td>\n",
              "    </tr>\n",
              "    <tr>\n",
              "      <th>3</th>\n",
              "      <td>1.0</td>\n",
              "      <td>104.620153</td>\n",
              "      <td>220.973225</td>\n",
              "      <td>352.706318</td>\n",
              "      <td>848.715357</td>\n",
              "      <td>1397.87125</td>\n",
              "      <td>104.620153</td>\n",
              "      <td>221.697270</td>\n",
              "      <td>345.283193</td>\n",
              "      <td>835.520144</td>\n",
              "      <td>36123.580608</td>\n",
              "      <td>185232.534888</td>\n",
              "      <td>1397.871250</td>\n",
              "    </tr>\n",
              "    <tr>\n",
              "      <th>4</th>\n",
              "      <td>1.0</td>\n",
              "      <td>109.567843</td>\n",
              "      <td>227.339240</td>\n",
              "      <td>351.392952</td>\n",
              "      <td>851.224013</td>\n",
              "      <td>1397.31000</td>\n",
              "      <td>109.567843</td>\n",
              "      <td>228.114859</td>\n",
              "      <td>344.060655</td>\n",
              "      <td>838.433890</td>\n",
              "      <td>37697.983717</td>\n",
              "      <td>191259.228667</td>\n",
              "      <td>1397.310000</td>\n",
              "    </tr>\n",
              "    <tr>\n",
              "      <th>...</th>\n",
              "      <td>...</td>\n",
              "      <td>...</td>\n",
              "      <td>...</td>\n",
              "      <td>...</td>\n",
              "      <td>...</td>\n",
              "      <td>...</td>\n",
              "      <td>...</td>\n",
              "      <td>...</td>\n",
              "      <td>...</td>\n",
              "      <td>...</td>\n",
              "      <td>...</td>\n",
              "      <td>...</td>\n",
              "      <td>...</td>\n",
              "    </tr>\n",
              "    <tr>\n",
              "      <th>104454</th>\n",
              "      <td>2.0</td>\n",
              "      <td>57.404187</td>\n",
              "      <td>192.870092</td>\n",
              "      <td>45.099492</td>\n",
              "      <td>173.448757</td>\n",
              "      <td>1097.04375</td>\n",
              "      <td>57.404187</td>\n",
              "      <td>194.540939</td>\n",
              "      <td>45.360622</td>\n",
              "      <td>176.846614</td>\n",
              "      <td>2603.889623</td>\n",
              "      <td>34403.906401</td>\n",
              "      <td>1095.845625</td>\n",
              "    </tr>\n",
              "    <tr>\n",
              "      <th>104455</th>\n",
              "      <td>2.0</td>\n",
              "      <td>58.232545</td>\n",
              "      <td>192.783737</td>\n",
              "      <td>44.219374</td>\n",
              "      <td>169.162607</td>\n",
              "      <td>1094.24000</td>\n",
              "      <td>58.232545</td>\n",
              "      <td>195.095136</td>\n",
              "      <td>44.179864</td>\n",
              "      <td>172.503697</td>\n",
              "      <td>2572.705921</td>\n",
              "      <td>33654.632254</td>\n",
              "      <td>1094.654375</td>\n",
              "    </tr>\n",
              "    <tr>\n",
              "      <th>104456</th>\n",
              "      <td>2.0</td>\n",
              "      <td>58.345895</td>\n",
              "      <td>193.720827</td>\n",
              "      <td>43.146701</td>\n",
              "      <td>166.990013</td>\n",
              "      <td>1096.65000</td>\n",
              "      <td>58.345895</td>\n",
              "      <td>195.398975</td>\n",
              "      <td>43.390119</td>\n",
              "      <td>170.251174</td>\n",
              "      <td>2531.635307</td>\n",
              "      <td>33266.904953</td>\n",
              "      <td>1096.146250</td>\n",
              "    </tr>\n",
              "    <tr>\n",
              "      <th>104457</th>\n",
              "      <td>2.0</td>\n",
              "      <td>57.941348</td>\n",
              "      <td>194.445306</td>\n",
              "      <td>42.829713</td>\n",
              "      <td>167.715724</td>\n",
              "      <td>1095.04250</td>\n",
              "      <td>57.941348</td>\n",
              "      <td>196.355408</td>\n",
              "      <td>42.965954</td>\n",
              "      <td>170.994143</td>\n",
              "      <td>2489.505311</td>\n",
              "      <td>33575.624776</td>\n",
              "      <td>1093.078125</td>\n",
              "    </tr>\n",
              "    <tr>\n",
              "      <th>104458</th>\n",
              "      <td>2.0</td>\n",
              "      <td>56.201510</td>\n",
              "      <td>191.466086</td>\n",
              "      <td>43.207555</td>\n",
              "      <td>167.435067</td>\n",
              "      <td>1097.14500</td>\n",
              "      <td>56.201510</td>\n",
              "      <td>193.144727</td>\n",
              "      <td>43.496841</td>\n",
              "      <td>170.856086</td>\n",
              "      <td>2444.588124</td>\n",
              "      <td>32999.951992</td>\n",
              "      <td>1097.210625</td>\n",
              "    </tr>\n",
              "  </tbody>\n",
              "</table>\n",
              "<p>102522 rows × 13 columns</p>\n",
              "</div>"
            ],
            "text/plain": [
              "        cyl  s_temp_crank  ...  d_temp_mean*d_pressure_mean     rpm_mean\n",
              "0       1.0    103.113613  ...                178966.511738  1357.932500\n",
              "1       1.0     99.965045  ...                176957.908138  1358.240000\n",
              "2       1.0     98.503206  ...                177511.639298  1398.281250\n",
              "3       1.0    104.620153  ...                185232.534888  1397.871250\n",
              "4       1.0    109.567843  ...                191259.228667  1397.310000\n",
              "...     ...           ...  ...                          ...          ...\n",
              "104454  2.0     57.404187  ...                 34403.906401  1095.845625\n",
              "104455  2.0     58.232545  ...                 33654.632254  1094.654375\n",
              "104456  2.0     58.345895  ...                 33266.904953  1096.146250\n",
              "104457  2.0     57.941348  ...                 33575.624776  1093.078125\n",
              "104458  2.0     56.201510  ...                 32999.951992  1097.210625\n",
              "\n",
              "[102522 rows x 13 columns]"
            ]
          },
          "metadata": {
            "tags": []
          },
          "execution_count": 86
        }
      ]
    },
    {
      "cell_type": "code",
      "metadata": {
        "id": "osDrTPHBDgws",
        "colab_type": "code",
        "colab": {}
      },
      "source": [
        "y_true = df1.iloc[:,14]"
      ],
      "execution_count": 87,
      "outputs": []
    },
    {
      "cell_type": "code",
      "metadata": {
        "id": "BhjDVPj6kHHe",
        "colab_type": "code",
        "colab": {
          "base_uri": "https://localhost:8080/",
          "height": 34
        },
        "outputId": "73cf4516-f0fa-46e1-97a5-f0ee39c478b3"
      },
      "source": [
        "y_true.unique()"
      ],
      "execution_count": 88,
      "outputs": [
        {
          "output_type": "execute_result",
          "data": {
            "text/plain": [
              "array([0., 1.])"
            ]
          },
          "metadata": {
            "tags": []
          },
          "execution_count": 88
        }
      ]
    },
    {
      "cell_type": "code",
      "metadata": {
        "id": "QUjimy6IJ_wS",
        "colab_type": "code",
        "colab": {}
      },
      "source": [
        "#seed = 42\n",
        "test_size = 0.15\n",
        "X_train, X_test, y_train, y_test = train_test_split(X, y_true, test_size=test_size,shuffle= True)"
      ],
      "execution_count": 89,
      "outputs": []
    },
    {
      "cell_type": "code",
      "metadata": {
        "id": "r5KNo3We0J-4",
        "colab_type": "code",
        "colab": {}
      },
      "source": [
        "# X_val, X_test, y_val, y_test = train_test_split(X_Test, y_Test, test_size=0.75)"
      ],
      "execution_count": 90,
      "outputs": []
    },
    {
      "cell_type": "code",
      "metadata": {
        "id": "DeA4Ad6-TG2m",
        "colab_type": "code",
        "colab": {}
      },
      "source": [
        "from collections import Counter"
      ],
      "execution_count": 91,
      "outputs": []
    },
    {
      "cell_type": "code",
      "metadata": {
        "id": "u6qs--2goqXC",
        "colab_type": "code",
        "colab": {
          "base_uri": "https://localhost:8080/",
          "height": 34
        },
        "outputId": "8262b227-1ddf-4ab5-8c0f-e9599c83a82c"
      },
      "source": [
        "print(X_train.shape,y_train.shape)"
      ],
      "execution_count": 92,
      "outputs": [
        {
          "output_type": "stream",
          "text": [
            "(87143, 13) (87143,)\n"
          ],
          "name": "stdout"
        }
      ]
    },
    {
      "cell_type": "code",
      "metadata": {
        "id": "Kz_JxO2XFUGw",
        "colab_type": "code",
        "colab": {
          "base_uri": "https://localhost:8080/",
          "height": 34
        },
        "outputId": "f45eb4a1-c632-4273-dd60-58cad60e70fb"
      },
      "source": [
        "len(X_test)"
      ],
      "execution_count": 93,
      "outputs": [
        {
          "output_type": "execute_result",
          "data": {
            "text/plain": [
              "15379"
            ]
          },
          "metadata": {
            "tags": []
          },
          "execution_count": 93
        }
      ]
    },
    {
      "cell_type": "code",
      "metadata": {
        "id": "d8Pk0uESFcGx",
        "colab_type": "code",
        "colab": {}
      },
      "source": [
        "#len(X_val)"
      ],
      "execution_count": 94,
      "outputs": []
    },
    {
      "cell_type": "code",
      "metadata": {
        "id": "Zxib685OjhRK",
        "colab_type": "code",
        "colab": {
          "base_uri": "https://localhost:8080/",
          "height": 34
        },
        "outputId": "3e0f579a-b00b-43e7-9f3c-66ac957419bd"
      },
      "source": [
        "Counter(y_train)"
      ],
      "execution_count": 95,
      "outputs": [
        {
          "output_type": "execute_result",
          "data": {
            "text/plain": [
              "Counter({0.0: 56272, 1.0: 30871})"
            ]
          },
          "metadata": {
            "tags": []
          },
          "execution_count": 95
        }
      ]
    },
    {
      "cell_type": "markdown",
      "metadata": {
        "id": "x46e8C02_USW",
        "colab_type": "text"
      },
      "source": [
        "64->16->4->1"
      ]
    },
    {
      "cell_type": "code",
      "metadata": {
        "id": "QK8nARFrb0jE",
        "colab_type": "code",
        "colab": {}
      },
      "source": [
        "class binaryClassification(nn.Module):\n",
        "    def __init__(self):\n",
        "        super(binaryClassification, self).__init__()\n",
        "        # Number of input features is 15.\n",
        "        self.layer_1 = nn.Linear(13, 64) \n",
        "        self.layer_2 = nn.Linear(64, 64)\n",
        "        self.layer_3 = nn.Linear(64, 64)\n",
        "        self.layer_4 = nn.Linear(64, 10)\n",
        "        self.layer_5 = nn.Linear(10, 4)\n",
        "        self.layer_out = nn.Linear(4, 1) \n",
        "        \n",
        "        self.relu = nn.ReLU()\n",
        "        self.dropout = nn.Dropout(p=0.1)\n",
        "        self.batchnorm1 = nn.BatchNorm1d(64)\n",
        "        self.batchnorm2 = nn.BatchNorm1d(64)\n",
        "        self.batchnorm3 = nn.BatchNorm1d(64)\n",
        "        self.batchnorm4 = nn.BatchNorm1d(10)\n",
        "\n",
        "        \n",
        "    def forward(self, inputs):\n",
        "        x = self.relu(self.layer_1(inputs))\n",
        "        x = self.batchnorm1(x)\n",
        "        x = self.relu(self.layer_2(x))\n",
        "        x = self.batchnorm2(x)\n",
        "        x = self.relu(self.layer_3(x))\n",
        "        x = self.batchnorm3(x)\n",
        "        x = self.relu(self.layer_4(x))\n",
        "        x = self.batchnorm4(x)\n",
        "        x = self.relu(self.layer_5(x))\n",
        "        x = self.dropout(x)\n",
        "        x = self.layer_out(x)\n",
        "        \n",
        "        return x"
      ],
      "execution_count": 96,
      "outputs": []
    },
    {
      "cell_type": "code",
      "metadata": {
        "id": "yXiXsGllj-Pp",
        "colab_type": "code",
        "colab": {}
      },
      "source": [
        "scaler = StandardScaler()\n",
        "X_train = scaler.fit_transform(X_train)\n",
        "#X_val = scaler.fit_transform(X_val)\n",
        "X_test = scaler.fit_transform(X_test)"
      ],
      "execution_count": 97,
      "outputs": []
    },
    {
      "cell_type": "code",
      "metadata": {
        "id": "V7K8tRCb1MOY",
        "colab_type": "code",
        "colab": {
          "base_uri": "https://localhost:8080/",
          "height": 242
        },
        "outputId": "75dcecda-39f9-40dd-f7a0-e9655f3b12d8"
      },
      "source": [
        "X_test"
      ],
      "execution_count": 98,
      "outputs": [
        {
          "output_type": "execute_result",
          "data": {
            "text/plain": [
              "array([[ 1.86655328,  1.58263309,  2.45005154, ..., -1.16566168,\n",
              "        -0.59397222,  0.55308   ],\n",
              "       [-0.19972154,  0.1497499 , -0.6381731 , ...,  0.61055504,\n",
              "        -0.23582031,  0.11775558],\n",
              "       [ 0.83341587,  0.38963822,  0.53832168, ..., -0.73256293,\n",
              "        -0.40842423,  0.05454887],\n",
              "       ...,\n",
              "       [ 0.83341587, -0.21206788, -1.22831581, ..., -1.31243389,\n",
              "        -1.29724072,  0.59993335],\n",
              "       [-1.23285894, -0.60247581, -0.30942601, ..., -0.18370012,\n",
              "         0.01047001,  0.12453994],\n",
              "       [-1.23285894,  0.11897336, -0.82394936, ...,  0.63139096,\n",
              "        -0.38092275,  0.06735613]])"
            ]
          },
          "metadata": {
            "tags": []
          },
          "execution_count": 98
        }
      ]
    },
    {
      "cell_type": "code",
      "metadata": {
        "id": "uam-SPjJlGsT",
        "colab_type": "code",
        "colab": {}
      },
      "source": [
        "EPOCHS = 100\n",
        "BATCH_SIZE = 75\n",
        "LEARNING_RATE = 0.0792"
      ],
      "execution_count": 99,
      "outputs": []
    },
    {
      "cell_type": "code",
      "metadata": {
        "id": "JdQAqwpOlTYo",
        "colab_type": "code",
        "colab": {}
      },
      "source": [
        "## train data\n",
        "class trainData(Dataset):\n",
        "    \n",
        "    def __init__(self, X_data, y_data):\n",
        "        self.X_data = X_data\n",
        "        self.y_data = y_data\n",
        "        \n",
        "    def __getitem__(self, index):\n",
        "        return self.X_data[index], self.y_data[index]\n",
        "        \n",
        "    def __len__ (self):\n",
        "        return len(self.X_data)\n",
        "\n",
        "y_train = y_train.values\n",
        "train_data = trainData(torch.FloatTensor(X_train),torch.FloatTensor(y_train))\n",
        "## test data    \n",
        "class testData(Dataset):\n",
        "    \n",
        "    def __init__(self, X_data):\n",
        "        self.X_data = X_data\n",
        "        \n",
        "    def __getitem__(self, index):\n",
        "        return self.X_data[index]\n",
        "        \n",
        "    def __len__ (self):\n",
        "        return len(self.X_data)\n",
        "# ## val data    \n",
        "# class valData(Dataset):\n",
        "    \n",
        "#     def __init__(self, X_data):\n",
        "#         self.X_data = X_data\n",
        "        \n",
        "#     def __getitem__(self, index):\n",
        "#         return self.X_data[index]\n",
        "        \n",
        "#     def __len__ (self):\n",
        "#         return len(self.X_data)\n",
        "\n",
        "test_data = testData(torch.FloatTensor(X_test))\n",
        "# val_data = valData(torch.FloatTensor(X_val))"
      ],
      "execution_count": 100,
      "outputs": []
    },
    {
      "cell_type": "code",
      "metadata": {
        "id": "7ADj3luUlV2O",
        "colab_type": "code",
        "colab": {}
      },
      "source": [
        "train_loader = DataLoader(dataset=train_data, batch_size=BATCH_SIZE, shuffle=True)\n",
        "# val_loader = DataLoader(dataset=val_data, batch_size=1)\n",
        "test_loader = DataLoader(dataset=test_data, batch_size=1)"
      ],
      "execution_count": 101,
      "outputs": []
    },
    {
      "cell_type": "code",
      "metadata": {
        "id": "Ipz_O-d2ndxr",
        "colab_type": "code",
        "colab": {
          "base_uri": "https://localhost:8080/",
          "height": 34
        },
        "outputId": "e443c605-4f68-4fec-e019-69c577d05785"
      },
      "source": [
        "device = torch.device(\"cuda:0\" if torch.cuda.is_available() else \"cpu\")\n",
        "print(device)"
      ],
      "execution_count": 102,
      "outputs": [
        {
          "output_type": "stream",
          "text": [
            "cuda:0\n"
          ],
          "name": "stdout"
        }
      ]
    },
    {
      "cell_type": "code",
      "metadata": {
        "id": "XmrpoOEmnaqx",
        "colab_type": "code",
        "colab": {
          "base_uri": "https://localhost:8080/",
          "height": 260
        },
        "outputId": "edd1c782-e1f7-4c29-ffce-978e1fc8b3b8"
      },
      "source": [
        "model = binaryClassification()\n",
        "model.to(device)"
      ],
      "execution_count": 103,
      "outputs": [
        {
          "output_type": "execute_result",
          "data": {
            "text/plain": [
              "binaryClassification(\n",
              "  (layer_1): Linear(in_features=13, out_features=64, bias=True)\n",
              "  (layer_2): Linear(in_features=64, out_features=64, bias=True)\n",
              "  (layer_3): Linear(in_features=64, out_features=64, bias=True)\n",
              "  (layer_4): Linear(in_features=64, out_features=10, bias=True)\n",
              "  (layer_5): Linear(in_features=10, out_features=4, bias=True)\n",
              "  (layer_out): Linear(in_features=4, out_features=1, bias=True)\n",
              "  (relu): ReLU()\n",
              "  (dropout): Dropout(p=0.1, inplace=False)\n",
              "  (batchnorm1): BatchNorm1d(64, eps=1e-05, momentum=0.1, affine=True, track_running_stats=True)\n",
              "  (batchnorm2): BatchNorm1d(64, eps=1e-05, momentum=0.1, affine=True, track_running_stats=True)\n",
              "  (batchnorm3): BatchNorm1d(64, eps=1e-05, momentum=0.1, affine=True, track_running_stats=True)\n",
              "  (batchnorm4): BatchNorm1d(10, eps=1e-05, momentum=0.1, affine=True, track_running_stats=True)\n",
              ")"
            ]
          },
          "metadata": {
            "tags": []
          },
          "execution_count": 103
        }
      ]
    },
    {
      "cell_type": "code",
      "metadata": {
        "id": "rKX1xn8OnRQl",
        "colab_type": "code",
        "colab": {}
      },
      "source": [
        "criterion = nn.BCEWithLogitsLoss()\n",
        "optimizer = optim.Adam(model.parameters(), lr=LEARNING_RATE)"
      ],
      "execution_count": 104,
      "outputs": []
    },
    {
      "cell_type": "code",
      "metadata": {
        "id": "CX-alqvfpa1D",
        "colab_type": "code",
        "colab": {}
      },
      "source": [
        "def binary_acc(y_pred, y_test):\n",
        "    y_pred_tag = torch.round(torch.sigmoid(y_pred))\n",
        "\n",
        "    correct_results_sum = (y_pred_tag == y_test).sum().float()\n",
        "    acc = correct_results_sum/y_test.shape[0]\n",
        "    acc = torch.round(acc * 100)\n",
        "    \n",
        "    return acc"
      ],
      "execution_count": 105,
      "outputs": []
    },
    {
      "cell_type": "code",
      "metadata": {
        "id": "tVcAHAH7pmWc",
        "colab_type": "code",
        "colab": {}
      },
      "source": [
        "model.train()\n",
        "for e in range(1, EPOCHS+1):\n",
        "    epoch_loss = 0\n",
        "    epoch_acc = 0\n",
        "    for X_batch, y_batch in train_loader:\n",
        "        X_batch, y_batch = X_batch.to(device), y_batch.to(device)\n",
        "        optimizer.zero_grad()\n",
        "        #X_batch = X_batch\n",
        "  \n",
        "        y_pred = model(X_batch)\n",
        "        \n",
        "        loss = criterion(y_pred, y_batch.unsqueeze(1))\n",
        "        acc = binary_acc(y_pred, y_batch.unsqueeze(1))\n",
        "        \n",
        "        loss.backward()\n",
        "        optimizer.step()\n",
        "        \n",
        "        epoch_loss += loss.item()\n",
        "        epoch_acc += acc.item()"
      ],
      "execution_count": 106,
      "outputs": []
    },
    {
      "cell_type": "code",
      "metadata": {
        "id": "bkg9Nwg7MH-E",
        "colab_type": "code",
        "colab": {}
      },
      "source": [
        "y_pred_list = []\n",
        "model.eval()\n",
        "with torch.no_grad():\n",
        "    for X_batch in test_loader:\n",
        "        X_batch = X_batch.to(device)\n",
        "        y_test_pred = model(X_batch)\n",
        "        y_test_pred = torch.sigmoid(y_test_pred)\n",
        "        y_pred_tag = torch.round(y_test_pred)\n",
        "        y_pred_list.append(y_pred_tag.cpu().numpy())\n",
        "\n",
        "y_pred_list = [a.squeeze().tolist() for a in y_pred_list]"
      ],
      "execution_count": 107,
      "outputs": []
    },
    {
      "cell_type": "code",
      "metadata": {
        "id": "oOx8PsecMNoW",
        "colab_type": "code",
        "colab": {
          "base_uri": "https://localhost:8080/",
          "height": 52
        },
        "outputId": "5d9fa62c-f683-45aa-80f7-bec6ee777574"
      },
      "source": [
        "confusion_matrix(y_test, y_pred_list)"
      ],
      "execution_count": 108,
      "outputs": [
        {
          "output_type": "execute_result",
          "data": {
            "text/plain": [
              "array([[9269,  715],\n",
              "       [ 704, 4691]])"
            ]
          },
          "metadata": {
            "tags": []
          },
          "execution_count": 108
        }
      ]
    },
    {
      "cell_type": "markdown",
      "metadata": {
        "id": "YqsLKC9z6NLu",
        "colab_type": "text"
      },
      "source": [
        "# Old Assets"
      ]
    },
    {
      "cell_type": "code",
      "metadata": {
        "id": "5NXduzphPVfU",
        "colab_type": "code",
        "colab": {
          "base_uri": "https://localhost:8080/",
          "height": 173
        },
        "outputId": "0a0316ea-7051-48e5-aaba-44893bffe092"
      },
      "source": [
        "print(classification_report(y_test, y_pred_list))"
      ],
      "execution_count": 109,
      "outputs": [
        {
          "output_type": "stream",
          "text": [
            "              precision    recall  f1-score   support\n",
            "\n",
            "         0.0       0.93      0.93      0.93      9984\n",
            "         1.0       0.87      0.87      0.87      5395\n",
            "\n",
            "    accuracy                           0.91     15379\n",
            "   macro avg       0.90      0.90      0.90     15379\n",
            "weighted avg       0.91      0.91      0.91     15379\n",
            "\n"
          ],
          "name": "stdout"
        }
      ]
    },
    {
      "cell_type": "code",
      "metadata": {
        "id": "XqpTDFyBSuw9",
        "colab_type": "code",
        "colab": {}
      },
      "source": [
        "import pickle\n",
        "filename = 'binarynn_dcp_model.pkl'"
      ],
      "execution_count": 110,
      "outputs": []
    },
    {
      "cell_type": "code",
      "metadata": {
        "id": "Dpg2BIcQb2IM",
        "colab_type": "code",
        "colab": {}
      },
      "source": [
        "torch.save(model.state_dict(),filename)\n"
      ],
      "execution_count": 111,
      "outputs": []
    },
    {
      "cell_type": "code",
      "metadata": {
        "id": "dcfxrAPHc44k",
        "colab_type": "code",
        "colab": {
          "base_uri": "https://localhost:8080/",
          "height": 34
        },
        "outputId": "12509d47-01dd-4329-9d33-16eda8718533"
      },
      "source": [
        "model.load_state_dict(torch.load(filename))"
      ],
      "execution_count": 112,
      "outputs": [
        {
          "output_type": "execute_result",
          "data": {
            "text/plain": [
              "<All keys matched successfully>"
            ]
          },
          "metadata": {
            "tags": []
          },
          "execution_count": 112
        }
      ]
    },
    {
      "cell_type": "code",
      "metadata": {
        "id": "_U7E2CDgdA7_",
        "colab_type": "code",
        "colab": {
          "base_uri": "https://localhost:8080/",
          "height": 260
        },
        "outputId": "3df263d2-4b1a-4883-d83c-2657ae856c96"
      },
      "source": [
        "model.eval()"
      ],
      "execution_count": 113,
      "outputs": [
        {
          "output_type": "execute_result",
          "data": {
            "text/plain": [
              "binaryClassification(\n",
              "  (layer_1): Linear(in_features=13, out_features=64, bias=True)\n",
              "  (layer_2): Linear(in_features=64, out_features=64, bias=True)\n",
              "  (layer_3): Linear(in_features=64, out_features=64, bias=True)\n",
              "  (layer_4): Linear(in_features=64, out_features=10, bias=True)\n",
              "  (layer_5): Linear(in_features=10, out_features=4, bias=True)\n",
              "  (layer_out): Linear(in_features=4, out_features=1, bias=True)\n",
              "  (relu): ReLU()\n",
              "  (dropout): Dropout(p=0.1, inplace=False)\n",
              "  (batchnorm1): BatchNorm1d(64, eps=1e-05, momentum=0.1, affine=True, track_running_stats=True)\n",
              "  (batchnorm2): BatchNorm1d(64, eps=1e-05, momentum=0.1, affine=True, track_running_stats=True)\n",
              "  (batchnorm3): BatchNorm1d(64, eps=1e-05, momentum=0.1, affine=True, track_running_stats=True)\n",
              "  (batchnorm4): BatchNorm1d(10, eps=1e-05, momentum=0.1, affine=True, track_running_stats=True)\n",
              ")"
            ]
          },
          "metadata": {
            "tags": []
          },
          "execution_count": 113
        }
      ]
    },
    {
      "cell_type": "markdown",
      "metadata": {
        "id": "RVk1VqtroSpE",
        "colab_type": "text"
      },
      "source": [
        "# Test Pred New Assets"
      ]
    },
    {
      "cell_type": "code",
      "metadata": {
        "id": "tfrWLwNHoMJH",
        "colab_type": "code",
        "colab": {}
      },
      "source": [
        "X = df2[X_columns]"
      ],
      "execution_count": 114,
      "outputs": []
    },
    {
      "cell_type": "code",
      "metadata": {
        "id": "eUAKUZ2qphUh",
        "colab_type": "code",
        "colab": {}
      },
      "source": [
        "y_true = df2.iloc[:,14]"
      ],
      "execution_count": 115,
      "outputs": []
    },
    {
      "cell_type": "code",
      "metadata": {
        "id": "B8O01xdkpqpg",
        "colab_type": "code",
        "colab": {}
      },
      "source": [
        "X_test = scaler.fit_transform(X)"
      ],
      "execution_count": 116,
      "outputs": []
    },
    {
      "cell_type": "code",
      "metadata": {
        "id": "Ib_UUpr8qEVN",
        "colab_type": "code",
        "colab": {}
      },
      "source": [
        "test_data = testData(torch.FloatTensor(X_test))"
      ],
      "execution_count": 117,
      "outputs": []
    },
    {
      "cell_type": "code",
      "metadata": {
        "id": "iEAoUZssqQcj",
        "colab_type": "code",
        "colab": {}
      },
      "source": [
        "test_loader = DataLoader(dataset=test_data, batch_size=1)"
      ],
      "execution_count": 118,
      "outputs": []
    },
    {
      "cell_type": "code",
      "metadata": {
        "id": "oruB7-cC6Xyb",
        "colab_type": "code",
        "colab": {
          "base_uri": "https://localhost:8080/",
          "height": 34
        },
        "outputId": "9b4d5b75-edda-452f-fcb9-15d1d7f85c0a"
      },
      "source": [
        "X_test.shape"
      ],
      "execution_count": 119,
      "outputs": [
        {
          "output_type": "execute_result",
          "data": {
            "text/plain": [
              "(5223, 13)"
            ]
          },
          "metadata": {
            "tags": []
          },
          "execution_count": 119
        }
      ]
    },
    {
      "cell_type": "code",
      "metadata": {
        "id": "TdNyu3TcaKsU",
        "colab_type": "code",
        "colab": {}
      },
      "source": [
        "y_pred_list = []\n",
        "with torch.no_grad():\n",
        "    for X_batch in test_loader:\n",
        "        X_batch = X_batch.to(device)\n",
        "        y_test_pred = model(X_batch)\n",
        "        y_test_pred = torch.sigmoid(y_test_pred)\n",
        "        y_pred_tag = torch.round(y_test_pred)\n",
        "        y_pred_list.append(y_pred_tag.cpu().numpy())\n",
        "\n"
      ],
      "execution_count": 120,
      "outputs": []
    },
    {
      "cell_type": "markdown",
      "metadata": {
        "id": "jJoFz7QCKgdq",
        "colab_type": "text"
      },
      "source": [
        "# New Assets"
      ]
    },
    {
      "cell_type": "code",
      "metadata": {
        "id": "tJYAUph2iNYL",
        "colab_type": "code",
        "colab": {}
      },
      "source": [
        "predictions=[]\n",
        "predictions.append([y_pred_list[i][0][0] for i in range(len(y_pred_list))])"
      ],
      "execution_count": 121,
      "outputs": []
    },
    {
      "cell_type": "code",
      "metadata": {
        "id": "wtiN-zLylj5K",
        "colab_type": "code",
        "colab": {
          "base_uri": "https://localhost:8080/",
          "height": 173
        },
        "outputId": "3244399a-d028-42bc-cd73-203fa5c04783"
      },
      "source": [
        "print(classification_report(y_true, predictions[0]))"
      ],
      "execution_count": 122,
      "outputs": [
        {
          "output_type": "stream",
          "text": [
            "              precision    recall  f1-score   support\n",
            "\n",
            "         0.0       0.29      0.31      0.30      1937\n",
            "         1.0       0.58      0.55      0.57      3286\n",
            "\n",
            "    accuracy                           0.46      5223\n",
            "   macro avg       0.43      0.43      0.43      5223\n",
            "weighted avg       0.47      0.46      0.47      5223\n",
            "\n"
          ],
          "name": "stdout"
        }
      ]
    }
  ]
}