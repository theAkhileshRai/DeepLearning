{
  "nbformat": 4,
  "nbformat_minor": 0,
  "metadata": {
    "colab": {
      "name": "AssetLvl-Pred-lNN BinaryClassifierDCP.ipynb",
      "provenance": [],
      "collapsed_sections": [],
      "toc_visible": true,
      "authorship_tag": "ABX9TyNz8GJ9VVoawbicCFjiUI4o",
      "include_colab_link": true
    },
    "kernelspec": {
      "name": "python3",
      "display_name": "Python 3"
    },
    "accelerator": "GPU"
  },
  "cells": [
    {
      "cell_type": "markdown",
      "metadata": {
        "id": "view-in-github",
        "colab_type": "text"
      },
      "source": [
        "<a href=\"https://colab.research.google.com/github/theAkhileshRai/DeepLearning/blob/master/AssetLvl_Pred_lNN_BinaryClassifierDCP.ipynb\" target=\"_parent\"><img src=\"https://colab.research.google.com/assets/colab-badge.svg\" alt=\"Open In Colab\"/></a>"
      ]
    },
    {
      "cell_type": "code",
      "metadata": {
        "id": "P10uROM_sbU3",
        "colab_type": "code",
        "colab": {}
      },
      "source": [
        "\n",
        "import numpy as np\n",
        "import pandas as pd\n",
        "import matplotlib.pyplot as plt\n",
        "import sklearn\n",
        "\n",
        "from numpy import loadtxt\n",
        "from sklearn.model_selection import train_test_split\n",
        "from sklearn.metrics import accuracy_score\n",
        "from sklearn.preprocessing import StandardScaler,OneHotEncoder    \n",
        "\n",
        "\n",
        "from sklearn.metrics import confusion_matrix, classification_report\n",
        "\n",
        "from keras.utils import to_categorical\n",
        "\n",
        "import torch\n",
        "import torch.nn as nn\n",
        "import torch.optim as optim\n",
        "from torch.utils.data import Dataset, DataLoader\n",
        "\n",
        "from sklearn.preprocessing import StandardScaler"
      ],
      "execution_count": null,
      "outputs": []
    },
    {
      "cell_type": "code",
      "metadata": {
        "id": "Ydjz7mefTMRI",
        "colab_type": "code",
        "colab": {}
      },
      "source": [
        "df = pd.read_csv('/content/Train_data_laest.csv',index_col=False)"
      ],
      "execution_count": null,
      "outputs": []
    },
    {
      "cell_type": "code",
      "metadata": {
        "id": "KsBOls6CUOQc",
        "colab_type": "code",
        "colab": {}
      },
      "source": [
        ""
      ],
      "execution_count": null,
      "outputs": []
    },
    {
      "cell_type": "code",
      "metadata": {
        "id": "7BW6XEV1sh09",
        "colab_type": "code",
        "colab": {}
      },
      "source": [
        "# df1 = pd.read_csv('/content/old_normalised_assets-2.csv',index_col=False)\n",
        "# df2 = pd.read_csv('/content/new_normalised_assets-2.csv',index_col=False)"
      ],
      "execution_count": null,
      "outputs": []
    },
    {
      "cell_type": "code",
      "metadata": {
        "id": "CrIA-UGbTVKa",
        "colab_type": "code",
        "colab": {}
      },
      "source": [
        "df2 = df.loc[(df.Asset == 'Ashland_Unit256') | (df.Asset == 'Center station_C2') | (df.Asset == 'El Dorado_Unit J2502') | (df.Asset == 'Saltlake_K71010B')]"
      ],
      "execution_count": null,
      "outputs": []
    },
    {
      "cell_type": "code",
      "metadata": {
        "id": "tCoxexG3USm4",
        "colab_type": "code",
        "colab": {}
      },
      "source": [
        "# 'West_Turkey_Unit2', 'Cross bar_Unit1',\n",
        "#        'Reagan_1_Unit6', 'Reagan_1_Unit3', 'Lightning_Unit2',\n",
        "#        'Hobit_Unit2', 'Katy_Unit1116', 'Katy_Unit1117', 'HobitLP_Unit102',\n",
        "#        'Goliad_Unit1100', 'Lightning_Unit4'"
      ],
      "execution_count": null,
      "outputs": []
    },
    {
      "cell_type": "code",
      "metadata": {
        "id": "Sd6OT6pOTskR",
        "colab_type": "code",
        "colab": {}
      },
      "source": [
        "df1 = df.loc[(df.Asset == 'West_Turkey_Unit2') | (df.Asset == 'Cross bar_Unit1') | (df.Asset == 'Reagan_1_Unit6') | (df.Asset == 'Reagan_1_Unit3')|\n",
        "       (df.Asset == 'Lightning_Unit2')|(df.Asset == 'Hobit_Unit2')|(df.Asset == 'Katy_Unit1116')|(df.Asset == 'Katy_Unit1117')|\n",
        "       (df.Asset == 'HobitLP_Unit102')|(df.Asset == 'Goliad_Unit1100')|(df.Asset == 'Lightning_Unit4')]"
      ],
      "execution_count": null,
      "outputs": []
    },
    {
      "cell_type": "code",
      "metadata": {
        "id": "ySz7tAnswqa8",
        "colab_type": "code",
        "colab": {
          "base_uri": "https://localhost:8080/",
          "height": 486
        },
        "outputId": "49c43cbe-c251-45e7-866a-6c2a16b6cc4a"
      },
      "source": [
        "df1.head()"
      ],
      "execution_count": null,
      "outputs": [
        {
          "output_type": "execute_result",
          "data": {
            "text/html": [
              "<div>\n",
              "<style scoped>\n",
              "    .dataframe tbody tr th:only-of-type {\n",
              "        vertical-align: middle;\n",
              "    }\n",
              "\n",
              "    .dataframe tbody tr th {\n",
              "        vertical-align: top;\n",
              "    }\n",
              "\n",
              "    .dataframe thead th {\n",
              "        text-align: right;\n",
              "    }\n",
              "</style>\n",
              "<table border=\"1\" class=\"dataframe\">\n",
              "  <thead>\n",
              "    <tr style=\"text-align: right;\">\n",
              "      <th></th>\n",
              "      <th>time</th>\n",
              "      <th>cyl</th>\n",
              "      <th>s_temp_crank</th>\n",
              "      <th>d_temp_crank</th>\n",
              "      <th>s_pressure_crank</th>\n",
              "      <th>d_pressure_crank</th>\n",
              "      <th>rpm_crank</th>\n",
              "      <th>s_temp_mean</th>\n",
              "      <th>d_temp_mean</th>\n",
              "      <th>s_pressure_mean</th>\n",
              "      <th>d_pressure_mean</th>\n",
              "      <th>rpm_mean</th>\n",
              "      <th>Asset</th>\n",
              "      <th>multi_class</th>\n",
              "      <th>Binary</th>\n",
              "      <th>stage</th>\n",
              "    </tr>\n",
              "  </thead>\n",
              "  <tbody>\n",
              "    <tr>\n",
              "      <th>16265</th>\n",
              "      <td>01-01-2019 00:30</td>\n",
              "      <td>1</td>\n",
              "      <td>61.986816</td>\n",
              "      <td>71.426983</td>\n",
              "      <td>125.652596</td>\n",
              "      <td>136.611843</td>\n",
              "      <td>1152.29500</td>\n",
              "      <td>61.986816</td>\n",
              "      <td>159.149519</td>\n",
              "      <td>121.483613</td>\n",
              "      <td>317.142421</td>\n",
              "      <td>1152.29500</td>\n",
              "      <td>West_Turkey_Unit2</td>\n",
              "      <td>Normal</td>\n",
              "      <td>0</td>\n",
              "      <td>1.0</td>\n",
              "    </tr>\n",
              "    <tr>\n",
              "      <th>16266</th>\n",
              "      <td>01-01-2019 01:30</td>\n",
              "      <td>1</td>\n",
              "      <td>63.729848</td>\n",
              "      <td>74.751558</td>\n",
              "      <td>120.175697</td>\n",
              "      <td>132.502807</td>\n",
              "      <td>1152.51750</td>\n",
              "      <td>63.729848</td>\n",
              "      <td>162.484929</td>\n",
              "      <td>115.979466</td>\n",
              "      <td>306.485629</td>\n",
              "      <td>1152.51750</td>\n",
              "      <td>West_Turkey_Unit2</td>\n",
              "      <td>Normal</td>\n",
              "      <td>0</td>\n",
              "      <td>1.0</td>\n",
              "    </tr>\n",
              "    <tr>\n",
              "      <th>16267</th>\n",
              "      <td>01-01-2019 02:30</td>\n",
              "      <td>1</td>\n",
              "      <td>63.071994</td>\n",
              "      <td>74.110940</td>\n",
              "      <td>105.488888</td>\n",
              "      <td>116.486283</td>\n",
              "      <td>1152.13125</td>\n",
              "      <td>63.071994</td>\n",
              "      <td>167.057610</td>\n",
              "      <td>98.548758</td>\n",
              "      <td>273.648759</td>\n",
              "      <td>1152.13125</td>\n",
              "      <td>West_Turkey_Unit2</td>\n",
              "      <td>Normal</td>\n",
              "      <td>0</td>\n",
              "      <td>1.0</td>\n",
              "    </tr>\n",
              "    <tr>\n",
              "      <th>16268</th>\n",
              "      <td>01-01-2019 03:30</td>\n",
              "      <td>1</td>\n",
              "      <td>59.612113</td>\n",
              "      <td>69.365860</td>\n",
              "      <td>107.897634</td>\n",
              "      <td>117.815998</td>\n",
              "      <td>1151.63125</td>\n",
              "      <td>59.612113</td>\n",
              "      <td>161.399138</td>\n",
              "      <td>101.750428</td>\n",
              "      <td>279.490785</td>\n",
              "      <td>1151.63125</td>\n",
              "      <td>West_Turkey_Unit2</td>\n",
              "      <td>Normal</td>\n",
              "      <td>0</td>\n",
              "      <td>1.0</td>\n",
              "    </tr>\n",
              "    <tr>\n",
              "      <th>16269</th>\n",
              "      <td>01-01-2019 07:30</td>\n",
              "      <td>1</td>\n",
              "      <td>55.314189</td>\n",
              "      <td>66.512616</td>\n",
              "      <td>112.050268</td>\n",
              "      <td>123.957754</td>\n",
              "      <td>1152.40875</td>\n",
              "      <td>55.314189</td>\n",
              "      <td>153.976086</td>\n",
              "      <td>106.750482</td>\n",
              "      <td>283.539875</td>\n",
              "      <td>1152.40875</td>\n",
              "      <td>West_Turkey_Unit2</td>\n",
              "      <td>Normal</td>\n",
              "      <td>0</td>\n",
              "      <td>1.0</td>\n",
              "    </tr>\n",
              "  </tbody>\n",
              "</table>\n",
              "</div>"
            ],
            "text/plain": [
              "                   time  cyl  s_temp_crank  ...  multi_class  Binary  stage\n",
              "16265  01-01-2019 00:30    1     61.986816  ...       Normal       0    1.0\n",
              "16266  01-01-2019 01:30    1     63.729848  ...       Normal       0    1.0\n",
              "16267  01-01-2019 02:30    1     63.071994  ...       Normal       0    1.0\n",
              "16268  01-01-2019 03:30    1     59.612113  ...       Normal       0    1.0\n",
              "16269  01-01-2019 07:30    1     55.314189  ...       Normal       0    1.0\n",
              "\n",
              "[5 rows x 16 columns]"
            ]
          },
          "metadata": {
            "tags": []
          },
          "execution_count": 166
        }
      ]
    },
    {
      "cell_type": "code",
      "metadata": {
        "id": "TdsRIaE8w7kC",
        "colab_type": "code",
        "colab": {
          "base_uri": "https://localhost:8080/",
          "height": 104
        },
        "outputId": "7b21aa4c-9dd2-482d-85ec-70bf43d21375"
      },
      "source": [
        "df1.columns"
      ],
      "execution_count": null,
      "outputs": [
        {
          "output_type": "execute_result",
          "data": {
            "text/plain": [
              "Index(['time', 'cyl', 's_temp_crank', 'd_temp_crank', 's_pressure_crank',\n",
              "       'd_pressure_crank', 'rpm_crank', 's_temp_mean', 'd_temp_mean',\n",
              "       's_pressure_mean', 'd_pressure_mean', 'rpm_mean', 'Asset',\n",
              "       'multi_class', 'Binary', 'stage'],\n",
              "      dtype='object')"
            ]
          },
          "metadata": {
            "tags": []
          },
          "execution_count": 167
        }
      ]
    },
    {
      "cell_type": "code",
      "metadata": {
        "id": "nBrWvkAjwx6S",
        "colab_type": "code",
        "colab": {
          "base_uri": "https://localhost:8080/",
          "height": 225
        },
        "outputId": "57cc0001-9815-4108-dd3e-2fbc24ab4655"
      },
      "source": [
        "df1['Binary'] = df1['Binary'].fillna(0)\n",
        "df1['multi_class'] = df1['multi_class'].fillna(0)"
      ],
      "execution_count": null,
      "outputs": [
        {
          "output_type": "stream",
          "text": [
            "/usr/local/lib/python3.6/dist-packages/ipykernel_launcher.py:1: SettingWithCopyWarning: \n",
            "A value is trying to be set on a copy of a slice from a DataFrame.\n",
            "Try using .loc[row_indexer,col_indexer] = value instead\n",
            "\n",
            "See the caveats in the documentation: https://pandas.pydata.org/pandas-docs/stable/user_guide/indexing.html#returning-a-view-versus-a-copy\n",
            "  \"\"\"Entry point for launching an IPython kernel.\n",
            "/usr/local/lib/python3.6/dist-packages/ipykernel_launcher.py:2: SettingWithCopyWarning: \n",
            "A value is trying to be set on a copy of a slice from a DataFrame.\n",
            "Try using .loc[row_indexer,col_indexer] = value instead\n",
            "\n",
            "See the caveats in the documentation: https://pandas.pydata.org/pandas-docs/stable/user_guide/indexing.html#returning-a-view-versus-a-copy\n",
            "  \n"
          ],
          "name": "stderr"
        }
      ]
    },
    {
      "cell_type": "code",
      "metadata": {
        "id": "G3TrxRtjxE3f",
        "colab_type": "code",
        "colab": {
          "base_uri": "https://localhost:8080/",
          "height": 486
        },
        "outputId": "f5d6d4d1-295c-40c1-ae69-81a83a9c9a93"
      },
      "source": [
        "df1.head()"
      ],
      "execution_count": null,
      "outputs": [
        {
          "output_type": "execute_result",
          "data": {
            "text/html": [
              "<div>\n",
              "<style scoped>\n",
              "    .dataframe tbody tr th:only-of-type {\n",
              "        vertical-align: middle;\n",
              "    }\n",
              "\n",
              "    .dataframe tbody tr th {\n",
              "        vertical-align: top;\n",
              "    }\n",
              "\n",
              "    .dataframe thead th {\n",
              "        text-align: right;\n",
              "    }\n",
              "</style>\n",
              "<table border=\"1\" class=\"dataframe\">\n",
              "  <thead>\n",
              "    <tr style=\"text-align: right;\">\n",
              "      <th></th>\n",
              "      <th>time</th>\n",
              "      <th>cyl</th>\n",
              "      <th>s_temp_crank</th>\n",
              "      <th>d_temp_crank</th>\n",
              "      <th>s_pressure_crank</th>\n",
              "      <th>d_pressure_crank</th>\n",
              "      <th>rpm_crank</th>\n",
              "      <th>s_temp_mean</th>\n",
              "      <th>d_temp_mean</th>\n",
              "      <th>s_pressure_mean</th>\n",
              "      <th>d_pressure_mean</th>\n",
              "      <th>rpm_mean</th>\n",
              "      <th>Asset</th>\n",
              "      <th>multi_class</th>\n",
              "      <th>Binary</th>\n",
              "      <th>stage</th>\n",
              "    </tr>\n",
              "  </thead>\n",
              "  <tbody>\n",
              "    <tr>\n",
              "      <th>16265</th>\n",
              "      <td>01-01-2019 00:30</td>\n",
              "      <td>1</td>\n",
              "      <td>61.986816</td>\n",
              "      <td>71.426983</td>\n",
              "      <td>125.652596</td>\n",
              "      <td>136.611843</td>\n",
              "      <td>1152.29500</td>\n",
              "      <td>61.986816</td>\n",
              "      <td>159.149519</td>\n",
              "      <td>121.483613</td>\n",
              "      <td>317.142421</td>\n",
              "      <td>1152.29500</td>\n",
              "      <td>West_Turkey_Unit2</td>\n",
              "      <td>Normal</td>\n",
              "      <td>0</td>\n",
              "      <td>1.0</td>\n",
              "    </tr>\n",
              "    <tr>\n",
              "      <th>16266</th>\n",
              "      <td>01-01-2019 01:30</td>\n",
              "      <td>1</td>\n",
              "      <td>63.729848</td>\n",
              "      <td>74.751558</td>\n",
              "      <td>120.175697</td>\n",
              "      <td>132.502807</td>\n",
              "      <td>1152.51750</td>\n",
              "      <td>63.729848</td>\n",
              "      <td>162.484929</td>\n",
              "      <td>115.979466</td>\n",
              "      <td>306.485629</td>\n",
              "      <td>1152.51750</td>\n",
              "      <td>West_Turkey_Unit2</td>\n",
              "      <td>Normal</td>\n",
              "      <td>0</td>\n",
              "      <td>1.0</td>\n",
              "    </tr>\n",
              "    <tr>\n",
              "      <th>16267</th>\n",
              "      <td>01-01-2019 02:30</td>\n",
              "      <td>1</td>\n",
              "      <td>63.071994</td>\n",
              "      <td>74.110940</td>\n",
              "      <td>105.488888</td>\n",
              "      <td>116.486283</td>\n",
              "      <td>1152.13125</td>\n",
              "      <td>63.071994</td>\n",
              "      <td>167.057610</td>\n",
              "      <td>98.548758</td>\n",
              "      <td>273.648759</td>\n",
              "      <td>1152.13125</td>\n",
              "      <td>West_Turkey_Unit2</td>\n",
              "      <td>Normal</td>\n",
              "      <td>0</td>\n",
              "      <td>1.0</td>\n",
              "    </tr>\n",
              "    <tr>\n",
              "      <th>16268</th>\n",
              "      <td>01-01-2019 03:30</td>\n",
              "      <td>1</td>\n",
              "      <td>59.612113</td>\n",
              "      <td>69.365860</td>\n",
              "      <td>107.897634</td>\n",
              "      <td>117.815998</td>\n",
              "      <td>1151.63125</td>\n",
              "      <td>59.612113</td>\n",
              "      <td>161.399138</td>\n",
              "      <td>101.750428</td>\n",
              "      <td>279.490785</td>\n",
              "      <td>1151.63125</td>\n",
              "      <td>West_Turkey_Unit2</td>\n",
              "      <td>Normal</td>\n",
              "      <td>0</td>\n",
              "      <td>1.0</td>\n",
              "    </tr>\n",
              "    <tr>\n",
              "      <th>16269</th>\n",
              "      <td>01-01-2019 07:30</td>\n",
              "      <td>1</td>\n",
              "      <td>55.314189</td>\n",
              "      <td>66.512616</td>\n",
              "      <td>112.050268</td>\n",
              "      <td>123.957754</td>\n",
              "      <td>1152.40875</td>\n",
              "      <td>55.314189</td>\n",
              "      <td>153.976086</td>\n",
              "      <td>106.750482</td>\n",
              "      <td>283.539875</td>\n",
              "      <td>1152.40875</td>\n",
              "      <td>West_Turkey_Unit2</td>\n",
              "      <td>Normal</td>\n",
              "      <td>0</td>\n",
              "      <td>1.0</td>\n",
              "    </tr>\n",
              "  </tbody>\n",
              "</table>\n",
              "</div>"
            ],
            "text/plain": [
              "                   time  cyl  s_temp_crank  ...  multi_class  Binary  stage\n",
              "16265  01-01-2019 00:30    1     61.986816  ...       Normal       0    1.0\n",
              "16266  01-01-2019 01:30    1     63.729848  ...       Normal       0    1.0\n",
              "16267  01-01-2019 02:30    1     63.071994  ...       Normal       0    1.0\n",
              "16268  01-01-2019 03:30    1     59.612113  ...       Normal       0    1.0\n",
              "16269  01-01-2019 07:30    1     55.314189  ...       Normal       0    1.0\n",
              "\n",
              "[5 rows x 16 columns]"
            ]
          },
          "metadata": {
            "tags": []
          },
          "execution_count": 169
        }
      ]
    },
    {
      "cell_type": "code",
      "metadata": {
        "id": "rJlXj7AOtvSl",
        "colab_type": "code",
        "colab": {
          "base_uri": "https://localhost:8080/",
          "height": 34
        },
        "outputId": "ad8e818b-58ae-44f2-eac4-1665510a903f"
      },
      "source": [
        "df1.shape"
      ],
      "execution_count": null,
      "outputs": [
        {
          "output_type": "execute_result",
          "data": {
            "text/plain": [
              "(88194, 16)"
            ]
          },
          "metadata": {
            "tags": []
          },
          "execution_count": 170
        }
      ]
    },
    {
      "cell_type": "code",
      "metadata": {
        "id": "zuozQPwtzzkn",
        "colab_type": "code",
        "colab": {
          "base_uri": "https://localhost:8080/",
          "height": 104
        },
        "outputId": "9ced0886-4d01-4f9a-8345-c530d0176f1b"
      },
      "source": [
        "df1.columns"
      ],
      "execution_count": null,
      "outputs": [
        {
          "output_type": "execute_result",
          "data": {
            "text/plain": [
              "Index(['time', 'cyl', 's_temp_crank', 'd_temp_crank', 's_pressure_crank',\n",
              "       'd_pressure_crank', 'rpm_crank', 's_temp_mean', 'd_temp_mean',\n",
              "       's_pressure_mean', 'd_pressure_mean', 'rpm_mean', 'Asset',\n",
              "       'multi_class', 'Binary', 'stage'],\n",
              "      dtype='object')"
            ]
          },
          "metadata": {
            "tags": []
          },
          "execution_count": 171
        }
      ]
    },
    {
      "cell_type": "code",
      "metadata": {
        "id": "C_FhJ9ekCX79",
        "colab_type": "code",
        "colab": {}
      },
      "source": [
        "X_columns = [ 'cyl', 's_temp_crank', 'd_temp_crank', 's_pressure_crank',\\\n",
        "       'd_pressure_crank', 'rpm_crank', 's_temp_mean', 'd_temp_mean',\\\n",
        "       's_pressure_mean', 'd_pressure_mean', 'rpm_mean']"
      ],
      "execution_count": null,
      "outputs": []
    },
    {
      "cell_type": "code",
      "metadata": {
        "id": "noBsBx2QzZf0",
        "colab_type": "code",
        "colab": {
          "base_uri": "https://localhost:8080/",
          "height": 34
        },
        "outputId": "02413256-bebb-4684-b0e5-7745f4ff887c"
      },
      "source": [
        "len(X_columns)"
      ],
      "execution_count": null,
      "outputs": [
        {
          "output_type": "execute_result",
          "data": {
            "text/plain": [
              "11"
            ]
          },
          "metadata": {
            "tags": []
          },
          "execution_count": 173
        }
      ]
    },
    {
      "cell_type": "code",
      "metadata": {
        "id": "vzRQrtp3xKTL",
        "colab_type": "code",
        "colab": {}
      },
      "source": [
        "X = df1[X_columns]"
      ],
      "execution_count": null,
      "outputs": []
    },
    {
      "cell_type": "code",
      "metadata": {
        "id": "1a92LSVIsCgl",
        "colab_type": "code",
        "colab": {
          "base_uri": "https://localhost:8080/",
          "height": 34
        },
        "outputId": "39e8dca7-0cbe-48e6-f671-41c9f1743aa7"
      },
      "source": [
        "X.shape"
      ],
      "execution_count": null,
      "outputs": [
        {
          "output_type": "execute_result",
          "data": {
            "text/plain": [
              "(88194, 11)"
            ]
          },
          "metadata": {
            "tags": []
          },
          "execution_count": 175
        }
      ]
    },
    {
      "cell_type": "markdown",
      "metadata": {
        "id": "X76N5os4_x5r",
        "colab_type": "text"
      },
      "source": [
        "# build  with mean"
      ]
    },
    {
      "cell_type": "code",
      "metadata": {
        "id": "41ZpjzWqDeIW",
        "colab_type": "code",
        "colab": {
          "base_uri": "https://localhost:8080/",
          "height": 424
        },
        "outputId": "fb1ed90a-05d4-4b65-a995-78bd79f9d829"
      },
      "source": [
        "X"
      ],
      "execution_count": null,
      "outputs": [
        {
          "output_type": "execute_result",
          "data": {
            "text/html": [
              "<div>\n",
              "<style scoped>\n",
              "    .dataframe tbody tr th:only-of-type {\n",
              "        vertical-align: middle;\n",
              "    }\n",
              "\n",
              "    .dataframe tbody tr th {\n",
              "        vertical-align: top;\n",
              "    }\n",
              "\n",
              "    .dataframe thead th {\n",
              "        text-align: right;\n",
              "    }\n",
              "</style>\n",
              "<table border=\"1\" class=\"dataframe\">\n",
              "  <thead>\n",
              "    <tr style=\"text-align: right;\">\n",
              "      <th></th>\n",
              "      <th>cyl</th>\n",
              "      <th>s_temp_crank</th>\n",
              "      <th>d_temp_crank</th>\n",
              "      <th>s_pressure_crank</th>\n",
              "      <th>d_pressure_crank</th>\n",
              "      <th>rpm_crank</th>\n",
              "      <th>s_temp_mean</th>\n",
              "      <th>d_temp_mean</th>\n",
              "      <th>s_pressure_mean</th>\n",
              "      <th>d_pressure_mean</th>\n",
              "      <th>rpm_mean</th>\n",
              "    </tr>\n",
              "  </thead>\n",
              "  <tbody>\n",
              "    <tr>\n",
              "      <th>16265</th>\n",
              "      <td>1</td>\n",
              "      <td>61.986816</td>\n",
              "      <td>71.426983</td>\n",
              "      <td>125.652596</td>\n",
              "      <td>136.611843</td>\n",
              "      <td>1152.29500</td>\n",
              "      <td>61.986816</td>\n",
              "      <td>159.149519</td>\n",
              "      <td>121.483613</td>\n",
              "      <td>317.142421</td>\n",
              "      <td>1152.295000</td>\n",
              "    </tr>\n",
              "    <tr>\n",
              "      <th>16266</th>\n",
              "      <td>1</td>\n",
              "      <td>63.729848</td>\n",
              "      <td>74.751558</td>\n",
              "      <td>120.175697</td>\n",
              "      <td>132.502807</td>\n",
              "      <td>1152.51750</td>\n",
              "      <td>63.729848</td>\n",
              "      <td>162.484929</td>\n",
              "      <td>115.979466</td>\n",
              "      <td>306.485629</td>\n",
              "      <td>1152.517500</td>\n",
              "    </tr>\n",
              "    <tr>\n",
              "      <th>16267</th>\n",
              "      <td>1</td>\n",
              "      <td>63.071994</td>\n",
              "      <td>74.110940</td>\n",
              "      <td>105.488888</td>\n",
              "      <td>116.486283</td>\n",
              "      <td>1152.13125</td>\n",
              "      <td>63.071994</td>\n",
              "      <td>167.057610</td>\n",
              "      <td>98.548758</td>\n",
              "      <td>273.648759</td>\n",
              "      <td>1152.131250</td>\n",
              "    </tr>\n",
              "    <tr>\n",
              "      <th>16268</th>\n",
              "      <td>1</td>\n",
              "      <td>59.612113</td>\n",
              "      <td>69.365860</td>\n",
              "      <td>107.897634</td>\n",
              "      <td>117.815998</td>\n",
              "      <td>1151.63125</td>\n",
              "      <td>59.612113</td>\n",
              "      <td>161.399138</td>\n",
              "      <td>101.750428</td>\n",
              "      <td>279.490785</td>\n",
              "      <td>1151.631250</td>\n",
              "    </tr>\n",
              "    <tr>\n",
              "      <th>16269</th>\n",
              "      <td>1</td>\n",
              "      <td>55.314189</td>\n",
              "      <td>66.512616</td>\n",
              "      <td>112.050268</td>\n",
              "      <td>123.957754</td>\n",
              "      <td>1152.40875</td>\n",
              "      <td>55.314189</td>\n",
              "      <td>153.976086</td>\n",
              "      <td>106.750482</td>\n",
              "      <td>283.539875</td>\n",
              "      <td>1152.408750</td>\n",
              "    </tr>\n",
              "    <tr>\n",
              "      <th>...</th>\n",
              "      <td>...</td>\n",
              "      <td>...</td>\n",
              "      <td>...</td>\n",
              "      <td>...</td>\n",
              "      <td>...</td>\n",
              "      <td>...</td>\n",
              "      <td>...</td>\n",
              "      <td>...</td>\n",
              "      <td>...</td>\n",
              "      <td>...</td>\n",
              "      <td>...</td>\n",
              "    </tr>\n",
              "    <tr>\n",
              "      <th>104454</th>\n",
              "      <td>2</td>\n",
              "      <td>57.404187</td>\n",
              "      <td>192.870092</td>\n",
              "      <td>45.099492</td>\n",
              "      <td>173.448757</td>\n",
              "      <td>1097.04375</td>\n",
              "      <td>57.404187</td>\n",
              "      <td>194.540939</td>\n",
              "      <td>45.360622</td>\n",
              "      <td>176.846614</td>\n",
              "      <td>1095.845625</td>\n",
              "    </tr>\n",
              "    <tr>\n",
              "      <th>104455</th>\n",
              "      <td>2</td>\n",
              "      <td>58.232545</td>\n",
              "      <td>192.783737</td>\n",
              "      <td>44.219374</td>\n",
              "      <td>169.162607</td>\n",
              "      <td>1094.24000</td>\n",
              "      <td>58.232545</td>\n",
              "      <td>195.095136</td>\n",
              "      <td>44.179864</td>\n",
              "      <td>172.503697</td>\n",
              "      <td>1094.654375</td>\n",
              "    </tr>\n",
              "    <tr>\n",
              "      <th>104456</th>\n",
              "      <td>2</td>\n",
              "      <td>58.345895</td>\n",
              "      <td>193.720827</td>\n",
              "      <td>43.146701</td>\n",
              "      <td>166.990013</td>\n",
              "      <td>1096.65000</td>\n",
              "      <td>58.345895</td>\n",
              "      <td>195.398975</td>\n",
              "      <td>43.390119</td>\n",
              "      <td>170.251174</td>\n",
              "      <td>1096.146250</td>\n",
              "    </tr>\n",
              "    <tr>\n",
              "      <th>104457</th>\n",
              "      <td>2</td>\n",
              "      <td>57.941348</td>\n",
              "      <td>194.445306</td>\n",
              "      <td>42.829713</td>\n",
              "      <td>167.715724</td>\n",
              "      <td>1095.04250</td>\n",
              "      <td>57.941348</td>\n",
              "      <td>196.355408</td>\n",
              "      <td>42.965954</td>\n",
              "      <td>170.994143</td>\n",
              "      <td>1093.078125</td>\n",
              "    </tr>\n",
              "    <tr>\n",
              "      <th>104458</th>\n",
              "      <td>2</td>\n",
              "      <td>56.201510</td>\n",
              "      <td>191.466086</td>\n",
              "      <td>43.207555</td>\n",
              "      <td>167.435067</td>\n",
              "      <td>1097.14500</td>\n",
              "      <td>56.201510</td>\n",
              "      <td>193.144727</td>\n",
              "      <td>43.496841</td>\n",
              "      <td>170.856086</td>\n",
              "      <td>1097.210625</td>\n",
              "    </tr>\n",
              "  </tbody>\n",
              "</table>\n",
              "<p>88194 rows × 11 columns</p>\n",
              "</div>"
            ],
            "text/plain": [
              "        cyl  s_temp_crank  ...  d_pressure_mean     rpm_mean\n",
              "16265     1     61.986816  ...       317.142421  1152.295000\n",
              "16266     1     63.729848  ...       306.485629  1152.517500\n",
              "16267     1     63.071994  ...       273.648759  1152.131250\n",
              "16268     1     59.612113  ...       279.490785  1151.631250\n",
              "16269     1     55.314189  ...       283.539875  1152.408750\n",
              "...     ...           ...  ...              ...          ...\n",
              "104454    2     57.404187  ...       176.846614  1095.845625\n",
              "104455    2     58.232545  ...       172.503697  1094.654375\n",
              "104456    2     58.345895  ...       170.251174  1096.146250\n",
              "104457    2     57.941348  ...       170.994143  1093.078125\n",
              "104458    2     56.201510  ...       170.856086  1097.210625\n",
              "\n",
              "[88194 rows x 11 columns]"
            ]
          },
          "metadata": {
            "tags": []
          },
          "execution_count": 176
        }
      ]
    },
    {
      "cell_type": "code",
      "metadata": {
        "id": "osDrTPHBDgws",
        "colab_type": "code",
        "colab": {}
      },
      "source": [
        "y_true = df1.iloc[:,14]"
      ],
      "execution_count": null,
      "outputs": []
    },
    {
      "cell_type": "code",
      "metadata": {
        "id": "BhjDVPj6kHHe",
        "colab_type": "code",
        "colab": {
          "base_uri": "https://localhost:8080/",
          "height": 34
        },
        "outputId": "c5f8b6d0-2a10-4f2c-89d0-929d9cc09157"
      },
      "source": [
        "y_true.unique()"
      ],
      "execution_count": null,
      "outputs": [
        {
          "output_type": "execute_result",
          "data": {
            "text/plain": [
              "array([0, 1])"
            ]
          },
          "metadata": {
            "tags": []
          },
          "execution_count": 178
        }
      ]
    },
    {
      "cell_type": "code",
      "metadata": {
        "id": "QUjimy6IJ_wS",
        "colab_type": "code",
        "colab": {}
      },
      "source": [
        "#seed = 42\n",
        "test_size = 0.15\n",
        "X_train, X_test, y_train, y_test = train_test_split(X, y_true, test_size=test_size)"
      ],
      "execution_count": null,
      "outputs": []
    },
    {
      "cell_type": "code",
      "metadata": {
        "id": "r5KNo3We0J-4",
        "colab_type": "code",
        "colab": {}
      },
      "source": [
        "# X_val, X_test, y_val, y_test = train_test_split(X_Test, y_Test, test_size=0.75)"
      ],
      "execution_count": null,
      "outputs": []
    },
    {
      "cell_type": "code",
      "metadata": {
        "id": "DeA4Ad6-TG2m",
        "colab_type": "code",
        "colab": {}
      },
      "source": [
        "from collections import Counter"
      ],
      "execution_count": null,
      "outputs": []
    },
    {
      "cell_type": "code",
      "metadata": {
        "id": "u6qs--2goqXC",
        "colab_type": "code",
        "colab": {
          "base_uri": "https://localhost:8080/",
          "height": 34
        },
        "outputId": "fbdef399-0f7d-4cf4-bad3-736e6526f65b"
      },
      "source": [
        "print(X_train.shape,y_train.shape)"
      ],
      "execution_count": null,
      "outputs": [
        {
          "output_type": "stream",
          "text": [
            "(74964, 11) (74964,)\n"
          ],
          "name": "stdout"
        }
      ]
    },
    {
      "cell_type": "code",
      "metadata": {
        "id": "Kz_JxO2XFUGw",
        "colab_type": "code",
        "colab": {
          "base_uri": "https://localhost:8080/",
          "height": 34
        },
        "outputId": "587d1380-d04a-44de-ec62-5eff4edfbd83"
      },
      "source": [
        "len(X_test)"
      ],
      "execution_count": null,
      "outputs": [
        {
          "output_type": "execute_result",
          "data": {
            "text/plain": [
              "13230"
            ]
          },
          "metadata": {
            "tags": []
          },
          "execution_count": 183
        }
      ]
    },
    {
      "cell_type": "code",
      "metadata": {
        "id": "d8Pk0uESFcGx",
        "colab_type": "code",
        "colab": {}
      },
      "source": [
        "#len(X_val)"
      ],
      "execution_count": null,
      "outputs": []
    },
    {
      "cell_type": "code",
      "metadata": {
        "id": "Zxib685OjhRK",
        "colab_type": "code",
        "colab": {
          "base_uri": "https://localhost:8080/",
          "height": 34
        },
        "outputId": "83f2b29b-71f3-4941-9793-e48ddb3a0d73"
      },
      "source": [
        "Counter(y_train)"
      ],
      "execution_count": null,
      "outputs": [
        {
          "output_type": "execute_result",
          "data": {
            "text/plain": [
              "Counter({0: 54797, 1: 20167})"
            ]
          },
          "metadata": {
            "tags": []
          },
          "execution_count": 185
        }
      ]
    },
    {
      "cell_type": "markdown",
      "metadata": {
        "id": "x46e8C02_USW",
        "colab_type": "text"
      },
      "source": [
        "64->16->4->1"
      ]
    },
    {
      "cell_type": "code",
      "metadata": {
        "id": "QK8nARFrb0jE",
        "colab_type": "code",
        "colab": {}
      },
      "source": [
        "class binaryClassification(nn.Module):\n",
        "    def __init__(self):\n",
        "        super(binaryClassification, self).__init__()\n",
        "        # Number of input features is 12.\n",
        "        self.layer_1 = nn.Linear(11, 64) \n",
        "        self.layer_2 = nn.Linear(64, 64)\n",
        "        self.layer_3 = nn.Linear(64, 64)\n",
        "        self.layer_4 = nn.Linear(64, 10)\n",
        "        self.layer_5 = nn.Linear(10, 4)\n",
        "        self.layer_out = nn.Linear(4, 1) \n",
        "        \n",
        "        self.relu = nn.ReLU()\n",
        "        self.dropout = nn.Dropout(p=0.1)\n",
        "        self.batchnorm1 = nn.BatchNorm1d(64)\n",
        "        self.batchnorm2 = nn.BatchNorm1d(64)\n",
        "        self.batchnorm3 = nn.BatchNorm1d(64)\n",
        "        self.batchnorm4 = nn.BatchNorm1d(10)\n",
        "\n",
        "        \n",
        "    def forward(self, inputs):\n",
        "        x = self.relu(self.layer_1(inputs))\n",
        "        x = self.batchnorm1(x)\n",
        "        x = self.relu(self.layer_2(x))\n",
        "        x = self.batchnorm2(x)\n",
        "        x = self.relu(self.layer_3(x))\n",
        "        x = self.batchnorm3(x)\n",
        "        x = self.relu(self.layer_4(x))\n",
        "        x = self.batchnorm4(x)\n",
        "        x = self.relu(self.layer_5(x))\n",
        "        x = self.dropout(x)\n",
        "        x = self.layer_out(x)\n",
        "        \n",
        "        return x"
      ],
      "execution_count": null,
      "outputs": []
    },
    {
      "cell_type": "code",
      "metadata": {
        "id": "yXiXsGllj-Pp",
        "colab_type": "code",
        "colab": {}
      },
      "source": [
        "scaler = StandardScaler()\n",
        "X_train = scaler.fit_transform(X_train)\n",
        "#X_val = scaler.fit_transform(X_val)\n",
        "X_test = scaler.fit_transform(X_test)"
      ],
      "execution_count": null,
      "outputs": []
    },
    {
      "cell_type": "code",
      "metadata": {
        "id": "V7K8tRCb1MOY",
        "colab_type": "code",
        "colab": {
          "base_uri": "https://localhost:8080/",
          "height": 242
        },
        "outputId": "45ea19f1-797e-4dde-9db6-435dd829574a"
      },
      "source": [
        "X_test"
      ],
      "execution_count": null,
      "outputs": [
        {
          "output_type": "execute_result",
          "data": {
            "text/plain": [
              "array([[-0.2006034 , -0.57636651, -0.21016634, ...,  0.19874092,\n",
              "         0.56126683, -0.08470778],\n",
              "       [-0.2006034 , -0.32032674, -0.10114577, ...,  0.20308906,\n",
              "         0.63328705, -0.08539346],\n",
              "       [ 0.74320278,  1.08453403,  0.64179081, ..., -0.98921074,\n",
              "        -1.00865184, -0.08506895],\n",
              "       ...,\n",
              "       [ 0.74320278, -1.26713144, -0.37686508, ...,  0.22063777,\n",
              "         0.54226295, -0.13244165],\n",
              "       [ 1.68700895, -2.33964649, -0.69361377, ...,  0.2299126 ,\n",
              "         0.49293515, -0.21361567],\n",
              "       [-1.14440957,  0.70781325, -0.78323681, ...,  1.08211572,\n",
              "         0.3101377 , -0.25970382]])"
            ]
          },
          "metadata": {
            "tags": []
          },
          "execution_count": 188
        }
      ]
    },
    {
      "cell_type": "code",
      "metadata": {
        "id": "uam-SPjJlGsT",
        "colab_type": "code",
        "colab": {}
      },
      "source": [
        "EPOCHS = 100\n",
        "BATCH_SIZE = 75\n",
        "LEARNING_RATE = 0.079"
      ],
      "execution_count": null,
      "outputs": []
    },
    {
      "cell_type": "code",
      "metadata": {
        "id": "JdQAqwpOlTYo",
        "colab_type": "code",
        "colab": {}
      },
      "source": [
        "## train data\n",
        "class trainData(Dataset):\n",
        "    \n",
        "    def __init__(self, X_data, y_data):\n",
        "        self.X_data = X_data\n",
        "        self.y_data = y_data\n",
        "        \n",
        "    def __getitem__(self, index):\n",
        "        return self.X_data[index], self.y_data[index]\n",
        "        \n",
        "    def __len__ (self):\n",
        "        return len(self.X_data)\n",
        "\n",
        "y_train = y_train.values\n",
        "train_data = trainData(torch.FloatTensor(X_train),torch.FloatTensor(y_train))\n",
        "## test data    \n",
        "class testData(Dataset):\n",
        "    \n",
        "    def __init__(self, X_data):\n",
        "        self.X_data = X_data\n",
        "        \n",
        "    def __getitem__(self, index):\n",
        "        return self.X_data[index]\n",
        "        \n",
        "    def __len__ (self):\n",
        "        return len(self.X_data)\n",
        "# ## val data    \n",
        "# class valData(Dataset):\n",
        "    \n",
        "#     def __init__(self, X_data):\n",
        "#         self.X_data = X_data\n",
        "        \n",
        "#     def __getitem__(self, index):\n",
        "#         return self.X_data[index]\n",
        "        \n",
        "#     def __len__ (self):\n",
        "#         return len(self.X_data)\n",
        "\n",
        "test_data = testData(torch.FloatTensor(X_test))\n",
        "# val_data = valData(torch.FloatTensor(X_val))"
      ],
      "execution_count": null,
      "outputs": []
    },
    {
      "cell_type": "code",
      "metadata": {
        "id": "7ADj3luUlV2O",
        "colab_type": "code",
        "colab": {}
      },
      "source": [
        "train_loader = DataLoader(dataset=train_data, batch_size=BATCH_SIZE, shuffle=True)\n",
        "# val_loader = DataLoader(dataset=val_data, batch_size=1)\n",
        "test_loader = DataLoader(dataset=test_data, batch_size=1)"
      ],
      "execution_count": null,
      "outputs": []
    },
    {
      "cell_type": "code",
      "metadata": {
        "id": "Ipz_O-d2ndxr",
        "colab_type": "code",
        "colab": {
          "base_uri": "https://localhost:8080/",
          "height": 34
        },
        "outputId": "e18ac0a6-f296-4729-8c80-cc2bfc247d64"
      },
      "source": [
        "device = torch.device(\"cuda:0\" if torch.cuda.is_available() else \"cpu\")\n",
        "print(device)"
      ],
      "execution_count": null,
      "outputs": [
        {
          "output_type": "stream",
          "text": [
            "cuda:0\n"
          ],
          "name": "stdout"
        }
      ]
    },
    {
      "cell_type": "code",
      "metadata": {
        "id": "XmrpoOEmnaqx",
        "colab_type": "code",
        "colab": {
          "base_uri": "https://localhost:8080/",
          "height": 260
        },
        "outputId": "fefd7cce-fd77-4513-eb5c-be10f7bf87e7"
      },
      "source": [
        "model = binaryClassification()\n",
        "model.to(device)"
      ],
      "execution_count": null,
      "outputs": [
        {
          "output_type": "execute_result",
          "data": {
            "text/plain": [
              "binaryClassification(\n",
              "  (layer_1): Linear(in_features=11, out_features=64, bias=True)\n",
              "  (layer_2): Linear(in_features=64, out_features=64, bias=True)\n",
              "  (layer_3): Linear(in_features=64, out_features=64, bias=True)\n",
              "  (layer_4): Linear(in_features=64, out_features=10, bias=True)\n",
              "  (layer_5): Linear(in_features=10, out_features=4, bias=True)\n",
              "  (layer_out): Linear(in_features=4, out_features=1, bias=True)\n",
              "  (relu): ReLU()\n",
              "  (dropout): Dropout(p=0.1, inplace=False)\n",
              "  (batchnorm1): BatchNorm1d(64, eps=1e-05, momentum=0.1, affine=True, track_running_stats=True)\n",
              "  (batchnorm2): BatchNorm1d(64, eps=1e-05, momentum=0.1, affine=True, track_running_stats=True)\n",
              "  (batchnorm3): BatchNorm1d(64, eps=1e-05, momentum=0.1, affine=True, track_running_stats=True)\n",
              "  (batchnorm4): BatchNorm1d(10, eps=1e-05, momentum=0.1, affine=True, track_running_stats=True)\n",
              ")"
            ]
          },
          "metadata": {
            "tags": []
          },
          "execution_count": 193
        }
      ]
    },
    {
      "cell_type": "code",
      "metadata": {
        "id": "rKX1xn8OnRQl",
        "colab_type": "code",
        "colab": {}
      },
      "source": [
        "criterion = nn.BCEWithLogitsLoss()\n",
        "optimizer = optim.Adam(model.parameters(), lr=LEARNING_RATE)"
      ],
      "execution_count": null,
      "outputs": []
    },
    {
      "cell_type": "code",
      "metadata": {
        "id": "CX-alqvfpa1D",
        "colab_type": "code",
        "colab": {}
      },
      "source": [
        "def binary_acc(y_pred, y_test):\n",
        "    y_pred_tag = torch.round(torch.sigmoid(y_pred))\n",
        "\n",
        "    correct_results_sum = (y_pred_tag == y_test).sum().float()\n",
        "    acc = correct_results_sum/y_test.shape[0]\n",
        "    acc = torch.round(acc * 100)\n",
        "    \n",
        "    return acc"
      ],
      "execution_count": null,
      "outputs": []
    },
    {
      "cell_type": "code",
      "metadata": {
        "id": "tVcAHAH7pmWc",
        "colab_type": "code",
        "colab": {}
      },
      "source": [
        "model.train()\n",
        "for e in range(1, EPOCHS+1):\n",
        "    epoch_loss = 0\n",
        "    epoch_acc = 0\n",
        "    for X_batch, y_batch in train_loader:\n",
        "        X_batch, y_batch = X_batch.to(device), y_batch.to(device)\n",
        "        optimizer.zero_grad()\n",
        "        #X_batch = X_batch\n",
        "  \n",
        "        y_pred = model(X_batch)\n",
        "        \n",
        "        loss = criterion(y_pred, y_batch.unsqueeze(1))\n",
        "        acc = binary_acc(y_pred, y_batch.unsqueeze(1))\n",
        "        \n",
        "        loss.backward()\n",
        "        optimizer.step()\n",
        "        \n",
        "        epoch_loss += loss.item()\n",
        "        epoch_acc += acc.item()"
      ],
      "execution_count": null,
      "outputs": []
    },
    {
      "cell_type": "code",
      "metadata": {
        "id": "bkg9Nwg7MH-E",
        "colab_type": "code",
        "colab": {}
      },
      "source": [
        "y_pred_list = []\n",
        "model.eval()\n",
        "with torch.no_grad():\n",
        "    for X_batch in test_loader:\n",
        "        X_batch = X_batch.to(device)\n",
        "        y_test_pred = model(X_batch)\n",
        "        y_test_pred = torch.sigmoid(y_test_pred)\n",
        "        y_pred_tag = torch.round(y_test_pred)\n",
        "        y_pred_list.append(y_pred_tag.cpu().numpy())\n",
        "\n",
        "y_pred_list = [a.squeeze().tolist() for a in y_pred_list]"
      ],
      "execution_count": null,
      "outputs": []
    },
    {
      "cell_type": "code",
      "metadata": {
        "id": "oOx8PsecMNoW",
        "colab_type": "code",
        "colab": {
          "base_uri": "https://localhost:8080/",
          "height": 52
        },
        "outputId": "f98a65b5-f6fd-4ced-cd27-c5666ef32bf1"
      },
      "source": [
        "confusion_matrix(y_test, y_pred_list)"
      ],
      "execution_count": null,
      "outputs": [
        {
          "output_type": "execute_result",
          "data": {
            "text/plain": [
              "array([[8732,  885],\n",
              "       [ 273, 3340]])"
            ]
          },
          "metadata": {
            "tags": []
          },
          "execution_count": 198
        }
      ]
    },
    {
      "cell_type": "markdown",
      "metadata": {
        "id": "YqsLKC9z6NLu",
        "colab_type": "text"
      },
      "source": [
        "# Old Assets"
      ]
    },
    {
      "cell_type": "code",
      "metadata": {
        "id": "5NXduzphPVfU",
        "colab_type": "code",
        "colab": {
          "base_uri": "https://localhost:8080/",
          "height": 173
        },
        "outputId": "dba2d7e1-917c-473b-a478-ecd06540afeb"
      },
      "source": [
        "print(classification_report(y_test, y_pred_list))"
      ],
      "execution_count": null,
      "outputs": [
        {
          "output_type": "stream",
          "text": [
            "              precision    recall  f1-score   support\n",
            "\n",
            "           0       0.97      0.91      0.94      9617\n",
            "           1       0.79      0.92      0.85      3613\n",
            "\n",
            "    accuracy                           0.91     13230\n",
            "   macro avg       0.88      0.92      0.90     13230\n",
            "weighted avg       0.92      0.91      0.91     13230\n",
            "\n"
          ],
          "name": "stdout"
        }
      ]
    },
    {
      "cell_type": "code",
      "metadata": {
        "id": "XqpTDFyBSuw9",
        "colab_type": "code",
        "colab": {}
      },
      "source": [
        "import pickle\n",
        "filename = 'binarynn_dcp_model.pkl'"
      ],
      "execution_count": null,
      "outputs": []
    },
    {
      "cell_type": "code",
      "metadata": {
        "id": "Dpg2BIcQb2IM",
        "colab_type": "code",
        "colab": {}
      },
      "source": [
        "torch.save(model.state_dict(),filename)\n"
      ],
      "execution_count": null,
      "outputs": []
    },
    {
      "cell_type": "code",
      "metadata": {
        "id": "dcfxrAPHc44k",
        "colab_type": "code",
        "colab": {
          "base_uri": "https://localhost:8080/",
          "height": 34
        },
        "outputId": "2c440ca0-294e-4a90-92ee-de888c49a5df"
      },
      "source": [
        "model.load_state_dict(torch.load(filename))"
      ],
      "execution_count": null,
      "outputs": [
        {
          "output_type": "execute_result",
          "data": {
            "text/plain": [
              "<All keys matched successfully>"
            ]
          },
          "metadata": {
            "tags": []
          },
          "execution_count": 202
        }
      ]
    },
    {
      "cell_type": "code",
      "metadata": {
        "id": "_U7E2CDgdA7_",
        "colab_type": "code",
        "colab": {
          "base_uri": "https://localhost:8080/",
          "height": 260
        },
        "outputId": "ef0f73c3-d238-42b5-dff5-abdac2263182"
      },
      "source": [
        "model.eval()"
      ],
      "execution_count": null,
      "outputs": [
        {
          "output_type": "execute_result",
          "data": {
            "text/plain": [
              "binaryClassification(\n",
              "  (layer_1): Linear(in_features=11, out_features=64, bias=True)\n",
              "  (layer_2): Linear(in_features=64, out_features=64, bias=True)\n",
              "  (layer_3): Linear(in_features=64, out_features=64, bias=True)\n",
              "  (layer_4): Linear(in_features=64, out_features=10, bias=True)\n",
              "  (layer_5): Linear(in_features=10, out_features=4, bias=True)\n",
              "  (layer_out): Linear(in_features=4, out_features=1, bias=True)\n",
              "  (relu): ReLU()\n",
              "  (dropout): Dropout(p=0.1, inplace=False)\n",
              "  (batchnorm1): BatchNorm1d(64, eps=1e-05, momentum=0.1, affine=True, track_running_stats=True)\n",
              "  (batchnorm2): BatchNorm1d(64, eps=1e-05, momentum=0.1, affine=True, track_running_stats=True)\n",
              "  (batchnorm3): BatchNorm1d(64, eps=1e-05, momentum=0.1, affine=True, track_running_stats=True)\n",
              "  (batchnorm4): BatchNorm1d(10, eps=1e-05, momentum=0.1, affine=True, track_running_stats=True)\n",
              ")"
            ]
          },
          "metadata": {
            "tags": []
          },
          "execution_count": 203
        }
      ]
    },
    {
      "cell_type": "markdown",
      "metadata": {
        "id": "RVk1VqtroSpE",
        "colab_type": "text"
      },
      "source": [
        "# Test Pred New Assets"
      ]
    },
    {
      "cell_type": "code",
      "metadata": {
        "id": "tfrWLwNHoMJH",
        "colab_type": "code",
        "colab": {}
      },
      "source": [
        "X = df2[X_columns]"
      ],
      "execution_count": null,
      "outputs": []
    },
    {
      "cell_type": "code",
      "metadata": {
        "id": "eUAKUZ2qphUh",
        "colab_type": "code",
        "colab": {}
      },
      "source": [
        "y_true = df2.iloc[:,14]"
      ],
      "execution_count": null,
      "outputs": []
    },
    {
      "cell_type": "code",
      "metadata": {
        "id": "B8O01xdkpqpg",
        "colab_type": "code",
        "colab": {}
      },
      "source": [
        "X_test = scaler.fit_transform(X)"
      ],
      "execution_count": null,
      "outputs": []
    },
    {
      "cell_type": "code",
      "metadata": {
        "id": "Ib_UUpr8qEVN",
        "colab_type": "code",
        "colab": {}
      },
      "source": [
        "test_data = testData(torch.FloatTensor(X_test))"
      ],
      "execution_count": null,
      "outputs": []
    },
    {
      "cell_type": "code",
      "metadata": {
        "id": "iEAoUZssqQcj",
        "colab_type": "code",
        "colab": {}
      },
      "source": [
        "test_loader = DataLoader(dataset=test_data, batch_size=1)"
      ],
      "execution_count": null,
      "outputs": []
    },
    {
      "cell_type": "code",
      "metadata": {
        "id": "oruB7-cC6Xyb",
        "colab_type": "code",
        "colab": {
          "base_uri": "https://localhost:8080/",
          "height": 34
        },
        "outputId": "f7eed96b-eab5-44cb-a55e-dc366f449d8e"
      },
      "source": [
        "X_test.shape"
      ],
      "execution_count": null,
      "outputs": [
        {
          "output_type": "execute_result",
          "data": {
            "text/plain": [
              "(16265, 11)"
            ]
          },
          "metadata": {
            "tags": []
          },
          "execution_count": 209
        }
      ]
    },
    {
      "cell_type": "code",
      "metadata": {
        "id": "TdNyu3TcaKsU",
        "colab_type": "code",
        "colab": {}
      },
      "source": [
        "y_pred_list = []\n",
        "with torch.no_grad():\n",
        "    for X_batch in test_loader:\n",
        "        X_batch = X_batch.to(device)\n",
        "        y_test_pred = model(X_batch)\n",
        "        y_test_pred = torch.sigmoid(y_test_pred)\n",
        "        y_pred_tag = torch.round(y_test_pred)\n",
        "        y_pred_list.append(y_pred_tag.cpu().numpy())\n",
        "\n"
      ],
      "execution_count": null,
      "outputs": []
    },
    {
      "cell_type": "markdown",
      "metadata": {
        "id": "jJoFz7QCKgdq",
        "colab_type": "text"
      },
      "source": [
        "# New Assets"
      ]
    },
    {
      "cell_type": "code",
      "metadata": {
        "id": "tJYAUph2iNYL",
        "colab_type": "code",
        "colab": {}
      },
      "source": [
        "predictions=[]\n",
        "predictions.append([y_pred_list[i][0][0] for i in range(len(y_pred_list))])"
      ],
      "execution_count": null,
      "outputs": []
    },
    {
      "cell_type": "code",
      "metadata": {
        "id": "wtiN-zLylj5K",
        "colab_type": "code",
        "colab": {
          "base_uri": "https://localhost:8080/",
          "height": 173
        },
        "outputId": "b5b05959-98e4-477f-f640-ffe732f3c107"
      },
      "source": [
        "print(classification_report(y_true, predictions[0]))"
      ],
      "execution_count": null,
      "outputs": [
        {
          "output_type": "stream",
          "text": [
            "              precision    recall  f1-score   support\n",
            "\n",
            "           0       0.47      0.95      0.63      3779\n",
            "           1       0.98      0.67      0.80     12486\n",
            "\n",
            "    accuracy                           0.74     16265\n",
            "   macro avg       0.72      0.81      0.71     16265\n",
            "weighted avg       0.86      0.74      0.76     16265\n",
            "\n"
          ],
          "name": "stdout"
        }
      ]
    }
  ]
}