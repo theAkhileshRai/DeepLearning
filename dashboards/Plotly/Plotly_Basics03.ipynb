{
  "nbformat": 4,
  "nbformat_minor": 0,
  "metadata": {
    "colab": {
      "name": "dashboards/Plotly/Plotly_Basics03.ipynb",
      "provenance": [],
      "toc_visible": true,
      "authorship_tag": "ABX9TyPONyClWre/RGhsvvz7TWFn",
      "include_colab_link": true
    },
    "kernelspec": {
      "name": "python3",
      "display_name": "Python 3"
    }
  },
  "cells": [
    {
      "cell_type": "markdown",
      "metadata": {
        "id": "view-in-github",
        "colab_type": "text"
      },
      "source": [
        "<a href=\"https://colab.research.google.com/github/theAkhileshRai/DeepLearning/blob/master/dashboards/Plotly/Plotly_Basics03.ipynb\" target=\"_parent\"><img src=\"https://colab.research.google.com/assets/colab-badge.svg\" alt=\"Open In Colab\"/></a>"
      ]
    },
    {
      "cell_type": "markdown",
      "metadata": {
        "id": "NoWdqbsLmqDa",
        "colab_type": "text"
      },
      "source": [
        "## Plotly Basics"
      ]
    },
    {
      "cell_type": "code",
      "metadata": {
        "id": "nJxq0yjNykGQ",
        "colab_type": "code",
        "colab": {
          "base_uri": "https://localhost:8080/",
          "height": 69
        },
        "outputId": "085f727b-78b2-493d-a902-d88c9f06d3e2"
      },
      "source": [
        "! pip install plotly"
      ],
      "execution_count": 7,
      "outputs": [
        {
          "output_type": "stream",
          "text": [
            "Requirement already satisfied: plotly in /usr/local/lib/python3.6/dist-packages (4.4.1)\n",
            "Requirement already satisfied: six in /usr/local/lib/python3.6/dist-packages (from plotly) (1.12.0)\n",
            "Requirement already satisfied: retrying>=1.3.3 in /usr/local/lib/python3.6/dist-packages (from plotly) (1.3.3)\n"
          ],
          "name": "stdout"
        }
      ]
    },
    {
      "cell_type": "code",
      "metadata": {
        "id": "sdmAVn28mHG6",
        "colab_type": "code",
        "colab": {}
      },
      "source": [
        "import numpy as np\n",
        "import plotly.offline as pyo\n",
        "import plotly.graph_objs as go"
      ],
      "execution_count": 0,
      "outputs": []
    },
    {
      "cell_type": "code",
      "metadata": {
        "id": "CIN9_Ai1zkbG",
        "colab_type": "code",
        "colab": {
          "base_uri": "https://localhost:8080/",
          "height": 34
        },
        "outputId": "165fbcfd-d42c-44f6-8637-d71f6c503aa0"
      },
      "source": [
        "np.random.seed(42)\n",
        "random_x = np.random.randint(1,101,100)\n",
        "random_y = np.random.randint(1,101,100)\n",
        "\n",
        "data  = [go.Scatter(x=random_x,y = random_y,mode = 'markers',marker = dict(size = 12, \n",
        "                                                                           color = 'rgb(31,128,128)',\n",
        "                                                                           symbol = 'pentagon',\n",
        "                                                                           line = {'width':2}))]\n",
        "layout = go.Layout(title = 'Hello First Plot',xaxis = {'title':'xdata'},yaxis =dict(title='ydata'),hovermode = 'closest')\n",
        "fig = go.Figure(data,layout)\n",
        "pyo.plot(fig,filename = 'Plotly_basics03.html')"
      ],
      "execution_count": 21,
      "outputs": [
        {
          "output_type": "execute_result",
          "data": {
            "text/plain": [
              "'Plotly_basics03.html'"
            ]
          },
          "metadata": {
            "tags": []
          },
          "execution_count": 21
        }
      ]
    }
  ]
}