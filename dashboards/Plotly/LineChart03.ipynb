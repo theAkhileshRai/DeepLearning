{
  "nbformat": 4,
  "nbformat_minor": 0,
  "metadata": {
    "colab": {
      "name": "dashboards/Plotly/LineChart03.ipynb",
      "provenance": [],
      "toc_visible": true,
      "authorship_tag": "ABX9TyNr1uVL2o0U1e0Vhnmk+G1E",
      "include_colab_link": true
    },
    "kernelspec": {
      "name": "python3",
      "display_name": "Python 3"
    }
  },
  "cells": [
    {
      "cell_type": "markdown",
      "metadata": {
        "id": "view-in-github",
        "colab_type": "text"
      },
      "source": [
        "<a href=\"https://colab.research.google.com/github/theAkhileshRai/DeepLearning/blob/master/dashboards/Plotly/LineChart03.ipynb\" target=\"_parent\"><img src=\"https://colab.research.google.com/assets/colab-badge.svg\" alt=\"Open In Colab\"/></a>"
      ]
    },
    {
      "cell_type": "markdown",
      "metadata": {
        "id": "NoWdqbsLmqDa",
        "colab_type": "text"
      },
      "source": [
        "## Plotly Basics"
      ]
    },
    {
      "cell_type": "code",
      "metadata": {
        "id": "sdmAVn28mHG6",
        "colab_type": "code",
        "colab": {}
      },
      "source": [
        "import numpy as np\n",
        "import pandas as pd\n",
        "import plotly.offline as pyo\n",
        "import plotly.graph_objs as go"
      ],
      "execution_count": 0,
      "outputs": []
    },
    {
      "cell_type": "code",
      "metadata": {
        "id": "VybQNchws6Or",
        "colab_type": "code",
        "colab": {}
      },
      "source": [
        "df = pd.read_csv('/content/2010YumaAZ.csv')"
      ],
      "execution_count": 0,
      "outputs": []
    },
    {
      "cell_type": "code",
      "metadata": {
        "id": "EMLBvqjmJptU",
        "colab_type": "code",
        "outputId": "0febc273-6e3f-49b5-edab-d5b2f99cd3c4",
        "colab": {
          "base_uri": "https://localhost:8080/",
          "height": 206
        }
      },
      "source": [
        "df.head()"
      ],
      "execution_count": 4,
      "outputs": [
        {
          "output_type": "execute_result",
          "data": {
            "text/html": [
              "<div>\n",
              "<style scoped>\n",
              "    .dataframe tbody tr th:only-of-type {\n",
              "        vertical-align: middle;\n",
              "    }\n",
              "\n",
              "    .dataframe tbody tr th {\n",
              "        vertical-align: top;\n",
              "    }\n",
              "\n",
              "    .dataframe thead th {\n",
              "        text-align: right;\n",
              "    }\n",
              "</style>\n",
              "<table border=\"1\" class=\"dataframe\">\n",
              "  <thead>\n",
              "    <tr style=\"text-align: right;\">\n",
              "      <th></th>\n",
              "      <th>LST_DATE</th>\n",
              "      <th>DAY</th>\n",
              "      <th>LST_TIME</th>\n",
              "      <th>T_HR_AVG</th>\n",
              "    </tr>\n",
              "  </thead>\n",
              "  <tbody>\n",
              "    <tr>\n",
              "      <th>0</th>\n",
              "      <td>20100601</td>\n",
              "      <td>TUESDAY</td>\n",
              "      <td>0:00</td>\n",
              "      <td>25.2</td>\n",
              "    </tr>\n",
              "    <tr>\n",
              "      <th>1</th>\n",
              "      <td>20100601</td>\n",
              "      <td>TUESDAY</td>\n",
              "      <td>1:00</td>\n",
              "      <td>24.1</td>\n",
              "    </tr>\n",
              "    <tr>\n",
              "      <th>2</th>\n",
              "      <td>20100601</td>\n",
              "      <td>TUESDAY</td>\n",
              "      <td>2:00</td>\n",
              "      <td>24.4</td>\n",
              "    </tr>\n",
              "    <tr>\n",
              "      <th>3</th>\n",
              "      <td>20100601</td>\n",
              "      <td>TUESDAY</td>\n",
              "      <td>3:00</td>\n",
              "      <td>24.9</td>\n",
              "    </tr>\n",
              "    <tr>\n",
              "      <th>4</th>\n",
              "      <td>20100601</td>\n",
              "      <td>TUESDAY</td>\n",
              "      <td>4:00</td>\n",
              "      <td>22.8</td>\n",
              "    </tr>\n",
              "  </tbody>\n",
              "</table>\n",
              "</div>"
            ],
            "text/plain": [
              "   LST_DATE      DAY LST_TIME  T_HR_AVG\n",
              "0  20100601  TUESDAY     0:00      25.2\n",
              "1  20100601  TUESDAY     1:00      24.1\n",
              "2  20100601  TUESDAY     2:00      24.4\n",
              "3  20100601  TUESDAY     3:00      24.9\n",
              "4  20100601  TUESDAY     4:00      22.8"
            ]
          },
          "metadata": {
            "tags": []
          },
          "execution_count": 4
        }
      ]
    },
    {
      "cell_type": "code",
      "metadata": {
        "id": "4nH0uyAXK62J",
        "colab_type": "code",
        "outputId": "94ded317-3ae4-4abc-f8ce-9dbb6fdd0d04",
        "colab": {
          "base_uri": "https://localhost:8080/",
          "height": 52
        }
      },
      "source": [
        "df['DAY'].unique()"
      ],
      "execution_count": 5,
      "outputs": [
        {
          "output_type": "execute_result",
          "data": {
            "text/plain": [
              "array(['TUESDAY', 'WEDNESDAY', 'THURSDAY', 'FRIDAY', 'SATURDAY', 'SUNDAY',\n",
              "       'MONDAY'], dtype=object)"
            ]
          },
          "metadata": {
            "tags": []
          },
          "execution_count": 5
        }
      ]
    },
    {
      "cell_type": "code",
      "metadata": {
        "id": "65u1NMs0K3vJ",
        "colab_type": "code",
        "colab": {}
      },
      "source": [
        "days = ['MONDAY', 'TUESDAY', 'WEDNESDAY', 'THURSDAY', 'FRIDAY', 'SATURDAY', 'SUNDAY']"
      ],
      "execution_count": 0,
      "outputs": []
    },
    {
      "cell_type": "code",
      "metadata": {
        "id": "NXh4ysgq9Akd",
        "colab_type": "code",
        "colab": {
          "base_uri": "https://localhost:8080/",
          "height": 34
        },
        "outputId": "a8916940-1046-40c5-e30f-b85064e77fef"
      },
      "source": [
        "data = []\n",
        "for day in days:\n",
        "  trace = go.Scatter(x = df['LST_TIME'],\n",
        "                     y = df[df['DAY']==day]['T_HR_AVG'],\n",
        "                     mode='lines',\n",
        "                     name=day)\n",
        "  data.append(trace)\n",
        "\n",
        "layout = go.Layout(title='Avg TEMP per DAY')\n",
        "fig = go.Figure(data = data,layout = layout)\n",
        "pyo.plot(fig)"
      ],
      "execution_count": 13,
      "outputs": [
        {
          "output_type": "execute_result",
          "data": {
            "text/plain": [
              "'temp-plot.html'"
            ]
          },
          "metadata": {
            "tags": []
          },
          "execution_count": 13
        }
      ]
    },
    {
      "cell_type": "code",
      "metadata": {
        "id": "qpxFi7qpgDKE",
        "colab_type": "code",
        "colab": {
          "base_uri": "https://localhost:8080/",
          "height": 34
        },
        "outputId": "c804a95d-9b66-4414-acf6-76800d0907ff"
      },
      "source": [
        "data = [{\n",
        "    'x': df['LST_TIME'],\n",
        "    'y': df[df['DAY']==day]['T_HR_AVG'],\n",
        "    'mode': 'lines',\n",
        "    'name' : 'day'\n",
        "} for day in days]\n",
        "\n",
        "layout = go.Layout(title='Avg TEMP per DAY')\n",
        "fig = go.Figure(data = data,layout = layout)\n",
        "pyo.plot(fig)"
      ],
      "execution_count": 15,
      "outputs": [
        {
          "output_type": "execute_result",
          "data": {
            "text/plain": [
              "'temp-plot.html'"
            ]
          },
          "metadata": {
            "tags": []
          },
          "execution_count": 15
        }
      ]
    }
  ]
}