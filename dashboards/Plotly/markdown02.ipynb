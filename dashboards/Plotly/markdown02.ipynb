{
  "nbformat": 4,
  "nbformat_minor": 0,
  "metadata": {
    "colab": {
      "name": "markdown02.ipynb",
      "provenance": [],
      "authorship_tag": "ABX9TyNK5UryIsURhlKTziy5GcuB",
      "include_colab_link": true
    },
    "kernelspec": {
      "name": "python3",
      "display_name": "Python 3"
    }
  },
  "cells": [
    {
      "cell_type": "markdown",
      "metadata": {
        "id": "view-in-github",
        "colab_type": "text"
      },
      "source": [
        "<a href=\"https://colab.research.google.com/github/theAkhileshRai/DeepLearning/blob/master/dashboards/Plotly/markdown02.ipynb\" target=\"_parent\"><img src=\"https://colab.research.google.com/assets/colab-badge.svg\" alt=\"Open In Colab\"/></a>"
      ]
    },
    {
      "cell_type": "code",
      "metadata": {
        "id": "bQCKbeBharY9",
        "colab_type": "code",
        "colab": {}
      },
      "source": [
        "import dash\n",
        "import dash_core_components as dcc\n",
        "import dash_html_components as html\n",
        "\n",
        "app = dash.Dash()\n",
        "\n",
        "markdown_text = '''\n",
        "### Dash and Markdown\n",
        "\n",
        "Dash apps can be written in Markdown.\n",
        "Dash uses the [CommonMark](http://commonmark.org/)specification of Markdown.\n",
        "\n",
        "Check out their [60 Second Markdown Tutorial](http://commonmark.org/help/)\n",
        "if this is your first introduction to Markdown!\n",
        "\n",
        "Markdown includes syntax for things like **bold text** and *italics*,\n",
        "[links](http://commonmark.org/help), inline `code` snippets, lists,\n",
        "quotes, and more.\n",
        "'''\n",
        "\n",
        "app.layout = html.Div([\n",
        "    dcc.Markdown(children=markdown_text)\n",
        "])\n",
        "\n",
        "if __name__ == '__main__':\n",
        "    app.run_server()\n"
      ],
      "execution_count": null,
      "outputs": []
    }
  ]
}