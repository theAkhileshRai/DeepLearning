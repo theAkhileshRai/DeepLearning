{
  "nbformat": 4,
  "nbformat_minor": 0,
  "metadata": {
    "colab": {
      "name": "dashboards/Plotly/Plotly_Basics01.ipynb",
      "provenance": [],
      "toc_visible": true,
      "authorship_tag": "ABX9TyMlixFwDz0MGwpCIHHcbBS0",
      "include_colab_link": true
    },
    "kernelspec": {
      "name": "python3",
      "display_name": "Python 3"
    }
  },
  "cells": [
    {
      "cell_type": "markdown",
      "metadata": {
        "id": "view-in-github",
        "colab_type": "text"
      },
      "source": [
        "<a href=\"https://colab.research.google.com/github/theAkhileshRai/DeepLearning/blob/master/dashboards/Plotly/Plotly_Basics01.ipynb\" target=\"_parent\"><img src=\"https://colab.research.google.com/assets/colab-badge.svg\" alt=\"Open In Colab\"/></a>"
      ]
    },
    {
      "cell_type": "markdown",
      "metadata": {
        "id": "NoWdqbsLmqDa",
        "colab_type": "text"
      },
      "source": [
        "## Plotly Basics"
      ]
    },
    {
      "cell_type": "code",
      "metadata": {
        "id": "nJxq0yjNykGQ",
        "colab_type": "code",
        "colab": {}
      },
      "source": [
        "! pip install plotly"
      ],
      "execution_count": 0,
      "outputs": []
    },
    {
      "cell_type": "code",
      "metadata": {
        "id": "sdmAVn28mHG6",
        "colab_type": "code",
        "colab": {}
      },
      "source": [
        "import numpy as np\n",
        "import plotly.offline as pyo\n",
        "import plotly.graph_objs as go"
      ],
      "execution_count": 0,
      "outputs": []
    },
    {
      "cell_type": "code",
      "metadata": {
        "id": "CIN9_Ai1zkbG",
        "colab_type": "code",
        "colab": {
          "base_uri": "https://localhost:8080/",
          "height": 34
        },
        "outputId": "dd4f0faf-d5a1-4686-ab0f-fb33ccecdf7b"
      },
      "source": [
        "np.random.seed(42)\n",
        "random_x = np.random.randint(1,101,100)\n",
        "random_y = np.random.randint(1,101,100)\n",
        "\n",
        "data  = [go.Scatter(x=random_x,y = random_y,mode = 'markers')]\n",
        "pyo.plot(data,filename = 'Plotly_basics.html')"
      ],
      "execution_count": 6,
      "outputs": [
        {
          "output_type": "execute_result",
          "data": {
            "text/plain": [
              "'Plotly_basics.html'"
            ]
          },
          "metadata": {
            "tags": []
          },
          "execution_count": 6
        }
      ]
    }
  ]
}