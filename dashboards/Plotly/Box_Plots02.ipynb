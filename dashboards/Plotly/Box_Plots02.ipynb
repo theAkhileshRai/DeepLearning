{
  "nbformat": 4,
  "nbformat_minor": 0,
  "metadata": {
    "colab": {
      "name": "Box Plots02.ipynb",
      "provenance": [],
      "authorship_tag": "ABX9TyOYeYQnIA5AzAlFRnQiWwu6",
      "include_colab_link": true
    },
    "kernelspec": {
      "name": "python3",
      "display_name": "Python 3"
    }
  },
  "cells": [
    {
      "cell_type": "markdown",
      "metadata": {
        "id": "view-in-github",
        "colab_type": "text"
      },
      "source": [
        "<a href=\"https://colab.research.google.com/github/theAkhileshRai/DeepLearning/blob/master/dashboards/Plotly/Box_Plots02.ipynb\" target=\"_parent\"><img src=\"https://colab.research.google.com/assets/colab-badge.svg\" alt=\"Open In Colab\"/></a>"
      ]
    },
    {
      "cell_type": "markdown",
      "metadata": {
        "id": "YgJN3F9HWnEq",
        "colab_type": "text"
      },
      "source": [
        ""
      ]
    },
    {
      "cell_type": "code",
      "metadata": {
        "id": "v8V45SFwN6L9",
        "colab_type": "code",
        "colab": {}
      },
      "source": [
        "import plotly.offline as pyo\n",
        "import plotly.graph_objs as go"
      ],
      "execution_count": 12,
      "outputs": []
    },
    {
      "cell_type": "code",
      "metadata": {
        "id": "pTxW_PbeX5NR",
        "colab_type": "code",
        "colab": {
          "base_uri": "https://localhost:8080/",
          "height": 34
        },
        "outputId": "48162852-8e41-4504-88a0-2a7732011b6e"
      },
      "source": [
        "snod_grass = [.208,.209,.196,.202,.207,.194,.213,.220]\n",
        "twain = [.228,.259,.296,.292,.267,.194,.239,.280]\n",
        "\n",
        "data = [go.Box(y=snod_grass,name = 'SnodGrass',boxpoints = 'outliers',jitter = 0.3, pointpos =2.0),go.Box(y=twain,name = 'SnodGrass',boxpoints = 'outliers',jitter = 0.3, pointpos =2.0)]\n",
        "\n",
        "pyo.plot(data)"
      ],
      "execution_count": 14,
      "outputs": [
        {
          "output_type": "execute_result",
          "data": {
            "text/plain": [
              "'temp-plot.html'"
            ]
          },
          "metadata": {
            "tags": []
          },
          "execution_count": 14
        }
      ]
    }
  ]
}