{
  "nbformat": 4,
  "nbformat_minor": 0,
  "metadata": {
    "colab": {
      "name": "dashboards/Plotly/LineChart01.ipynb",
      "provenance": [],
      "toc_visible": true,
      "authorship_tag": "ABX9TyMYSQZhiFXYtnRPPfSjou3e",
      "include_colab_link": true
    },
    "kernelspec": {
      "name": "python3",
      "display_name": "Python 3"
    }
  },
  "cells": [
    {
      "cell_type": "markdown",
      "metadata": {
        "id": "view-in-github",
        "colab_type": "text"
      },
      "source": [
        "<a href=\"https://colab.research.google.com/github/theAkhileshRai/DeepLearning/blob/master/dashboards/Plotly/LineChart01.ipynb\" target=\"_parent\"><img src=\"https://colab.research.google.com/assets/colab-badge.svg\" alt=\"Open In Colab\"/></a>"
      ]
    },
    {
      "cell_type": "markdown",
      "metadata": {
        "id": "NoWdqbsLmqDa",
        "colab_type": "text"
      },
      "source": [
        "## Plotly Basics"
      ]
    },
    {
      "cell_type": "code",
      "metadata": {
        "id": "nJxq0yjNykGQ",
        "colab_type": "code",
        "colab": {
          "base_uri": "https://localhost:8080/",
          "height": 69
        },
        "outputId": "085f727b-78b2-493d-a902-d88c9f06d3e2"
      },
      "source": [
        "! pip install plotly"
      ],
      "execution_count": 7,
      "outputs": [
        {
          "output_type": "stream",
          "text": [
            "Requirement already satisfied: plotly in /usr/local/lib/python3.6/dist-packages (4.4.1)\n",
            "Requirement already satisfied: six in /usr/local/lib/python3.6/dist-packages (from plotly) (1.12.0)\n",
            "Requirement already satisfied: retrying>=1.3.3 in /usr/local/lib/python3.6/dist-packages (from plotly) (1.3.3)\n"
          ],
          "name": "stdout"
        }
      ]
    },
    {
      "cell_type": "code",
      "metadata": {
        "id": "sdmAVn28mHG6",
        "colab_type": "code",
        "colab": {}
      },
      "source": [
        "import numpy as np\n",
        "import plotly.offline as pyo\n",
        "import plotly.graph_objs as go"
      ],
      "execution_count": 0,
      "outputs": []
    },
    {
      "cell_type": "code",
      "metadata": {
        "id": "CIN9_Ai1zkbG",
        "colab_type": "code",
        "colab": {
          "base_uri": "https://localhost:8080/",
          "height": 34
        },
        "outputId": "0b99c13b-2a85-4cd2-dad0-e0254c2443d2"
      },
      "source": [
        "np.random.seed(42)\n",
        "random_x = np.linspace(0,1,100)\n",
        "random_y = np.random.randn(100)\n",
        "#sin_theta = np.sin(random)\n",
        "\n",
        "trace0  = go.Scatter(x=random_x,y = random_y+5,mode = 'markers',name = 'markers')\n",
        "trace1 = go.Scatter(x=random_x,y = random_y,mode = 'lines',name = 'markers')\n",
        "\n",
        "layout = go.Layout(title = 'Line Plot',xaxis = {'title':'xdata'},yaxis =dict(title='ydata'))\n",
        "data = [trace0,trace1]\n",
        "fig = go.Figure(data,layout)\n",
        "pyo.plot(fig,filename = 'Line_plot01.html')"
      ],
      "execution_count": 24,
      "outputs": [
        {
          "output_type": "execute_result",
          "data": {
            "text/plain": [
              "'Line_plot01.html'"
            ]
          },
          "metadata": {
            "tags": []
          },
          "execution_count": 24
        }
      ]
    }
  ]
}