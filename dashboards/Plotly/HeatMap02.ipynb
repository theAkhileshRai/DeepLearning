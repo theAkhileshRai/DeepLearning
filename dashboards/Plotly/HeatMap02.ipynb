{
  "nbformat": 4,
  "nbformat_minor": 0,
  "metadata": {
    "colab": {
      "name": "HeatMap02.ipynb",
      "provenance": [],
      "authorship_tag": "ABX9TyP8gRUSQKs2XHpbTDS/8wCZ",
      "include_colab_link": true
    },
    "kernelspec": {
      "name": "python3",
      "display_name": "Python 3"
    }
  },
  "cells": [
    {
      "cell_type": "markdown",
      "metadata": {
        "id": "view-in-github",
        "colab_type": "text"
      },
      "source": [
        "<a href=\"https://colab.research.google.com/github/theAkhileshRai/DeepLearning/blob/master/dashboards/Plotly/HeatMap02.ipynb\" target=\"_parent\"><img src=\"https://colab.research.google.com/assets/colab-badge.svg\" alt=\"Open In Colab\"/></a>"
      ]
    },
    {
      "cell_type": "markdown",
      "metadata": {
        "id": "YgJN3F9HWnEq",
        "colab_type": "text"
      },
      "source": [
        ""
      ]
    },
    {
      "cell_type": "code",
      "metadata": {
        "id": "v8V45SFwN6L9",
        "colab_type": "code",
        "colab": {}
      },
      "source": [
        "import plotly.offline as pyo\n",
        "import plotly.graph_objs as go\n",
        "import plotly.figure_factory as ff\n",
        "from plotly import tools\n",
        "import numpy as np \n",
        "import pandas as pd\n",
        "from plotly import tools"
      ],
      "execution_count": 61,
      "outputs": []
    },
    {
      "cell_type": "code",
      "metadata": {
        "id": "S9zNB60mADmb",
        "colab_type": "code",
        "colab": {}
      },
      "source": [
        "df = pd.read_csv('/content/2010SantaBarbaraCA.csv')"
      ],
      "execution_count": 50,
      "outputs": []
    },
    {
      "cell_type": "code",
      "metadata": {
        "id": "UO6Un8zgboN6",
        "colab_type": "code",
        "colab": {
          "base_uri": "https://localhost:8080/",
          "height": 206
        },
        "outputId": "40973e64-5b94-451c-800f-3f72e87275b9"
      },
      "source": [
        "df.head()"
      ],
      "execution_count": 51,
      "outputs": [
        {
          "output_type": "execute_result",
          "data": {
            "text/html": [
              "<div>\n",
              "<style scoped>\n",
              "    .dataframe tbody tr th:only-of-type {\n",
              "        vertical-align: middle;\n",
              "    }\n",
              "\n",
              "    .dataframe tbody tr th {\n",
              "        vertical-align: top;\n",
              "    }\n",
              "\n",
              "    .dataframe thead th {\n",
              "        text-align: right;\n",
              "    }\n",
              "</style>\n",
              "<table border=\"1\" class=\"dataframe\">\n",
              "  <thead>\n",
              "    <tr style=\"text-align: right;\">\n",
              "      <th></th>\n",
              "      <th>LST_DATE</th>\n",
              "      <th>DAY</th>\n",
              "      <th>LST_TIME</th>\n",
              "      <th>T_HR_AVG</th>\n",
              "    </tr>\n",
              "  </thead>\n",
              "  <tbody>\n",
              "    <tr>\n",
              "      <th>0</th>\n",
              "      <td>20100601</td>\n",
              "      <td>TUESDAY</td>\n",
              "      <td>0:00</td>\n",
              "      <td>12.7</td>\n",
              "    </tr>\n",
              "    <tr>\n",
              "      <th>1</th>\n",
              "      <td>20100601</td>\n",
              "      <td>TUESDAY</td>\n",
              "      <td>1:00</td>\n",
              "      <td>12.7</td>\n",
              "    </tr>\n",
              "    <tr>\n",
              "      <th>2</th>\n",
              "      <td>20100601</td>\n",
              "      <td>TUESDAY</td>\n",
              "      <td>2:00</td>\n",
              "      <td>12.3</td>\n",
              "    </tr>\n",
              "    <tr>\n",
              "      <th>3</th>\n",
              "      <td>20100601</td>\n",
              "      <td>TUESDAY</td>\n",
              "      <td>3:00</td>\n",
              "      <td>12.5</td>\n",
              "    </tr>\n",
              "    <tr>\n",
              "      <th>4</th>\n",
              "      <td>20100601</td>\n",
              "      <td>TUESDAY</td>\n",
              "      <td>4:00</td>\n",
              "      <td>12.7</td>\n",
              "    </tr>\n",
              "  </tbody>\n",
              "</table>\n",
              "</div>"
            ],
            "text/plain": [
              "   LST_DATE      DAY LST_TIME  T_HR_AVG\n",
              "0  20100601  TUESDAY     0:00      12.7\n",
              "1  20100601  TUESDAY     1:00      12.7\n",
              "2  20100601  TUESDAY     2:00      12.3\n",
              "3  20100601  TUESDAY     3:00      12.5\n",
              "4  20100601  TUESDAY     4:00      12.7"
            ]
          },
          "metadata": {
            "tags": []
          },
          "execution_count": 51
        }
      ]
    },
    {
      "cell_type": "code",
      "metadata": {
        "id": "a1Kz7UNjCfYk",
        "colab_type": "code",
        "colab": {}
      },
      "source": [
        "df2 = pd.read_csv('/content/2010YumaAZ.csv')"
      ],
      "execution_count": 56,
      "outputs": []
    },
    {
      "cell_type": "code",
      "metadata": {
        "id": "8LgsX_QZCmGP",
        "colab_type": "code",
        "colab": {
          "base_uri": "https://localhost:8080/",
          "height": 206
        },
        "outputId": "721104b5-9aeb-4918-e69f-262650daca47"
      },
      "source": [
        "df2.head()"
      ],
      "execution_count": 57,
      "outputs": [
        {
          "output_type": "execute_result",
          "data": {
            "text/html": [
              "<div>\n",
              "<style scoped>\n",
              "    .dataframe tbody tr th:only-of-type {\n",
              "        vertical-align: middle;\n",
              "    }\n",
              "\n",
              "    .dataframe tbody tr th {\n",
              "        vertical-align: top;\n",
              "    }\n",
              "\n",
              "    .dataframe thead th {\n",
              "        text-align: right;\n",
              "    }\n",
              "</style>\n",
              "<table border=\"1\" class=\"dataframe\">\n",
              "  <thead>\n",
              "    <tr style=\"text-align: right;\">\n",
              "      <th></th>\n",
              "      <th>LST_DATE</th>\n",
              "      <th>DAY</th>\n",
              "      <th>LST_TIME</th>\n",
              "      <th>T_HR_AVG</th>\n",
              "    </tr>\n",
              "  </thead>\n",
              "  <tbody>\n",
              "    <tr>\n",
              "      <th>0</th>\n",
              "      <td>20100601</td>\n",
              "      <td>TUESDAY</td>\n",
              "      <td>0:00</td>\n",
              "      <td>25.2</td>\n",
              "    </tr>\n",
              "    <tr>\n",
              "      <th>1</th>\n",
              "      <td>20100601</td>\n",
              "      <td>TUESDAY</td>\n",
              "      <td>1:00</td>\n",
              "      <td>24.1</td>\n",
              "    </tr>\n",
              "    <tr>\n",
              "      <th>2</th>\n",
              "      <td>20100601</td>\n",
              "      <td>TUESDAY</td>\n",
              "      <td>2:00</td>\n",
              "      <td>24.4</td>\n",
              "    </tr>\n",
              "    <tr>\n",
              "      <th>3</th>\n",
              "      <td>20100601</td>\n",
              "      <td>TUESDAY</td>\n",
              "      <td>3:00</td>\n",
              "      <td>24.9</td>\n",
              "    </tr>\n",
              "    <tr>\n",
              "      <th>4</th>\n",
              "      <td>20100601</td>\n",
              "      <td>TUESDAY</td>\n",
              "      <td>4:00</td>\n",
              "      <td>22.8</td>\n",
              "    </tr>\n",
              "  </tbody>\n",
              "</table>\n",
              "</div>"
            ],
            "text/plain": [
              "   LST_DATE      DAY LST_TIME  T_HR_AVG\n",
              "0  20100601  TUESDAY     0:00      25.2\n",
              "1  20100601  TUESDAY     1:00      24.1\n",
              "2  20100601  TUESDAY     2:00      24.4\n",
              "3  20100601  TUESDAY     3:00      24.9\n",
              "4  20100601  TUESDAY     4:00      22.8"
            ]
          },
          "metadata": {
            "tags": []
          },
          "execution_count": 57
        }
      ]
    },
    {
      "cell_type": "code",
      "metadata": {
        "id": "41Id_PAVqw2u",
        "colab_type": "code",
        "colab": {
          "base_uri": "https://localhost:8080/",
          "height": 104
        },
        "outputId": "59680a96-fa80-46e6-c9b9-ed9bec90df0d"
      },
      "source": [
        "data1 = go.Heatmap(x=df['DAY'], y = df['LST_TIME'],z= df['T_HR_AVG'],colorscale='Jet')\n",
        "data2 = go.Heatmap(x=df2['DAY'], y = df2['LST_TIME'],z= df2['T_HR_AVG'],colorscale='Jet')\n",
        "#group = ['setosa','versicolor','virginica']\n",
        "\n",
        "fig = tools.make_subplots(rows=1,cols=2,subplot_titles=['Santa Barbara','Yuma Arizona'],shared_yaxes=True)\n",
        "\n",
        "fig.append_trace(data1,1,1)\n",
        "fig.append_trace(data2,1,2)\n",
        "pyo.plot(fig)"
      ],
      "execution_count": 64,
      "outputs": [
        {
          "output_type": "stream",
          "text": [
            "/usr/local/lib/python3.6/dist-packages/plotly/tools.py:465: DeprecationWarning:\n",
            "\n",
            "plotly.tools.make_subplots is deprecated, please use plotly.subplots.make_subplots instead\n",
            "\n"
          ],
          "name": "stderr"
        },
        {
          "output_type": "execute_result",
          "data": {
            "text/plain": [
              "'temp-plot.html'"
            ]
          },
          "metadata": {
            "tags": []
          },
          "execution_count": 64
        }
      ]
    }
  ]
}