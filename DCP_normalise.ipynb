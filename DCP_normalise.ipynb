{
  "nbformat": 4,
  "nbformat_minor": 0,
  "metadata": {
    "colab": {
      "name": "DCP normalise",
      "provenance": [],
      "authorship_tag": "ABX9TyMk8MEDlVwxIiZ2z3VX+j7F",
      "include_colab_link": true
    },
    "kernelspec": {
      "name": "python3",
      "display_name": "Python 3"
    }
  },
  "cells": [
    {
      "cell_type": "markdown",
      "metadata": {
        "id": "view-in-github",
        "colab_type": "text"
      },
      "source": [
        "<a href=\"https://colab.research.google.com/github/theAkhileshRai/DeepLearning/blob/master/DCP_normalise.ipynb\" target=\"_parent\"><img src=\"https://colab.research.google.com/assets/colab-badge.svg\" alt=\"Open In Colab\"/></a>"
      ]
    },
    {
      "cell_type": "code",
      "metadata": {
        "id": "-tRZnra-_GxR",
        "colab_type": "code",
        "colab": {
          "base_uri": "https://localhost:8080/",
          "height": 173
        },
        "outputId": "865f8712-ebbf-44fb-9eb3-156e58e9e202"
      },
      "source": [
        "import pandas as pd\n",
        "import numpy as np\n",
        "import xlrd \n",
        "import os \n",
        "import glob\n",
        "import re \n",
        "from plotly.subplots import make_subplots\n",
        "import numpy as np\n",
        "import warnings\n",
        "warnings.simplefilter(action='ignore', category=FutureWarning)\n",
        "import seaborn as sns\n",
        "import warnings\n",
        "warnings.filterwarnings(\"error\")\n",
        "import warnings\n",
        "warnings.filterwarnings(\"ignore\", category=DeprecationWarning)\n",
        "!pip install chart_studio\n",
        "import chart_studio.plotly as py\n",
        "import matplotlib.pyplot as plt\n",
        "import plotly.offline as py\n",
        "import warnings\n",
        "warnings.filterwarnings(\"ignore\", message=\"numpy.ufunc size changed\")\n",
        "from sklearn.metrics import r2_score, median_absolute_error, mean_absolute_error\n",
        "from sklearn.metrics import median_absolute_error, mean_squared_error, mean_squared_log_error\n",
        "import plotly.graph_objs as go\n",
        "py.init_notebook_mode(connected=True)\n",
        "import plotly.graph_objects as go\n",
        "from plotly.offline import  download_plotlyjs,init_notebook_mode,plot,iplot\n",
        "import plotly.io as pio\n",
        "pio.renderers.default = 'colab'\n",
        "from itertools import groupby\n",
        "import plotly.express as px\n",
        "\n",
        "from collections import Counter\n",
        "\n",
        "from glob import glob\n",
        "\n",
        "from datetime import datetime as dt\n",
        "import warnings\n",
        "from sklearn.svm import LinearSVR\n",
        "from sklearn.ensemble import RandomForestClassifier\n",
        "from sklearn.linear_model import LinearRegression\n",
        "from sklearn.linear_model import LogisticRegression\n",
        "from sklearn.metrics import classification_report\n",
        "from sklearn.tree import DecisionTreeClassifier\n",
        "from sklearn.tree import DecisionTreeRegressor\n",
        "from sklearn.preprocessing import MinMaxScaler\n",
        "from sklearn.svm import SVR\n",
        "from sklearn.svm import SVC\n",
        "from sklearn import ensemble\n",
        "from sklearn.metrics import mean_squared_error, mean_absolute_error, r2_score\n",
        "import xgboost as xgb\n",
        "from sklearn.model_selection import train_test_split\n",
        "from sklearn.metrics import accuracy_score\n",
        "from sklearn.metrics import confusion_matrix\n",
        "from sklearn.metrics import classification_report\n",
        "from sklearn.model_selection import GridSearchCV\n",
        "from datetime import datetime\n",
        "warnings.filterwarnings('ignore')\n",
        "from keras.models import Sequential\n",
        "from keras.layers import LSTM\n",
        "from keras.layers import Dense\n",
        "from numpy import hstack\n",
        "from numpy import array\n",
        "from random import random\n",
        "from sklearn.preprocessing import MinMaxScaler"
      ],
      "execution_count": null,
      "outputs": [
        {
          "output_type": "stream",
          "text": [
            "Requirement already satisfied: chart_studio in /usr/local/lib/python3.6/dist-packages (1.1.0)\n",
            "Requirement already satisfied: retrying>=1.3.3 in /usr/local/lib/python3.6/dist-packages (from chart_studio) (1.3.3)\n",
            "Requirement already satisfied: requests in /usr/local/lib/python3.6/dist-packages (from chart_studio) (2.23.0)\n",
            "Requirement already satisfied: plotly in /usr/local/lib/python3.6/dist-packages (from chart_studio) (4.4.1)\n",
            "Requirement already satisfied: six in /usr/local/lib/python3.6/dist-packages (from chart_studio) (1.12.0)\n",
            "Requirement already satisfied: urllib3!=1.25.0,!=1.25.1,<1.26,>=1.21.1 in /usr/local/lib/python3.6/dist-packages (from requests->chart_studio) (1.24.3)\n",
            "Requirement already satisfied: certifi>=2017.4.17 in /usr/local/lib/python3.6/dist-packages (from requests->chart_studio) (2020.4.5.1)\n",
            "Requirement already satisfied: idna<3,>=2.5 in /usr/local/lib/python3.6/dist-packages (from requests->chart_studio) (2.9)\n",
            "Requirement already satisfied: chardet<4,>=3.0.2 in /usr/local/lib/python3.6/dist-packages (from requests->chart_studio) (3.0.4)\n"
          ],
          "name": "stdout"
        },
        {
          "output_type": "display_data",
          "data": {
            "text/html": [
              "        <script type=\"text/javascript\">\n",
              "        window.PlotlyConfig = {MathJaxConfig: 'local'};\n",
              "        if (window.MathJax) {MathJax.Hub.Config({SVG: {font: \"STIX-Web\"}});}\n",
              "        if (typeof require !== 'undefined') {\n",
              "        require.undef(\"plotly\");\n",
              "        requirejs.config({\n",
              "            paths: {\n",
              "                'plotly': ['https://cdn.plot.ly/plotly-latest.min']\n",
              "            }\n",
              "        });\n",
              "        require(['plotly'], function(Plotly) {\n",
              "            window._Plotly = Plotly;\n",
              "        });\n",
              "        }\n",
              "        </script>\n",
              "        "
            ]
          },
          "metadata": {
            "tags": []
          }
        }
      ]
    },
    {
      "cell_type": "code",
      "metadata": {
        "id": "FGboVvIF7qB6",
        "colab_type": "code",
        "colab": {}
      },
      "source": [
        "merge_df = pd.read_csv('/content/new_unnormalised-2.csv')"
      ],
      "execution_count": null,
      "outputs": []
    },
    {
      "cell_type": "code",
      "metadata": {
        "id": "zpWOoHsd_btl",
        "colab_type": "code",
        "colab": {
          "base_uri": "https://localhost:8080/",
          "height": 417
        },
        "outputId": "7cb2278a-fcc9-4fef-f884-e56a22d8d4b4"
      },
      "source": [
        "merge_df.head()"
      ],
      "execution_count": null,
      "outputs": [
        {
          "output_type": "execute_result",
          "data": {
            "text/html": [
              "<div>\n",
              "<style scoped>\n",
              "    .dataframe tbody tr th:only-of-type {\n",
              "        vertical-align: middle;\n",
              "    }\n",
              "\n",
              "    .dataframe tbody tr th {\n",
              "        vertical-align: top;\n",
              "    }\n",
              "\n",
              "    .dataframe thead th {\n",
              "        text-align: right;\n",
              "    }\n",
              "</style>\n",
              "<table border=\"1\" class=\"dataframe\">\n",
              "  <thead>\n",
              "    <tr style=\"text-align: right;\">\n",
              "      <th></th>\n",
              "      <th>Unnamed: 0</th>\n",
              "      <th>time</th>\n",
              "      <th>cyl</th>\n",
              "      <th>s_temp_crank</th>\n",
              "      <th>d_temp_crank</th>\n",
              "      <th>s_pressure_crank</th>\n",
              "      <th>d_pressure_crank</th>\n",
              "      <th>rpm_crank</th>\n",
              "      <th>s_temp_mean</th>\n",
              "      <th>d_temp_mean</th>\n",
              "      <th>s_pressure_mean</th>\n",
              "      <th>d_pressure_mean</th>\n",
              "      <th>rpm_mean</th>\n",
              "      <th>station</th>\n",
              "      <th>machine</th>\n",
              "      <th>multi_class</th>\n",
              "      <th>leak</th>\n",
              "    </tr>\n",
              "  </thead>\n",
              "  <tbody>\n",
              "    <tr>\n",
              "      <th>0</th>\n",
              "      <td>0</td>\n",
              "      <td>2019-04-05 02:30:00</td>\n",
              "      <td>1.0</td>\n",
              "      <td>100.781695</td>\n",
              "      <td>229.474039</td>\n",
              "      <td>333.271093</td>\n",
              "      <td>959.947075</td>\n",
              "      <td>956.126375</td>\n",
              "      <td>100.781695</td>\n",
              "      <td>227.024053</td>\n",
              "      <td>341.150570</td>\n",
              "      <td>963.233788</td>\n",
              "      <td>956.126375</td>\n",
              "      <td>Cross Barr</td>\n",
              "      <td>Unit 1</td>\n",
              "      <td>0</td>\n",
              "      <td>0.0</td>\n",
              "    </tr>\n",
              "    <tr>\n",
              "      <th>1</th>\n",
              "      <td>1</td>\n",
              "      <td>2019-04-05 03:30:00</td>\n",
              "      <td>1.0</td>\n",
              "      <td>105.290034</td>\n",
              "      <td>236.122937</td>\n",
              "      <td>325.476945</td>\n",
              "      <td>950.197363</td>\n",
              "      <td>957.189625</td>\n",
              "      <td>105.290034</td>\n",
              "      <td>233.113909</td>\n",
              "      <td>335.320018</td>\n",
              "      <td>955.180639</td>\n",
              "      <td>957.189625</td>\n",
              "      <td>Cross Barr</td>\n",
              "      <td>Unit 1</td>\n",
              "      <td>0</td>\n",
              "      <td>0.0</td>\n",
              "    </tr>\n",
              "    <tr>\n",
              "      <th>2</th>\n",
              "      <td>2</td>\n",
              "      <td>2019-04-05 04:30:00</td>\n",
              "      <td>1.0</td>\n",
              "      <td>102.694591</td>\n",
              "      <td>235.134108</td>\n",
              "      <td>319.202676</td>\n",
              "      <td>946.173800</td>\n",
              "      <td>957.718375</td>\n",
              "      <td>102.694591</td>\n",
              "      <td>231.738927</td>\n",
              "      <td>329.656110</td>\n",
              "      <td>950.421229</td>\n",
              "      <td>957.718375</td>\n",
              "      <td>Cross Barr</td>\n",
              "      <td>Unit 1</td>\n",
              "      <td>0</td>\n",
              "      <td>0.0</td>\n",
              "    </tr>\n",
              "    <tr>\n",
              "      <th>3</th>\n",
              "      <td>3</td>\n",
              "      <td>2019-04-05 05:30:00</td>\n",
              "      <td>1.0</td>\n",
              "      <td>102.636799</td>\n",
              "      <td>234.895970</td>\n",
              "      <td>319.710641</td>\n",
              "      <td>946.358515</td>\n",
              "      <td>955.242250</td>\n",
              "      <td>102.636799</td>\n",
              "      <td>231.417846</td>\n",
              "      <td>330.576671</td>\n",
              "      <td>951.068734</td>\n",
              "      <td>955.242250</td>\n",
              "      <td>Cross Barr</td>\n",
              "      <td>Unit 1</td>\n",
              "      <td>0</td>\n",
              "      <td>0.0</td>\n",
              "    </tr>\n",
              "    <tr>\n",
              "      <th>4</th>\n",
              "      <td>4</td>\n",
              "      <td>2019-04-05 06:30:00</td>\n",
              "      <td>1.0</td>\n",
              "      <td>103.657053</td>\n",
              "      <td>236.373231</td>\n",
              "      <td>318.983829</td>\n",
              "      <td>946.790184</td>\n",
              "      <td>958.628500</td>\n",
              "      <td>103.657053</td>\n",
              "      <td>232.831218</td>\n",
              "      <td>329.875960</td>\n",
              "      <td>951.185184</td>\n",
              "      <td>958.628500</td>\n",
              "      <td>Cross Barr</td>\n",
              "      <td>Unit 1</td>\n",
              "      <td>0</td>\n",
              "      <td>0.0</td>\n",
              "    </tr>\n",
              "  </tbody>\n",
              "</table>\n",
              "</div>"
            ],
            "text/plain": [
              "   Unnamed: 0                 time  cyl  ...  machine  multi_class  leak\n",
              "0           0  2019-04-05 02:30:00  1.0  ...   Unit 1            0   0.0\n",
              "1           1  2019-04-05 03:30:00  1.0  ...   Unit 1            0   0.0\n",
              "2           2  2019-04-05 04:30:00  1.0  ...   Unit 1            0   0.0\n",
              "3           3  2019-04-05 05:30:00  1.0  ...   Unit 1            0   0.0\n",
              "4           4  2019-04-05 06:30:00  1.0  ...   Unit 1            0   0.0\n",
              "\n",
              "[5 rows x 17 columns]"
            ]
          },
          "metadata": {
            "tags": []
          },
          "execution_count": 164
        }
      ]
    },
    {
      "cell_type": "code",
      "metadata": {
        "id": "-0FQs-sy_jBF",
        "colab_type": "code",
        "colab": {}
      },
      "source": [
        "# Cross Bar Unit 1\n",
        "cyl1 = merge_df.loc[(merge_df.cyl==1.0) & (merge_df.station == 'Cross Barr')& (merge_df.machine == 'Unit 1')]\n",
        "cyl2 = merge_df.loc[(merge_df.cyl==2.0) & (merge_df.station == 'Cross Barr')& (merge_df.machine == 'Unit 1')]\n",
        "cyl3 = merge_df.loc[(merge_df.cyl==3.0) & (merge_df.station == 'Cross Barr')& (merge_df.machine == 'Unit 1')]\n",
        "cyl4 = merge_df.loc[(merge_df.cyl==4.0) & (merge_df.station == 'Cross Barr')& (merge_df.machine == 'Unit 1')]\n",
        "\n"
      ],
      "execution_count": null,
      "outputs": []
    },
    {
      "cell_type": "code",
      "metadata": {
        "id": "t-BXJ0YuFEih",
        "colab_type": "code",
        "colab": {}
      },
      "source": [
        "scale_columns = ['s_temp_crank', 'd_temp_crank',\n",
        "       's_pressure_crank', 'd_pressure_crank', 'rpm_crank', 's_temp_mean',\n",
        "       'd_temp_mean', 's_pressure_mean', 'd_pressure_mean', 'rpm_mean',]"
      ],
      "execution_count": null,
      "outputs": []
    },
    {
      "cell_type": "code",
      "metadata": {
        "id": "W6iQc8_iEUsW",
        "colab_type": "code",
        "colab": {}
      },
      "source": [
        "scaler = MinMaxScaler()"
      ],
      "execution_count": null,
      "outputs": []
    },
    {
      "cell_type": "code",
      "metadata": {
        "id": "161GV2G5EXyq",
        "colab_type": "code",
        "colab": {}
      },
      "source": [
        "cyl1[scale_columns] = scaler.fit_transform(cyl1[scale_columns])\n",
        "cyl2[scale_columns] = scaler.fit_transform(cyl2[scale_columns])\n",
        "cyl3[scale_columns] = scaler.fit_transform(cyl3[scale_columns])\n",
        "cyl4[scale_columns] = scaler.fit_transform(cyl4[scale_columns])"
      ],
      "execution_count": null,
      "outputs": []
    },
    {
      "cell_type": "code",
      "metadata": {
        "id": "dX-3A-em5LlN",
        "colab_type": "code",
        "colab": {}
      },
      "source": [
        "cross_norm_df1 = pd.concat([cyl1,cyl2,cyl3,cyl4],ignore_index=True)"
      ],
      "execution_count": 247,
      "outputs": []
    },
    {
      "cell_type": "code",
      "metadata": {
        "id": "-klGAkavF-K0",
        "colab_type": "code",
        "colab": {
          "base_uri": "https://localhost:8080/",
          "height": 34
        },
        "outputId": "34952094-32a5-48a5-9ac2-e27a00266f28"
      },
      "source": [
        "cross_df4 = merge_df.loc[(merge_df.station == 'Cross Barr')& (merge_df.machine == 'Unit 4')]\n",
        "Counter(cross_df4['cyl'])"
      ],
      "execution_count": null,
      "outputs": [
        {
          "output_type": "execute_result",
          "data": {
            "text/plain": [
              "Counter({2.0: 283, 4.0: 80})"
            ]
          },
          "metadata": {
            "tags": []
          },
          "execution_count": 169
        }
      ]
    },
    {
      "cell_type": "code",
      "metadata": {
        "id": "H-VkxUNvFHhw",
        "colab_type": "code",
        "colab": {}
      },
      "source": [
        "# Cross Bar Unit 4\n",
        "cyl5 = merge_df.loc[(merge_df.cyl==2.0) & (merge_df.station == 'Cross Barr')& (merge_df.machine == 'Unit 4')]\n",
        "\n",
        "cyl6 = merge_df.loc[(merge_df.cyl==4.0) & (merge_df.station == 'Cross Barr')& (merge_df.machine == 'Unit 4')]\n"
      ],
      "execution_count": null,
      "outputs": []
    },
    {
      "cell_type": "code",
      "metadata": {
        "id": "h9z3qo9IIPGb",
        "colab_type": "code",
        "colab": {}
      },
      "source": [
        "cyl5[scale_columns] = scaler.fit_transform(cyl5[scale_columns])\n",
        "cyl6[scale_columns] = scaler.fit_transform(cyl6[scale_columns])"
      ],
      "execution_count": null,
      "outputs": []
    },
    {
      "cell_type": "code",
      "metadata": {
        "id": "ajDbHBP0533e",
        "colab_type": "code",
        "colab": {}
      },
      "source": [
        "cross_norm_df4 = pd.concat([cyl5,cyl6],ignore_index=True)"
      ],
      "execution_count": 248,
      "outputs": []
    },
    {
      "cell_type": "code",
      "metadata": {
        "id": "tEP5_FrWIjsh",
        "colab_type": "code",
        "colab": {
          "base_uri": "https://localhost:8080/",
          "height": 34
        },
        "outputId": "faa33734-c755-4d85-823c-95c4653ac096"
      },
      "source": [
        "# Cross Bar Unit 5\n",
        "\n",
        "cross_df5 = merge_df.loc[(merge_df.station == 'Cross Barr')& (merge_df.machine == 'Unit 5')]\n",
        "Counter(cross_df5['cyl'])"
      ],
      "execution_count": null,
      "outputs": [
        {
          "output_type": "execute_result",
          "data": {
            "text/plain": [
              "Counter({2.0: 3068, 3.0: 2, 4.0: 3129})"
            ]
          },
          "metadata": {
            "tags": []
          },
          "execution_count": 172
        }
      ]
    },
    {
      "cell_type": "code",
      "metadata": {
        "id": "y3YmvG-DJ7XD",
        "colab_type": "code",
        "colab": {}
      },
      "source": [
        "cyl7 = merge_df.loc[(merge_df.cyl==2.0) & (merge_df.station == 'Cross Barr')& (merge_df.machine == 'Unit 5')]\n",
        "cyl8 = merge_df.loc[(merge_df.cyl==3.0) & (merge_df.station == 'Cross Barr')& (merge_df.machine == 'Unit 5')]\n",
        "cyl9 = merge_df.loc[(merge_df.cyl==4.0) & (merge_df.station == 'Cross Barr')& (merge_df.machine == 'Unit 5')]\n"
      ],
      "execution_count": null,
      "outputs": []
    },
    {
      "cell_type": "code",
      "metadata": {
        "id": "MPCpbDAeNLdz",
        "colab_type": "code",
        "colab": {}
      },
      "source": [
        "cyl7[scale_columns] = scaler.fit_transform(cyl7[scale_columns])\n",
        "cyl8[scale_columns] = scaler.fit_transform(cyl8[scale_columns])\n",
        "cyl9[scale_columns] = scaler.fit_transform(cyl9[scale_columns])"
      ],
      "execution_count": null,
      "outputs": []
    },
    {
      "cell_type": "code",
      "metadata": {
        "id": "Qm2NgVc66FTH",
        "colab_type": "code",
        "colab": {}
      },
      "source": [
        "cross_norm_df5 = pd.concat([cyl7,cyl8,cyl9],ignore_index=True)"
      ],
      "execution_count": 249,
      "outputs": []
    },
    {
      "cell_type": "code",
      "metadata": {
        "id": "-U8DPvRyLQWr",
        "colab_type": "code",
        "colab": {
          "base_uri": "https://localhost:8080/",
          "height": 34
        },
        "outputId": "c868c10d-71e4-44e8-fad1-fd042fddb87d"
      },
      "source": [
        "#reagon unit 3\n",
        "\n",
        "reagan_df3 = merge_df.loc[(merge_df.station == 'Reagan')& (merge_df.machine == 'Unit 3')]\n",
        "Counter(reagan_df3['cyl'])"
      ],
      "execution_count": null,
      "outputs": [
        {
          "output_type": "execute_result",
          "data": {
            "text/plain": [
              "Counter({1.0: 936, 2.0: 1375, 3.0: 1375, 4.0: 1378})"
            ]
          },
          "metadata": {
            "tags": []
          },
          "execution_count": 175
        }
      ]
    },
    {
      "cell_type": "code",
      "metadata": {
        "id": "lsJYls8OMS-O",
        "colab_type": "code",
        "colab": {}
      },
      "source": [
        "cyl10 = merge_df.loc[(merge_df.cyl==1.0) & (merge_df.station == 'Reagan')& (merge_df.machine == 'Unit 3')]\n",
        "cyl11 = merge_df.loc[(merge_df.cyl==2.0) & (merge_df.station == 'Reagan')& (merge_df.machine == 'Unit 3')]\n",
        "cyl12 = merge_df.loc[(merge_df.cyl==3.0) & (merge_df.station == 'Reagan')& (merge_df.machine == 'Unit 3')]\n",
        "cyl13 = merge_df.loc[(merge_df.cyl==4.0) & (merge_df.station == 'Reagan')& (merge_df.machine == 'Unit 3')]"
      ],
      "execution_count": null,
      "outputs": []
    },
    {
      "cell_type": "code",
      "metadata": {
        "id": "nLZpDbC3NKHw",
        "colab_type": "code",
        "colab": {}
      },
      "source": [
        "cyl10[scale_columns] = scaler.fit_transform(cyl10[scale_columns])\n",
        "cyl11[scale_columns] = scaler.fit_transform(cyl11[scale_columns])\n",
        "cyl12[scale_columns] = scaler.fit_transform(cyl12[scale_columns])\n",
        "cyl13[scale_columns] = scaler.fit_transform(cyl13[scale_columns])\n"
      ],
      "execution_count": null,
      "outputs": []
    },
    {
      "cell_type": "code",
      "metadata": {
        "id": "TtY7ZFiB67Po",
        "colab_type": "code",
        "colab": {}
      },
      "source": [
        "reagon_norm_df3 = pd.concat([cyl10,cyl11,cyl12,cyl13],ignore_index=True)"
      ],
      "execution_count": 251,
      "outputs": []
    },
    {
      "cell_type": "code",
      "metadata": {
        "id": "BApbmXeFODuC",
        "colab_type": "code",
        "colab": {
          "base_uri": "https://localhost:8080/",
          "height": 34
        },
        "outputId": "9d4b776c-a771-44c0-bf98-8150d962ff25"
      },
      "source": [
        "#reagon unit 6\n",
        "reagan_df6 = merge_df.loc[(merge_df.station == 'Reagan')& (merge_df.machine == 'Unit 6')]\n",
        "Counter(reagan_df6['cyl'])"
      ],
      "execution_count": null,
      "outputs": [
        {
          "output_type": "execute_result",
          "data": {
            "text/plain": [
              "Counter({1.0: 5550, 2.0: 5579, 3.0: 5572, 4.0: 5570})"
            ]
          },
          "metadata": {
            "tags": []
          },
          "execution_count": 178
        }
      ]
    },
    {
      "cell_type": "code",
      "metadata": {
        "id": "RqBvIR1xPP0a",
        "colab_type": "code",
        "colab": {}
      },
      "source": [
        "cyl14 = merge_df.loc[(merge_df.cyl==1.0) & (merge_df.station == 'Reagan')& (merge_df.machine == 'Unit 6')]\n",
        "cyl15= merge_df.loc[(merge_df.cyl==2.0) & (merge_df.station == 'Reagan')& (merge_df.machine == 'Unit 6')]\n",
        "cyl16 = merge_df.loc[(merge_df.cyl==3.0) & (merge_df.station == 'Reagan')& (merge_df.machine == 'Unit 6')]\n",
        "cyl17 = merge_df.loc[(merge_df.cyl==4.0) & (merge_df.station == 'Reagan')& (merge_df.machine == 'Unit 6')]"
      ],
      "execution_count": null,
      "outputs": []
    },
    {
      "cell_type": "code",
      "metadata": {
        "id": "iSEJwpWiPmjt",
        "colab_type": "code",
        "colab": {}
      },
      "source": [
        "cyl14[scale_columns] = scaler.fit_transform(cyl14[scale_columns])\n",
        "cyl15[scale_columns] = scaler.fit_transform(cyl15[scale_columns])\n",
        "cyl16[scale_columns] = scaler.fit_transform(cyl16[scale_columns])\n",
        "cyl17[scale_columns] = scaler.fit_transform(cyl17[scale_columns])"
      ],
      "execution_count": null,
      "outputs": []
    },
    {
      "cell_type": "code",
      "metadata": {
        "id": "LkIBYNMq7yBG",
        "colab_type": "code",
        "colab": {}
      },
      "source": [
        "reagon_norm_df6 = pd.concat([cyl14,cyl15,cyl16,cyl17],ignore_index=True)"
      ],
      "execution_count": 252,
      "outputs": []
    },
    {
      "cell_type": "code",
      "metadata": {
        "id": "jxiCwGaeQAbW",
        "colab_type": "code",
        "colab": {
          "base_uri": "https://localhost:8080/",
          "height": 34
        },
        "outputId": "f946c351-fc35-40fc-d84f-b0a9449d2fe7"
      },
      "source": [
        "#West Turkey Track unit 2\n",
        "west_df3 = merge_df.loc[(merge_df.station == 'West Turkey Track')& (merge_df.machine == 'Unit 2')]\n",
        "Counter(west_df3['cyl'])"
      ],
      "execution_count": null,
      "outputs": [
        {
          "output_type": "execute_result",
          "data": {
            "text/plain": [
              "Counter({1.0: 3212, 2.0: 4324, 3.0: 3885, 4.0: 4370})"
            ]
          },
          "metadata": {
            "tags": []
          },
          "execution_count": 181
        }
      ]
    },
    {
      "cell_type": "code",
      "metadata": {
        "id": "SMLcllxsSLEc",
        "colab_type": "code",
        "colab": {}
      },
      "source": [
        "cyl18 = merge_df.loc[(merge_df.cyl==1.0) & (merge_df.station == 'West Turkey Track')& (merge_df.machine == 'Unit 2')]\n",
        "cyl19= merge_df.loc[(merge_df.cyl==2.0) & (merge_df.station == 'West Turkey Track')& (merge_df.machine == 'Unit 2')]\n",
        "cyl20 = merge_df.loc[(merge_df.cyl==3.0) & (merge_df.station == 'West Turkey Track')& (merge_df.machine == 'Unit 2')]\n",
        "cyl21 = merge_df.loc[(merge_df.cyl==4.0) & (merge_df.station == 'West Turkey Track')& (merge_df.machine == 'Unit 2')]"
      ],
      "execution_count": null,
      "outputs": []
    },
    {
      "cell_type": "code",
      "metadata": {
        "id": "cxP5BpClSMYz",
        "colab_type": "code",
        "colab": {}
      },
      "source": [
        "cyl18[scale_columns] = scaler.fit_transform(cyl18[scale_columns])\n",
        "cyl19[scale_columns] = scaler.fit_transform(cyl19[scale_columns])\n",
        "cyl20[scale_columns] = scaler.fit_transform(cyl20[scale_columns])\n",
        "cyl21[scale_columns] = scaler.fit_transform(cyl21[scale_columns])"
      ],
      "execution_count": null,
      "outputs": []
    },
    {
      "cell_type": "code",
      "metadata": {
        "id": "VEogjpKF77XY",
        "colab_type": "code",
        "colab": {}
      },
      "source": [
        "turkey_norm_df2 = pd.concat([cyl18,cyl19,cyl20,cyl21],ignore_index=True)"
      ],
      "execution_count": 254,
      "outputs": []
    },
    {
      "cell_type": "code",
      "metadata": {
        "id": "t9u4EfouSMXe",
        "colab_type": "code",
        "colab": {
          "base_uri": "https://localhost:8080/",
          "height": 34
        },
        "outputId": "5a6267c9-0102-4730-8855-7fe60a998f05"
      },
      "source": [
        "#Hobit unit 102 \n",
        "hobit_df102 = merge_df.loc[(merge_df.station == 'Hobit LP')& (merge_df.machine == 'unit 102')]\n",
        "Counter(hobit_df102['cyl'])"
      ],
      "execution_count": null,
      "outputs": [
        {
          "output_type": "execute_result",
          "data": {
            "text/plain": [
              "Counter({1.0: 2987, 2.0: 3065, 3.0: 3016, 4.0: 2534})"
            ]
          },
          "metadata": {
            "tags": []
          },
          "execution_count": 184
        }
      ]
    },
    {
      "cell_type": "code",
      "metadata": {
        "id": "ZvEEv49OSMOI",
        "colab_type": "code",
        "colab": {}
      },
      "source": [
        "cyl22 = merge_df.loc[(merge_df.cyl==1.0) & (merge_df.station == 'Hobit LP')& (merge_df.machine == 'unit 102')]\n",
        "cyl23= merge_df.loc[(merge_df.cyl==2.0) & (merge_df.station == 'Hobit LP')& (merge_df.machine == 'unit 102')]\n",
        "cyl24 = merge_df.loc[(merge_df.cyl==3.0) & (merge_df.station == 'Hobit LP')& (merge_df.machine == 'unit 102')]\n",
        "cyl25 = merge_df.loc[(merge_df.cyl==4.0) & (merge_df.station == 'Hobit LP')& (merge_df.machine == 'unit 102')]"
      ],
      "execution_count": null,
      "outputs": []
    },
    {
      "cell_type": "code",
      "metadata": {
        "id": "M_Mj1hfHSMDN",
        "colab_type": "code",
        "colab": {}
      },
      "source": [
        "cyl22[scale_columns] = scaler.fit_transform(cyl22[scale_columns])\n",
        "cyl23[scale_columns] = scaler.fit_transform(cyl23[scale_columns])\n",
        "cyl24[scale_columns] = scaler.fit_transform(cyl24[scale_columns])\n",
        "cyl25[scale_columns] = scaler.fit_transform(cyl25[scale_columns])"
      ],
      "execution_count": null,
      "outputs": []
    },
    {
      "cell_type": "code",
      "metadata": {
        "id": "CXN6TBrN8exg",
        "colab_type": "code",
        "colab": {}
      },
      "source": [
        "hobit_norm_df102 = pd.concat([cyl22,cyl23,cyl24,cyl25],ignore_index=True)"
      ],
      "execution_count": 255,
      "outputs": []
    },
    {
      "cell_type": "code",
      "metadata": {
        "id": "AxCssJxmSLyT",
        "colab_type": "code",
        "colab": {
          "base_uri": "https://localhost:8080/",
          "height": 34
        },
        "outputId": "ae171e74-ecac-4d86-88a5-be65e8bb3c42"
      },
      "source": [
        "#Hobit LP Unit2\n",
        "hobit_df2 = merge_df.loc[(merge_df.station == 'Hobit LP')& (merge_df.machine == 'Unit 2')]\n",
        "Counter(hobit_df2['cyl'])"
      ],
      "execution_count": null,
      "outputs": [
        {
          "output_type": "execute_result",
          "data": {
            "text/plain": [
              "Counter({1.0: 3835, 2.0: 3837, 3.0: 3834, 4.0: 3838})"
            ]
          },
          "metadata": {
            "tags": []
          },
          "execution_count": 187
        }
      ]
    },
    {
      "cell_type": "code",
      "metadata": {
        "id": "2bvKcdUIWaky",
        "colab_type": "code",
        "colab": {}
      },
      "source": [
        "cyl26 = merge_df.loc[(merge_df.cyl==1.0) & (merge_df.station == 'Hobit LP')& (merge_df.machine == 'Unit 2')]\n",
        "cyl27= merge_df.loc[(merge_df.cyl==2.0) & (merge_df.station == 'Hobit LP')& (merge_df.machine == 'Unit 2')]\n",
        "cyl28 = merge_df.loc[(merge_df.cyl==3.0) & (merge_df.station == 'Hobit LP')& (merge_df.machine == 'Unit 2')]\n",
        "cyl29 = merge_df.loc[(merge_df.cyl==4.0) & (merge_df.station == 'Hobit LP')& (merge_df.machine == 'Unit 2')]"
      ],
      "execution_count": null,
      "outputs": []
    },
    {
      "cell_type": "code",
      "metadata": {
        "id": "xuyfFMD0Wp5X",
        "colab_type": "code",
        "colab": {}
      },
      "source": [
        "cyl26[scale_columns] = scaler.fit_transform(cyl26[scale_columns])\n",
        "cyl27[scale_columns] = scaler.fit_transform(cyl27[scale_columns])\n",
        "cyl28[scale_columns] = scaler.fit_transform(cyl28[scale_columns])\n",
        "cyl29[scale_columns] = scaler.fit_transform(cyl29[scale_columns])"
      ],
      "execution_count": null,
      "outputs": []
    },
    {
      "cell_type": "code",
      "metadata": {
        "id": "CqFN0Z7_9J32",
        "colab_type": "code",
        "colab": {}
      },
      "source": [
        "hobit_norm_df2 = pd.concat([cyl26,cyl27,cyl28,cyl29],ignore_index=True)"
      ],
      "execution_count": 256,
      "outputs": []
    },
    {
      "cell_type": "code",
      "metadata": {
        "id": "0tV1mVQYXOAC",
        "colab_type": "code",
        "colab": {
          "base_uri": "https://localhost:8080/",
          "height": 34
        },
        "outputId": "d1fef3a3-4d66-4253-c6de-d2a33ed795e2"
      },
      "source": [
        "# Katy Unit C-1116\n",
        "katy_df6 = merge_df.loc[(merge_df.station == 'Katy')& (merge_df.machine == 'C-1116')]\n",
        "Counter(katy_df6['cyl'])"
      ],
      "execution_count": null,
      "outputs": [
        {
          "output_type": "execute_result",
          "data": {
            "text/plain": [
              "Counter({1.0: 5853, 2.0: 5813})"
            ]
          },
          "metadata": {
            "tags": []
          },
          "execution_count": 190
        }
      ]
    },
    {
      "cell_type": "code",
      "metadata": {
        "id": "pZtabdxaW2se",
        "colab_type": "code",
        "colab": {}
      },
      "source": [
        "cyl30 = merge_df.loc[(merge_df.cyl==1.0) & (merge_df.station == 'Katy')& (merge_df.machine == 'C-1116')]\n",
        "cyl31= merge_df.loc[(merge_df.cyl==2.0) & (merge_df.station == 'Katy')& (merge_df.machine == 'C-1116')]\n"
      ],
      "execution_count": null,
      "outputs": []
    },
    {
      "cell_type": "code",
      "metadata": {
        "id": "yIdg0pCHXq44",
        "colab_type": "code",
        "colab": {}
      },
      "source": [
        "cyl30[scale_columns] = scaler.fit_transform(cyl30[scale_columns])\n",
        "cyl31[scale_columns] = scaler.fit_transform(cyl31[scale_columns])"
      ],
      "execution_count": null,
      "outputs": []
    },
    {
      "cell_type": "code",
      "metadata": {
        "id": "uxvOcuSe9q6N",
        "colab_type": "code",
        "colab": {}
      },
      "source": [
        "katy_norm_df6 = pd.concat([cyl30,cyl31],ignore_index=True)"
      ],
      "execution_count": 257,
      "outputs": []
    },
    {
      "cell_type": "code",
      "metadata": {
        "id": "60Ay6S9MXyn3",
        "colab_type": "code",
        "colab": {
          "base_uri": "https://localhost:8080/",
          "height": 34
        },
        "outputId": "9c7de595-f553-41d0-da22-9535200952f7"
      },
      "source": [
        "# Katy Unit C-1117\n",
        "katy_df7 = merge_df.loc[(merge_df.station == 'Katy')& (merge_df.machine == 'C-1117')]\n",
        "Counter(katy_df7['cyl'])"
      ],
      "execution_count": null,
      "outputs": [
        {
          "output_type": "execute_result",
          "data": {
            "text/plain": [
              "Counter({1.0: 7235, 2.0: 7234})"
            ]
          },
          "metadata": {
            "tags": []
          },
          "execution_count": 193
        }
      ]
    },
    {
      "cell_type": "code",
      "metadata": {
        "id": "W-ngfMFEccfa",
        "colab_type": "code",
        "colab": {}
      },
      "source": [
        "cyl32 = merge_df.loc[(merge_df.cyl==1.0) & (merge_df.station == 'Katy')& (merge_df.machine == 'C-1117')]\n",
        "cyl33 = merge_df.loc[(merge_df.cyl==2.0) & (merge_df.station == 'Katy')& (merge_df.machine == 'C-1117')]"
      ],
      "execution_count": null,
      "outputs": []
    },
    {
      "cell_type": "code",
      "metadata": {
        "id": "3K8O-jwPcjJO",
        "colab_type": "code",
        "colab": {}
      },
      "source": [
        "cyl32[scale_columns] = scaler.fit_transform(cyl32[scale_columns])\n",
        "cyl33[scale_columns] = scaler.fit_transform(cyl33[scale_columns])"
      ],
      "execution_count": null,
      "outputs": []
    },
    {
      "cell_type": "code",
      "metadata": {
        "id": "h3LL0Q0eBaRQ",
        "colab_type": "code",
        "colab": {}
      },
      "source": [
        "katy_norm_df7 = pd.concat([cyl32,cyl33],ignore_index=True)"
      ],
      "execution_count": 258,
      "outputs": []
    },
    {
      "cell_type": "code",
      "metadata": {
        "id": "lNPHoBj1cvvZ",
        "colab_type": "code",
        "colab": {
          "base_uri": "https://localhost:8080/",
          "height": 34
        },
        "outputId": "e5c1354d-d885-4e5a-dfa3-2531d4325ae7"
      },
      "source": [
        "# Goliad Unit C-1117\n",
        "goliad_df = merge_df.loc[(merge_df.station == 'Goliad')& (merge_df.machine == 'unit 1100')]\n",
        "Counter(goliad_df['cyl'])"
      ],
      "execution_count": null,
      "outputs": [
        {
          "output_type": "execute_result",
          "data": {
            "text/plain": [
              "Counter({1.0: 8425, 2.0: 8426, 3.0: 8395, 4.0: 8427})"
            ]
          },
          "metadata": {
            "tags": []
          },
          "execution_count": 196
        }
      ]
    },
    {
      "cell_type": "code",
      "metadata": {
        "id": "y8ZF8PvBdIjT",
        "colab_type": "code",
        "colab": {}
      },
      "source": [
        "cyl34 = merge_df.loc[(merge_df.cyl==1.0) & (merge_df.station == 'Goliad')& (merge_df.machine == 'unit 1100')]\n",
        "cyl35 = merge_df.loc[(merge_df.cyl==2.0) & (merge_df.station == 'Goliad')& (merge_df.machine == 'unit 1100')]\n",
        "cyl36 = merge_df.loc[(merge_df.cyl==3.0) & (merge_df.station == 'Goliad')& (merge_df.machine == 'unit 1100')]\n",
        "cyl37 = merge_df.loc[(merge_df.cyl==4.0) & (merge_df.station == 'Goliad')& (merge_df.machine == 'unit 1100')]"
      ],
      "execution_count": null,
      "outputs": []
    },
    {
      "cell_type": "code",
      "metadata": {
        "id": "lvpKygx9db47",
        "colab_type": "code",
        "colab": {}
      },
      "source": [
        "cyl34[scale_columns] = scaler.fit_transform(cyl34[scale_columns])\n",
        "cyl35[scale_columns] = scaler.fit_transform(cyl35[scale_columns])\n",
        "cyl36[scale_columns] = scaler.fit_transform(cyl36[scale_columns])\n",
        "cyl37[scale_columns] = scaler.fit_transform(cyl37[scale_columns])"
      ],
      "execution_count": null,
      "outputs": []
    },
    {
      "cell_type": "code",
      "metadata": {
        "id": "zIMn9nntB7O1",
        "colab_type": "code",
        "colab": {}
      },
      "source": [
        "goliad_norm_df = pd.concat([cyl34,cyl35,cyl36,cyl37],ignore_index=True)"
      ],
      "execution_count": 259,
      "outputs": []
    },
    {
      "cell_type": "code",
      "metadata": {
        "id": "yRR8dQBndwnJ",
        "colab_type": "code",
        "colab": {
          "base_uri": "https://localhost:8080/",
          "height": 34
        },
        "outputId": "4aad5dd2-6c6c-4b88-d22d-9ae4dd86f748"
      },
      "source": [
        "# Lightning Unit 2\n",
        "lightning_df = merge_df.loc[(merge_df.station == 'Lightning')& (merge_df.machine == 'Unit 2')]\n",
        "Counter(lightning_df['cyl'])"
      ],
      "execution_count": null,
      "outputs": [
        {
          "output_type": "execute_result",
          "data": {
            "text/plain": [
              "Counter({1.0: 1937, 2.0: 1643, 3.0: 1935, 4.0: 922})"
            ]
          },
          "metadata": {
            "tags": []
          },
          "execution_count": 199
        }
      ]
    },
    {
      "cell_type": "code",
      "metadata": {
        "id": "ZgOlBhEXeKvq",
        "colab_type": "code",
        "colab": {}
      },
      "source": [
        "cyl38 = merge_df.loc[(merge_df.cyl==1.0) & (merge_df.station == 'Lightning')& (merge_df.machine == 'Unit 2')]\n",
        "cyl39 = merge_df.loc[(merge_df.cyl==2.0) & (merge_df.station == 'Lightning')& (merge_df.machine == 'Unit 2')]\n",
        "cyl40 = merge_df.loc[(merge_df.cyl==3.0) & (merge_df.station == 'Lightning')& (merge_df.machine == 'Unit 2')]\n",
        "cyl41 = merge_df.loc[(merge_df.cyl==4.0) & (merge_df.station == 'Lightning')& (merge_df.machine == 'Unit 2')]"
      ],
      "execution_count": null,
      "outputs": []
    },
    {
      "cell_type": "code",
      "metadata": {
        "id": "b7lytOvQe_XI",
        "colab_type": "code",
        "colab": {}
      },
      "source": [
        "cyl38[scale_columns] = scaler.fit_transform(cyl38[scale_columns])\n",
        "cyl39[scale_columns] = scaler.fit_transform(cyl39[scale_columns])\n",
        "cyl40[scale_columns] = scaler.fit_transform(cyl40[scale_columns])\n",
        "cyl41[scale_columns] = scaler.fit_transform(cyl41[scale_columns])"
      ],
      "execution_count": null,
      "outputs": []
    },
    {
      "cell_type": "code",
      "metadata": {
        "id": "o0Ol8g85CvCx",
        "colab_type": "code",
        "colab": {}
      },
      "source": [
        "lighting_norm_df2 = pd.concat([cyl38,cyl39,cyl40,cyl41],ignore_index=True)"
      ],
      "execution_count": 260,
      "outputs": []
    },
    {
      "cell_type": "code",
      "metadata": {
        "id": "owBgtRSJfNZq",
        "colab_type": "code",
        "colab": {
          "base_uri": "https://localhost:8080/",
          "height": 34
        },
        "outputId": "01b3d81f-a1ed-40df-c8f3-d15c5d4f8a02"
      },
      "source": [
        "# Lightning Unit 4\n",
        "lightning_df4 = merge_df.loc[(merge_df.station == 'Lightning')& (merge_df.machine == 'Unit 4')]\n",
        "Counter(lightning_df4['cyl'])"
      ],
      "execution_count": null,
      "outputs": [
        {
          "output_type": "execute_result",
          "data": {
            "text/plain": [
              "Counter({1.0: 3058, 2.0: 1860, 3.0: 1829, 4.0: 3056})"
            ]
          },
          "metadata": {
            "tags": []
          },
          "execution_count": 202
        }
      ]
    },
    {
      "cell_type": "code",
      "metadata": {
        "id": "hpKLj5fDjAxT",
        "colab_type": "code",
        "colab": {
          "base_uri": "https://localhost:8080/",
          "height": 417
        },
        "outputId": "6f2d3318-ff13-4c06-f26c-77658abe4e78"
      },
      "source": [
        "merge_df.head()"
      ],
      "execution_count": null,
      "outputs": [
        {
          "output_type": "execute_result",
          "data": {
            "text/html": [
              "<div>\n",
              "<style scoped>\n",
              "    .dataframe tbody tr th:only-of-type {\n",
              "        vertical-align: middle;\n",
              "    }\n",
              "\n",
              "    .dataframe tbody tr th {\n",
              "        vertical-align: top;\n",
              "    }\n",
              "\n",
              "    .dataframe thead th {\n",
              "        text-align: right;\n",
              "    }\n",
              "</style>\n",
              "<table border=\"1\" class=\"dataframe\">\n",
              "  <thead>\n",
              "    <tr style=\"text-align: right;\">\n",
              "      <th></th>\n",
              "      <th>Unnamed: 0</th>\n",
              "      <th>time</th>\n",
              "      <th>cyl</th>\n",
              "      <th>s_temp_crank</th>\n",
              "      <th>d_temp_crank</th>\n",
              "      <th>s_pressure_crank</th>\n",
              "      <th>d_pressure_crank</th>\n",
              "      <th>rpm_crank</th>\n",
              "      <th>s_temp_mean</th>\n",
              "      <th>d_temp_mean</th>\n",
              "      <th>s_pressure_mean</th>\n",
              "      <th>d_pressure_mean</th>\n",
              "      <th>rpm_mean</th>\n",
              "      <th>station</th>\n",
              "      <th>machine</th>\n",
              "      <th>multi_class</th>\n",
              "      <th>leak</th>\n",
              "    </tr>\n",
              "  </thead>\n",
              "  <tbody>\n",
              "    <tr>\n",
              "      <th>0</th>\n",
              "      <td>0</td>\n",
              "      <td>2019-04-05 02:30:00</td>\n",
              "      <td>1.0</td>\n",
              "      <td>100.781695</td>\n",
              "      <td>229.474039</td>\n",
              "      <td>333.271093</td>\n",
              "      <td>959.947075</td>\n",
              "      <td>956.126375</td>\n",
              "      <td>100.781695</td>\n",
              "      <td>227.024053</td>\n",
              "      <td>341.150570</td>\n",
              "      <td>963.233788</td>\n",
              "      <td>956.126375</td>\n",
              "      <td>Cross Barr</td>\n",
              "      <td>Unit 1</td>\n",
              "      <td>0</td>\n",
              "      <td>0.0</td>\n",
              "    </tr>\n",
              "    <tr>\n",
              "      <th>1</th>\n",
              "      <td>1</td>\n",
              "      <td>2019-04-05 03:30:00</td>\n",
              "      <td>1.0</td>\n",
              "      <td>105.290034</td>\n",
              "      <td>236.122937</td>\n",
              "      <td>325.476945</td>\n",
              "      <td>950.197363</td>\n",
              "      <td>957.189625</td>\n",
              "      <td>105.290034</td>\n",
              "      <td>233.113909</td>\n",
              "      <td>335.320018</td>\n",
              "      <td>955.180639</td>\n",
              "      <td>957.189625</td>\n",
              "      <td>Cross Barr</td>\n",
              "      <td>Unit 1</td>\n",
              "      <td>0</td>\n",
              "      <td>0.0</td>\n",
              "    </tr>\n",
              "    <tr>\n",
              "      <th>2</th>\n",
              "      <td>2</td>\n",
              "      <td>2019-04-05 04:30:00</td>\n",
              "      <td>1.0</td>\n",
              "      <td>102.694591</td>\n",
              "      <td>235.134108</td>\n",
              "      <td>319.202676</td>\n",
              "      <td>946.173800</td>\n",
              "      <td>957.718375</td>\n",
              "      <td>102.694591</td>\n",
              "      <td>231.738927</td>\n",
              "      <td>329.656110</td>\n",
              "      <td>950.421229</td>\n",
              "      <td>957.718375</td>\n",
              "      <td>Cross Barr</td>\n",
              "      <td>Unit 1</td>\n",
              "      <td>0</td>\n",
              "      <td>0.0</td>\n",
              "    </tr>\n",
              "    <tr>\n",
              "      <th>3</th>\n",
              "      <td>3</td>\n",
              "      <td>2019-04-05 05:30:00</td>\n",
              "      <td>1.0</td>\n",
              "      <td>102.636799</td>\n",
              "      <td>234.895970</td>\n",
              "      <td>319.710641</td>\n",
              "      <td>946.358515</td>\n",
              "      <td>955.242250</td>\n",
              "      <td>102.636799</td>\n",
              "      <td>231.417846</td>\n",
              "      <td>330.576671</td>\n",
              "      <td>951.068734</td>\n",
              "      <td>955.242250</td>\n",
              "      <td>Cross Barr</td>\n",
              "      <td>Unit 1</td>\n",
              "      <td>0</td>\n",
              "      <td>0.0</td>\n",
              "    </tr>\n",
              "    <tr>\n",
              "      <th>4</th>\n",
              "      <td>4</td>\n",
              "      <td>2019-04-05 06:30:00</td>\n",
              "      <td>1.0</td>\n",
              "      <td>103.657053</td>\n",
              "      <td>236.373231</td>\n",
              "      <td>318.983829</td>\n",
              "      <td>946.790184</td>\n",
              "      <td>958.628500</td>\n",
              "      <td>103.657053</td>\n",
              "      <td>232.831218</td>\n",
              "      <td>329.875960</td>\n",
              "      <td>951.185184</td>\n",
              "      <td>958.628500</td>\n",
              "      <td>Cross Barr</td>\n",
              "      <td>Unit 1</td>\n",
              "      <td>0</td>\n",
              "      <td>0.0</td>\n",
              "    </tr>\n",
              "  </tbody>\n",
              "</table>\n",
              "</div>"
            ],
            "text/plain": [
              "   Unnamed: 0                 time  cyl  ...  machine  multi_class  leak\n",
              "0           0  2019-04-05 02:30:00  1.0  ...   Unit 1            0   0.0\n",
              "1           1  2019-04-05 03:30:00  1.0  ...   Unit 1            0   0.0\n",
              "2           2  2019-04-05 04:30:00  1.0  ...   Unit 1            0   0.0\n",
              "3           3  2019-04-05 05:30:00  1.0  ...   Unit 1            0   0.0\n",
              "4           4  2019-04-05 06:30:00  1.0  ...   Unit 1            0   0.0\n",
              "\n",
              "[5 rows x 17 columns]"
            ]
          },
          "metadata": {
            "tags": []
          },
          "execution_count": 203
        }
      ]
    },
    {
      "cell_type": "code",
      "metadata": {
        "id": "TCfyDtAJfumV",
        "colab_type": "code",
        "colab": {}
      },
      "source": [
        "cyl42 = merge_df.loc[(merge_df.cyl==1.0) & (merge_df.station == 'Lightning')& (merge_df.machine == 'Unit 4')]\n",
        "cyl43 = merge_df.loc[(merge_df.cyl==2.0) & (merge_df.station == 'Lightning')& (merge_df.machine == 'Unit 4')]\n",
        "cyl44 = merge_df.loc[(merge_df.cyl==3.0) & (merge_df.station == 'Lightning')& (merge_df.machine == 'Unit 4')]\n",
        "cyl45 = merge_df.loc[(merge_df.cyl==4.0) & (merge_df.station == 'Lightning')& (merge_df.machine == 'Unit 4')]"
      ],
      "execution_count": null,
      "outputs": []
    },
    {
      "cell_type": "code",
      "metadata": {
        "id": "WZqOEQyLf53f",
        "colab_type": "code",
        "colab": {}
      },
      "source": [
        "cyl42[scale_columns] = scaler.fit_transform(cyl42[scale_columns])\n",
        "cyl43[scale_columns] = scaler.fit_transform(cyl43[scale_columns])\n",
        "cyl44[scale_columns] = scaler.fit_transform(cyl44[scale_columns])\n",
        "cyl45[scale_columns] = scaler.fit_transform(cyl45[scale_columns])"
      ],
      "execution_count": null,
      "outputs": []
    },
    {
      "cell_type": "markdown",
      "metadata": {
        "id": "Nzgfvhegyb8Y",
        "colab_type": "text"
      },
      "source": [
        "# New Assets"
      ]
    },
    {
      "cell_type": "code",
      "metadata": {
        "id": "JmfFTW_AgCGL",
        "colab_type": "code",
        "colab": {}
      },
      "source": [
        "new_asset_df = pd.read_csv('/content/Train_data(1).csv')"
      ],
      "execution_count": null,
      "outputs": []
    },
    {
      "cell_type": "code",
      "metadata": {
        "id": "ZI-vR1EInwD0",
        "colab_type": "code",
        "colab": {
          "base_uri": "https://localhost:8080/",
          "height": 330
        },
        "outputId": "a7318617-57a4-4382-b7b9-61bd84a448cc"
      },
      "source": [
        "new_asset_df.head()"
      ],
      "execution_count": null,
      "outputs": [
        {
          "output_type": "execute_result",
          "data": {
            "text/html": [
              "<div>\n",
              "<style scoped>\n",
              "    .dataframe tbody tr th:only-of-type {\n",
              "        vertical-align: middle;\n",
              "    }\n",
              "\n",
              "    .dataframe tbody tr th {\n",
              "        vertical-align: top;\n",
              "    }\n",
              "\n",
              "    .dataframe thead th {\n",
              "        text-align: right;\n",
              "    }\n",
              "</style>\n",
              "<table border=\"1\" class=\"dataframe\">\n",
              "  <thead>\n",
              "    <tr style=\"text-align: right;\">\n",
              "      <th></th>\n",
              "      <th>Unnamed: 0</th>\n",
              "      <th>Unnamed: 0.1</th>\n",
              "      <th>Unnamed: 0.1.1</th>\n",
              "      <th>time</th>\n",
              "      <th>cyl</th>\n",
              "      <th>s_temp_crank</th>\n",
              "      <th>d_temp_crank</th>\n",
              "      <th>s_pressure_crank</th>\n",
              "      <th>d_pressure_crank</th>\n",
              "      <th>rpm_crank</th>\n",
              "      <th>s_temp_mean</th>\n",
              "      <th>d_temp_mean</th>\n",
              "      <th>s_pressure_mean</th>\n",
              "      <th>d_pressure_mean</th>\n",
              "      <th>rpm_mean</th>\n",
              "      <th>Asset</th>\n",
              "      <th>multi_class</th>\n",
              "      <th>Binary</th>\n",
              "    </tr>\n",
              "  </thead>\n",
              "  <tbody>\n",
              "    <tr>\n",
              "      <th>0</th>\n",
              "      <td>0</td>\n",
              "      <td>0</td>\n",
              "      <td>0</td>\n",
              "      <td>01/12/19 0:30</td>\n",
              "      <td>1</td>\n",
              "      <td>103.113613</td>\n",
              "      <td>216.591245</td>\n",
              "      <td>354.642761</td>\n",
              "      <td>836.740658</td>\n",
              "      <td>1357.93250</td>\n",
              "      <td>103.113613</td>\n",
              "      <td>218.012416</td>\n",
              "      <td>344.238676</td>\n",
              "      <td>820.900548</td>\n",
              "      <td>1357.93250</td>\n",
              "      <td>Ashland_Unit256</td>\n",
              "      <td>Normal</td>\n",
              "      <td>0</td>\n",
              "    </tr>\n",
              "    <tr>\n",
              "      <th>1</th>\n",
              "      <td>1</td>\n",
              "      <td>1</td>\n",
              "      <td>1</td>\n",
              "      <td>01/12/19 1:30</td>\n",
              "      <td>1</td>\n",
              "      <td>99.965045</td>\n",
              "      <td>214.136948</td>\n",
              "      <td>352.424753</td>\n",
              "      <td>837.714329</td>\n",
              "      <td>1358.24000</td>\n",
              "      <td>99.965045</td>\n",
              "      <td>215.236945</td>\n",
              "      <td>342.992523</td>\n",
              "      <td>822.153967</td>\n",
              "      <td>1358.24000</td>\n",
              "      <td>Ashland_Unit256</td>\n",
              "      <td>Normal</td>\n",
              "      <td>0</td>\n",
              "    </tr>\n",
              "    <tr>\n",
              "      <th>2</th>\n",
              "      <td>2</td>\n",
              "      <td>2</td>\n",
              "      <td>2</td>\n",
              "      <td>01/12/19 2:30</td>\n",
              "      <td>1</td>\n",
              "      <td>98.503206</td>\n",
              "      <td>213.432090</td>\n",
              "      <td>352.148637</td>\n",
              "      <td>842.562702</td>\n",
              "      <td>1398.28125</td>\n",
              "      <td>98.503206</td>\n",
              "      <td>214.106646</td>\n",
              "      <td>344.690998</td>\n",
              "      <td>829.080473</td>\n",
              "      <td>1398.28125</td>\n",
              "      <td>Ashland_Unit256</td>\n",
              "      <td>Normal</td>\n",
              "      <td>0</td>\n",
              "    </tr>\n",
              "    <tr>\n",
              "      <th>3</th>\n",
              "      <td>3</td>\n",
              "      <td>3</td>\n",
              "      <td>3</td>\n",
              "      <td>01/12/19 3:30</td>\n",
              "      <td>1</td>\n",
              "      <td>104.620153</td>\n",
              "      <td>220.973225</td>\n",
              "      <td>352.706318</td>\n",
              "      <td>848.715357</td>\n",
              "      <td>1397.87125</td>\n",
              "      <td>104.620153</td>\n",
              "      <td>221.697270</td>\n",
              "      <td>345.283193</td>\n",
              "      <td>835.520144</td>\n",
              "      <td>1397.87125</td>\n",
              "      <td>Ashland_Unit256</td>\n",
              "      <td>Normal</td>\n",
              "      <td>0</td>\n",
              "    </tr>\n",
              "    <tr>\n",
              "      <th>4</th>\n",
              "      <td>4</td>\n",
              "      <td>4</td>\n",
              "      <td>4</td>\n",
              "      <td>01/12/19 4:30</td>\n",
              "      <td>1</td>\n",
              "      <td>109.567843</td>\n",
              "      <td>227.339240</td>\n",
              "      <td>351.392952</td>\n",
              "      <td>851.224013</td>\n",
              "      <td>1397.31000</td>\n",
              "      <td>109.567843</td>\n",
              "      <td>228.114859</td>\n",
              "      <td>344.060655</td>\n",
              "      <td>838.433890</td>\n",
              "      <td>1397.31000</td>\n",
              "      <td>Ashland_Unit256</td>\n",
              "      <td>Normal</td>\n",
              "      <td>0</td>\n",
              "    </tr>\n",
              "  </tbody>\n",
              "</table>\n",
              "</div>"
            ],
            "text/plain": [
              "   Unnamed: 0  Unnamed: 0.1  ...  multi_class Binary\n",
              "0           0             0  ...       Normal      0\n",
              "1           1             1  ...       Normal      0\n",
              "2           2             2  ...       Normal      0\n",
              "3           3             3  ...       Normal      0\n",
              "4           4             4  ...       Normal      0\n",
              "\n",
              "[5 rows x 18 columns]"
            ]
          },
          "metadata": {
            "tags": []
          },
          "execution_count": 218
        }
      ]
    },
    {
      "cell_type": "code",
      "metadata": {
        "id": "G9_mLjKghJ4h",
        "colab_type": "code",
        "colab": {
          "base_uri": "https://localhost:8080/",
          "height": 52
        },
        "outputId": "297040f0-6f21-4901-b763-185327ed1240"
      },
      "source": [
        "new_asset_df['Asset'].unique()"
      ],
      "execution_count": null,
      "outputs": [
        {
          "output_type": "execute_result",
          "data": {
            "text/plain": [
              "array(['Ashland_Unit256', 'Center station_C2', 'El Dorado_Unit J2502',\n",
              "       'Saltlake_K71010B'], dtype=object)"
            ]
          },
          "metadata": {
            "tags": []
          },
          "execution_count": 219
        }
      ]
    },
    {
      "cell_type": "code",
      "metadata": {
        "id": "pZp4ordMi97h",
        "colab_type": "code",
        "colab": {
          "base_uri": "https://localhost:8080/",
          "height": 34
        },
        "outputId": "4b1449a3-0e87-4370-bf40-768b1a989f52"
      },
      "source": [
        "ashland_df = new_asset_df.loc[(new_asset_df.Asset == 'Ashland_Unit256')]\n",
        "Counter(ashland_df['cyl'])"
      ],
      "execution_count": null,
      "outputs": [
        {
          "output_type": "execute_result",
          "data": {
            "text/plain": [
              "Counter({1: 1211})"
            ]
          },
          "metadata": {
            "tags": []
          },
          "execution_count": 220
        }
      ]
    },
    {
      "cell_type": "code",
      "metadata": {
        "id": "bKk9PEWIqztd",
        "colab_type": "code",
        "colab": {}
      },
      "source": [
        "cyl46 = new_asset_df.loc[(new_asset_df.cyl==1.0) & (new_asset_df.Asset == 'Ashland_Unit256')]\n",
        "cyl46[scale_columns] = scaler.fit_transform(cyl46[scale_columns])"
      ],
      "execution_count": null,
      "outputs": []
    },
    {
      "cell_type": "code",
      "metadata": {
        "id": "k0zlGWX6tA13",
        "colab_type": "code",
        "colab": {
          "base_uri": "https://localhost:8080/",
          "height": 34
        },
        "outputId": "c68df47a-35c1-4adb-d544-f65cf91d23d2"
      },
      "source": [
        "centerstation_df = new_asset_df.loc[(new_asset_df.Asset == 'Center station_C2')]\n",
        "Counter(centerstation_df['cyl'])"
      ],
      "execution_count": null,
      "outputs": [
        {
          "output_type": "execute_result",
          "data": {
            "text/plain": [
              "Counter({4: 9})"
            ]
          },
          "metadata": {
            "tags": []
          },
          "execution_count": 231
        }
      ]
    },
    {
      "cell_type": "code",
      "metadata": {
        "id": "626x7EkhtddC",
        "colab_type": "code",
        "colab": {}
      },
      "source": [
        "cyl47 = new_asset_df.loc[(new_asset_df.cyl==4.0) & (new_asset_df.Asset == 'Center station_C2')]\n",
        "cyl47[scale_columns] = scaler.fit_transform(cyl47[scale_columns])"
      ],
      "execution_count": null,
      "outputs": []
    },
    {
      "cell_type": "code",
      "metadata": {
        "id": "aEFA1wlstmrX",
        "colab_type": "code",
        "colab": {
          "base_uri": "https://localhost:8080/",
          "height": 34
        },
        "outputId": "df14dd6c-2a45-474e-a18e-75e45630108f"
      },
      "source": [
        "dorado_df = new_asset_df.loc[(new_asset_df.Asset == 'El Dorado_Unit J2502')]\n",
        "Counter(dorado_df['cyl'])"
      ],
      "execution_count": null,
      "outputs": [
        {
          "output_type": "execute_result",
          "data": {
            "text/plain": [
              "Counter({2: 5465})"
            ]
          },
          "metadata": {
            "tags": []
          },
          "execution_count": 239
        }
      ]
    },
    {
      "cell_type": "code",
      "metadata": {
        "id": "qgRTY38ht-XB",
        "colab_type": "code",
        "colab": {}
      },
      "source": [
        "cyl48 = new_asset_df.loc[(new_asset_df.cyl==2.0) & (new_asset_df.Asset == 'El Dorado_Unit J2502')]\n",
        "cyl48[scale_columns] = scaler.fit_transform(cyl48[scale_columns])"
      ],
      "execution_count": null,
      "outputs": []
    },
    {
      "cell_type": "code",
      "metadata": {
        "id": "GWwQSicjvkeu",
        "colab_type": "code",
        "colab": {
          "base_uri": "https://localhost:8080/",
          "height": 34
        },
        "outputId": "7907de9f-d33f-432b-a33b-f097180a6559"
      },
      "source": [
        "saltlake_df = new_asset_df.loc[(new_asset_df.Asset == 'Saltlake_K71010B')]\n",
        "Counter(saltlake_df['cyl'])"
      ],
      "execution_count": null,
      "outputs": [
        {
          "output_type": "execute_result",
          "data": {
            "text/plain": [
              "Counter({2: 9580})"
            ]
          },
          "metadata": {
            "tags": []
          },
          "execution_count": 241
        }
      ]
    },
    {
      "cell_type": "code",
      "metadata": {
        "id": "RuVompPjvuFV",
        "colab_type": "code",
        "colab": {}
      },
      "source": [
        "cyl49 = new_asset_df.loc[(new_asset_df.cyl==2.0) & (new_asset_df.Asset == 'Saltlake_K71010B')]\n",
        "cyl49[scale_columns] = scaler.fit_transform(cyl49[scale_columns])"
      ],
      "execution_count": null,
      "outputs": []
    },
    {
      "cell_type": "markdown",
      "metadata": {
        "id": "2osAYVra0L6s",
        "colab_type": "text"
      },
      "source": [
        "# Merge old Assets"
      ]
    },
    {
      "cell_type": "code",
      "metadata": {
        "id": "vdaECyLh0KgK",
        "colab_type": "code",
        "colab": {}
      },
      "source": [
        "normalised_old_assets = pd.concat([cyl1,cyl2,cyl3,cyl4,cyl5,cyl6,cyl7,cyl8,cyl9,cyl10,cyl11,cyl12,cyl13,cyl14,cyl15,cyl16,cyl17,\\\n",
        "                                  cyl18,cyl19,cyl20,cyl21,cyl22,cyl23,cyl24,cyl25,cyl26,cyl27,cyl28,cyl29,cyl30, \\\n",
        "                                  cyl31,cyl32,cyl33,cyl34,cyl35,cyl36,cyl37,cyl38,cyl39,cyl40,cyl41,cyl42,cyl43,cyl44,cyl45],ignore_index=True)\n"
      ],
      "execution_count": 261,
      "outputs": []
    },
    {
      "cell_type": "code",
      "metadata": {
        "id": "eHoUw5x0DWLN",
        "colab_type": "code",
        "colab": {
          "base_uri": "https://localhost:8080/",
          "height": 34
        },
        "outputId": "147eeaf3-181f-446a-c532-9ce2ab4299e6"
      },
      "source": [
        "normalised_old_assets.shape"
      ],
      "execution_count": 263,
      "outputs": [
        {
          "output_type": "execute_result",
          "data": {
            "text/plain": [
              "(165861, 17)"
            ]
          },
          "metadata": {
            "tags": []
          },
          "execution_count": 263
        }
      ]
    },
    {
      "cell_type": "markdown",
      "metadata": {
        "id": "tRfw00buDbdQ",
        "colab_type": "text"
      },
      "source": [
        "#Merge New Assets"
      ]
    },
    {
      "cell_type": "code",
      "metadata": {
        "id": "pwnGlYKnF8HY",
        "colab_type": "code",
        "colab": {
          "base_uri": "https://localhost:8080/",
          "height": 310
        },
        "outputId": "362f8f78-394c-43bc-9b0b-b4e664aff9f6"
      },
      "source": [
        "normalised_old_assets.head()"
      ],
      "execution_count": 268,
      "outputs": [
        {
          "output_type": "execute_result",
          "data": {
            "text/html": [
              "<div>\n",
              "<style scoped>\n",
              "    .dataframe tbody tr th:only-of-type {\n",
              "        vertical-align: middle;\n",
              "    }\n",
              "\n",
              "    .dataframe tbody tr th {\n",
              "        vertical-align: top;\n",
              "    }\n",
              "\n",
              "    .dataframe thead th {\n",
              "        text-align: right;\n",
              "    }\n",
              "</style>\n",
              "<table border=\"1\" class=\"dataframe\">\n",
              "  <thead>\n",
              "    <tr style=\"text-align: right;\">\n",
              "      <th></th>\n",
              "      <th>Unnamed: 0</th>\n",
              "      <th>time</th>\n",
              "      <th>cyl</th>\n",
              "      <th>s_temp_crank</th>\n",
              "      <th>d_temp_crank</th>\n",
              "      <th>s_pressure_crank</th>\n",
              "      <th>d_pressure_crank</th>\n",
              "      <th>rpm_crank</th>\n",
              "      <th>s_temp_mean</th>\n",
              "      <th>d_temp_mean</th>\n",
              "      <th>s_pressure_mean</th>\n",
              "      <th>d_pressure_mean</th>\n",
              "      <th>rpm_mean</th>\n",
              "      <th>station</th>\n",
              "      <th>machine</th>\n",
              "      <th>multi_class</th>\n",
              "      <th>leak</th>\n",
              "    </tr>\n",
              "  </thead>\n",
              "  <tbody>\n",
              "    <tr>\n",
              "      <th>0</th>\n",
              "      <td>0</td>\n",
              "      <td>2019-04-05 02:30:00</td>\n",
              "      <td>1.0</td>\n",
              "      <td>0.708354</td>\n",
              "      <td>0.691062</td>\n",
              "      <td>0.910714</td>\n",
              "      <td>0.869389</td>\n",
              "      <td>0.875494</td>\n",
              "      <td>0.708354</td>\n",
              "      <td>0.605684</td>\n",
              "      <td>0.944337</td>\n",
              "      <td>0.901400</td>\n",
              "      <td>0.882343</td>\n",
              "      <td>Cross Barr</td>\n",
              "      <td>Unit 1</td>\n",
              "      <td>0</td>\n",
              "      <td>0.0</td>\n",
              "    </tr>\n",
              "    <tr>\n",
              "      <th>1</th>\n",
              "      <td>1</td>\n",
              "      <td>2019-04-05 03:30:00</td>\n",
              "      <td>1.0</td>\n",
              "      <td>0.775961</td>\n",
              "      <td>0.774677</td>\n",
              "      <td>0.874703</td>\n",
              "      <td>0.856738</td>\n",
              "      <td>0.879124</td>\n",
              "      <td>0.775961</td>\n",
              "      <td>0.683550</td>\n",
              "      <td>0.921261</td>\n",
              "      <td>0.891176</td>\n",
              "      <td>0.886001</td>\n",
              "      <td>Cross Barr</td>\n",
              "      <td>Unit 1</td>\n",
              "      <td>0</td>\n",
              "      <td>0.0</td>\n",
              "    </tr>\n",
              "    <tr>\n",
              "      <th>2</th>\n",
              "      <td>2</td>\n",
              "      <td>2019-04-05 04:30:00</td>\n",
              "      <td>1.0</td>\n",
              "      <td>0.737040</td>\n",
              "      <td>0.762242</td>\n",
              "      <td>0.845714</td>\n",
              "      <td>0.851518</td>\n",
              "      <td>0.880929</td>\n",
              "      <td>0.737040</td>\n",
              "      <td>0.665969</td>\n",
              "      <td>0.898844</td>\n",
              "      <td>0.885134</td>\n",
              "      <td>0.887820</td>\n",
              "      <td>Cross Barr</td>\n",
              "      <td>Unit 1</td>\n",
              "      <td>0</td>\n",
              "      <td>0.0</td>\n",
              "    </tr>\n",
              "    <tr>\n",
              "      <th>3</th>\n",
              "      <td>3</td>\n",
              "      <td>2019-04-05 05:30:00</td>\n",
              "      <td>1.0</td>\n",
              "      <td>0.736173</td>\n",
              "      <td>0.759247</td>\n",
              "      <td>0.848061</td>\n",
              "      <td>0.851757</td>\n",
              "      <td>0.872476</td>\n",
              "      <td>0.736173</td>\n",
              "      <td>0.661864</td>\n",
              "      <td>0.902488</td>\n",
              "      <td>0.885956</td>\n",
              "      <td>0.879301</td>\n",
              "      <td>Cross Barr</td>\n",
              "      <td>Unit 1</td>\n",
              "      <td>0</td>\n",
              "      <td>0.0</td>\n",
              "    </tr>\n",
              "    <tr>\n",
              "      <th>4</th>\n",
              "      <td>4</td>\n",
              "      <td>2019-04-05 06:30:00</td>\n",
              "      <td>1.0</td>\n",
              "      <td>0.751473</td>\n",
              "      <td>0.777825</td>\n",
              "      <td>0.844703</td>\n",
              "      <td>0.852317</td>\n",
              "      <td>0.884036</td>\n",
              "      <td>0.751473</td>\n",
              "      <td>0.679936</td>\n",
              "      <td>0.899714</td>\n",
              "      <td>0.886104</td>\n",
              "      <td>0.890951</td>\n",
              "      <td>Cross Barr</td>\n",
              "      <td>Unit 1</td>\n",
              "      <td>0</td>\n",
              "      <td>0.0</td>\n",
              "    </tr>\n",
              "  </tbody>\n",
              "</table>\n",
              "</div>"
            ],
            "text/plain": [
              "   Unnamed: 0                 time  cyl  ...  machine  multi_class  leak\n",
              "0           0  2019-04-05 02:30:00  1.0  ...   Unit 1            0   0.0\n",
              "1           1  2019-04-05 03:30:00  1.0  ...   Unit 1            0   0.0\n",
              "2           2  2019-04-05 04:30:00  1.0  ...   Unit 1            0   0.0\n",
              "3           3  2019-04-05 05:30:00  1.0  ...   Unit 1            0   0.0\n",
              "4           4  2019-04-05 06:30:00  1.0  ...   Unit 1            0   0.0\n",
              "\n",
              "[5 rows x 17 columns]"
            ]
          },
          "metadata": {
            "tags": []
          },
          "execution_count": 268
        }
      ]
    },
    {
      "cell_type": "code",
      "metadata": {
        "id": "zicuZyqKv4kf",
        "colab_type": "code",
        "colab": {}
      },
      "source": [
        "normalised_new_assets = pd.concat([cyl46,cyl47,cyl48,cyl49],ignore_index=True)"
      ],
      "execution_count": 264,
      "outputs": []
    },
    {
      "cell_type": "code",
      "metadata": {
        "id": "3M0z65QiE7dj",
        "colab_type": "code",
        "colab": {
          "base_uri": "https://localhost:8080/",
          "height": 34
        },
        "outputId": "a47d7bd7-f20d-43bd-95ca-fcc1678dd168"
      },
      "source": [
        "normalised_new_assets.shape"
      ],
      "execution_count": 265,
      "outputs": [
        {
          "output_type": "execute_result",
          "data": {
            "text/plain": [
              "(16265, 18)"
            ]
          },
          "metadata": {
            "tags": []
          },
          "execution_count": 265
        }
      ]
    },
    {
      "cell_type": "code",
      "metadata": {
        "id": "gXm6_MQ2E_FS",
        "colab_type": "code",
        "colab": {
          "base_uri": "https://localhost:8080/",
          "height": 330
        },
        "outputId": "7a287446-9d10-454f-93ed-b472a9d03043"
      },
      "source": [
        "normalised_new_assets.head()"
      ],
      "execution_count": 267,
      "outputs": [
        {
          "output_type": "execute_result",
          "data": {
            "text/html": [
              "<div>\n",
              "<style scoped>\n",
              "    .dataframe tbody tr th:only-of-type {\n",
              "        vertical-align: middle;\n",
              "    }\n",
              "\n",
              "    .dataframe tbody tr th {\n",
              "        vertical-align: top;\n",
              "    }\n",
              "\n",
              "    .dataframe thead th {\n",
              "        text-align: right;\n",
              "    }\n",
              "</style>\n",
              "<table border=\"1\" class=\"dataframe\">\n",
              "  <thead>\n",
              "    <tr style=\"text-align: right;\">\n",
              "      <th></th>\n",
              "      <th>Unnamed: 0</th>\n",
              "      <th>Unnamed: 0.1</th>\n",
              "      <th>Unnamed: 0.1.1</th>\n",
              "      <th>time</th>\n",
              "      <th>cyl</th>\n",
              "      <th>s_temp_crank</th>\n",
              "      <th>d_temp_crank</th>\n",
              "      <th>s_pressure_crank</th>\n",
              "      <th>d_pressure_crank</th>\n",
              "      <th>rpm_crank</th>\n",
              "      <th>s_temp_mean</th>\n",
              "      <th>d_temp_mean</th>\n",
              "      <th>s_pressure_mean</th>\n",
              "      <th>d_pressure_mean</th>\n",
              "      <th>rpm_mean</th>\n",
              "      <th>Asset</th>\n",
              "      <th>multi_class</th>\n",
              "      <th>Binary</th>\n",
              "    </tr>\n",
              "  </thead>\n",
              "  <tbody>\n",
              "    <tr>\n",
              "      <th>0</th>\n",
              "      <td>0</td>\n",
              "      <td>0</td>\n",
              "      <td>0</td>\n",
              "      <td>01/12/19 0:30</td>\n",
              "      <td>1</td>\n",
              "      <td>0.602831</td>\n",
              "      <td>0.729362</td>\n",
              "      <td>0.384945</td>\n",
              "      <td>0.665367</td>\n",
              "      <td>0.851054</td>\n",
              "      <td>0.602831</td>\n",
              "      <td>0.732203</td>\n",
              "      <td>0.405697</td>\n",
              "      <td>0.661356</td>\n",
              "      <td>0.862416</td>\n",
              "      <td>Ashland_Unit256</td>\n",
              "      <td>Normal</td>\n",
              "      <td>0</td>\n",
              "    </tr>\n",
              "    <tr>\n",
              "      <th>1</th>\n",
              "      <td>1</td>\n",
              "      <td>1</td>\n",
              "      <td>1</td>\n",
              "      <td>01/12/19 1:30</td>\n",
              "      <td>1</td>\n",
              "      <td>0.557169</td>\n",
              "      <td>0.698730</td>\n",
              "      <td>0.362369</td>\n",
              "      <td>0.669028</td>\n",
              "      <td>0.852046</td>\n",
              "      <td>0.557169</td>\n",
              "      <td>0.696311</td>\n",
              "      <td>0.393873</td>\n",
              "      <td>0.666139</td>\n",
              "      <td>0.863400</td>\n",
              "      <td>Ashland_Unit256</td>\n",
              "      <td>Normal</td>\n",
              "      <td>0</td>\n",
              "    </tr>\n",
              "    <tr>\n",
              "      <th>2</th>\n",
              "      <td>2</td>\n",
              "      <td>2</td>\n",
              "      <td>2</td>\n",
              "      <td>01/12/19 2:30</td>\n",
              "      <td>1</td>\n",
              "      <td>0.535969</td>\n",
              "      <td>0.689933</td>\n",
              "      <td>0.359558</td>\n",
              "      <td>0.687258</td>\n",
              "      <td>0.981185</td>\n",
              "      <td>0.535969</td>\n",
              "      <td>0.681694</td>\n",
              "      <td>0.409988</td>\n",
              "      <td>0.692569</td>\n",
              "      <td>0.991579</td>\n",
              "      <td>Ashland_Unit256</td>\n",
              "      <td>Normal</td>\n",
              "      <td>0</td>\n",
              "    </tr>\n",
              "    <tr>\n",
              "      <th>3</th>\n",
              "      <td>3</td>\n",
              "      <td>3</td>\n",
              "      <td>3</td>\n",
              "      <td>01/12/19 3:30</td>\n",
              "      <td>1</td>\n",
              "      <td>0.624680</td>\n",
              "      <td>0.784053</td>\n",
              "      <td>0.365235</td>\n",
              "      <td>0.710392</td>\n",
              "      <td>0.979863</td>\n",
              "      <td>0.624680</td>\n",
              "      <td>0.779855</td>\n",
              "      <td>0.415607</td>\n",
              "      <td>0.717141</td>\n",
              "      <td>0.990266</td>\n",
              "      <td>Ashland_Unit256</td>\n",
              "      <td>Normal</td>\n",
              "      <td>0</td>\n",
              "    </tr>\n",
              "    <tr>\n",
              "      <th>4</th>\n",
              "      <td>4</td>\n",
              "      <td>4</td>\n",
              "      <td>4</td>\n",
              "      <td>01/12/19 4:30</td>\n",
              "      <td>1</td>\n",
              "      <td>0.696433</td>\n",
              "      <td>0.863506</td>\n",
              "      <td>0.351867</td>\n",
              "      <td>0.719824</td>\n",
              "      <td>0.978053</td>\n",
              "      <td>0.696433</td>\n",
              "      <td>0.862847</td>\n",
              "      <td>0.404007</td>\n",
              "      <td>0.728259</td>\n",
              "      <td>0.988470</td>\n",
              "      <td>Ashland_Unit256</td>\n",
              "      <td>Normal</td>\n",
              "      <td>0</td>\n",
              "    </tr>\n",
              "  </tbody>\n",
              "</table>\n",
              "</div>"
            ],
            "text/plain": [
              "   Unnamed: 0  Unnamed: 0.1  ...  multi_class Binary\n",
              "0           0             0  ...       Normal      0\n",
              "1           1             1  ...       Normal      0\n",
              "2           2             2  ...       Normal      0\n",
              "3           3             3  ...       Normal      0\n",
              "4           4             4  ...       Normal      0\n",
              "\n",
              "[5 rows x 18 columns]"
            ]
          },
          "metadata": {
            "tags": []
          },
          "execution_count": 267
        }
      ]
    },
    {
      "cell_type": "code",
      "metadata": {
        "id": "2rIVEcnVFpI5",
        "colab_type": "code",
        "colab": {}
      },
      "source": [
        ""
      ],
      "execution_count": null,
      "outputs": []
    }
  ]
}