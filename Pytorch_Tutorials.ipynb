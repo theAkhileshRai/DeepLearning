{
  "nbformat": 4,
  "nbformat_minor": 0,
  "metadata": {
    "colab": {
      "provenance": [],
      "authorship_tag": "ABX9TyNUA+IKgiJnjF6wvT3GePdY",
      "include_colab_link": true
    },
    "kernelspec": {
      "name": "python3",
      "display_name": "Python 3"
    },
    "language_info": {
      "name": "python"
    }
  },
  "cells": [
    {
      "cell_type": "markdown",
      "metadata": {
        "id": "view-in-github",
        "colab_type": "text"
      },
      "source": [
        "<a href=\"https://colab.research.google.com/github/theAkhileshRai/DeepLearning/blob/master/Pytorch_Tutorials.ipynb\" target=\"_parent\"><img src=\"https://colab.research.google.com/assets/colab-badge.svg\" alt=\"Open In Colab\"/></a>"
      ]
    },
    {
      "cell_type": "code",
      "execution_count": 33,
      "metadata": {
        "id": "WsTaFmctm0iz"
      },
      "outputs": [],
      "source": [
        "# Pytorch object use Cuda"
      ]
    },
    {
      "cell_type": "code",
      "source": [
        "!nvidia-smi"
      ],
      "metadata": {
        "colab": {
          "base_uri": "https://localhost:8080/"
        },
        "id": "v8wP8yn0s9RV",
        "outputId": "6981f147-d52e-4abd-f3b3-1f6d733cbf84"
      },
      "execution_count": 34,
      "outputs": [
        {
          "output_type": "stream",
          "name": "stdout",
          "text": [
            "/bin/bash: line 1: nvidia-smi: command not found\n"
          ]
        }
      ]
    },
    {
      "cell_type": "code",
      "source": [
        "# check for GPU with Pytorch\n",
        "\n",
        "import torch\n",
        "torch.cuda.is_available()"
      ],
      "metadata": {
        "colab": {
          "base_uri": "https://localhost:8080/"
        },
        "id": "enkEEwBxtATM",
        "outputId": "20639811-5dca-488c-b516-7acfa161783c"
      },
      "execution_count": 35,
      "outputs": [
        {
          "output_type": "execute_result",
          "data": {
            "text/plain": [
              "False"
            ]
          },
          "metadata": {},
          "execution_count": 35
        }
      ]
    },
    {
      "cell_type": "code",
      "source": [
        "# Device Agnostic code\n",
        "device  = \"cuda\" if torch.cuda.is_available() else \"cpu\"\n",
        "device"
      ],
      "metadata": {
        "colab": {
          "base_uri": "https://localhost:8080/",
          "height": 36
        },
        "id": "eqU7LfNOtYpy",
        "outputId": "63de5637-a8d5-4b12-c4d9-b99f676c5c17"
      },
      "execution_count": 36,
      "outputs": [
        {
          "output_type": "execute_result",
          "data": {
            "text/plain": [
              "'cpu'"
            ],
            "application/vnd.google.colaboratory.intrinsic+json": {
              "type": "string"
            }
          },
          "metadata": {},
          "execution_count": 36
        }
      ]
    },
    {
      "cell_type": "code",
      "source": [
        "tensor1 = torch.tensor([1,23,34])\n",
        "tensor1"
      ],
      "metadata": {
        "colab": {
          "base_uri": "https://localhost:8080/"
        },
        "id": "ZdixQB5u4uL9",
        "outputId": "ac8a80e3-59e5-4f1c-ab62-533084e50b7d"
      },
      "execution_count": 37,
      "outputs": [
        {
          "output_type": "execute_result",
          "data": {
            "text/plain": [
              "tensor([ 1, 23, 34])"
            ]
          },
          "metadata": {},
          "execution_count": 37
        }
      ]
    },
    {
      "cell_type": "code",
      "source": [
        "tensor_on_gpu = tensor1.to(device)\n",
        "tensor_on_gpu"
      ],
      "metadata": {
        "colab": {
          "base_uri": "https://localhost:8080/"
        },
        "id": "EA3_PCE4BrA-",
        "outputId": "2e351328-c362-4438-a215-73987a8a8873"
      },
      "execution_count": 38,
      "outputs": [
        {
          "output_type": "execute_result",
          "data": {
            "text/plain": [
              "tensor([ 1, 23, 34])"
            ]
          },
          "metadata": {},
          "execution_count": 38
        }
      ]
    },
    {
      "cell_type": "code",
      "source": [
        "## Numpy\n",
        "tensor_on_gpu.cpu().numpy()"
      ],
      "metadata": {
        "colab": {
          "base_uri": "https://localhost:8080/"
        },
        "id": "DMFLWLe5B2MN",
        "outputId": "1eae45ef-4485-4676-e2e4-1bcf804aa95d"
      },
      "execution_count": 39,
      "outputs": [
        {
          "output_type": "execute_result",
          "data": {
            "text/plain": [
              "array([ 1, 23, 34])"
            ]
          },
          "metadata": {},
          "execution_count": 39
        }
      ]
    },
    {
      "cell_type": "markdown",
      "source": [
        "## Exercises and Curriculum"
      ],
      "metadata": {
        "id": "ZMDIlPklDHdI"
      }
    },
    {
      "cell_type": "code",
      "source": [
        "torch.rand([7,7])"
      ],
      "metadata": {
        "colab": {
          "base_uri": "https://localhost:8080/"
        },
        "id": "uQ7X91Y3CNlI",
        "outputId": "55fd901b-cc01-42f4-f1d5-f0ed03d4323a"
      },
      "execution_count": 40,
      "outputs": [
        {
          "output_type": "execute_result",
          "data": {
            "text/plain": [
              "tensor([[0.5117, 0.1585, 0.0758, 0.2247, 0.0624, 0.1816, 0.9998],\n",
              "        [0.5944, 0.6541, 0.0337, 0.1716, 0.3336, 0.5782, 0.0600],\n",
              "        [0.2846, 0.2007, 0.5014, 0.3139, 0.4654, 0.1612, 0.1568],\n",
              "        [0.2083, 0.3289, 0.1054, 0.9192, 0.4008, 0.9302, 0.6558],\n",
              "        [0.0766, 0.8460, 0.3624, 0.3083, 0.0850, 0.0029, 0.6431],\n",
              "        [0.3908, 0.6947, 0.0897, 0.8712, 0.1330, 0.4137, 0.6044],\n",
              "        [0.7581, 0.9037, 0.9555, 0.1035, 0.6258, 0.2849, 0.4452]])"
            ]
          },
          "metadata": {},
          "execution_count": 40
        }
      ]
    },
    {
      "cell_type": "code",
      "source": [
        "random_seed = 42\n",
        "SEED = torch.manual_seed(random_seed)\n",
        "a = torch.rand([7,7])\n",
        "b = torch.rand([7,7])\n",
        "torch.matmul(a,b)"
      ],
      "metadata": {
        "colab": {
          "base_uri": "https://localhost:8080/"
        },
        "id": "jasHd6BuEPlc",
        "outputId": "c857a880-c39b-4f15-b4b4-367986750ad2"
      },
      "execution_count": 41,
      "outputs": [
        {
          "output_type": "execute_result",
          "data": {
            "text/plain": [
              "tensor([[2.6637, 2.0426, 3.2242, 0.8659, 1.6420, 1.8317, 2.0220],\n",
              "        [3.0324, 2.3639, 3.7553, 0.7506, 1.6955, 2.3543, 2.2479],\n",
              "        [2.0545, 1.8111, 2.4874, 1.1800, 1.3461, 1.6582, 1.6263],\n",
              "        [1.2061, 1.2405, 1.5288, 0.9969, 0.9076, 1.1420, 1.0550],\n",
              "        [1.7111, 1.7710, 2.1770, 1.2673, 1.0596, 1.9356, 1.3243],\n",
              "        [2.2473, 2.0134, 2.7834, 1.2568, 1.5264, 1.8804, 1.8302],\n",
              "        [2.5960, 2.5335, 3.4685, 1.3261, 1.7587, 2.5078, 2.1685]])"
            ]
          },
          "metadata": {},
          "execution_count": 41
        }
      ]
    },
    {
      "cell_type": "markdown",
      "source": [
        "# Pytorch Workflow\n",
        "\n",
        "### 1. Data (prepare and load)\n",
        "### 2. Build Model\n",
        "### 3. Fit the model to the data (training)\n",
        "### 4. Evaluate the model (test)\n",
        "### 5. Deploy on Azure"
      ],
      "metadata": {
        "id": "JZA8liqKL932"
      }
    },
    {
      "cell_type": "code",
      "source": [
        "what_were_covering = {1: \"data (prepare and load)\",\n",
        "    2: \"build model\",\n",
        "    3: \"fitting the model to data (training)\",\n",
        "    4: \"making predictions and evaluating a model (inference)\",\n",
        "    5: \"saving and loading a model\",\n",
        "    6: \"putting it all together\"\n",
        "}"
      ],
      "metadata": {
        "id": "naEfrA7rEVyW"
      },
      "execution_count": 42,
      "outputs": []
    },
    {
      "cell_type": "code",
      "source": [
        "import torch\n",
        "import torch.nn as nn\n",
        "import torch.nn.functional as F\n",
        "import torch.optim as optim\n",
        "\n",
        "import matplotlib.pyplot as plt\n",
        "torch.__version__\n",
        "\n"
      ],
      "metadata": {
        "id": "0Ml24FDXLsmR",
        "colab": {
          "base_uri": "https://localhost:8080/",
          "height": 36
        },
        "outputId": "a4ca1147-f36f-4191-c911-e84d314bdc89"
      },
      "execution_count": 43,
      "outputs": [
        {
          "output_type": "execute_result",
          "data": {
            "text/plain": [
              "'2.3.1+cu121'"
            ],
            "application/vnd.google.colaboratory.intrinsic+json": {
              "type": "string"
            }
          },
          "metadata": {},
          "execution_count": 43
        }
      ]
    },
    {
      "cell_type": "code",
      "source": [
        "RANDOM_SEED = 42\n",
        "torch.manual_seed(RANDOM_SEED) #w=100\n",
        "X = torch.rand(1,100).mul(100).floor()\n",
        "y = X + 10"
      ],
      "metadata": {
        "id": "uMcOBzuNvKcT"
      },
      "execution_count": 44,
      "outputs": []
    },
    {
      "cell_type": "code",
      "source": [
        "X,y"
      ],
      "metadata": {
        "colab": {
          "base_uri": "https://localhost:8080/"
        },
        "id": "2cWF7aeIxpVZ",
        "outputId": "5c0b811e-5358-4d83-d037-3bba04ef5e4f"
      },
      "execution_count": 45,
      "outputs": [
        {
          "output_type": "execute_result",
          "data": {
            "text/plain": [
              "(tensor([[88., 91., 38., 95., 39., 60., 25., 79., 94., 13., 93., 59., 86., 56.,\n",
              "          74., 42., 88., 57., 26., 62., 26., 44., 29., 83., 10., 26., 35., 19.,\n",
              "          54.,  0., 95.,  7., 88., 58., 33., 80., 57., 90., 55., 34., 63., 36.,\n",
              "          71., 94., 78., 28., 78., 58., 75., 19.,  0., 30., 11., 91., 64., 70.,\n",
              "          65., 49., 89., 14., 53., 15., 65., 32., 65., 39., 91., 20., 20., 20.,\n",
              "          94., 66., 98.,  8.,  0., 10., 16., 70., 67., 91., 24., 15., 76., 29.,\n",
              "          80., 38., 78., 11., 24., 65., 60., 37., 79., 83., 13., 23., 95., 33.,\n",
              "          32.,  1.]]),\n",
              " tensor([[ 98., 101.,  48., 105.,  49.,  70.,  35.,  89., 104.,  23., 103.,  69.,\n",
              "           96.,  66.,  84.,  52.,  98.,  67.,  36.,  72.,  36.,  54.,  39.,  93.,\n",
              "           20.,  36.,  45.,  29.,  64.,  10., 105.,  17.,  98.,  68.,  43.,  90.,\n",
              "           67., 100.,  65.,  44.,  73.,  46.,  81., 104.,  88.,  38.,  88.,  68.,\n",
              "           85.,  29.,  10.,  40.,  21., 101.,  74.,  80.,  75.,  59.,  99.,  24.,\n",
              "           63.,  25.,  75.,  42.,  75.,  49., 101.,  30.,  30.,  30., 104.,  76.,\n",
              "          108.,  18.,  10.,  20.,  26.,  80.,  77., 101.,  34.,  25.,  86.,  39.,\n",
              "           90.,  48.,  88.,  21.,  34.,  75.,  70.,  47.,  89.,  93.,  23.,  33.,\n",
              "          105.,  43.,  42.,  11.]]))"
            ]
          },
          "metadata": {},
          "execution_count": 45
        }
      ]
    },
    {
      "cell_type": "code",
      "source": [
        "X.numpy()[0][0]"
      ],
      "metadata": {
        "colab": {
          "base_uri": "https://localhost:8080/"
        },
        "id": "HoDT_oGzy5yN",
        "outputId": "84b607e7-b268-4f87-a6b7-f478c654093b"
      },
      "execution_count": 46,
      "outputs": [
        {
          "output_type": "execute_result",
          "data": {
            "text/plain": [
              "88.0"
            ]
          },
          "metadata": {},
          "execution_count": 46
        }
      ]
    },
    {
      "cell_type": "code",
      "source": [
        "plt.plot(X.numpy()[0],y.numpy()[0])\n",
        "plt.show()"
      ],
      "metadata": {
        "colab": {
          "base_uri": "https://localhost:8080/",
          "height": 430
        },
        "id": "nKy3Op23x2Xd",
        "outputId": "77f2cfa2-8481-4c35-ec99-f71b5d591cc7"
      },
      "execution_count": 47,
      "outputs": [
        {
          "output_type": "display_data",
          "data": {
            "text/plain": [
              "<Figure size 640x480 with 1 Axes>"
            ],
            "image/png": "[encoded data removed]"
          },
          "metadata": {}
        }
      ]
    },
    {
      "cell_type": "code",
      "source": [
        "len(X[0])"
      ],
      "metadata": {
        "colab": {
          "base_uri": "https://localhost:8080/"
        },
        "id": "TCB4z1ep06Yy",
        "outputId": "2056024d-38bf-4a76-cc32-c8e4268c522e"
      },
      "execution_count": 48,
      "outputs": [
        {
          "output_type": "execute_result",
          "data": {
            "text/plain": [
              "100"
            ]
          },
          "metadata": {},
          "execution_count": 48
        }
      ]
    },
    {
      "cell_type": "code",
      "source": [
        "train_splot = 0.8\n",
        "train_size = int(train_splot*len(X[0]))\n",
        "train_size"
      ],
      "metadata": {
        "colab": {
          "base_uri": "https://localhost:8080/"
        },
        "id": "EJUgFh9Rx_5Q",
        "outputId": "28c3c8d3-9b63-4fe8-c04e-4567a097c810"
      },
      "execution_count": 49,
      "outputs": [
        {
          "output_type": "execute_result",
          "data": {
            "text/plain": [
              "80"
            ]
          },
          "metadata": {},
          "execution_count": 49
        }
      ]
    },
    {
      "cell_type": "code",
      "source": [
        "X_train,y_train = X[0][:train_size],y[0][:train_size]\n",
        "X_test,y_test = X[0][train_size:],y[0][train_size:]"
      ],
      "metadata": {
        "id": "x-0xuqKtyvvv"
      },
      "execution_count": 50,
      "outputs": []
    },
    {
      "cell_type": "code",
      "source": [
        "len(y_train)"
      ],
      "metadata": {
        "colab": {
          "base_uri": "https://localhost:8080/"
        },
        "id": "MI1GfowK7Tpo",
        "outputId": "e7162c3b-334a-4d21-f7ce-f9763f42ebc7"
      },
      "execution_count": 51,
      "outputs": [
        {
          "output_type": "execute_result",
          "data": {
            "text/plain": [
              "80"
            ]
          },
          "metadata": {},
          "execution_count": 51
        }
      ]
    },
    {
      "cell_type": "code",
      "source": [
        "X_test"
      ],
      "metadata": {
        "colab": {
          "base_uri": "https://localhost:8080/"
        },
        "id": "60TAsdA21RbW",
        "outputId": "bfcfee3a-5d83-4d0e-a76e-652f3e26a52c"
      },
      "execution_count": 52,
      "outputs": [
        {
          "output_type": "execute_result",
          "data": {
            "text/plain": [
              "tensor([24., 15., 76., 29., 80., 38., 78., 11., 24., 65., 60., 37., 79., 83.,\n",
              "        13., 23., 95., 33., 32.,  1.])"
            ]
          },
          "metadata": {},
          "execution_count": 52
        }
      ]
    },
    {
      "cell_type": "code",
      "source": [
        "y_test"
      ],
      "metadata": {
        "colab": {
          "base_uri": "https://localhost:8080/"
        },
        "id": "yBNqNaku7MmO",
        "outputId": "56feaf6e-12d4-4ff1-d756-33c472936da5"
      },
      "execution_count": 53,
      "outputs": [
        {
          "output_type": "execute_result",
          "data": {
            "text/plain": [
              "tensor([ 34.,  25.,  86.,  39.,  90.,  48.,  88.,  21.,  34.,  75.,  70.,  47.,\n",
              "         89.,  93.,  23.,  33., 105.,  43.,  42.,  11.])"
            ]
          },
          "metadata": {},
          "execution_count": 53
        }
      ]
    },
    {
      "cell_type": "code",
      "source": [
        "class LineaRegressionModel(nn.Module):\n",
        "    def __init__(self):\n",
        "        super().__init__()\n",
        "        self.weights = nn.Parameter(torch.randn(1,requires_grad=True))\n",
        "        self.bias = nn.Parameter(torch.randn(1,requires_grad=True))\n",
        "\n",
        "    def forward(self,x) -> torch.Tensor:\n",
        "        return self.weights*x + self.bias\n"
      ],
      "metadata": {
        "id": "oDLp4l6p1R4e"
      },
      "execution_count": 54,
      "outputs": []
    },
    {
      "cell_type": "code",
      "source": [
        "## Pytorch model building essentials\n",
        "\n",
        "model_0 = LineaRegressionModel()\n",
        "list(model_0.parameters())"
      ],
      "metadata": {
        "id": "FjVLydPaEkDu",
        "colab": {
          "base_uri": "https://localhost:8080/"
        },
        "outputId": "2f06ea39-1dc2-4df6-a008-e02fac1be819"
      },
      "execution_count": 55,
      "outputs": [
        {
          "output_type": "execute_result",
          "data": {
            "text/plain": [
              "[Parameter containing:\n",
              " tensor([-0.2858], requires_grad=True),\n",
              " Parameter containing:\n",
              " tensor([-1.0935], requires_grad=True)]"
            ]
          },
          "metadata": {},
          "execution_count": 55
        }
      ]
    },
    {
      "cell_type": "code",
      "source": [
        "### MAke predicgions using torch.inference_mode()\n",
        "\n",
        "with torch.inference_mode():\n",
        "    y_preds = model_0(X_test)\n",
        "y_preds"
      ],
      "metadata": {
        "colab": {
          "base_uri": "https://localhost:8080/"
        },
        "id": "SlFncGi820nE",
        "outputId": "1187b07f-86ee-4a5d-fd87-340e06eb27e6"
      },
      "execution_count": 56,
      "outputs": [
        {
          "output_type": "execute_result",
          "data": {
            "text/plain": [
              "tensor([ -7.9516,  -5.3798, -22.8109,  -9.3804, -23.9539, -11.9522, -23.3824,\n",
              "         -4.2368,  -7.9516, -19.6676, -18.2388, -11.6664, -23.6682, -24.8112,\n",
              "         -4.8083,  -7.6659, -28.2402, -10.5234, -10.2377,  -1.3793])"
            ]
          },
          "metadata": {},
          "execution_count": 56
        }
      ]
    },
    {
      "cell_type": "code",
      "source": [
        "import math"
      ],
      "metadata": {
        "id": "5aE2JJe_7p-u"
      },
      "execution_count": 57,
      "outputs": []
    },
    {
      "cell_type": "code",
      "source": [
        "math.exp(-5.3798)"
      ],
      "metadata": {
        "colab": {
          "base_uri": "https://localhost:8080/"
        },
        "id": "AkqJzCsn7lPu",
        "outputId": "3597c229-a06c-4a96-fdda-4d577859fcda"
      },
      "execution_count": 58,
      "outputs": [
        {
          "output_type": "execute_result",
          "data": {
            "text/plain": [
              "0.004608743586541331"
            ]
          },
          "metadata": {},
          "execution_count": 58
        }
      ]
    },
    {
      "cell_type": "code",
      "source": [
        "y_test"
      ],
      "metadata": {
        "colab": {
          "base_uri": "https://localhost:8080/"
        },
        "id": "ZtdWpbX567Xt",
        "outputId": "5177a1b4-3a18-4a96-f823-ec95372d225c"
      },
      "execution_count": 59,
      "outputs": [
        {
          "output_type": "execute_result",
          "data": {
            "text/plain": [
              "tensor([ 34.,  25.,  86.,  39.,  90.,  48.,  88.,  21.,  34.,  75.,  70.,  47.,\n",
              "         89.,  93.,  23.,  33., 105.,  43.,  42.,  11.])"
            ]
          },
          "metadata": {},
          "execution_count": 59
        }
      ]
    },
    {
      "cell_type": "code",
      "source": [],
      "metadata": {
        "id": "7QLQSi2ZANQa"
      },
      "execution_count": 59,
      "outputs": []
    },
    {
      "cell_type": "code",
      "source": [
        "# how does model perform use loss function\n",
        "\n",
        "loss_fn = nn.L1Loss()\n",
        "optimizer = optim.SGD(params=model_0.parameters(),lr=0.01)\n",
        "# loss = loss_fn(y_preds,y_test,input_lenths=len())\n",
        "# loss"
      ],
      "metadata": {
        "id": "iba6HgU_9fmT"
      },
      "execution_count": 66,
      "outputs": []
    },
    {
      "cell_type": "code",
      "source": [
        "epochs = 5000\n",
        "\n",
        "for epoch in range(epochs):\n",
        "    ## training\n",
        "    model_0.train()\n",
        "    y_pred = model_0(X_train)\n",
        "    loss = loss_fn(y_pred,y_train)\n",
        "    optimizer.zero_grad()\n",
        "    loss.backward()\n",
        "    optimizer.step()\n",
        "    ## testing\n",
        "    model_0.eval()\n",
        "    with torch.inference_mode():\n",
        "        test_pred = model_0(X_test)\n",
        "        test_loss = loss_fn(test_pred,y_test)"
      ],
      "metadata": {
        "id": "HIGpuqYrEoII"
      },
      "execution_count": 71,
      "outputs": []
    },
    {
      "cell_type": "code",
      "source": [
        "y_test\n"
      ],
      "metadata": {
        "colab": {
          "base_uri": "https://localhost:8080/"
        },
        "id": "0bj7029Jkw47",
        "outputId": "0190afcc-4d3b-4128-ab49-65d2ee4eab84"
      },
      "execution_count": 72,
      "outputs": [
        {
          "output_type": "execute_result",
          "data": {
            "text/plain": [
              "tensor([ 34.,  25.,  86.,  39.,  90.,  48.,  88.,  21.,  34.,  75.,  70.,  47.,\n",
              "         89.,  93.,  23.,  33., 105.,  43.,  42.,  11.])"
            ]
          },
          "metadata": {},
          "execution_count": 72
        }
      ]
    },
    {
      "cell_type": "code",
      "source": [
        "loss"
      ],
      "metadata": {
        "colab": {
          "base_uri": "https://localhost:8080/"
        },
        "id": "XVrFJwXa-C0H",
        "outputId": "e836f34a-91ca-45a4-ff66-8ce9c014947d"
      },
      "execution_count": 76,
      "outputs": [
        {
          "output_type": "execute_result",
          "data": {
            "text/plain": [
              "tensor(25.6004, grad_fn=<MeanBackward0>)"
            ]
          },
          "metadata": {},
          "execution_count": 76
        }
      ]
    },
    {
      "cell_type": "code",
      "source": [
        "test_pred\n"
      ],
      "metadata": {
        "colab": {
          "base_uri": "https://localhost:8080/"
        },
        "id": "COpLaQ5ClDPt",
        "outputId": "6f01800e-d632-41f5-e207-6727201bb3df"
      },
      "execution_count": 73,
      "outputs": [
        {
          "output_type": "execute_result",
          "data": {
            "text/plain": [
              "tensor([ 30.8109,  21.5640,  84.2369,  35.9480,  88.3466,  45.1948,  86.2917,\n",
              "         17.4543,  30.8109,  72.9352,  67.7981,  44.1674,  87.3192,  91.4289,\n",
              "         19.5092,  29.7834, 103.7579,  40.0577,  39.0302,   7.1801])"
            ]
          },
          "metadata": {},
          "execution_count": 73
        }
      ]
    },
    {
      "cell_type": "code",
      "source": [
        "plt.plot(test_pred.numpy(),y_test.numpy())\n",
        "plt.show()"
      ],
      "metadata": {
        "colab": {
          "base_uri": "https://localhost:8080/",
          "height": 430
        },
        "id": "IEUq5ebjlExQ",
        "outputId": "468bd502-960e-444c-cff4-b0577b08a492"
      },
      "execution_count": 75,
      "outputs": [
        {
          "output_type": "display_data",
          "data": {
            "text/plain": [
              "<Figure size 640x480 with 1 Axes>"
            ],
            "image/png": "[encoded data removed]"
          },
          "metadata": {}
        }
      ]
    },
    {
      "cell_type": "code",
      "source": [],
      "metadata": {
        "id": "UVRqLm7QlUXo"
      },
      "execution_count": null,
      "outputs": []
    }
  ]
}