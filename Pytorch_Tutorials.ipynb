{
  "nbformat": 4,
  "nbformat_minor": 0,
  "metadata": {
    "colab": {
      "provenance": [],
      "authorship_tag": "ABX9TyMU1CesOsorox3Y6d7ZvFpL",
      "include_colab_link": true
    },
    "kernelspec": {
      "name": "python3",
      "display_name": "Python 3"
    },
    "language_info": {
      "name": "python"
    }
  },
  "cells": [
    {
      "cell_type": "markdown",
      "metadata": {
        "id": "view-in-github",
        "colab_type": "text"
      },
      "source": [
        "<a href=\"https://colab.research.google.com/github/theAkhileshRai/DeepLearning/blob/master/Pytorch_Tutorials.ipynb\" target=\"_parent\"><img src=\"https://colab.research.google.com/assets/colab-badge.svg\" alt=\"Open In Colab\"/></a>"
      ]
    },
    {
      "cell_type": "code",
      "execution_count": 1,
      "metadata": {
        "id": "WsTaFmctm0iz"
      },
      "outputs": [],
      "source": [
        "# Pytorch object use Cuda"
      ]
    },
    {
      "cell_type": "code",
      "source": [
        "!nvidia-smi"
      ],
      "metadata": {
        "colab": {
          "base_uri": "https://localhost:8080/"
        },
        "id": "v8wP8yn0s9RV",
        "outputId": "b94e0f8f-8a44-466e-f088-4dd0c5cab685"
      },
      "execution_count": 2,
      "outputs": [
        {
          "output_type": "stream",
          "name": "stdout",
          "text": [
            "/bin/bash: line 1: nvidia-smi: command not found\n"
          ]
        }
      ]
    },
    {
      "cell_type": "code",
      "source": [
        "# check for GPU with Pytorch\n",
        "\n",
        "import torch\n",
        "torch.cuda.is_available()"
      ],
      "metadata": {
        "colab": {
          "base_uri": "https://localhost:8080/"
        },
        "id": "enkEEwBxtATM",
        "outputId": "6ca594e9-c792-433a-ee35-8370bcb3b686"
      },
      "execution_count": 3,
      "outputs": [
        {
          "output_type": "execute_result",
          "data": {
            "text/plain": [
              "False"
            ]
          },
          "metadata": {},
          "execution_count": 3
        }
      ]
    },
    {
      "cell_type": "code",
      "source": [
        "# Device Agnostic code\n",
        "device  = \"cuda\" if torch.cuda.is_available() else \"cpu\"\n",
        "device"
      ],
      "metadata": {
        "colab": {
          "base_uri": "https://localhost:8080/",
          "height": 36
        },
        "id": "eqU7LfNOtYpy",
        "outputId": "46d3deac-5b7f-424e-dc94-a93eb4e8bd61"
      },
      "execution_count": 4,
      "outputs": [
        {
          "output_type": "execute_result",
          "data": {
            "text/plain": [
              "'cpu'"
            ],
            "application/vnd.google.colaboratory.intrinsic+json": {
              "type": "string"
            }
          },
          "metadata": {},
          "execution_count": 4
        }
      ]
    },
    {
      "cell_type": "code",
      "source": [
        "tensor1 = torch.tensor([1,23,34])\n",
        "tensor1"
      ],
      "metadata": {
        "colab": {
          "base_uri": "https://localhost:8080/"
        },
        "id": "ZdixQB5u4uL9",
        "outputId": "b0cfb9d4-de26-4f4e-b559-f01fbd27d2dc"
      },
      "execution_count": 5,
      "outputs": [
        {
          "output_type": "execute_result",
          "data": {
            "text/plain": [
              "tensor([ 1, 23, 34])"
            ]
          },
          "metadata": {},
          "execution_count": 5
        }
      ]
    },
    {
      "cell_type": "code",
      "source": [
        "tensor_on_gpu = tensor1.to(device)\n",
        "tensor_on_gpu"
      ],
      "metadata": {
        "colab": {
          "base_uri": "https://localhost:8080/"
        },
        "id": "EA3_PCE4BrA-",
        "outputId": "b688d36a-ad24-4316-c520-7f26b42b7d4e"
      },
      "execution_count": 6,
      "outputs": [
        {
          "output_type": "execute_result",
          "data": {
            "text/plain": [
              "tensor([ 1, 23, 34])"
            ]
          },
          "metadata": {},
          "execution_count": 6
        }
      ]
    },
    {
      "cell_type": "code",
      "source": [
        "## Numpy\n",
        "tensor_on_gpu.cpu().numpy()"
      ],
      "metadata": {
        "colab": {
          "base_uri": "https://localhost:8080/"
        },
        "id": "DMFLWLe5B2MN",
        "outputId": "e70d5ca8-3dc6-4e19-e488-60906dae5ba2"
      },
      "execution_count": 7,
      "outputs": [
        {
          "output_type": "execute_result",
          "data": {
            "text/plain": [
              "array([ 1, 23, 34])"
            ]
          },
          "metadata": {},
          "execution_count": 7
        }
      ]
    },
    {
      "cell_type": "markdown",
      "source": [
        "## Exercises and Curriculum"
      ],
      "metadata": {
        "id": "ZMDIlPklDHdI"
      }
    },
    {
      "cell_type": "code",
      "source": [
        "torch.rand([7,7])"
      ],
      "metadata": {
        "colab": {
          "base_uri": "https://localhost:8080/"
        },
        "id": "uQ7X91Y3CNlI",
        "outputId": "47b05b75-603c-4a4e-cf7f-a29dd52e6e0a"
      },
      "execution_count": 8,
      "outputs": [
        {
          "output_type": "execute_result",
          "data": {
            "text/plain": [
              "tensor([[0.9409, 0.3564, 0.2527, 0.7840, 0.0974, 0.9207, 0.5554],\n",
              "        [0.1248, 0.0251, 0.4920, 0.6834, 0.4239, 0.1264, 0.6957],\n",
              "        [0.4921, 0.2999, 0.4034, 0.4622, 0.7331, 0.6205, 0.2430],\n",
              "        [0.2035, 0.2268, 0.6078, 0.8359, 0.1490, 0.6356, 0.1165],\n",
              "        [0.3115, 0.4614, 0.7275, 0.0679, 0.8200, 0.5603, 0.5569],\n",
              "        [0.2508, 0.5991, 0.7382, 0.9490, 0.7506, 0.4789, 0.4421],\n",
              "        [0.3019, 0.8020, 0.9287, 0.5680, 0.8216, 0.1944, 0.2229]])"
            ]
          },
          "metadata": {},
          "execution_count": 8
        }
      ]
    },
    {
      "cell_type": "code",
      "source": [
        "random_seed = 42\n",
        "SEED = torch.manual_seed(random_seed)\n",
        "a = torch.rand([7,7])\n",
        "b = torch.rand([7,7])\n",
        "torch.matmul(a,b)"
      ],
      "metadata": {
        "colab": {
          "base_uri": "https://localhost:8080/"
        },
        "id": "jasHd6BuEPlc",
        "outputId": "71b94ea8-f41b-4fd2-9a83-642d925dc7c4"
      },
      "execution_count": 9,
      "outputs": [
        {
          "output_type": "execute_result",
          "data": {
            "text/plain": [
              "tensor([[2.6637, 2.0426, 3.2242, 0.8659, 1.6420, 1.8317, 2.0220],\n",
              "        [3.0324, 2.3639, 3.7553, 0.7506, 1.6955, 2.3543, 2.2479],\n",
              "        [2.0545, 1.8111, 2.4874, 1.1800, 1.3461, 1.6582, 1.6263],\n",
              "        [1.2061, 1.2405, 1.5288, 0.9969, 0.9076, 1.1420, 1.0550],\n",
              "        [1.7111, 1.7710, 2.1770, 1.2673, 1.0596, 1.9356, 1.3243],\n",
              "        [2.2473, 2.0134, 2.7834, 1.2568, 1.5264, 1.8804, 1.8302],\n",
              "        [2.5960, 2.5335, 3.4685, 1.3261, 1.7587, 2.5078, 2.1685]])"
            ]
          },
          "metadata": {},
          "execution_count": 9
        }
      ]
    },
    {
      "cell_type": "markdown",
      "source": [
        "# Pytorch Workflow\n",
        "\n",
        "### 1. Data (prepare and load)\n",
        "### 2. Build Model\n",
        "### 3. Fit the model to the data (training)\n",
        "### 4. Evaluate the model (test)\n",
        "### 5. Deploy on Azure"
      ],
      "metadata": {
        "id": "JZA8liqKL932"
      }
    },
    {
      "cell_type": "code",
      "source": [
        "what_were_covering = {1: \"data (prepare and load)\",\n",
        "    2: \"build model\",\n",
        "    3: \"fitting the model to data (training)\",\n",
        "    4: \"making predictions and evaluating a model (inference)\",\n",
        "    5: \"saving and loading a model\",\n",
        "    6: \"putting it all together\"\n",
        "}"
      ],
      "metadata": {
        "id": "naEfrA7rEVyW"
      },
      "execution_count": 10,
      "outputs": []
    },
    {
      "cell_type": "code",
      "source": [
        "import torch\n",
        "import torch.nn as nn\n",
        "import torch.nn.functional as F\n",
        "import torch.optim as optim\n",
        "\n",
        "import matplotlib.pyplot as plt\n",
        "torch.__version__\n",
        "\n"
      ],
      "metadata": {
        "id": "0Ml24FDXLsmR",
        "colab": {
          "base_uri": "https://localhost:8080/",
          "height": 36
        },
        "outputId": "2c35657a-9ca1-4ced-a1ac-6b6f61d2fd43"
      },
      "execution_count": 11,
      "outputs": [
        {
          "output_type": "execute_result",
          "data": {
            "text/plain": [
              "'2.3.1+cu121'"
            ],
            "application/vnd.google.colaboratory.intrinsic+json": {
              "type": "string"
            }
          },
          "metadata": {},
          "execution_count": 11
        }
      ]
    },
    {
      "cell_type": "code",
      "source": [
        "RANDOM_SEED = 42\n",
        "torch.manual_seed(RANDOM_SEED) #w=100\n",
        "X = torch.rand(1,100).mul(100).floor()\n",
        "y = X + 10"
      ],
      "metadata": {
        "id": "uMcOBzuNvKcT"
      },
      "execution_count": 12,
      "outputs": []
    },
    {
      "cell_type": "code",
      "source": [
        "X,y"
      ],
      "metadata": {
        "colab": {
          "base_uri": "https://localhost:8080/"
        },
        "id": "2cWF7aeIxpVZ",
        "outputId": "923f6113-acf4-4141-99a3-e61a1fa4611d"
      },
      "execution_count": 13,
      "outputs": [
        {
          "output_type": "execute_result",
          "data": {
            "text/plain": [
              "(tensor([[88., 91., 38., 95., 39., 60., 25., 79., 94., 13., 93., 59., 86., 56.,\n",
              "          74., 42., 88., 57., 26., 62., 26., 44., 29., 83., 10., 26., 35., 19.,\n",
              "          54.,  0., 95.,  7., 88., 58., 33., 80., 57., 90., 55., 34., 63., 36.,\n",
              "          71., 94., 78., 28., 78., 58., 75., 19.,  0., 30., 11., 91., 64., 70.,\n",
              "          65., 49., 89., 14., 53., 15., 65., 32., 65., 39., 91., 20., 20., 20.,\n",
              "          94., 66., 98.,  8.,  0., 10., 16., 70., 67., 91., 24., 15., 76., 29.,\n",
              "          80., 38., 78., 11., 24., 65., 60., 37., 79., 83., 13., 23., 95., 33.,\n",
              "          32.,  1.]]),\n",
              " tensor([[ 98., 101.,  48., 105.,  49.,  70.,  35.,  89., 104.,  23., 103.,  69.,\n",
              "           96.,  66.,  84.,  52.,  98.,  67.,  36.,  72.,  36.,  54.,  39.,  93.,\n",
              "           20.,  36.,  45.,  29.,  64.,  10., 105.,  17.,  98.,  68.,  43.,  90.,\n",
              "           67., 100.,  65.,  44.,  73.,  46.,  81., 104.,  88.,  38.,  88.,  68.,\n",
              "           85.,  29.,  10.,  40.,  21., 101.,  74.,  80.,  75.,  59.,  99.,  24.,\n",
              "           63.,  25.,  75.,  42.,  75.,  49., 101.,  30.,  30.,  30., 104.,  76.,\n",
              "          108.,  18.,  10.,  20.,  26.,  80.,  77., 101.,  34.,  25.,  86.,  39.,\n",
              "           90.,  48.,  88.,  21.,  34.,  75.,  70.,  47.,  89.,  93.,  23.,  33.,\n",
              "          105.,  43.,  42.,  11.]]))"
            ]
          },
          "metadata": {},
          "execution_count": 13
        }
      ]
    },
    {
      "cell_type": "code",
      "source": [
        "X.numpy()[0][0]"
      ],
      "metadata": {
        "colab": {
          "base_uri": "https://localhost:8080/"
        },
        "id": "HoDT_oGzy5yN",
        "outputId": "67f6c4b1-5d6d-4fd0-d148-897bb7efa1ea"
      },
      "execution_count": 14,
      "outputs": [
        {
          "output_type": "execute_result",
          "data": {
            "text/plain": [
              "88.0"
            ]
          },
          "metadata": {},
          "execution_count": 14
        }
      ]
    },
    {
      "cell_type": "code",
      "source": [
        "plt.plot(X.numpy()[0],y.numpy()[0])\n",
        "plt.show()"
      ],
      "metadata": {
        "colab": {
          "base_uri": "https://localhost:8080/",
          "height": 430
        },
        "id": "nKy3Op23x2Xd",
        "outputId": "721251f8-cc6a-4916-d826-0c413dbd8938"
      },
      "execution_count": 15,
      "outputs": [
        {
          "output_type": "display_data",
          "data": {
            "text/plain": [
              "<Figure size 640x480 with 1 Axes>"
            ],
            "image/png": "[encoded data removed]"
          },
          "metadata": {}
        }
      ]
    },
    {
      "cell_type": "code",
      "source": [
        "len(X[0])"
      ],
      "metadata": {
        "colab": {
          "base_uri": "https://localhost:8080/"
        },
        "id": "TCB4z1ep06Yy",
        "outputId": "b71cacfe-e3c1-4a7d-9af8-262354ebe9f8"
      },
      "execution_count": 16,
      "outputs": [
        {
          "output_type": "execute_result",
          "data": {
            "text/plain": [
              "100"
            ]
          },
          "metadata": {},
          "execution_count": 16
        }
      ]
    },
    {
      "cell_type": "code",
      "source": [
        "train_splot = 0.8\n",
        "train_size = int(train_splot*len(X[0]))\n",
        "train_size"
      ],
      "metadata": {
        "colab": {
          "base_uri": "https://localhost:8080/"
        },
        "id": "EJUgFh9Rx_5Q",
        "outputId": "c23601e4-b567-47f0-ba77-e1bf01ea4f77"
      },
      "execution_count": 17,
      "outputs": [
        {
          "output_type": "execute_result",
          "data": {
            "text/plain": [
              "80"
            ]
          },
          "metadata": {},
          "execution_count": 17
        }
      ]
    },
    {
      "cell_type": "code",
      "source": [
        "X_train,y_train = X[0][:train_size],y[0][:train_size]\n",
        "X_test,y_test = X[0][train_size:],y[0][train_size:]"
      ],
      "metadata": {
        "id": "x-0xuqKtyvvv"
      },
      "execution_count": 18,
      "outputs": []
    },
    {
      "cell_type": "code",
      "source": [
        "len(y_train)"
      ],
      "metadata": {
        "colab": {
          "base_uri": "https://localhost:8080/"
        },
        "id": "MI1GfowK7Tpo",
        "outputId": "e2a7a061-3b33-43ee-8e0f-109c4b9573f1"
      },
      "execution_count": 19,
      "outputs": [
        {
          "output_type": "execute_result",
          "data": {
            "text/plain": [
              "80"
            ]
          },
          "metadata": {},
          "execution_count": 19
        }
      ]
    },
    {
      "cell_type": "code",
      "source": [
        "X_test"
      ],
      "metadata": {
        "colab": {
          "base_uri": "https://localhost:8080/"
        },
        "id": "60TAsdA21RbW",
        "outputId": "241ebecf-5e34-4c7f-ed9a-0e40d0375b25"
      },
      "execution_count": 20,
      "outputs": [
        {
          "output_type": "execute_result",
          "data": {
            "text/plain": [
              "tensor([24., 15., 76., 29., 80., 38., 78., 11., 24., 65., 60., 37., 79., 83.,\n",
              "        13., 23., 95., 33., 32.,  1.])"
            ]
          },
          "metadata": {},
          "execution_count": 20
        }
      ]
    },
    {
      "cell_type": "code",
      "source": [
        "y_test"
      ],
      "metadata": {
        "colab": {
          "base_uri": "https://localhost:8080/"
        },
        "id": "yBNqNaku7MmO",
        "outputId": "4739657e-70a0-4327-f1b8-1041dc149c55"
      },
      "execution_count": 21,
      "outputs": [
        {
          "output_type": "execute_result",
          "data": {
            "text/plain": [
              "tensor([ 34.,  25.,  86.,  39.,  90.,  48.,  88.,  21.,  34.,  75.,  70.,  47.,\n",
              "         89.,  93.,  23.,  33., 105.,  43.,  42.,  11.])"
            ]
          },
          "metadata": {},
          "execution_count": 21
        }
      ]
    },
    {
      "cell_type": "code",
      "source": [
        "class LineaRegressionModel(nn.Module):\n",
        "    def __init__(self):\n",
        "        super().__init__()\n",
        "        self.weights = nn.Parameter(torch.randn(1,requires_grad=True))\n",
        "        self.bias = nn.Parameter(torch.randn(1,requires_grad=True))\n",
        "\n",
        "    def forward(self,x) -> torch.Tensor:\n",
        "        return self.weights*x + self.bias\n"
      ],
      "metadata": {
        "id": "oDLp4l6p1R4e"
      },
      "execution_count": 22,
      "outputs": []
    },
    {
      "cell_type": "code",
      "source": [
        "## Pytorch model building essentials\n",
        "\n",
        "model_0 = LineaRegressionModel()\n",
        "list(model_0.parameters())"
      ],
      "metadata": {
        "id": "FjVLydPaEkDu",
        "colab": {
          "base_uri": "https://localhost:8080/"
        },
        "outputId": "aa60cc19-0244-458e-950a-b179e53fa923"
      },
      "execution_count": 23,
      "outputs": [
        {
          "output_type": "execute_result",
          "data": {
            "text/plain": [
              "[Parameter containing:\n",
              " tensor([-0.2858], requires_grad=True),\n",
              " Parameter containing:\n",
              " tensor([-1.0935], requires_grad=True)]"
            ]
          },
          "metadata": {},
          "execution_count": 23
        }
      ]
    },
    {
      "cell_type": "code",
      "source": [
        "### MAke predicgions using torch.inference_mode()\n",
        "\n",
        "with torch.inference_mode():\n",
        "    y_preds = model_0(X_test)\n",
        "y_preds"
      ],
      "metadata": {
        "colab": {
          "base_uri": "https://localhost:8080/"
        },
        "id": "SlFncGi820nE",
        "outputId": "766cbdbf-d469-4f1c-d354-931f55e19752"
      },
      "execution_count": 24,
      "outputs": [
        {
          "output_type": "execute_result",
          "data": {
            "text/plain": [
              "tensor([ -7.9516,  -5.3798, -22.8109,  -9.3804, -23.9539, -11.9522, -23.3824,\n",
              "         -4.2368,  -7.9516, -19.6676, -18.2388, -11.6664, -23.6682, -24.8112,\n",
              "         -4.8083,  -7.6659, -28.2402, -10.5234, -10.2377,  -1.3793])"
            ]
          },
          "metadata": {},
          "execution_count": 24
        }
      ]
    },
    {
      "cell_type": "code",
      "source": [
        "import math"
      ],
      "metadata": {
        "id": "5aE2JJe_7p-u"
      },
      "execution_count": 25,
      "outputs": []
    },
    {
      "cell_type": "code",
      "source": [
        "math.exp(-5.3798)"
      ],
      "metadata": {
        "colab": {
          "base_uri": "https://localhost:8080/"
        },
        "id": "AkqJzCsn7lPu",
        "outputId": "37468d22-8ede-4a21-ebe5-1787e66c6103"
      },
      "execution_count": 26,
      "outputs": [
        {
          "output_type": "execute_result",
          "data": {
            "text/plain": [
              "0.004608743586541331"
            ]
          },
          "metadata": {},
          "execution_count": 26
        }
      ]
    },
    {
      "cell_type": "code",
      "source": [
        "y_test"
      ],
      "metadata": {
        "colab": {
          "base_uri": "https://localhost:8080/"
        },
        "id": "ZtdWpbX567Xt",
        "outputId": "838203bb-14f6-4139-bc39-02b9415eef69"
      },
      "execution_count": 27,
      "outputs": [
        {
          "output_type": "execute_result",
          "data": {
            "text/plain": [
              "tensor([ 34.,  25.,  86.,  39.,  90.,  48.,  88.,  21.,  34.,  75.,  70.,  47.,\n",
              "         89.,  93.,  23.,  33., 105.,  43.,  42.,  11.])"
            ]
          },
          "metadata": {},
          "execution_count": 27
        }
      ]
    },
    {
      "cell_type": "code",
      "source": [],
      "metadata": {
        "id": "7QLQSi2ZANQa"
      },
      "execution_count": 27,
      "outputs": []
    },
    {
      "cell_type": "code",
      "source": [
        "# how does model perform use loss function\n",
        "\n",
        "loss_fn = nn.L1Loss()\n",
        "optimizer = optim.SGD(params=model_0.parameters(),lr=0.001)\n",
        "loss = loss_fn(y_preds,y_test)\n",
        "loss"
      ],
      "metadata": {
        "colab": {
          "base_uri": "https://localhost:8080/"
        },
        "id": "iba6HgU_9fmT",
        "outputId": "9fa62868-30b6-4e75-d5c8-91bc25cd8e30"
      },
      "execution_count": 50,
      "outputs": [
        {
          "output_type": "execute_result",
          "data": {
            "text/plain": [
              "tensor(68.6953)"
            ]
          },
          "metadata": {},
          "execution_count": 50
        }
      ]
    },
    {
      "cell_type": "code",
      "source": [
        "epochs = 10\n",
        "\n",
        "for epoch in range(epochs):\n",
        "    ## training\n",
        "    model_0.train()\n",
        "    y_pred = model_0(X_train)\n",
        "    loss = loss_fn(y_pred,y_train)\n",
        "    optimizer.zero_grad()\n",
        "    loss.backward()\n",
        "    optimizer.step()\n",
        "    ## testing\n",
        "    model_0.eval()\n",
        "    with torch.inference_mode():\n",
        "        test_pred = model_0(X_test)\n",
        "        test_loss = loss_fn(test_pred,y_test)"
      ],
      "metadata": {
        "id": "HIGpuqYrEoII"
      },
      "execution_count": 51,
      "outputs": []
    },
    {
      "cell_type": "code",
      "source": [
        "y_test\n"
      ],
      "metadata": {
        "colab": {
          "base_uri": "https://localhost:8080/"
        },
        "id": "0bj7029Jkw47",
        "outputId": "0103a52f-a473-4135-ed6b-35abcd71af9f"
      },
      "execution_count": 47,
      "outputs": [
        {
          "output_type": "execute_result",
          "data": {
            "text/plain": [
              "tensor([ 34.,  25.,  86.,  39.,  90.,  48.,  88.,  21.,  34.,  75.,  70.,  47.,\n",
              "         89.,  93.,  23.,  33., 105.,  43.,  42.,  11.])"
            ]
          },
          "metadata": {},
          "execution_count": 47
        }
      ]
    },
    {
      "cell_type": "code",
      "source": [
        "test_pred\n"
      ],
      "metadata": {
        "colab": {
          "base_uri": "https://localhost:8080/"
        },
        "id": "COpLaQ5ClDPt",
        "outputId": "3a35ebcb-47ab-4034-f58a-621ac1aa8089"
      },
      "execution_count": 48,
      "outputs": [
        {
          "output_type": "execute_result",
          "data": {
            "text/plain": [
              "tensor([ 26.8119,  16.4938,  86.4272,  32.5441,  91.0130,  42.8621,  88.7201,\n",
              "         11.9080,  26.8119,  73.8163,  68.0840,  41.7157,  89.8665,  94.4523,\n",
              "         14.2009,  25.6654, 108.2097,  37.1299,  35.9835,   0.4435])"
            ]
          },
          "metadata": {},
          "execution_count": 48
        }
      ]
    },
    {
      "cell_type": "code",
      "source": [
        "plt.plot(test_pred.numpy())\n",
        "plt.show()"
      ],
      "metadata": {
        "colab": {
          "base_uri": "https://localhost:8080/",
          "height": 430
        },
        "id": "IEUq5ebjlExQ",
        "outputId": "d4679641-7d6b-48af-fa61-14f3290c613d"
      },
      "execution_count": 44,
      "outputs": [
        {
          "output_type": "display_data",
          "data": {
            "text/plain": [
              "<Figure size 640x480 with 1 Axes>"
            ],
            "image/png": "[encoded data removed]"
          },
          "metadata": {}
        }
      ]
    },
    {
      "cell_type": "code",
      "source": [],
      "metadata": {
        "id": "UVRqLm7QlUXo"
      },
      "execution_count": null,
      "outputs": []
    }
  ]
}