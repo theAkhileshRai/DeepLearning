{
  "nbformat": 4,
  "nbformat_minor": 0,
  "metadata": {
    "colab": {
      "provenance": [],
      "authorship_tag": "ABX9TyOIiRhCaJytyO2bbLN+z/Uo",
      "include_colab_link": true
    },
    "kernelspec": {
      "name": "python3",
      "display_name": "Python 3"
    },
    "language_info": {
      "name": "python"
    }
  },
  "cells": [
    {
      "cell_type": "markdown",
      "metadata": {
        "id": "view-in-github",
        "colab_type": "text"
      },
      "source": [
        "<a href=\"https://colab.research.google.com/github/theAkhileshRai/DeepLearning/blob/master/Pytorch_Tutorials.ipynb\" target=\"_parent\"><img src=\"https://colab.research.google.com/assets/colab-badge.svg\" alt=\"Open In Colab\"/></a>"
      ]
    },
    {
      "cell_type": "code",
      "execution_count": 1,
      "metadata": {
        "id": "WsTaFmctm0iz"
      },
      "outputs": [],
      "source": [
        "# Pytorch object use Cuda"
      ]
    },
    {
      "cell_type": "code",
      "source": [
        "!nvidia-smi"
      ],
      "metadata": {
        "colab": {
          "base_uri": "https://localhost:8080/"
        },
        "id": "v8wP8yn0s9RV",
        "outputId": "43a2a2b2-fcbb-42ba-c254-00462beefe14"
      },
      "execution_count": 2,
      "outputs": [
        {
          "output_type": "stream",
          "name": "stdout",
          "text": [
            "/bin/bash: line 1: nvidia-smi: command not found\n"
          ]
        }
      ]
    },
    {
      "cell_type": "code",
      "source": [
        "# check for GPU with Pytorch\n",
        "\n",
        "import torch\n",
        "torch.cuda.is_available()"
      ],
      "metadata": {
        "colab": {
          "base_uri": "https://localhost:8080/"
        },
        "id": "enkEEwBxtATM",
        "outputId": "0c608dd7-ac07-4aa9-bbd1-a24cfd259024"
      },
      "execution_count": 3,
      "outputs": [
        {
          "output_type": "execute_result",
          "data": {
            "text/plain": [
              "False"
            ]
          },
          "metadata": {},
          "execution_count": 3
        }
      ]
    },
    {
      "cell_type": "code",
      "source": [
        "# Device Agnostic code\n",
        "device  = \"cuda\" if torch.cuda.is_available() else \"cpu\"\n",
        "device"
      ],
      "metadata": {
        "colab": {
          "base_uri": "https://localhost:8080/",
          "height": 36
        },
        "id": "eqU7LfNOtYpy",
        "outputId": "16f528a0-6b40-45f1-f459-6fe3761f6ba3"
      },
      "execution_count": 4,
      "outputs": [
        {
          "output_type": "execute_result",
          "data": {
            "text/plain": [
              "'cpu'"
            ],
            "application/vnd.google.colaboratory.intrinsic+json": {
              "type": "string"
            }
          },
          "metadata": {},
          "execution_count": 4
        }
      ]
    },
    {
      "cell_type": "code",
      "source": [
        "tensor1 = torch.tensor([1,23,34])\n",
        "tensor1"
      ],
      "metadata": {
        "colab": {
          "base_uri": "https://localhost:8080/"
        },
        "id": "ZdixQB5u4uL9",
        "outputId": "2f0ea8dd-fbbc-4198-e69a-338c2d0d75a6"
      },
      "execution_count": 5,
      "outputs": [
        {
          "output_type": "execute_result",
          "data": {
            "text/plain": [
              "tensor([ 1, 23, 34])"
            ]
          },
          "metadata": {},
          "execution_count": 5
        }
      ]
    },
    {
      "cell_type": "code",
      "source": [
        "tensor_on_gpu = tensor1.to(device)\n",
        "tensor_on_gpu"
      ],
      "metadata": {
        "colab": {
          "base_uri": "https://localhost:8080/"
        },
        "id": "EA3_PCE4BrA-",
        "outputId": "bd782cde-dcc8-46c5-b60c-115a73576a02"
      },
      "execution_count": 6,
      "outputs": [
        {
          "output_type": "execute_result",
          "data": {
            "text/plain": [
              "tensor([ 1, 23, 34])"
            ]
          },
          "metadata": {},
          "execution_count": 6
        }
      ]
    },
    {
      "cell_type": "code",
      "source": [
        "## Numpy\n",
        "tensor_on_gpu.cpu().numpy()"
      ],
      "metadata": {
        "colab": {
          "base_uri": "https://localhost:8080/"
        },
        "id": "DMFLWLe5B2MN",
        "outputId": "26012821-e78e-4735-fe01-0f4eaa610647"
      },
      "execution_count": 7,
      "outputs": [
        {
          "output_type": "execute_result",
          "data": {
            "text/plain": [
              "array([ 1, 23, 34])"
            ]
          },
          "metadata": {},
          "execution_count": 7
        }
      ]
    },
    {
      "cell_type": "markdown",
      "source": [
        "## Exercises and Curriculum"
      ],
      "metadata": {
        "id": "ZMDIlPklDHdI"
      }
    },
    {
      "cell_type": "code",
      "source": [
        "torch.rand([7,7])"
      ],
      "metadata": {
        "colab": {
          "base_uri": "https://localhost:8080/"
        },
        "id": "uQ7X91Y3CNlI",
        "outputId": "b4f5cc9a-528a-4acb-d919-a45f6c24daca"
      },
      "execution_count": 8,
      "outputs": [
        {
          "output_type": "execute_result",
          "data": {
            "text/plain": [
              "tensor([[0.0724, 0.6260, 0.5220, 0.5548, 0.7931, 0.7759, 0.3983],\n",
              "        [0.2281, 0.7557, 0.2888, 0.2416, 0.4297, 0.2091, 0.5836],\n",
              "        [0.1640, 0.9959, 0.1764, 0.0686, 0.7623, 0.5969, 0.9361],\n",
              "        [0.3387, 0.3289, 0.1832, 0.3434, 0.0939, 0.4463, 0.2008],\n",
              "        [0.3336, 0.0795, 0.2329, 0.7153, 0.4305, 0.5733, 0.3042],\n",
              "        [0.8201, 0.0491, 0.5107, 0.5835, 0.1405, 0.8160, 0.3013],\n",
              "        [0.0636, 0.0572, 0.4944, 0.3847, 0.2936, 0.1722, 0.3261]])"
            ]
          },
          "metadata": {},
          "execution_count": 8
        }
      ]
    },
    {
      "cell_type": "code",
      "source": [
        "random_seed = 42\n",
        "SEED = torch.manual_seed(random_seed)\n",
        "a = torch.rand([7,7])\n",
        "b = torch.rand([7,7])\n",
        "torch.matmul(a,b)"
      ],
      "metadata": {
        "colab": {
          "base_uri": "https://localhost:8080/"
        },
        "id": "jasHd6BuEPlc",
        "outputId": "97dabb41-f06e-444f-d5db-27fa5dd9f011"
      },
      "execution_count": 9,
      "outputs": [
        {
          "output_type": "execute_result",
          "data": {
            "text/plain": [
              "tensor([[2.6637, 2.0426, 3.2242, 0.8659, 1.6420, 1.8317, 2.0220],\n",
              "        [3.0324, 2.3639, 3.7553, 0.7506, 1.6955, 2.3543, 2.2479],\n",
              "        [2.0545, 1.8111, 2.4874, 1.1800, 1.3461, 1.6582, 1.6263],\n",
              "        [1.2061, 1.2405, 1.5288, 0.9969, 0.9076, 1.1420, 1.0550],\n",
              "        [1.7111, 1.7710, 2.1770, 1.2673, 1.0596, 1.9356, 1.3243],\n",
              "        [2.2473, 2.0134, 2.7834, 1.2568, 1.5264, 1.8804, 1.8302],\n",
              "        [2.5960, 2.5335, 3.4685, 1.3261, 1.7587, 2.5078, 2.1685]])"
            ]
          },
          "metadata": {},
          "execution_count": 9
        }
      ]
    },
    {
      "cell_type": "markdown",
      "source": [
        "# Pytorch Workflow\n",
        "\n",
        "### 1. Data (prepare and load)\n",
        "### 2. Build Model\n",
        "### 3. Fit the model to the data (training)\n",
        "### 4. Evaluate the model (test)\n",
        "### 5. Deploy on Azure"
      ],
      "metadata": {
        "id": "JZA8liqKL932"
      }
    },
    {
      "cell_type": "code",
      "source": [
        "what_were_covering = {1: \"data (prepare and load)\",\n",
        "    2: \"build model\",\n",
        "    3: \"fitting the model to data (training)\",\n",
        "    4: \"making predictions and evaluating a model (inference)\",\n",
        "    5: \"saving and loading a model\",\n",
        "    6: \"putting it all together\"\n",
        "}"
      ],
      "metadata": {
        "id": "naEfrA7rEVyW"
      },
      "execution_count": 11,
      "outputs": []
    },
    {
      "cell_type": "code",
      "source": [
        "import torch\n",
        "import torch.nn as nn\n",
        "import torch.nn.functional as F\n",
        "import torch.optim as optim\n",
        "\n",
        "import matplotlib.pyplot as plt\n",
        "torch.__version__\n",
        "\n"
      ],
      "metadata": {
        "id": "0Ml24FDXLsmR",
        "colab": {
          "base_uri": "https://localhost:8080/",
          "height": 36
        },
        "outputId": "042bf7d3-7fb2-49cd-e841-403057782ce1"
      },
      "execution_count": 12,
      "outputs": [
        {
          "output_type": "execute_result",
          "data": {
            "text/plain": [
              "'2.3.0+cu121'"
            ],
            "application/vnd.google.colaboratory.intrinsic+json": {
              "type": "string"
            }
          },
          "metadata": {},
          "execution_count": 12
        }
      ]
    },
    {
      "cell_type": "code",
      "source": [
        "RANDOM_SEED = 42\n",
        "torch.manual_seed(RANDOM_SEED) #w=100\n",
        "X = torch.rand(1,100).mul(100).floor()\n",
        "y = X + 10"
      ],
      "metadata": {
        "id": "uMcOBzuNvKcT"
      },
      "execution_count": 14,
      "outputs": []
    },
    {
      "cell_type": "code",
      "source": [
        "X,y"
      ],
      "metadata": {
        "colab": {
          "base_uri": "https://localhost:8080/"
        },
        "id": "2cWF7aeIxpVZ",
        "outputId": "c5bafb3f-e074-4d29-cef4-74ac1c25c21c"
      },
      "execution_count": 15,
      "outputs": [
        {
          "output_type": "execute_result",
          "data": {
            "text/plain": [
              "(tensor([[88., 91., 38., 95., 39., 60., 25., 79., 94., 13., 93., 59., 86., 56.,\n",
              "          74., 42., 88., 57., 26., 62., 26., 44., 29., 83., 10., 26., 35., 19.,\n",
              "          54.,  0., 95.,  7., 88., 58., 33., 80., 57., 90., 55., 34., 63., 36.,\n",
              "          71., 94., 78., 28., 78., 58., 75., 19.,  0., 30., 11., 91., 64., 70.,\n",
              "          65., 49., 89., 14., 53., 15., 65., 32., 65., 39., 91., 20., 20., 20.,\n",
              "          94., 66., 98.,  8.,  0., 10., 16., 70., 67., 91., 24., 15., 76., 29.,\n",
              "          80., 38., 78., 11., 24., 65., 60., 37., 79., 83., 13., 23., 95., 33.,\n",
              "          32.,  1.]]),\n",
              " tensor([[ 98., 101.,  48., 105.,  49.,  70.,  35.,  89., 104.,  23., 103.,  69.,\n",
              "           96.,  66.,  84.,  52.,  98.,  67.,  36.,  72.,  36.,  54.,  39.,  93.,\n",
              "           20.,  36.,  45.,  29.,  64.,  10., 105.,  17.,  98.,  68.,  43.,  90.,\n",
              "           67., 100.,  65.,  44.,  73.,  46.,  81., 104.,  88.,  38.,  88.,  68.,\n",
              "           85.,  29.,  10.,  40.,  21., 101.,  74.,  80.,  75.,  59.,  99.,  24.,\n",
              "           63.,  25.,  75.,  42.,  75.,  49., 101.,  30.,  30.,  30., 104.,  76.,\n",
              "          108.,  18.,  10.,  20.,  26.,  80.,  77., 101.,  34.,  25.,  86.,  39.,\n",
              "           90.,  48.,  88.,  21.,  34.,  75.,  70.,  47.,  89.,  93.,  23.,  33.,\n",
              "          105.,  43.,  42.,  11.]]))"
            ]
          },
          "metadata": {},
          "execution_count": 15
        }
      ]
    },
    {
      "cell_type": "code",
      "source": [
        "X.numpy()[0][0]"
      ],
      "metadata": {
        "colab": {
          "base_uri": "https://localhost:8080/"
        },
        "id": "HoDT_oGzy5yN",
        "outputId": "8420a3de-c5e9-4a0e-d1c2-e775ee455c4f"
      },
      "execution_count": 22,
      "outputs": [
        {
          "output_type": "execute_result",
          "data": {
            "text/plain": [
              "88.0"
            ]
          },
          "metadata": {},
          "execution_count": 22
        }
      ]
    },
    {
      "cell_type": "code",
      "source": [
        "plt.plot(X.numpy()[0],y.numpy()[0])\n",
        "plt.show()"
      ],
      "metadata": {
        "colab": {
          "base_uri": "https://localhost:8080/",
          "height": 430
        },
        "id": "nKy3Op23x2Xd",
        "outputId": "f9ee8c1d-6e6f-44c9-eedd-61675220921a"
      },
      "execution_count": 23,
      "outputs": [
        {
          "output_type": "display_data",
          "data": {
            "text/plain": [
              "<Figure size 640x480 with 1 Axes>"
            ],
            "image/png": "[encoded data removed]"
          },
          "metadata": {}
        }
      ]
    },
    {
      "cell_type": "code",
      "source": [
        "len(X[0])"
      ],
      "metadata": {
        "colab": {
          "base_uri": "https://localhost:8080/"
        },
        "id": "TCB4z1ep06Yy",
        "outputId": "7e90dd28-e6c8-43c4-ce48-45eb6914ce85"
      },
      "execution_count": 27,
      "outputs": [
        {
          "output_type": "execute_result",
          "data": {
            "text/plain": [
              "100"
            ]
          },
          "metadata": {},
          "execution_count": 27
        }
      ]
    },
    {
      "cell_type": "code",
      "source": [
        "train_splot = 0.8\n",
        "train_size = int(train_splot*len(X[0]))\n",
        "train_size"
      ],
      "metadata": {
        "colab": {
          "base_uri": "https://localhost:8080/"
        },
        "id": "EJUgFh9Rx_5Q",
        "outputId": "94e6fd8b-86ab-4734-e7c2-7b8c1250bd2e"
      },
      "execution_count": 26,
      "outputs": [
        {
          "output_type": "execute_result",
          "data": {
            "text/plain": [
              "80"
            ]
          },
          "metadata": {},
          "execution_count": 26
        }
      ]
    },
    {
      "cell_type": "code",
      "source": [
        "X_train,y_train = X[0][:train_size],y[:train_size]\n",
        "X_test,y_test = X[0][train_size:],y[train_size:]"
      ],
      "metadata": {
        "id": "x-0xuqKtyvvv"
      },
      "execution_count": 29,
      "outputs": []
    },
    {
      "cell_type": "code",
      "source": [
        "X_test"
      ],
      "metadata": {
        "colab": {
          "base_uri": "https://localhost:8080/"
        },
        "id": "60TAsdA21RbW",
        "outputId": "9a390d05-f293-427c-8794-34183aa16bde"
      },
      "execution_count": 30,
      "outputs": [
        {
          "output_type": "execute_result",
          "data": {
            "text/plain": [
              "tensor([24., 15., 76., 29., 80., 38., 78., 11., 24., 65., 60., 37., 79., 83.,\n",
              "        13., 23., 95., 33., 32.,  1.])"
            ]
          },
          "metadata": {},
          "execution_count": 30
        }
      ]
    },
    {
      "cell_type": "code",
      "source": [
        "class LineaRegressionModel(nn.Module):\n",
        "    def __init__(self):\n",
        "        super().__init__()\n",
        "        self.weights = nn.Parameter(torch.randn(1,requires_grad=True))\n",
        "        self.bias = nn.Parameter(torch.randn(1,requires_grad=True))\n",
        "\n",
        "    def forward(self,x):\n",
        "        return self.weights*x + self.bias\n",
        ""
      ],
      "metadata": {
        "id": "oDLp4l6p1R4e"
      },
      "execution_count": 31,
      "outputs": []
    }
  ]
}