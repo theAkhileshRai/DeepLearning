{
  "nbformat": 4,
  "nbformat_minor": 0,
  "metadata": {
    "colab": {
      "provenance": [],
      "authorship_tag": "ABX9TyP6/v2l6vGRZlBbKdpwUrr1",
      "include_colab_link": true
    },
    "kernelspec": {
      "name": "python3",
      "display_name": "Python 3"
    },
    "language_info": {
      "name": "python"
    }
  },
  "cells": [
    {
      "cell_type": "markdown",
      "metadata": {
        "id": "view-in-github",
        "colab_type": "text"
      },
      "source": [
        "<a href=\"https://colab.research.google.com/github/theAkhileshRai/DeepLearning/blob/master/Pytorch_Tutorials.ipynb\" target=\"_parent\"><img src=\"https://colab.research.google.com/assets/colab-badge.svg\" alt=\"Open In Colab\"/></a>"
      ]
    },
    {
      "cell_type": "code",
      "execution_count": 12,
      "metadata": {
        "id": "WsTaFmctm0iz"
      },
      "outputs": [],
      "source": [
        "# Pytorch object use Cuda"
      ]
    },
    {
      "cell_type": "code",
      "source": [
        "!nvidia-smi"
      ],
      "metadata": {
        "colab": {
          "base_uri": "https://localhost:8080/"
        },
        "id": "v8wP8yn0s9RV",
        "outputId": "830a9f11-16d5-4156-eabc-2df81b409716"
      },
      "execution_count": 13,
      "outputs": [
        {
          "output_type": "stream",
          "name": "stdout",
          "text": [
            "/bin/bash: line 1: nvidia-smi: command not found\n"
          ]
        }
      ]
    },
    {
      "cell_type": "code",
      "source": [
        "# check for GPU with Pytorch\n",
        "\n",
        "import torch\n",
        "torch.cuda.is_available()"
      ],
      "metadata": {
        "colab": {
          "base_uri": "https://localhost:8080/"
        },
        "id": "enkEEwBxtATM",
        "outputId": "363c7462-da8a-475e-f95d-fbadfd564b89"
      },
      "execution_count": 14,
      "outputs": [
        {
          "output_type": "execute_result",
          "data": {
            "text/plain": [
              "False"
            ]
          },
          "metadata": {},
          "execution_count": 14
        }
      ]
    },
    {
      "cell_type": "code",
      "source": [
        "# Device Agnostic code\n",
        "device  = \"cuda\" if torch.cuda.is_available() else \"cpu\"\n",
        "device"
      ],
      "metadata": {
        "colab": {
          "base_uri": "https://localhost:8080/",
          "height": 35
        },
        "id": "eqU7LfNOtYpy",
        "outputId": "943f9549-957f-4f76-918b-c61ae5d4cb0a"
      },
      "execution_count": 15,
      "outputs": [
        {
          "output_type": "execute_result",
          "data": {
            "text/plain": [
              "'cpu'"
            ],
            "application/vnd.google.colaboratory.intrinsic+json": {
              "type": "string"
            }
          },
          "metadata": {},
          "execution_count": 15
        }
      ]
    },
    {
      "cell_type": "code",
      "source": [
        "tensor1 = torch.tensor([1,23,34])\n",
        "tensor1"
      ],
      "metadata": {
        "colab": {
          "base_uri": "https://localhost:8080/"
        },
        "id": "ZdixQB5u4uL9",
        "outputId": "93039c1c-f9d4-4c70-e6a1-4173980f62a6"
      },
      "execution_count": 17,
      "outputs": [
        {
          "output_type": "execute_result",
          "data": {
            "text/plain": [
              "tensor([ 1, 23, 34])"
            ]
          },
          "metadata": {},
          "execution_count": 17
        }
      ]
    },
    {
      "cell_type": "code",
      "source": [
        "tensor_on_gpu = tensor1.to(device)\n",
        "tensor_on_gpu"
      ],
      "metadata": {
        "colab": {
          "base_uri": "https://localhost:8080/"
        },
        "id": "EA3_PCE4BrA-",
        "outputId": "97b830c6-9dd5-41cf-e7cf-267339b02adf"
      },
      "execution_count": 18,
      "outputs": [
        {
          "output_type": "execute_result",
          "data": {
            "text/plain": [
              "tensor([ 1, 23, 34])"
            ]
          },
          "metadata": {},
          "execution_count": 18
        }
      ]
    },
    {
      "cell_type": "code",
      "source": [
        "## Numpy\n",
        "tensor_on_gpu.cpu().numpy()"
      ],
      "metadata": {
        "colab": {
          "base_uri": "https://localhost:8080/"
        },
        "id": "DMFLWLe5B2MN",
        "outputId": "f78fe1c3-a590-4faa-c68a-66f065ebe1ea"
      },
      "execution_count": 20,
      "outputs": [
        {
          "output_type": "execute_result",
          "data": {
            "text/plain": [
              "array([ 1, 23, 34])"
            ]
          },
          "metadata": {},
          "execution_count": 20
        }
      ]
    },
    {
      "cell_type": "markdown",
      "source": [
        "## Exercises and Curriculum"
      ],
      "metadata": {
        "id": "ZMDIlPklDHdI"
      }
    },
    {
      "cell_type": "code",
      "source": [
        "torch.rand([7,7])"
      ],
      "metadata": {
        "colab": {
          "base_uri": "https://localhost:8080/"
        },
        "id": "uQ7X91Y3CNlI",
        "outputId": "ffc452bd-0b20-476b-a18d-d42e185865e0"
      },
      "execution_count": 21,
      "outputs": [
        {
          "output_type": "execute_result",
          "data": {
            "text/plain": [
              "tensor([[0.0040, 0.7998, 0.3529, 0.1794, 0.1347, 0.3078, 0.1548],\n",
              "        [0.6861, 0.5668, 0.3790, 0.8861, 0.8679, 0.3898, 0.3066],\n",
              "        [0.1282, 0.5426, 0.0628, 0.7556, 0.5685, 0.5630, 0.8712],\n",
              "        [0.4919, 0.3353, 0.8889, 0.8636, 0.5232, 0.6958, 0.1076],\n",
              "        [0.4207, 0.6516, 0.5990, 0.0052, 0.3195, 0.1197, 0.2255],\n",
              "        [0.0999, 0.6124, 0.6510, 0.6424, 0.5208, 0.9498, 0.9117],\n",
              "        [0.9508, 0.5494, 0.5105, 0.7939, 0.4879, 0.6702, 0.0371]])"
            ]
          },
          "metadata": {},
          "execution_count": 21
        }
      ]
    },
    {
      "cell_type": "code",
      "source": [
        "random_seed = 42\n",
        "SEED = torch.manual_seed(random_seed)\n",
        "a = torch.rand([7,7])\n",
        "b = torch.rand([7,7])\n",
        "torch.matmul(a,b)"
      ],
      "metadata": {
        "colab": {
          "base_uri": "https://localhost:8080/"
        },
        "id": "jasHd6BuEPlc",
        "outputId": "5d22f18f-7784-49e6-e101-aa14c9b73426"
      },
      "execution_count": 26,
      "outputs": [
        {
          "output_type": "execute_result",
          "data": {
            "text/plain": [
              "tensor([[2.6637, 2.0426, 3.2242, 0.8659, 1.6420, 1.8317, 2.0220],\n",
              "        [3.0324, 2.3639, 3.7553, 0.7506, 1.6955, 2.3543, 2.2479],\n",
              "        [2.0545, 1.8111, 2.4874, 1.1800, 1.3461, 1.6582, 1.6263],\n",
              "        [1.2061, 1.2405, 1.5288, 0.9969, 0.9076, 1.1420, 1.0550],\n",
              "        [1.7111, 1.7710, 2.1770, 1.2673, 1.0596, 1.9356, 1.3243],\n",
              "        [2.2473, 2.0134, 2.7834, 1.2568, 1.5264, 1.8804, 1.8302],\n",
              "        [2.5960, 2.5335, 3.4685, 1.3261, 1.7587, 2.5078, 2.1685]])"
            ]
          },
          "metadata": {},
          "execution_count": 26
        }
      ]
    },
    {
      "cell_type": "code",
      "source": [],
      "metadata": {
        "id": "naEfrA7rEVyW"
      },
      "execution_count": null,
      "outputs": []
    }
  ]
}