{
  "nbformat": 4,
  "nbformat_minor": 0,
  "metadata": {
    "colab": {
      "name": "Tensorflow01.ipynb",
      "provenance": [],
      "authorship_tag": "ABX9TyNNbp9ezZzYkflSUQMtoOHj",
      "include_colab_link": true
    },
    "kernelspec": {
      "name": "python3",
      "display_name": "Python 3"
    },
    "language_info": {
      "name": "python"
    }
  },
  "cells": [
    {
      "cell_type": "markdown",
      "metadata": {
        "id": "view-in-github",
        "colab_type": "text"
      },
      "source": [
        "<a href=\"https://colab.research.google.com/github/theAkhileshRai/DeepLearning/blob/master/tensorflow/Tensorflow01.ipynb\" target=\"_parent\"><img src=\"https://colab.research.google.com/assets/colab-badge.svg\" alt=\"Open In Colab\"/></a>"
      ]
    },
    {
      "cell_type": "code",
      "metadata": {
        "id": "PUimSAvxDppA"
      },
      "source": [
        "import tensorflow as tf\n",
        "import numpy as np\n",
        "import pandas as pd\n"
      ],
      "execution_count": 2,
      "outputs": []
    },
    {
      "cell_type": "code",
      "metadata": {
        "id": "b8xEsFy6EvvD"
      },
      "source": [
        "tf_string = tf.Variable(\"23\",tf.string)\n",
        "tf_float = tf.Variable(3.12,tf.float64)"
      ],
      "execution_count": 3,
      "outputs": []
    },
    {
      "cell_type": "code",
      "metadata": {
        "id": "6fg2uFpYFG0h"
      },
      "source": [
        "rank_1 = tf.rank(tf_float)"
      ],
      "execution_count": 4,
      "outputs": []
    },
    {
      "cell_type": "code",
      "metadata": {
        "colab": {
          "base_uri": "https://localhost:8080/"
        },
        "id": "-VZzgslRGX7L",
        "outputId": "d4cb3703-b6ea-40e4-bfa5-080042061c50"
      },
      "source": [
        "rank_1"
      ],
      "execution_count": 5,
      "outputs": [
        {
          "output_type": "execute_result",
          "data": {
            "text/plain": [
              "<tf.Tensor: shape=(), dtype=int32, numpy=0>"
            ]
          },
          "metadata": {
            "tags": []
          },
          "execution_count": 5
        }
      ]
    },
    {
      "cell_type": "code",
      "metadata": {
        "colab": {
          "base_uri": "https://localhost:8080/"
        },
        "id": "xWaCLrO2HCQp",
        "outputId": "d464b048-0ecc-4f90-8029-14a297cb365c"
      },
      "source": [
        "tf_float.shape"
      ],
      "execution_count": 7,
      "outputs": [
        {
          "output_type": "execute_result",
          "data": {
            "text/plain": [
              "TensorShape([])"
            ]
          },
          "metadata": {
            "tags": []
          },
          "execution_count": 7
        }
      ]
    },
    {
      "cell_type": "code",
      "metadata": {
        "id": "Gx6XRGLCHgzn"
      },
      "source": [
        " with tf.Session as sess:\n",
        "   tensor.eval()"
      ],
      "execution_count": null,
      "outputs": []
    }
  ]
}