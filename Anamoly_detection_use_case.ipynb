{
  "nbformat": 4,
  "nbformat_minor": 0,
  "metadata": {
    "colab": {
      "name": "Anamoly detection use case",
      "provenance": [],
      "authorship_tag": "ABX9TyNLc16F0I6tzA0Q3oawPSTz",
      "include_colab_link": true
    },
    "kernelspec": {
      "name": "python3",
      "display_name": "Python 3"
    }
  },
  "cells": [
    {
      "cell_type": "markdown",
      "metadata": {
        "id": "view-in-github",
        "colab_type": "text"
      },
      "source": [
        "<a href=\"https://colab.research.google.com/github/theAkhileshRai/DeepLearning/blob/master/Anamoly_detection_use_case.ipynb\" target=\"_parent\"><img src=\"https://colab.research.google.com/assets/colab-badge.svg\" alt=\"Open In Colab\"/></a>"
      ]
    },
    {
      "cell_type": "code",
      "metadata": {
        "id": "ZXtIjc20Qcn9",
        "colab_type": "code",
        "colab": {}
      },
      "source": [
        "import pandas as pd\n",
        "import numpy as np\n",
        "import matplotlib.pyplot as plt\n"
      ],
      "execution_count": 0,
      "outputs": []
    },
    {
      "cell_type": "code",
      "metadata": {
        "id": "w-iy1CfVSOIq",
        "colab_type": "code",
        "colab": {}
      },
      "source": [
        "cross_bar_df = pd.read_csv('/content/Crossbar_Unit1 (2) (1).csv',index_col=False)"
      ],
      "execution_count": 0,
      "outputs": []
    },
    {
      "cell_type": "code",
      "metadata": {
        "id": "mslSBaMjS02J",
        "colab_type": "code",
        "outputId": "23f95fa8-f073-4395-e8d8-46ce77cc2cec",
        "colab": {
          "base_uri": "https://localhost:8080/",
          "height": 310
        }
      },
      "source": [
        "cross_bar_df.head()"
      ],
      "execution_count": 0,
      "outputs": [
        {
          "output_type": "execute_result",
          "data": {
            "text/html": [
              "<div>\n",
              "<style scoped>\n",
              "    .dataframe tbody tr th:only-of-type {\n",
              "        vertical-align: middle;\n",
              "    }\n",
              "\n",
              "    .dataframe tbody tr th {\n",
              "        vertical-align: top;\n",
              "    }\n",
              "\n",
              "    .dataframe thead th {\n",
              "        text-align: right;\n",
              "    }\n",
              "</style>\n",
              "<table border=\"1\" class=\"dataframe\">\n",
              "  <thead>\n",
              "    <tr style=\"text-align: right;\">\n",
              "      <th></th>\n",
              "      <th>Unnamed: 0</th>\n",
              "      <th>time</th>\n",
              "      <th>cyl</th>\n",
              "      <th>s_temp_crank</th>\n",
              "      <th>d_temp_crank</th>\n",
              "      <th>s_pressure_crank</th>\n",
              "      <th>d_pressure_crank</th>\n",
              "      <th>rpm_crank</th>\n",
              "      <th>s_temp_mean</th>\n",
              "      <th>d_temp_mean</th>\n",
              "      <th>s_pressure_mean</th>\n",
              "      <th>d_pressure_mean</th>\n",
              "      <th>rpm_mean</th>\n",
              "    </tr>\n",
              "  </thead>\n",
              "  <tbody>\n",
              "    <tr>\n",
              "      <th>0</th>\n",
              "      <td>0</td>\n",
              "      <td>2019-04-05 02:30:00</td>\n",
              "      <td>1.0</td>\n",
              "      <td>100.781695</td>\n",
              "      <td>229.474039</td>\n",
              "      <td>333.271093</td>\n",
              "      <td>959.947075</td>\n",
              "      <td>956.126375</td>\n",
              "      <td>100.781695</td>\n",
              "      <td>227.024053</td>\n",
              "      <td>341.150570</td>\n",
              "      <td>963.233788</td>\n",
              "      <td>956.126375</td>\n",
              "    </tr>\n",
              "    <tr>\n",
              "      <th>1</th>\n",
              "      <td>1</td>\n",
              "      <td>2019-04-05 03:30:00</td>\n",
              "      <td>1.0</td>\n",
              "      <td>105.290034</td>\n",
              "      <td>236.122937</td>\n",
              "      <td>325.476945</td>\n",
              "      <td>950.197363</td>\n",
              "      <td>957.189625</td>\n",
              "      <td>105.290034</td>\n",
              "      <td>233.113909</td>\n",
              "      <td>335.320018</td>\n",
              "      <td>955.180639</td>\n",
              "      <td>957.189625</td>\n",
              "    </tr>\n",
              "    <tr>\n",
              "      <th>2</th>\n",
              "      <td>2</td>\n",
              "      <td>2019-04-05 04:30:00</td>\n",
              "      <td>1.0</td>\n",
              "      <td>102.694591</td>\n",
              "      <td>235.134108</td>\n",
              "      <td>319.202676</td>\n",
              "      <td>946.173800</td>\n",
              "      <td>957.718375</td>\n",
              "      <td>102.694591</td>\n",
              "      <td>231.738927</td>\n",
              "      <td>329.656110</td>\n",
              "      <td>950.421229</td>\n",
              "      <td>957.718375</td>\n",
              "    </tr>\n",
              "    <tr>\n",
              "      <th>3</th>\n",
              "      <td>3</td>\n",
              "      <td>2019-04-05 05:30:00</td>\n",
              "      <td>1.0</td>\n",
              "      <td>102.636799</td>\n",
              "      <td>234.895970</td>\n",
              "      <td>319.710641</td>\n",
              "      <td>946.358515</td>\n",
              "      <td>955.242250</td>\n",
              "      <td>102.636799</td>\n",
              "      <td>231.417846</td>\n",
              "      <td>330.576671</td>\n",
              "      <td>951.068734</td>\n",
              "      <td>955.242250</td>\n",
              "    </tr>\n",
              "    <tr>\n",
              "      <th>4</th>\n",
              "      <td>4</td>\n",
              "      <td>2019-04-05 06:30:00</td>\n",
              "      <td>1.0</td>\n",
              "      <td>103.657053</td>\n",
              "      <td>236.373231</td>\n",
              "      <td>318.983829</td>\n",
              "      <td>946.790184</td>\n",
              "      <td>958.628500</td>\n",
              "      <td>103.657053</td>\n",
              "      <td>232.831218</td>\n",
              "      <td>329.875960</td>\n",
              "      <td>951.185184</td>\n",
              "      <td>958.628500</td>\n",
              "    </tr>\n",
              "  </tbody>\n",
              "</table>\n",
              "</div>"
            ],
            "text/plain": [
              "   Unnamed: 0                 time  ...  d_pressure_mean    rpm_mean\n",
              "0           0  2019-04-05 02:30:00  ...       963.233788  956.126375\n",
              "1           1  2019-04-05 03:30:00  ...       955.180639  957.189625\n",
              "2           2  2019-04-05 04:30:00  ...       950.421229  957.718375\n",
              "3           3  2019-04-05 05:30:00  ...       951.068734  955.242250\n",
              "4           4  2019-04-05 06:30:00  ...       951.185184  958.628500\n",
              "\n",
              "[5 rows x 13 columns]"
            ]
          },
          "metadata": {
            "tags": []
          },
          "execution_count": 59
        }
      ]
    },
    {
      "cell_type": "code",
      "metadata": {
        "id": "WDECwe8HbuC3",
        "colab_type": "code",
        "outputId": "d643d05e-18d7-4a7d-ba6c-deda91536fe5",
        "colab": {
          "base_uri": "https://localhost:8080/",
          "height": 34
        }
      },
      "source": [
        "cross_bar_df.shape"
      ],
      "execution_count": 0,
      "outputs": [
        {
          "output_type": "execute_result",
          "data": {
            "text/plain": [
              "(13179, 13)"
            ]
          },
          "metadata": {
            "tags": []
          },
          "execution_count": 60
        }
      ]
    },
    {
      "cell_type": "code",
      "metadata": {
        "id": "ijjSK0Q3YMtl",
        "colab_type": "code",
        "colab": {}
      },
      "source": [
        "cross_df2 = cross_bar_df[cross_bar_df.columns[1:13]]"
      ],
      "execution_count": 0,
      "outputs": []
    },
    {
      "cell_type": "code",
      "metadata": {
        "id": "OXMuNmcUdR1h",
        "colab_type": "code",
        "outputId": "e7ac3979-a1ed-49fb-c9ac-2dbe1f59a5cb",
        "colab": {
          "base_uri": "https://localhost:8080/",
          "height": 206
        }
      },
      "source": [
        "cross_df2.head()"
      ],
      "execution_count": 0,
      "outputs": [
        {
          "output_type": "execute_result",
          "data": {
            "text/html": [
              "<div>\n",
              "<style scoped>\n",
              "    .dataframe tbody tr th:only-of-type {\n",
              "        vertical-align: middle;\n",
              "    }\n",
              "\n",
              "    .dataframe tbody tr th {\n",
              "        vertical-align: top;\n",
              "    }\n",
              "\n",
              "    .dataframe thead th {\n",
              "        text-align: right;\n",
              "    }\n",
              "</style>\n",
              "<table border=\"1\" class=\"dataframe\">\n",
              "  <thead>\n",
              "    <tr style=\"text-align: right;\">\n",
              "      <th></th>\n",
              "      <th>time</th>\n",
              "      <th>cyl</th>\n",
              "      <th>s_temp_crank</th>\n",
              "      <th>d_temp_crank</th>\n",
              "      <th>s_pressure_crank</th>\n",
              "      <th>d_pressure_crank</th>\n",
              "      <th>rpm_crank</th>\n",
              "      <th>s_temp_mean</th>\n",
              "      <th>d_temp_mean</th>\n",
              "      <th>s_pressure_mean</th>\n",
              "      <th>d_pressure_mean</th>\n",
              "      <th>rpm_mean</th>\n",
              "    </tr>\n",
              "  </thead>\n",
              "  <tbody>\n",
              "    <tr>\n",
              "      <th>0</th>\n",
              "      <td>2019-04-05 02:30:00</td>\n",
              "      <td>1.0</td>\n",
              "      <td>100.781695</td>\n",
              "      <td>229.474039</td>\n",
              "      <td>333.271093</td>\n",
              "      <td>959.947075</td>\n",
              "      <td>956.126375</td>\n",
              "      <td>100.781695</td>\n",
              "      <td>227.024053</td>\n",
              "      <td>341.150570</td>\n",
              "      <td>963.233788</td>\n",
              "      <td>956.126375</td>\n",
              "    </tr>\n",
              "    <tr>\n",
              "      <th>1</th>\n",
              "      <td>2019-04-05 03:30:00</td>\n",
              "      <td>1.0</td>\n",
              "      <td>105.290034</td>\n",
              "      <td>236.122937</td>\n",
              "      <td>325.476945</td>\n",
              "      <td>950.197363</td>\n",
              "      <td>957.189625</td>\n",
              "      <td>105.290034</td>\n",
              "      <td>233.113909</td>\n",
              "      <td>335.320018</td>\n",
              "      <td>955.180639</td>\n",
              "      <td>957.189625</td>\n",
              "    </tr>\n",
              "    <tr>\n",
              "      <th>2</th>\n",
              "      <td>2019-04-05 04:30:00</td>\n",
              "      <td>1.0</td>\n",
              "      <td>102.694591</td>\n",
              "      <td>235.134108</td>\n",
              "      <td>319.202676</td>\n",
              "      <td>946.173800</td>\n",
              "      <td>957.718375</td>\n",
              "      <td>102.694591</td>\n",
              "      <td>231.738927</td>\n",
              "      <td>329.656110</td>\n",
              "      <td>950.421229</td>\n",
              "      <td>957.718375</td>\n",
              "    </tr>\n",
              "    <tr>\n",
              "      <th>3</th>\n",
              "      <td>2019-04-05 05:30:00</td>\n",
              "      <td>1.0</td>\n",
              "      <td>102.636799</td>\n",
              "      <td>234.895970</td>\n",
              "      <td>319.710641</td>\n",
              "      <td>946.358515</td>\n",
              "      <td>955.242250</td>\n",
              "      <td>102.636799</td>\n",
              "      <td>231.417846</td>\n",
              "      <td>330.576671</td>\n",
              "      <td>951.068734</td>\n",
              "      <td>955.242250</td>\n",
              "    </tr>\n",
              "    <tr>\n",
              "      <th>4</th>\n",
              "      <td>2019-04-05 06:30:00</td>\n",
              "      <td>1.0</td>\n",
              "      <td>103.657053</td>\n",
              "      <td>236.373231</td>\n",
              "      <td>318.983829</td>\n",
              "      <td>946.790184</td>\n",
              "      <td>958.628500</td>\n",
              "      <td>103.657053</td>\n",
              "      <td>232.831218</td>\n",
              "      <td>329.875960</td>\n",
              "      <td>951.185184</td>\n",
              "      <td>958.628500</td>\n",
              "    </tr>\n",
              "  </tbody>\n",
              "</table>\n",
              "</div>"
            ],
            "text/plain": [
              "                  time  cyl  ...  d_pressure_mean    rpm_mean\n",
              "0  2019-04-05 02:30:00  1.0  ...       963.233788  956.126375\n",
              "1  2019-04-05 03:30:00  1.0  ...       955.180639  957.189625\n",
              "2  2019-04-05 04:30:00  1.0  ...       950.421229  957.718375\n",
              "3  2019-04-05 05:30:00  1.0  ...       951.068734  955.242250\n",
              "4  2019-04-05 06:30:00  1.0  ...       951.185184  958.628500\n",
              "\n",
              "[5 rows x 12 columns]"
            ]
          },
          "metadata": {
            "tags": []
          },
          "execution_count": 62
        }
      ]
    },
    {
      "cell_type": "code",
      "metadata": {
        "id": "MabZw2vCdYFM",
        "colab_type": "code",
        "colab": {}
      },
      "source": [
        "column_names = cross_df2.columns[2:]"
      ],
      "execution_count": 0,
      "outputs": []
    },
    {
      "cell_type": "code",
      "metadata": {
        "id": "9aBI_Fxsdjty",
        "colab_type": "code",
        "outputId": "9d54e87e-9cff-41a9-e00b-80e8e99f6011",
        "colab": {
          "base_uri": "https://localhost:8080/",
          "height": 86
        }
      },
      "source": [
        "column_names"
      ],
      "execution_count": 0,
      "outputs": [
        {
          "output_type": "execute_result",
          "data": {
            "text/plain": [
              "Index(['s_temp_crank', 'd_temp_crank', 's_pressure_crank', 'd_pressure_crank',\n",
              "       'rpm_crank', 's_temp_mean', 'd_temp_mean', 's_pressure_mean',\n",
              "       'd_pressure_mean', 'rpm_mean'],\n",
              "      dtype='object')"
            ]
          },
          "metadata": {
            "tags": []
          },
          "execution_count": 64
        }
      ]
    },
    {
      "cell_type": "code",
      "metadata": {
        "id": "Mcv6QPpeg-6x",
        "colab_type": "code",
        "outputId": "a6b4cfec-b1dc-4c84-8214-c0e941a936fb",
        "colab": {
          "base_uri": "https://localhost:8080/",
          "height": 34
        }
      },
      "source": [
        "cross_bar_df['s_temp_crank'].mean()"
      ],
      "execution_count": 0,
      "outputs": [
        {
          "output_type": "execute_result",
          "data": {
            "text/plain": [
              "83.69414167501223"
            ]
          },
          "metadata": {
            "tags": []
          },
          "execution_count": 65
        }
      ]
    },
    {
      "cell_type": "code",
      "metadata": {
        "id": "USYYauIWZKWw",
        "colab_type": "code",
        "colab": {}
      },
      "source": [
        "column_means = [cross_bar_df[column].mean() for column in column_names]\n",
        "column_mins = [cross_bar_df[column].min() for column in column_names]\n",
        "column_maxs = [cross_bar_df[column].max() for column in column_names]"
      ],
      "execution_count": 0,
      "outputs": []
    },
    {
      "cell_type": "code",
      "metadata": {
        "id": "-PC9oyg33uM0",
        "colab_type": "code",
        "colab": {}
      },
      "source": [
        "def apply_norm(column_df,i):\n",
        "  column_df = column_df - column_mins[i]\n",
        "  column_df = column_df/denom[i]\n"
      ],
      "execution_count": 0,
      "outputs": []
    },
    {
      "cell_type": "code",
      "metadata": {
        "id": "_kFXQnljg3E0",
        "colab_type": "code",
        "colab": {}
      },
      "source": [
        "denom = [x1 - x2 for (x1, x2) in zip(column_maxs, column_mins)]"
      ],
      "execution_count": 0,
      "outputs": []
    },
    {
      "cell_type": "code",
      "metadata": {
        "id": "sVfGgAS32ihs",
        "colab_type": "code",
        "outputId": "c480d399-8b75-46be-cda8-b098b4e20ed8",
        "colab": {
          "base_uri": "https://localhost:8080/",
          "height": 190
        }
      },
      "source": [
        "[column for column in column_names]"
      ],
      "execution_count": 0,
      "outputs": [
        {
          "output_type": "execute_result",
          "data": {
            "text/plain": [
              "['s_temp_crank',\n",
              " 'd_temp_crank',\n",
              " 's_pressure_crank',\n",
              " 'd_pressure_crank',\n",
              " 'rpm_crank',\n",
              " 's_temp_mean',\n",
              " 'd_temp_mean',\n",
              " 's_pressure_mean',\n",
              " 'd_pressure_mean',\n",
              " 'rpm_mean']"
            ]
          },
          "metadata": {
            "tags": []
          },
          "execution_count": 69
        }
      ]
    },
    {
      "cell_type": "markdown",
      "metadata": {
        "id": "TLuRHpznllAV",
        "colab_type": "text"
      },
      "source": [
        "# Normalisation \n",
        "We normalise with the following formula\n",
        "(x - x.min)/(x.max - x.min)\n",
        "\n",
        "here (x.max - x.min) is considered as a list denom"
      ]
    },
    {
      "cell_type": "code",
      "metadata": {
        "id": "GHMelC5xl-Rn",
        "colab_type": "code",
        "outputId": "41565806-f41a-4c2d-cca6-200a6427aa8f",
        "colab": {
          "base_uri": "https://localhost:8080/",
          "height": 225
        }
      },
      "source": [
        "i = 0\n",
        "for column in column_names:\n",
        "  cross_df2[column] = cross_df2[column] - column_mins[i]\n",
        "  cross_df2[column] = cross_df2[column]/denom[i]"
      ],
      "execution_count": 0,
      "outputs": [
        {
          "output_type": "stream",
          "text": [
            "/usr/local/lib/python3.6/dist-packages/ipykernel_launcher.py:3: SettingWithCopyWarning: \n",
            "A value is trying to be set on a copy of a slice from a DataFrame.\n",
            "Try using .loc[row_indexer,col_indexer] = value instead\n",
            "\n",
            "See the caveats in the documentation: https://pandas.pydata.org/pandas-docs/stable/user_guide/indexing.html#returning-a-view-versus-a-copy\n",
            "  This is separate from the ipykernel package so we can avoid doing imports until\n",
            "/usr/local/lib/python3.6/dist-packages/ipykernel_launcher.py:4: SettingWithCopyWarning: \n",
            "A value is trying to be set on a copy of a slice from a DataFrame.\n",
            "Try using .loc[row_indexer,col_indexer] = value instead\n",
            "\n",
            "See the caveats in the documentation: https://pandas.pydata.org/pandas-docs/stable/user_guide/indexing.html#returning-a-view-versus-a-copy\n",
            "  after removing the cwd from sys.path.\n"
          ],
          "name": "stderr"
        }
      ]
    },
    {
      "cell_type": "code",
      "metadata": {
        "id": "KOLbTsDsRqpq",
        "colab_type": "code",
        "outputId": "69cbfa08-c866-4b9c-a5c6-b10b8856210d",
        "colab": {
          "base_uri": "https://localhost:8080/",
          "height": 206
        }
      },
      "source": [
        "cross_df2.head()"
      ],
      "execution_count": 0,
      "outputs": [
        {
          "output_type": "execute_result",
          "data": {
            "text/html": [
              "<div>\n",
              "<style scoped>\n",
              "    .dataframe tbody tr th:only-of-type {\n",
              "        vertical-align: middle;\n",
              "    }\n",
              "\n",
              "    .dataframe tbody tr th {\n",
              "        vertical-align: top;\n",
              "    }\n",
              "\n",
              "    .dataframe thead th {\n",
              "        text-align: right;\n",
              "    }\n",
              "</style>\n",
              "<table border=\"1\" class=\"dataframe\">\n",
              "  <thead>\n",
              "    <tr style=\"text-align: right;\">\n",
              "      <th></th>\n",
              "      <th>time</th>\n",
              "      <th>cyl</th>\n",
              "      <th>s_temp_crank</th>\n",
              "      <th>d_temp_crank</th>\n",
              "      <th>s_pressure_crank</th>\n",
              "      <th>d_pressure_crank</th>\n",
              "      <th>rpm_crank</th>\n",
              "      <th>s_temp_mean</th>\n",
              "      <th>d_temp_mean</th>\n",
              "      <th>s_pressure_mean</th>\n",
              "      <th>d_pressure_mean</th>\n",
              "      <th>rpm_mean</th>\n",
              "    </tr>\n",
              "  </thead>\n",
              "  <tbody>\n",
              "    <tr>\n",
              "      <th>0</th>\n",
              "      <td>2019-04-05 02:30:00</td>\n",
              "      <td>1.0</td>\n",
              "      <td>0.666534</td>\n",
              "      <td>2.080444</td>\n",
              "      <td>3.220836</td>\n",
              "      <td>10.105964</td>\n",
              "      <td>10.063987</td>\n",
              "      <td>0.666534</td>\n",
              "      <td>2.053527</td>\n",
              "      <td>3.307406</td>\n",
              "      <td>10.142075</td>\n",
              "      <td>10.063987</td>\n",
              "    </tr>\n",
              "    <tr>\n",
              "      <th>1</th>\n",
              "      <td>2019-04-05 03:30:00</td>\n",
              "      <td>1.0</td>\n",
              "      <td>0.716066</td>\n",
              "      <td>2.153494</td>\n",
              "      <td>3.135203</td>\n",
              "      <td>9.998847</td>\n",
              "      <td>10.075669</td>\n",
              "      <td>0.716066</td>\n",
              "      <td>2.120434</td>\n",
              "      <td>3.243347</td>\n",
              "      <td>10.053597</td>\n",
              "      <td>10.075669</td>\n",
              "    </tr>\n",
              "    <tr>\n",
              "      <th>2</th>\n",
              "      <td>2019-04-05 04:30:00</td>\n",
              "      <td>1.0</td>\n",
              "      <td>0.687551</td>\n",
              "      <td>2.142630</td>\n",
              "      <td>3.066270</td>\n",
              "      <td>9.954641</td>\n",
              "      <td>10.081478</td>\n",
              "      <td>0.687551</td>\n",
              "      <td>2.105328</td>\n",
              "      <td>3.181119</td>\n",
              "      <td>10.001306</td>\n",
              "      <td>10.081478</td>\n",
              "    </tr>\n",
              "    <tr>\n",
              "      <th>3</th>\n",
              "      <td>2019-04-05 05:30:00</td>\n",
              "      <td>1.0</td>\n",
              "      <td>0.686916</td>\n",
              "      <td>2.140013</td>\n",
              "      <td>3.071850</td>\n",
              "      <td>9.956670</td>\n",
              "      <td>10.054274</td>\n",
              "      <td>0.686916</td>\n",
              "      <td>2.101800</td>\n",
              "      <td>3.191233</td>\n",
              "      <td>10.008420</td>\n",
              "      <td>10.054274</td>\n",
              "    </tr>\n",
              "    <tr>\n",
              "      <th>4</th>\n",
              "      <td>2019-04-05 06:30:00</td>\n",
              "      <td>1.0</td>\n",
              "      <td>0.698125</td>\n",
              "      <td>2.156244</td>\n",
              "      <td>3.063865</td>\n",
              "      <td>9.961413</td>\n",
              "      <td>10.091478</td>\n",
              "      <td>0.698125</td>\n",
              "      <td>2.117328</td>\n",
              "      <td>3.183534</td>\n",
              "      <td>10.009700</td>\n",
              "      <td>10.091478</td>\n",
              "    </tr>\n",
              "  </tbody>\n",
              "</table>\n",
              "</div>"
            ],
            "text/plain": [
              "                  time  cyl  ...  d_pressure_mean   rpm_mean\n",
              "0  2019-04-05 02:30:00  1.0  ...        10.142075  10.063987\n",
              "1  2019-04-05 03:30:00  1.0  ...        10.053597  10.075669\n",
              "2  2019-04-05 04:30:00  1.0  ...        10.001306  10.081478\n",
              "3  2019-04-05 05:30:00  1.0  ...        10.008420  10.054274\n",
              "4  2019-04-05 06:30:00  1.0  ...        10.009700  10.091478\n",
              "\n",
              "[5 rows x 12 columns]"
            ]
          },
          "metadata": {
            "tags": []
          },
          "execution_count": 71
        }
      ]
    },
    {
      "cell_type": "code",
      "metadata": {
        "id": "FXJrxD1bbaA9",
        "colab_type": "code",
        "outputId": "e40e5642-c740-4e1a-be64-31496cc633da",
        "colab": {
          "base_uri": "https://localhost:8080/",
          "height": 86
        }
      },
      "source": [
        "cross_df2.columns "
      ],
      "execution_count": 0,
      "outputs": [
        {
          "output_type": "execute_result",
          "data": {
            "text/plain": [
              "Index(['time', 'cyl', 's_temp_crank', 'd_temp_crank', 's_pressure_crank',\n",
              "       'd_pressure_crank', 'rpm_crank', 's_temp_mean', 'd_temp_mean',\n",
              "       's_pressure_mean', 'd_pressure_mean', 'rpm_mean'],\n",
              "      dtype='object')"
            ]
          },
          "metadata": {
            "tags": []
          },
          "execution_count": 72
        }
      ]
    }
  ]
}